{
 "cells": [
  {
   "cell_type": "markdown",
   "metadata": {
    "toc": true
   },
   "source": [
    "<h1>Содержание<span class=\"tocSkip\"></span></h1>\n",
    "<div class=\"toc\"><ul class=\"toc-item\"><li><span><a href=\"#Изучение-данных-из-файла\" data-toc-modified-id=\"Изучение-данных-из-файла-1\"><span class=\"toc-item-num\">1&nbsp;&nbsp;</span>Изучение данных из файла</a></span><ul class=\"toc-item\"><li><span><a href=\"#Вывод\" data-toc-modified-id=\"Вывод-1.1\"><span class=\"toc-item-num\">1.1&nbsp;&nbsp;</span>Вывод</a></span></li></ul></li><li><span><a href=\"#Предобработка-данных\" data-toc-modified-id=\"Предобработка-данных-2\"><span class=\"toc-item-num\">2&nbsp;&nbsp;</span>Предобработка данных</a></span></li><li><span><a href=\"#Исследовательский-анализ-данных\" data-toc-modified-id=\"Исследовательский-анализ-данных-3\"><span class=\"toc-item-num\">3&nbsp;&nbsp;</span>Исследовательский анализ данных</a></span></li><li><span><a href=\"#Общий-вывод\" data-toc-modified-id=\"Общий-вывод-4\"><span class=\"toc-item-num\">4&nbsp;&nbsp;</span>Общий вывод</a></span></li><li><span><a href=\"#Чек-лист-готовности-проекта\" data-toc-modified-id=\"Чек-лист-готовности-проекта-5\"><span class=\"toc-item-num\">5&nbsp;&nbsp;</span>Чек-лист готовности проекта</a></span></li></ul></div>"
   ]
  },
  {
   "cell_type": "markdown",
   "metadata": {},
   "source": [
    "# Исследование объявлений о продаже квартир\n",
    "\n",
    "В вашем распоряжении данные сервиса Яндекс.Недвижимость — архив объявлений о продаже квартир в Санкт-Петербурге и соседних населённых пунктах за несколько лет. Нужно научиться определять рыночную стоимость объектов недвижимости. Ваша задача — установить параметры. Это позволит построить автоматизированную систему: она отследит аномалии и мошенническую деятельность. \n",
    "\n",
    "По каждой квартире на продажу доступны два вида данных. Первые вписаны пользователем, вторые получены автоматически на основе картографических данных. Например, расстояние до центра, аэропорта, ближайшего парка и водоёма. "
   ]
  },
  {
   "cell_type": "markdown",
   "metadata": {},
   "source": [
    "## Изучение данных из файла"
   ]
  },
  {
   "cell_type": "code",
   "execution_count": 1,
   "metadata": {},
   "outputs": [],
   "source": [
    "import pandas as pd\n",
    "import matplotlib.pyplot as plt"
   ]
  },
  {
   "cell_type": "code",
   "execution_count": 2,
   "metadata": {},
   "outputs": [
    {
     "data": {
      "text/html": [
       "<div>\n",
       "<style scoped>\n",
       "    .dataframe tbody tr th:only-of-type {\n",
       "        vertical-align: middle;\n",
       "    }\n",
       "\n",
       "    .dataframe tbody tr th {\n",
       "        vertical-align: top;\n",
       "    }\n",
       "\n",
       "    .dataframe thead th {\n",
       "        text-align: right;\n",
       "    }\n",
       "</style>\n",
       "<table border=\"1\" class=\"dataframe\">\n",
       "  <thead>\n",
       "    <tr style=\"text-align: right;\">\n",
       "      <th></th>\n",
       "      <th>total_images</th>\n",
       "      <th>last_price</th>\n",
       "      <th>total_area</th>\n",
       "      <th>first_day_exposition</th>\n",
       "      <th>rooms</th>\n",
       "      <th>ceiling_height</th>\n",
       "      <th>floors_total</th>\n",
       "      <th>living_area</th>\n",
       "      <th>floor</th>\n",
       "      <th>is_apartment</th>\n",
       "      <th>...</th>\n",
       "      <th>kitchen_area</th>\n",
       "      <th>balcony</th>\n",
       "      <th>locality_name</th>\n",
       "      <th>airports_nearest</th>\n",
       "      <th>cityCenters_nearest</th>\n",
       "      <th>parks_around3000</th>\n",
       "      <th>parks_nearest</th>\n",
       "      <th>ponds_around3000</th>\n",
       "      <th>ponds_nearest</th>\n",
       "      <th>days_exposition</th>\n",
       "    </tr>\n",
       "  </thead>\n",
       "  <tbody>\n",
       "    <tr>\n",
       "      <td>0</td>\n",
       "      <td>20</td>\n",
       "      <td>13000000.0</td>\n",
       "      <td>108.00</td>\n",
       "      <td>2019-03-07T00:00:00</td>\n",
       "      <td>3</td>\n",
       "      <td>2.70</td>\n",
       "      <td>16.0</td>\n",
       "      <td>51.0</td>\n",
       "      <td>8</td>\n",
       "      <td>NaN</td>\n",
       "      <td>...</td>\n",
       "      <td>25.00</td>\n",
       "      <td>NaN</td>\n",
       "      <td>Санкт-Петербург</td>\n",
       "      <td>18863.0</td>\n",
       "      <td>16028.0</td>\n",
       "      <td>1.0</td>\n",
       "      <td>482.0</td>\n",
       "      <td>2.0</td>\n",
       "      <td>755.0</td>\n",
       "      <td>NaN</td>\n",
       "    </tr>\n",
       "    <tr>\n",
       "      <td>1</td>\n",
       "      <td>7</td>\n",
       "      <td>3350000.0</td>\n",
       "      <td>40.40</td>\n",
       "      <td>2018-12-04T00:00:00</td>\n",
       "      <td>1</td>\n",
       "      <td>NaN</td>\n",
       "      <td>11.0</td>\n",
       "      <td>18.6</td>\n",
       "      <td>1</td>\n",
       "      <td>NaN</td>\n",
       "      <td>...</td>\n",
       "      <td>11.00</td>\n",
       "      <td>2.0</td>\n",
       "      <td>посёлок Шушары</td>\n",
       "      <td>12817.0</td>\n",
       "      <td>18603.0</td>\n",
       "      <td>0.0</td>\n",
       "      <td>NaN</td>\n",
       "      <td>0.0</td>\n",
       "      <td>NaN</td>\n",
       "      <td>81.0</td>\n",
       "    </tr>\n",
       "    <tr>\n",
       "      <td>2</td>\n",
       "      <td>10</td>\n",
       "      <td>5196000.0</td>\n",
       "      <td>56.00</td>\n",
       "      <td>2015-08-20T00:00:00</td>\n",
       "      <td>2</td>\n",
       "      <td>NaN</td>\n",
       "      <td>5.0</td>\n",
       "      <td>34.3</td>\n",
       "      <td>4</td>\n",
       "      <td>NaN</td>\n",
       "      <td>...</td>\n",
       "      <td>8.30</td>\n",
       "      <td>0.0</td>\n",
       "      <td>Санкт-Петербург</td>\n",
       "      <td>21741.0</td>\n",
       "      <td>13933.0</td>\n",
       "      <td>1.0</td>\n",
       "      <td>90.0</td>\n",
       "      <td>2.0</td>\n",
       "      <td>574.0</td>\n",
       "      <td>558.0</td>\n",
       "    </tr>\n",
       "    <tr>\n",
       "      <td>3</td>\n",
       "      <td>0</td>\n",
       "      <td>64900000.0</td>\n",
       "      <td>159.00</td>\n",
       "      <td>2015-07-24T00:00:00</td>\n",
       "      <td>3</td>\n",
       "      <td>NaN</td>\n",
       "      <td>14.0</td>\n",
       "      <td>NaN</td>\n",
       "      <td>9</td>\n",
       "      <td>NaN</td>\n",
       "      <td>...</td>\n",
       "      <td>NaN</td>\n",
       "      <td>0.0</td>\n",
       "      <td>Санкт-Петербург</td>\n",
       "      <td>28098.0</td>\n",
       "      <td>6800.0</td>\n",
       "      <td>2.0</td>\n",
       "      <td>84.0</td>\n",
       "      <td>3.0</td>\n",
       "      <td>234.0</td>\n",
       "      <td>424.0</td>\n",
       "    </tr>\n",
       "    <tr>\n",
       "      <td>4</td>\n",
       "      <td>2</td>\n",
       "      <td>10000000.0</td>\n",
       "      <td>100.00</td>\n",
       "      <td>2018-06-19T00:00:00</td>\n",
       "      <td>2</td>\n",
       "      <td>3.03</td>\n",
       "      <td>14.0</td>\n",
       "      <td>32.0</td>\n",
       "      <td>13</td>\n",
       "      <td>NaN</td>\n",
       "      <td>...</td>\n",
       "      <td>41.00</td>\n",
       "      <td>NaN</td>\n",
       "      <td>Санкт-Петербург</td>\n",
       "      <td>31856.0</td>\n",
       "      <td>8098.0</td>\n",
       "      <td>2.0</td>\n",
       "      <td>112.0</td>\n",
       "      <td>1.0</td>\n",
       "      <td>48.0</td>\n",
       "      <td>121.0</td>\n",
       "    </tr>\n",
       "    <tr>\n",
       "      <td>...</td>\n",
       "      <td>...</td>\n",
       "      <td>...</td>\n",
       "      <td>...</td>\n",
       "      <td>...</td>\n",
       "      <td>...</td>\n",
       "      <td>...</td>\n",
       "      <td>...</td>\n",
       "      <td>...</td>\n",
       "      <td>...</td>\n",
       "      <td>...</td>\n",
       "      <td>...</td>\n",
       "      <td>...</td>\n",
       "      <td>...</td>\n",
       "      <td>...</td>\n",
       "      <td>...</td>\n",
       "      <td>...</td>\n",
       "      <td>...</td>\n",
       "      <td>...</td>\n",
       "      <td>...</td>\n",
       "      <td>...</td>\n",
       "      <td>...</td>\n",
       "    </tr>\n",
       "    <tr>\n",
       "      <td>23694</td>\n",
       "      <td>9</td>\n",
       "      <td>9700000.0</td>\n",
       "      <td>133.81</td>\n",
       "      <td>2017-03-21T00:00:00</td>\n",
       "      <td>3</td>\n",
       "      <td>3.70</td>\n",
       "      <td>5.0</td>\n",
       "      <td>73.3</td>\n",
       "      <td>3</td>\n",
       "      <td>NaN</td>\n",
       "      <td>...</td>\n",
       "      <td>13.83</td>\n",
       "      <td>NaN</td>\n",
       "      <td>Санкт-Петербург</td>\n",
       "      <td>24665.0</td>\n",
       "      <td>4232.0</td>\n",
       "      <td>1.0</td>\n",
       "      <td>796.0</td>\n",
       "      <td>3.0</td>\n",
       "      <td>381.0</td>\n",
       "      <td>NaN</td>\n",
       "    </tr>\n",
       "    <tr>\n",
       "      <td>23695</td>\n",
       "      <td>14</td>\n",
       "      <td>3100000.0</td>\n",
       "      <td>59.00</td>\n",
       "      <td>2018-01-15T00:00:00</td>\n",
       "      <td>3</td>\n",
       "      <td>NaN</td>\n",
       "      <td>5.0</td>\n",
       "      <td>38.0</td>\n",
       "      <td>4</td>\n",
       "      <td>NaN</td>\n",
       "      <td>...</td>\n",
       "      <td>8.50</td>\n",
       "      <td>NaN</td>\n",
       "      <td>Тосно</td>\n",
       "      <td>NaN</td>\n",
       "      <td>NaN</td>\n",
       "      <td>NaN</td>\n",
       "      <td>NaN</td>\n",
       "      <td>NaN</td>\n",
       "      <td>NaN</td>\n",
       "      <td>45.0</td>\n",
       "    </tr>\n",
       "    <tr>\n",
       "      <td>23696</td>\n",
       "      <td>18</td>\n",
       "      <td>2500000.0</td>\n",
       "      <td>56.70</td>\n",
       "      <td>2018-02-11T00:00:00</td>\n",
       "      <td>2</td>\n",
       "      <td>NaN</td>\n",
       "      <td>3.0</td>\n",
       "      <td>29.7</td>\n",
       "      <td>1</td>\n",
       "      <td>NaN</td>\n",
       "      <td>...</td>\n",
       "      <td>NaN</td>\n",
       "      <td>NaN</td>\n",
       "      <td>село Рождествено</td>\n",
       "      <td>NaN</td>\n",
       "      <td>NaN</td>\n",
       "      <td>NaN</td>\n",
       "      <td>NaN</td>\n",
       "      <td>NaN</td>\n",
       "      <td>NaN</td>\n",
       "      <td>NaN</td>\n",
       "    </tr>\n",
       "    <tr>\n",
       "      <td>23697</td>\n",
       "      <td>13</td>\n",
       "      <td>11475000.0</td>\n",
       "      <td>76.75</td>\n",
       "      <td>2017-03-28T00:00:00</td>\n",
       "      <td>2</td>\n",
       "      <td>3.00</td>\n",
       "      <td>17.0</td>\n",
       "      <td>NaN</td>\n",
       "      <td>12</td>\n",
       "      <td>NaN</td>\n",
       "      <td>...</td>\n",
       "      <td>23.30</td>\n",
       "      <td>2.0</td>\n",
       "      <td>Санкт-Петербург</td>\n",
       "      <td>39140.0</td>\n",
       "      <td>10364.0</td>\n",
       "      <td>2.0</td>\n",
       "      <td>173.0</td>\n",
       "      <td>3.0</td>\n",
       "      <td>196.0</td>\n",
       "      <td>602.0</td>\n",
       "    </tr>\n",
       "    <tr>\n",
       "      <td>23698</td>\n",
       "      <td>4</td>\n",
       "      <td>1350000.0</td>\n",
       "      <td>32.30</td>\n",
       "      <td>2017-07-21T00:00:00</td>\n",
       "      <td>1</td>\n",
       "      <td>2.50</td>\n",
       "      <td>5.0</td>\n",
       "      <td>12.3</td>\n",
       "      <td>1</td>\n",
       "      <td>NaN</td>\n",
       "      <td>...</td>\n",
       "      <td>9.00</td>\n",
       "      <td>NaN</td>\n",
       "      <td>поселок Новый Учхоз</td>\n",
       "      <td>NaN</td>\n",
       "      <td>NaN</td>\n",
       "      <td>NaN</td>\n",
       "      <td>NaN</td>\n",
       "      <td>NaN</td>\n",
       "      <td>NaN</td>\n",
       "      <td>NaN</td>\n",
       "    </tr>\n",
       "  </tbody>\n",
       "</table>\n",
       "<p>23699 rows × 22 columns</p>\n",
       "</div>"
      ],
      "text/plain": [
       "       total_images  last_price  total_area first_day_exposition  rooms  \\\n",
       "0                20  13000000.0      108.00  2019-03-07T00:00:00      3   \n",
       "1                 7   3350000.0       40.40  2018-12-04T00:00:00      1   \n",
       "2                10   5196000.0       56.00  2015-08-20T00:00:00      2   \n",
       "3                 0  64900000.0      159.00  2015-07-24T00:00:00      3   \n",
       "4                 2  10000000.0      100.00  2018-06-19T00:00:00      2   \n",
       "...             ...         ...         ...                  ...    ...   \n",
       "23694             9   9700000.0      133.81  2017-03-21T00:00:00      3   \n",
       "23695            14   3100000.0       59.00  2018-01-15T00:00:00      3   \n",
       "23696            18   2500000.0       56.70  2018-02-11T00:00:00      2   \n",
       "23697            13  11475000.0       76.75  2017-03-28T00:00:00      2   \n",
       "23698             4   1350000.0       32.30  2017-07-21T00:00:00      1   \n",
       "\n",
       "       ceiling_height  floors_total  living_area  floor is_apartment  ...  \\\n",
       "0                2.70          16.0         51.0      8          NaN  ...   \n",
       "1                 NaN          11.0         18.6      1          NaN  ...   \n",
       "2                 NaN           5.0         34.3      4          NaN  ...   \n",
       "3                 NaN          14.0          NaN      9          NaN  ...   \n",
       "4                3.03          14.0         32.0     13          NaN  ...   \n",
       "...               ...           ...          ...    ...          ...  ...   \n",
       "23694            3.70           5.0         73.3      3          NaN  ...   \n",
       "23695             NaN           5.0         38.0      4          NaN  ...   \n",
       "23696             NaN           3.0         29.7      1          NaN  ...   \n",
       "23697            3.00          17.0          NaN     12          NaN  ...   \n",
       "23698            2.50           5.0         12.3      1          NaN  ...   \n",
       "\n",
       "       kitchen_area  balcony        locality_name  airports_nearest  \\\n",
       "0             25.00      NaN      Санкт-Петербург           18863.0   \n",
       "1             11.00      2.0       посёлок Шушары           12817.0   \n",
       "2              8.30      0.0      Санкт-Петербург           21741.0   \n",
       "3               NaN      0.0      Санкт-Петербург           28098.0   \n",
       "4             41.00      NaN      Санкт-Петербург           31856.0   \n",
       "...             ...      ...                  ...               ...   \n",
       "23694         13.83      NaN      Санкт-Петербург           24665.0   \n",
       "23695          8.50      NaN                Тосно               NaN   \n",
       "23696           NaN      NaN     село Рождествено               NaN   \n",
       "23697         23.30      2.0      Санкт-Петербург           39140.0   \n",
       "23698          9.00      NaN  поселок Новый Учхоз               NaN   \n",
       "\n",
       "      cityCenters_nearest  parks_around3000  parks_nearest  ponds_around3000  \\\n",
       "0                 16028.0               1.0          482.0               2.0   \n",
       "1                 18603.0               0.0            NaN               0.0   \n",
       "2                 13933.0               1.0           90.0               2.0   \n",
       "3                  6800.0               2.0           84.0               3.0   \n",
       "4                  8098.0               2.0          112.0               1.0   \n",
       "...                   ...               ...            ...               ...   \n",
       "23694              4232.0               1.0          796.0               3.0   \n",
       "23695                 NaN               NaN            NaN               NaN   \n",
       "23696                 NaN               NaN            NaN               NaN   \n",
       "23697             10364.0               2.0          173.0               3.0   \n",
       "23698                 NaN               NaN            NaN               NaN   \n",
       "\n",
       "       ponds_nearest  days_exposition  \n",
       "0              755.0              NaN  \n",
       "1                NaN             81.0  \n",
       "2              574.0            558.0  \n",
       "3              234.0            424.0  \n",
       "4               48.0            121.0  \n",
       "...              ...              ...  \n",
       "23694          381.0              NaN  \n",
       "23695            NaN             45.0  \n",
       "23696            NaN              NaN  \n",
       "23697          196.0            602.0  \n",
       "23698            NaN              NaN  \n",
       "\n",
       "[23699 rows x 22 columns]"
      ]
     },
     "execution_count": 2,
     "metadata": {},
     "output_type": "execute_result"
    }
   ],
   "source": [
    "#вывод датасета\n",
    "df = pd.read_csv('/datasets/real_estate_data.csv', sep='\\t')\n",
    "df"
   ]
  },
  {
   "cell_type": "code",
   "execution_count": 3,
   "metadata": {},
   "outputs": [
    {
     "name": "stdout",
     "output_type": "stream",
     "text": [
      "<class 'pandas.core.frame.DataFrame'>\n",
      "RangeIndex: 23699 entries, 0 to 23698\n",
      "Data columns (total 22 columns):\n",
      "total_images            23699 non-null int64\n",
      "last_price              23699 non-null float64\n",
      "total_area              23699 non-null float64\n",
      "first_day_exposition    23699 non-null object\n",
      "rooms                   23699 non-null int64\n",
      "ceiling_height          14504 non-null float64\n",
      "floors_total            23613 non-null float64\n",
      "living_area             21796 non-null float64\n",
      "floor                   23699 non-null int64\n",
      "is_apartment            2775 non-null object\n",
      "studio                  23699 non-null bool\n",
      "open_plan               23699 non-null bool\n",
      "kitchen_area            21421 non-null float64\n",
      "balcony                 12180 non-null float64\n",
      "locality_name           23650 non-null object\n",
      "airports_nearest        18157 non-null float64\n",
      "cityCenters_nearest     18180 non-null float64\n",
      "parks_around3000        18181 non-null float64\n",
      "parks_nearest           8079 non-null float64\n",
      "ponds_around3000        18181 non-null float64\n",
      "ponds_nearest           9110 non-null float64\n",
      "days_exposition         20518 non-null float64\n",
      "dtypes: bool(2), float64(14), int64(3), object(3)\n",
      "memory usage: 3.7+ MB\n"
     ]
    }
   ],
   "source": [
    "#получение общей информации\n",
    "df.info()"
   ]
  },
  {
   "cell_type": "code",
   "execution_count": 4,
   "metadata": {},
   "outputs": [
    {
     "data": {
      "text/plain": [
       "(23699, 22)"
      ]
     },
     "execution_count": 4,
     "metadata": {},
     "output_type": "execute_result"
    }
   ],
   "source": [
    "df.shape"
   ]
  },
  {
   "cell_type": "markdown",
   "metadata": {},
   "source": [
    "### Вывод"
   ]
  },
  {
   "cell_type": "markdown",
   "metadata": {},
   "source": [
    "Файл содержит пустые значения, которые необходимо обработать, кроме того, в некоторых столбцах, для удобства обработки, следует изменить тип данных"
   ]
  },
  {
   "cell_type": "markdown",
   "metadata": {},
   "source": [
    "## Предобработка данных"
   ]
  },
  {
   "cell_type": "markdown",
   "metadata": {},
   "source": [
    "Исследование и обработка пустых значений"
   ]
  },
  {
   "cell_type": "code",
   "execution_count": 5,
   "metadata": {},
   "outputs": [
    {
     "data": {
      "text/plain": [
       "total_images                0\n",
       "last_price                  0\n",
       "total_area                  0\n",
       "first_day_exposition        0\n",
       "rooms                       0\n",
       "ceiling_height           9195\n",
       "floors_total               86\n",
       "living_area              1903\n",
       "floor                       0\n",
       "is_apartment            20924\n",
       "studio                      0\n",
       "open_plan                   0\n",
       "kitchen_area             2278\n",
       "balcony                 11519\n",
       "locality_name              49\n",
       "airports_nearest         5542\n",
       "cityCenters_nearest      5519\n",
       "parks_around3000         5518\n",
       "parks_nearest           15620\n",
       "ponds_around3000         5518\n",
       "ponds_nearest           14589\n",
       "days_exposition          3181\n",
       "dtype: int64"
      ]
     },
     "execution_count": 5,
     "metadata": {},
     "output_type": "execute_result"
    }
   ],
   "source": [
    "df.isna().sum()"
   ]
  },
  {
   "cell_type": "markdown",
   "metadata": {},
   "source": [
    "Пропуски в столбце с балконами можно объяснить отсутствием балконов в квартире, заменим пустые значения на 0"
   ]
  },
  {
   "cell_type": "code",
   "execution_count": 6,
   "metadata": {},
   "outputs": [],
   "source": [
    "df['balcony'] = df['balcony'].fillna(0)"
   ]
  },
  {
   "cell_type": "markdown",
   "metadata": {},
   "source": [
    "Пустые значения в столбце is_apartment могли возникнуть в связи с тем, что это не апартаменты"
   ]
  },
  {
   "cell_type": "code",
   "execution_count": 7,
   "metadata": {},
   "outputs": [],
   "source": [
    "df['is_apartment'] = df['is_apartment'].fillna(0)"
   ]
  },
  {
   "cell_type": "markdown",
   "metadata": {},
   "source": [
    "Удаление пустых значений в столбцах locality_name и floors_total не сильно повлияет на данные"
   ]
  },
  {
   "cell_type": "code",
   "execution_count": 8,
   "metadata": {},
   "outputs": [],
   "source": [
    "df.dropna(subset=['locality_name', 'floors_total'], inplace=True)"
   ]
  },
  {
   "cell_type": "code",
   "execution_count": 9,
   "metadata": {},
   "outputs": [
    {
     "data": {
      "text/plain": [
       "total_images                0\n",
       "last_price                  0\n",
       "total_area                  0\n",
       "first_day_exposition        0\n",
       "rooms                       0\n",
       "ceiling_height           9084\n",
       "floors_total                0\n",
       "living_area              1865\n",
       "floor                       0\n",
       "is_apartment                0\n",
       "studio                      0\n",
       "open_plan                   0\n",
       "kitchen_area             2222\n",
       "balcony                     0\n",
       "locality_name               0\n",
       "airports_nearest         5524\n",
       "cityCenters_nearest      5501\n",
       "parks_around3000         5500\n",
       "parks_nearest           15535\n",
       "ponds_around3000         5500\n",
       "ponds_nearest           14529\n",
       "days_exposition          3171\n",
       "dtype: int64"
      ]
     },
     "execution_count": 9,
     "metadata": {},
     "output_type": "execute_result"
    }
   ],
   "source": [
    "df.isna().sum()"
   ]
  },
  {
   "cell_type": "markdown",
   "metadata": {},
   "source": [
    "Пустые значения в столбцах parks_around3000 и ponds_around3000 говорят о том, что поблизости отсутсвуют парки, либо водоемы, необходимо заменить такие значения нулями, а также поменять тип данных на целочисленный"
   ]
  },
  {
   "cell_type": "code",
   "execution_count": 10,
   "metadata": {},
   "outputs": [],
   "source": [
    "df['parks_around3000'] = df['parks_around3000'].fillna(0).astype('int')\n",
    "df['ponds_around3000'] = df['ponds_around3000'].fillna(0).astype('int')"
   ]
  },
  {
   "cell_type": "code",
   "execution_count": 11,
   "metadata": {},
   "outputs": [
    {
     "data": {
      "text/html": [
       "<div>\n",
       "<style scoped>\n",
       "    .dataframe tbody tr th:only-of-type {\n",
       "        vertical-align: middle;\n",
       "    }\n",
       "\n",
       "    .dataframe tbody tr th {\n",
       "        vertical-align: top;\n",
       "    }\n",
       "\n",
       "    .dataframe thead th {\n",
       "        text-align: right;\n",
       "    }\n",
       "</style>\n",
       "<table border=\"1\" class=\"dataframe\">\n",
       "  <thead>\n",
       "    <tr style=\"text-align: right;\">\n",
       "      <th></th>\n",
       "      <th>total_images</th>\n",
       "      <th>last_price</th>\n",
       "      <th>total_area</th>\n",
       "      <th>first_day_exposition</th>\n",
       "      <th>rooms</th>\n",
       "      <th>ceiling_height</th>\n",
       "      <th>floors_total</th>\n",
       "      <th>living_area</th>\n",
       "      <th>floor</th>\n",
       "      <th>is_apartment</th>\n",
       "      <th>...</th>\n",
       "      <th>kitchen_area</th>\n",
       "      <th>balcony</th>\n",
       "      <th>locality_name</th>\n",
       "      <th>airports_nearest</th>\n",
       "      <th>cityCenters_nearest</th>\n",
       "      <th>parks_around3000</th>\n",
       "      <th>parks_nearest</th>\n",
       "      <th>ponds_around3000</th>\n",
       "      <th>ponds_nearest</th>\n",
       "      <th>days_exposition</th>\n",
       "    </tr>\n",
       "  </thead>\n",
       "  <tbody>\n",
       "    <tr>\n",
       "      <td>0</td>\n",
       "      <td>20</td>\n",
       "      <td>13000000.0</td>\n",
       "      <td>108.00</td>\n",
       "      <td>2019-03-07T00:00:00</td>\n",
       "      <td>3</td>\n",
       "      <td>2.70</td>\n",
       "      <td>16.0</td>\n",
       "      <td>51.0</td>\n",
       "      <td>8</td>\n",
       "      <td>0</td>\n",
       "      <td>...</td>\n",
       "      <td>25.00</td>\n",
       "      <td>0.0</td>\n",
       "      <td>Санкт-Петербург</td>\n",
       "      <td>18863.0</td>\n",
       "      <td>16028.0</td>\n",
       "      <td>1</td>\n",
       "      <td>482.0</td>\n",
       "      <td>2</td>\n",
       "      <td>755.0</td>\n",
       "      <td>NaN</td>\n",
       "    </tr>\n",
       "    <tr>\n",
       "      <td>1</td>\n",
       "      <td>7</td>\n",
       "      <td>3350000.0</td>\n",
       "      <td>40.40</td>\n",
       "      <td>2018-12-04T00:00:00</td>\n",
       "      <td>1</td>\n",
       "      <td>NaN</td>\n",
       "      <td>11.0</td>\n",
       "      <td>18.6</td>\n",
       "      <td>1</td>\n",
       "      <td>0</td>\n",
       "      <td>...</td>\n",
       "      <td>11.00</td>\n",
       "      <td>2.0</td>\n",
       "      <td>посёлок Шушары</td>\n",
       "      <td>12817.0</td>\n",
       "      <td>18603.0</td>\n",
       "      <td>0</td>\n",
       "      <td>NaN</td>\n",
       "      <td>0</td>\n",
       "      <td>NaN</td>\n",
       "      <td>81.0</td>\n",
       "    </tr>\n",
       "    <tr>\n",
       "      <td>2</td>\n",
       "      <td>10</td>\n",
       "      <td>5196000.0</td>\n",
       "      <td>56.00</td>\n",
       "      <td>2015-08-20T00:00:00</td>\n",
       "      <td>2</td>\n",
       "      <td>NaN</td>\n",
       "      <td>5.0</td>\n",
       "      <td>34.3</td>\n",
       "      <td>4</td>\n",
       "      <td>0</td>\n",
       "      <td>...</td>\n",
       "      <td>8.30</td>\n",
       "      <td>0.0</td>\n",
       "      <td>Санкт-Петербург</td>\n",
       "      <td>21741.0</td>\n",
       "      <td>13933.0</td>\n",
       "      <td>1</td>\n",
       "      <td>90.0</td>\n",
       "      <td>2</td>\n",
       "      <td>574.0</td>\n",
       "      <td>558.0</td>\n",
       "    </tr>\n",
       "    <tr>\n",
       "      <td>3</td>\n",
       "      <td>0</td>\n",
       "      <td>64900000.0</td>\n",
       "      <td>159.00</td>\n",
       "      <td>2015-07-24T00:00:00</td>\n",
       "      <td>3</td>\n",
       "      <td>NaN</td>\n",
       "      <td>14.0</td>\n",
       "      <td>NaN</td>\n",
       "      <td>9</td>\n",
       "      <td>0</td>\n",
       "      <td>...</td>\n",
       "      <td>NaN</td>\n",
       "      <td>0.0</td>\n",
       "      <td>Санкт-Петербург</td>\n",
       "      <td>28098.0</td>\n",
       "      <td>6800.0</td>\n",
       "      <td>2</td>\n",
       "      <td>84.0</td>\n",
       "      <td>3</td>\n",
       "      <td>234.0</td>\n",
       "      <td>424.0</td>\n",
       "    </tr>\n",
       "    <tr>\n",
       "      <td>4</td>\n",
       "      <td>2</td>\n",
       "      <td>10000000.0</td>\n",
       "      <td>100.00</td>\n",
       "      <td>2018-06-19T00:00:00</td>\n",
       "      <td>2</td>\n",
       "      <td>3.03</td>\n",
       "      <td>14.0</td>\n",
       "      <td>32.0</td>\n",
       "      <td>13</td>\n",
       "      <td>0</td>\n",
       "      <td>...</td>\n",
       "      <td>41.00</td>\n",
       "      <td>0.0</td>\n",
       "      <td>Санкт-Петербург</td>\n",
       "      <td>31856.0</td>\n",
       "      <td>8098.0</td>\n",
       "      <td>2</td>\n",
       "      <td>112.0</td>\n",
       "      <td>1</td>\n",
       "      <td>48.0</td>\n",
       "      <td>121.0</td>\n",
       "    </tr>\n",
       "    <tr>\n",
       "      <td>...</td>\n",
       "      <td>...</td>\n",
       "      <td>...</td>\n",
       "      <td>...</td>\n",
       "      <td>...</td>\n",
       "      <td>...</td>\n",
       "      <td>...</td>\n",
       "      <td>...</td>\n",
       "      <td>...</td>\n",
       "      <td>...</td>\n",
       "      <td>...</td>\n",
       "      <td>...</td>\n",
       "      <td>...</td>\n",
       "      <td>...</td>\n",
       "      <td>...</td>\n",
       "      <td>...</td>\n",
       "      <td>...</td>\n",
       "      <td>...</td>\n",
       "      <td>...</td>\n",
       "      <td>...</td>\n",
       "      <td>...</td>\n",
       "      <td>...</td>\n",
       "    </tr>\n",
       "    <tr>\n",
       "      <td>23694</td>\n",
       "      <td>9</td>\n",
       "      <td>9700000.0</td>\n",
       "      <td>133.81</td>\n",
       "      <td>2017-03-21T00:00:00</td>\n",
       "      <td>3</td>\n",
       "      <td>3.70</td>\n",
       "      <td>5.0</td>\n",
       "      <td>73.3</td>\n",
       "      <td>3</td>\n",
       "      <td>0</td>\n",
       "      <td>...</td>\n",
       "      <td>13.83</td>\n",
       "      <td>0.0</td>\n",
       "      <td>Санкт-Петербург</td>\n",
       "      <td>24665.0</td>\n",
       "      <td>4232.0</td>\n",
       "      <td>1</td>\n",
       "      <td>796.0</td>\n",
       "      <td>3</td>\n",
       "      <td>381.0</td>\n",
       "      <td>NaN</td>\n",
       "    </tr>\n",
       "    <tr>\n",
       "      <td>23695</td>\n",
       "      <td>14</td>\n",
       "      <td>3100000.0</td>\n",
       "      <td>59.00</td>\n",
       "      <td>2018-01-15T00:00:00</td>\n",
       "      <td>3</td>\n",
       "      <td>NaN</td>\n",
       "      <td>5.0</td>\n",
       "      <td>38.0</td>\n",
       "      <td>4</td>\n",
       "      <td>0</td>\n",
       "      <td>...</td>\n",
       "      <td>8.50</td>\n",
       "      <td>0.0</td>\n",
       "      <td>Тосно</td>\n",
       "      <td>NaN</td>\n",
       "      <td>NaN</td>\n",
       "      <td>0</td>\n",
       "      <td>NaN</td>\n",
       "      <td>0</td>\n",
       "      <td>NaN</td>\n",
       "      <td>45.0</td>\n",
       "    </tr>\n",
       "    <tr>\n",
       "      <td>23696</td>\n",
       "      <td>18</td>\n",
       "      <td>2500000.0</td>\n",
       "      <td>56.70</td>\n",
       "      <td>2018-02-11T00:00:00</td>\n",
       "      <td>2</td>\n",
       "      <td>NaN</td>\n",
       "      <td>3.0</td>\n",
       "      <td>29.7</td>\n",
       "      <td>1</td>\n",
       "      <td>0</td>\n",
       "      <td>...</td>\n",
       "      <td>NaN</td>\n",
       "      <td>0.0</td>\n",
       "      <td>село Рождествено</td>\n",
       "      <td>NaN</td>\n",
       "      <td>NaN</td>\n",
       "      <td>0</td>\n",
       "      <td>NaN</td>\n",
       "      <td>0</td>\n",
       "      <td>NaN</td>\n",
       "      <td>NaN</td>\n",
       "    </tr>\n",
       "    <tr>\n",
       "      <td>23697</td>\n",
       "      <td>13</td>\n",
       "      <td>11475000.0</td>\n",
       "      <td>76.75</td>\n",
       "      <td>2017-03-28T00:00:00</td>\n",
       "      <td>2</td>\n",
       "      <td>3.00</td>\n",
       "      <td>17.0</td>\n",
       "      <td>NaN</td>\n",
       "      <td>12</td>\n",
       "      <td>0</td>\n",
       "      <td>...</td>\n",
       "      <td>23.30</td>\n",
       "      <td>2.0</td>\n",
       "      <td>Санкт-Петербург</td>\n",
       "      <td>39140.0</td>\n",
       "      <td>10364.0</td>\n",
       "      <td>2</td>\n",
       "      <td>173.0</td>\n",
       "      <td>3</td>\n",
       "      <td>196.0</td>\n",
       "      <td>602.0</td>\n",
       "    </tr>\n",
       "    <tr>\n",
       "      <td>23698</td>\n",
       "      <td>4</td>\n",
       "      <td>1350000.0</td>\n",
       "      <td>32.30</td>\n",
       "      <td>2017-07-21T00:00:00</td>\n",
       "      <td>1</td>\n",
       "      <td>2.50</td>\n",
       "      <td>5.0</td>\n",
       "      <td>12.3</td>\n",
       "      <td>1</td>\n",
       "      <td>0</td>\n",
       "      <td>...</td>\n",
       "      <td>9.00</td>\n",
       "      <td>0.0</td>\n",
       "      <td>поселок Новый Учхоз</td>\n",
       "      <td>NaN</td>\n",
       "      <td>NaN</td>\n",
       "      <td>0</td>\n",
       "      <td>NaN</td>\n",
       "      <td>0</td>\n",
       "      <td>NaN</td>\n",
       "      <td>NaN</td>\n",
       "    </tr>\n",
       "  </tbody>\n",
       "</table>\n",
       "<p>23565 rows × 22 columns</p>\n",
       "</div>"
      ],
      "text/plain": [
       "       total_images  last_price  total_area first_day_exposition  rooms  \\\n",
       "0                20  13000000.0      108.00  2019-03-07T00:00:00      3   \n",
       "1                 7   3350000.0       40.40  2018-12-04T00:00:00      1   \n",
       "2                10   5196000.0       56.00  2015-08-20T00:00:00      2   \n",
       "3                 0  64900000.0      159.00  2015-07-24T00:00:00      3   \n",
       "4                 2  10000000.0      100.00  2018-06-19T00:00:00      2   \n",
       "...             ...         ...         ...                  ...    ...   \n",
       "23694             9   9700000.0      133.81  2017-03-21T00:00:00      3   \n",
       "23695            14   3100000.0       59.00  2018-01-15T00:00:00      3   \n",
       "23696            18   2500000.0       56.70  2018-02-11T00:00:00      2   \n",
       "23697            13  11475000.0       76.75  2017-03-28T00:00:00      2   \n",
       "23698             4   1350000.0       32.30  2017-07-21T00:00:00      1   \n",
       "\n",
       "       ceiling_height  floors_total  living_area  floor is_apartment  ...  \\\n",
       "0                2.70          16.0         51.0      8            0  ...   \n",
       "1                 NaN          11.0         18.6      1            0  ...   \n",
       "2                 NaN           5.0         34.3      4            0  ...   \n",
       "3                 NaN          14.0          NaN      9            0  ...   \n",
       "4                3.03          14.0         32.0     13            0  ...   \n",
       "...               ...           ...          ...    ...          ...  ...   \n",
       "23694            3.70           5.0         73.3      3            0  ...   \n",
       "23695             NaN           5.0         38.0      4            0  ...   \n",
       "23696             NaN           3.0         29.7      1            0  ...   \n",
       "23697            3.00          17.0          NaN     12            0  ...   \n",
       "23698            2.50           5.0         12.3      1            0  ...   \n",
       "\n",
       "       kitchen_area  balcony        locality_name  airports_nearest  \\\n",
       "0             25.00      0.0      Санкт-Петербург           18863.0   \n",
       "1             11.00      2.0       посёлок Шушары           12817.0   \n",
       "2              8.30      0.0      Санкт-Петербург           21741.0   \n",
       "3               NaN      0.0      Санкт-Петербург           28098.0   \n",
       "4             41.00      0.0      Санкт-Петербург           31856.0   \n",
       "...             ...      ...                  ...               ...   \n",
       "23694         13.83      0.0      Санкт-Петербург           24665.0   \n",
       "23695          8.50      0.0                Тосно               NaN   \n",
       "23696           NaN      0.0     село Рождествено               NaN   \n",
       "23697         23.30      2.0      Санкт-Петербург           39140.0   \n",
       "23698          9.00      0.0  поселок Новый Учхоз               NaN   \n",
       "\n",
       "      cityCenters_nearest  parks_around3000  parks_nearest  ponds_around3000  \\\n",
       "0                 16028.0                 1          482.0                 2   \n",
       "1                 18603.0                 0            NaN                 0   \n",
       "2                 13933.0                 1           90.0                 2   \n",
       "3                  6800.0                 2           84.0                 3   \n",
       "4                  8098.0                 2          112.0                 1   \n",
       "...                   ...               ...            ...               ...   \n",
       "23694              4232.0                 1          796.0                 3   \n",
       "23695                 NaN                 0            NaN                 0   \n",
       "23696                 NaN                 0            NaN                 0   \n",
       "23697             10364.0                 2          173.0                 3   \n",
       "23698                 NaN                 0            NaN                 0   \n",
       "\n",
       "       ponds_nearest  days_exposition  \n",
       "0              755.0              NaN  \n",
       "1                NaN             81.0  \n",
       "2              574.0            558.0  \n",
       "3              234.0            424.0  \n",
       "4               48.0            121.0  \n",
       "...              ...              ...  \n",
       "23694          381.0              NaN  \n",
       "23695            NaN             45.0  \n",
       "23696            NaN              NaN  \n",
       "23697          196.0            602.0  \n",
       "23698            NaN              NaN  \n",
       "\n",
       "[23565 rows x 22 columns]"
      ]
     },
     "execution_count": 11,
     "metadata": {},
     "output_type": "execute_result"
    }
   ],
   "source": [
    "df"
   ]
  },
  {
   "cell_type": "markdown",
   "metadata": {},
   "source": [
    "обработка типов с временем"
   ]
  },
  {
   "cell_type": "code",
   "execution_count": 12,
   "metadata": {},
   "outputs": [],
   "source": [
    "df['first_day_exposition'] = pd.to_datetime(df['first_day_exposition'], format='%Y-%m-%dT%H:%M:%S')"
   ]
  },
  {
   "cell_type": "code",
   "execution_count": 13,
   "metadata": {},
   "outputs": [
    {
     "data": {
      "text/html": [
       "<div>\n",
       "<style scoped>\n",
       "    .dataframe tbody tr th:only-of-type {\n",
       "        vertical-align: middle;\n",
       "    }\n",
       "\n",
       "    .dataframe tbody tr th {\n",
       "        vertical-align: top;\n",
       "    }\n",
       "\n",
       "    .dataframe thead th {\n",
       "        text-align: right;\n",
       "    }\n",
       "</style>\n",
       "<table border=\"1\" class=\"dataframe\">\n",
       "  <thead>\n",
       "    <tr style=\"text-align: right;\">\n",
       "      <th></th>\n",
       "      <th>total_images</th>\n",
       "      <th>last_price</th>\n",
       "      <th>total_area</th>\n",
       "      <th>first_day_exposition</th>\n",
       "      <th>rooms</th>\n",
       "      <th>ceiling_height</th>\n",
       "      <th>floors_total</th>\n",
       "      <th>living_area</th>\n",
       "      <th>floor</th>\n",
       "      <th>is_apartment</th>\n",
       "      <th>...</th>\n",
       "      <th>kitchen_area</th>\n",
       "      <th>balcony</th>\n",
       "      <th>locality_name</th>\n",
       "      <th>airports_nearest</th>\n",
       "      <th>cityCenters_nearest</th>\n",
       "      <th>parks_around3000</th>\n",
       "      <th>parks_nearest</th>\n",
       "      <th>ponds_around3000</th>\n",
       "      <th>ponds_nearest</th>\n",
       "      <th>days_exposition</th>\n",
       "    </tr>\n",
       "  </thead>\n",
       "  <tbody>\n",
       "    <tr>\n",
       "      <td>0</td>\n",
       "      <td>20</td>\n",
       "      <td>13000000.0</td>\n",
       "      <td>108.00</td>\n",
       "      <td>2019-03-07</td>\n",
       "      <td>3</td>\n",
       "      <td>2.70</td>\n",
       "      <td>16.0</td>\n",
       "      <td>51.0</td>\n",
       "      <td>8</td>\n",
       "      <td>0</td>\n",
       "      <td>...</td>\n",
       "      <td>25.00</td>\n",
       "      <td>0.0</td>\n",
       "      <td>Санкт-Петербург</td>\n",
       "      <td>18863.0</td>\n",
       "      <td>16028.0</td>\n",
       "      <td>1</td>\n",
       "      <td>482.0</td>\n",
       "      <td>2</td>\n",
       "      <td>755.0</td>\n",
       "      <td>NaN</td>\n",
       "    </tr>\n",
       "    <tr>\n",
       "      <td>1</td>\n",
       "      <td>7</td>\n",
       "      <td>3350000.0</td>\n",
       "      <td>40.40</td>\n",
       "      <td>2018-12-04</td>\n",
       "      <td>1</td>\n",
       "      <td>NaN</td>\n",
       "      <td>11.0</td>\n",
       "      <td>18.6</td>\n",
       "      <td>1</td>\n",
       "      <td>0</td>\n",
       "      <td>...</td>\n",
       "      <td>11.00</td>\n",
       "      <td>2.0</td>\n",
       "      <td>посёлок Шушары</td>\n",
       "      <td>12817.0</td>\n",
       "      <td>18603.0</td>\n",
       "      <td>0</td>\n",
       "      <td>NaN</td>\n",
       "      <td>0</td>\n",
       "      <td>NaN</td>\n",
       "      <td>81.0</td>\n",
       "    </tr>\n",
       "    <tr>\n",
       "      <td>2</td>\n",
       "      <td>10</td>\n",
       "      <td>5196000.0</td>\n",
       "      <td>56.00</td>\n",
       "      <td>2015-08-20</td>\n",
       "      <td>2</td>\n",
       "      <td>NaN</td>\n",
       "      <td>5.0</td>\n",
       "      <td>34.3</td>\n",
       "      <td>4</td>\n",
       "      <td>0</td>\n",
       "      <td>...</td>\n",
       "      <td>8.30</td>\n",
       "      <td>0.0</td>\n",
       "      <td>Санкт-Петербург</td>\n",
       "      <td>21741.0</td>\n",
       "      <td>13933.0</td>\n",
       "      <td>1</td>\n",
       "      <td>90.0</td>\n",
       "      <td>2</td>\n",
       "      <td>574.0</td>\n",
       "      <td>558.0</td>\n",
       "    </tr>\n",
       "    <tr>\n",
       "      <td>3</td>\n",
       "      <td>0</td>\n",
       "      <td>64900000.0</td>\n",
       "      <td>159.00</td>\n",
       "      <td>2015-07-24</td>\n",
       "      <td>3</td>\n",
       "      <td>NaN</td>\n",
       "      <td>14.0</td>\n",
       "      <td>NaN</td>\n",
       "      <td>9</td>\n",
       "      <td>0</td>\n",
       "      <td>...</td>\n",
       "      <td>NaN</td>\n",
       "      <td>0.0</td>\n",
       "      <td>Санкт-Петербург</td>\n",
       "      <td>28098.0</td>\n",
       "      <td>6800.0</td>\n",
       "      <td>2</td>\n",
       "      <td>84.0</td>\n",
       "      <td>3</td>\n",
       "      <td>234.0</td>\n",
       "      <td>424.0</td>\n",
       "    </tr>\n",
       "    <tr>\n",
       "      <td>4</td>\n",
       "      <td>2</td>\n",
       "      <td>10000000.0</td>\n",
       "      <td>100.00</td>\n",
       "      <td>2018-06-19</td>\n",
       "      <td>2</td>\n",
       "      <td>3.03</td>\n",
       "      <td>14.0</td>\n",
       "      <td>32.0</td>\n",
       "      <td>13</td>\n",
       "      <td>0</td>\n",
       "      <td>...</td>\n",
       "      <td>41.00</td>\n",
       "      <td>0.0</td>\n",
       "      <td>Санкт-Петербург</td>\n",
       "      <td>31856.0</td>\n",
       "      <td>8098.0</td>\n",
       "      <td>2</td>\n",
       "      <td>112.0</td>\n",
       "      <td>1</td>\n",
       "      <td>48.0</td>\n",
       "      <td>121.0</td>\n",
       "    </tr>\n",
       "    <tr>\n",
       "      <td>...</td>\n",
       "      <td>...</td>\n",
       "      <td>...</td>\n",
       "      <td>...</td>\n",
       "      <td>...</td>\n",
       "      <td>...</td>\n",
       "      <td>...</td>\n",
       "      <td>...</td>\n",
       "      <td>...</td>\n",
       "      <td>...</td>\n",
       "      <td>...</td>\n",
       "      <td>...</td>\n",
       "      <td>...</td>\n",
       "      <td>...</td>\n",
       "      <td>...</td>\n",
       "      <td>...</td>\n",
       "      <td>...</td>\n",
       "      <td>...</td>\n",
       "      <td>...</td>\n",
       "      <td>...</td>\n",
       "      <td>...</td>\n",
       "      <td>...</td>\n",
       "    </tr>\n",
       "    <tr>\n",
       "      <td>23694</td>\n",
       "      <td>9</td>\n",
       "      <td>9700000.0</td>\n",
       "      <td>133.81</td>\n",
       "      <td>2017-03-21</td>\n",
       "      <td>3</td>\n",
       "      <td>3.70</td>\n",
       "      <td>5.0</td>\n",
       "      <td>73.3</td>\n",
       "      <td>3</td>\n",
       "      <td>0</td>\n",
       "      <td>...</td>\n",
       "      <td>13.83</td>\n",
       "      <td>0.0</td>\n",
       "      <td>Санкт-Петербург</td>\n",
       "      <td>24665.0</td>\n",
       "      <td>4232.0</td>\n",
       "      <td>1</td>\n",
       "      <td>796.0</td>\n",
       "      <td>3</td>\n",
       "      <td>381.0</td>\n",
       "      <td>NaN</td>\n",
       "    </tr>\n",
       "    <tr>\n",
       "      <td>23695</td>\n",
       "      <td>14</td>\n",
       "      <td>3100000.0</td>\n",
       "      <td>59.00</td>\n",
       "      <td>2018-01-15</td>\n",
       "      <td>3</td>\n",
       "      <td>NaN</td>\n",
       "      <td>5.0</td>\n",
       "      <td>38.0</td>\n",
       "      <td>4</td>\n",
       "      <td>0</td>\n",
       "      <td>...</td>\n",
       "      <td>8.50</td>\n",
       "      <td>0.0</td>\n",
       "      <td>Тосно</td>\n",
       "      <td>NaN</td>\n",
       "      <td>NaN</td>\n",
       "      <td>0</td>\n",
       "      <td>NaN</td>\n",
       "      <td>0</td>\n",
       "      <td>NaN</td>\n",
       "      <td>45.0</td>\n",
       "    </tr>\n",
       "    <tr>\n",
       "      <td>23696</td>\n",
       "      <td>18</td>\n",
       "      <td>2500000.0</td>\n",
       "      <td>56.70</td>\n",
       "      <td>2018-02-11</td>\n",
       "      <td>2</td>\n",
       "      <td>NaN</td>\n",
       "      <td>3.0</td>\n",
       "      <td>29.7</td>\n",
       "      <td>1</td>\n",
       "      <td>0</td>\n",
       "      <td>...</td>\n",
       "      <td>NaN</td>\n",
       "      <td>0.0</td>\n",
       "      <td>село Рождествено</td>\n",
       "      <td>NaN</td>\n",
       "      <td>NaN</td>\n",
       "      <td>0</td>\n",
       "      <td>NaN</td>\n",
       "      <td>0</td>\n",
       "      <td>NaN</td>\n",
       "      <td>NaN</td>\n",
       "    </tr>\n",
       "    <tr>\n",
       "      <td>23697</td>\n",
       "      <td>13</td>\n",
       "      <td>11475000.0</td>\n",
       "      <td>76.75</td>\n",
       "      <td>2017-03-28</td>\n",
       "      <td>2</td>\n",
       "      <td>3.00</td>\n",
       "      <td>17.0</td>\n",
       "      <td>NaN</td>\n",
       "      <td>12</td>\n",
       "      <td>0</td>\n",
       "      <td>...</td>\n",
       "      <td>23.30</td>\n",
       "      <td>2.0</td>\n",
       "      <td>Санкт-Петербург</td>\n",
       "      <td>39140.0</td>\n",
       "      <td>10364.0</td>\n",
       "      <td>2</td>\n",
       "      <td>173.0</td>\n",
       "      <td>3</td>\n",
       "      <td>196.0</td>\n",
       "      <td>602.0</td>\n",
       "    </tr>\n",
       "    <tr>\n",
       "      <td>23698</td>\n",
       "      <td>4</td>\n",
       "      <td>1350000.0</td>\n",
       "      <td>32.30</td>\n",
       "      <td>2017-07-21</td>\n",
       "      <td>1</td>\n",
       "      <td>2.50</td>\n",
       "      <td>5.0</td>\n",
       "      <td>12.3</td>\n",
       "      <td>1</td>\n",
       "      <td>0</td>\n",
       "      <td>...</td>\n",
       "      <td>9.00</td>\n",
       "      <td>0.0</td>\n",
       "      <td>поселок Новый Учхоз</td>\n",
       "      <td>NaN</td>\n",
       "      <td>NaN</td>\n",
       "      <td>0</td>\n",
       "      <td>NaN</td>\n",
       "      <td>0</td>\n",
       "      <td>NaN</td>\n",
       "      <td>NaN</td>\n",
       "    </tr>\n",
       "  </tbody>\n",
       "</table>\n",
       "<p>23565 rows × 22 columns</p>\n",
       "</div>"
      ],
      "text/plain": [
       "       total_images  last_price  total_area first_day_exposition  rooms  \\\n",
       "0                20  13000000.0      108.00           2019-03-07      3   \n",
       "1                 7   3350000.0       40.40           2018-12-04      1   \n",
       "2                10   5196000.0       56.00           2015-08-20      2   \n",
       "3                 0  64900000.0      159.00           2015-07-24      3   \n",
       "4                 2  10000000.0      100.00           2018-06-19      2   \n",
       "...             ...         ...         ...                  ...    ...   \n",
       "23694             9   9700000.0      133.81           2017-03-21      3   \n",
       "23695            14   3100000.0       59.00           2018-01-15      3   \n",
       "23696            18   2500000.0       56.70           2018-02-11      2   \n",
       "23697            13  11475000.0       76.75           2017-03-28      2   \n",
       "23698             4   1350000.0       32.30           2017-07-21      1   \n",
       "\n",
       "       ceiling_height  floors_total  living_area  floor is_apartment  ...  \\\n",
       "0                2.70          16.0         51.0      8            0  ...   \n",
       "1                 NaN          11.0         18.6      1            0  ...   \n",
       "2                 NaN           5.0         34.3      4            0  ...   \n",
       "3                 NaN          14.0          NaN      9            0  ...   \n",
       "4                3.03          14.0         32.0     13            0  ...   \n",
       "...               ...           ...          ...    ...          ...  ...   \n",
       "23694            3.70           5.0         73.3      3            0  ...   \n",
       "23695             NaN           5.0         38.0      4            0  ...   \n",
       "23696             NaN           3.0         29.7      1            0  ...   \n",
       "23697            3.00          17.0          NaN     12            0  ...   \n",
       "23698            2.50           5.0         12.3      1            0  ...   \n",
       "\n",
       "       kitchen_area  balcony        locality_name  airports_nearest  \\\n",
       "0             25.00      0.0      Санкт-Петербург           18863.0   \n",
       "1             11.00      2.0       посёлок Шушары           12817.0   \n",
       "2              8.30      0.0      Санкт-Петербург           21741.0   \n",
       "3               NaN      0.0      Санкт-Петербург           28098.0   \n",
       "4             41.00      0.0      Санкт-Петербург           31856.0   \n",
       "...             ...      ...                  ...               ...   \n",
       "23694         13.83      0.0      Санкт-Петербург           24665.0   \n",
       "23695          8.50      0.0                Тосно               NaN   \n",
       "23696           NaN      0.0     село Рождествено               NaN   \n",
       "23697         23.30      2.0      Санкт-Петербург           39140.0   \n",
       "23698          9.00      0.0  поселок Новый Учхоз               NaN   \n",
       "\n",
       "      cityCenters_nearest  parks_around3000  parks_nearest  ponds_around3000  \\\n",
       "0                 16028.0                 1          482.0                 2   \n",
       "1                 18603.0                 0            NaN                 0   \n",
       "2                 13933.0                 1           90.0                 2   \n",
       "3                  6800.0                 2           84.0                 3   \n",
       "4                  8098.0                 2          112.0                 1   \n",
       "...                   ...               ...            ...               ...   \n",
       "23694              4232.0                 1          796.0                 3   \n",
       "23695                 NaN                 0            NaN                 0   \n",
       "23696                 NaN                 0            NaN                 0   \n",
       "23697             10364.0                 2          173.0                 3   \n",
       "23698                 NaN                 0            NaN                 0   \n",
       "\n",
       "       ponds_nearest  days_exposition  \n",
       "0              755.0              NaN  \n",
       "1                NaN             81.0  \n",
       "2              574.0            558.0  \n",
       "3              234.0            424.0  \n",
       "4               48.0            121.0  \n",
       "...              ...              ...  \n",
       "23694          381.0              NaN  \n",
       "23695            NaN             45.0  \n",
       "23696            NaN              NaN  \n",
       "23697          196.0            602.0  \n",
       "23698            NaN              NaN  \n",
       "\n",
       "[23565 rows x 22 columns]"
      ]
     },
     "execution_count": 13,
     "metadata": {},
     "output_type": "execute_result"
    }
   ],
   "source": [
    "df"
   ]
  },
  {
   "cell_type": "code",
   "execution_count": 14,
   "metadata": {},
   "outputs": [],
   "source": [
    "def func_to_area(pair, mini_data, data, column_name):\n",
    "    median = mini_data[column_name].median()\n",
    "    data.loc[(data['rooms'] == pair[0]) & (data['locality_name'] == pair[1]), column_name] =  data.loc[\n",
    "        (data['rooms'] == pair[0]) & (data['locality_name'] == pair[1]), column_name\n",
    "    ].fillna(median)"
   ]
  },
  {
   "cell_type": "code",
   "execution_count": 15,
   "metadata": {},
   "outputs": [
    {
     "name": "stderr",
     "output_type": "stream",
     "text": [
      "/opt/conda/lib/python3.7/site-packages/numpy/lib/nanfunctions.py:1111: RuntimeWarning: Mean of empty slice\n",
      "  return np.nanmean(a, axis, out=out, keepdims=keepdims)\n"
     ]
    }
   ],
   "source": [
    "for pair, mini_data in df.groupby(['rooms', 'locality_name']):\n",
    "    func_to_area(pair, mini_data, df, 'living_area')\n",
    "    func_to_area(pair, mini_data, df, 'kitchen_area')"
   ]
  },
  {
   "cell_type": "code",
   "execution_count": 16,
   "metadata": {},
   "outputs": [
    {
     "data": {
      "text/plain": [
       "total_images                0\n",
       "last_price                  0\n",
       "total_area                  0\n",
       "first_day_exposition        0\n",
       "rooms                       0\n",
       "ceiling_height           9084\n",
       "floors_total                0\n",
       "living_area                55\n",
       "floor                       0\n",
       "is_apartment                0\n",
       "studio                      0\n",
       "open_plan                   0\n",
       "kitchen_area              243\n",
       "balcony                     0\n",
       "locality_name               0\n",
       "airports_nearest         5524\n",
       "cityCenters_nearest      5501\n",
       "parks_around3000            0\n",
       "parks_nearest           15535\n",
       "ponds_around3000            0\n",
       "ponds_nearest           14529\n",
       "days_exposition          3171\n",
       "dtype: int64"
      ]
     },
     "execution_count": 16,
     "metadata": {},
     "output_type": "execute_result"
    }
   ],
   "source": [
    "df.isna().sum()"
   ]
  },
  {
   "cell_type": "markdown",
   "metadata": {},
   "source": [
    "Пустые значения в столбце days_exposition объясняются тем, что объявление еще не сняли с публикации, не будем удалять пустые значения в этом столбце"
   ]
  },
  {
   "cell_type": "markdown",
   "metadata": {},
   "source": [
    "Пустые значения столбце living_area целесообразно заменить медианными значениями жилой площади квартир с таким же количеством комнат и находящихся в том же регионе"
   ]
  },
  {
   "cell_type": "code",
   "execution_count": 17,
   "metadata": {},
   "outputs": [
    {
     "data": {
      "text/plain": [
       "total_images                0\n",
       "last_price                  0\n",
       "total_area                  0\n",
       "first_day_exposition        0\n",
       "rooms                       0\n",
       "ceiling_height           9084\n",
       "floors_total                0\n",
       "living_area                55\n",
       "floor                       0\n",
       "is_apartment                0\n",
       "studio                      0\n",
       "open_plan                   0\n",
       "kitchen_area              243\n",
       "balcony                     0\n",
       "locality_name               0\n",
       "airports_nearest         5524\n",
       "cityCenters_nearest      5501\n",
       "parks_around3000            0\n",
       "parks_nearest           15535\n",
       "ponds_around3000            0\n",
       "ponds_nearest           14529\n",
       "days_exposition          3171\n",
       "dtype: int64"
      ]
     },
     "execution_count": 17,
     "metadata": {},
     "output_type": "execute_result"
    }
   ],
   "source": [
    "#странно, что после такого перебора остались пустые значения в этих столбцах, но их не так много, можно и удалить\n",
    "df.isna().sum()"
   ]
  },
  {
   "cell_type": "code",
   "execution_count": 18,
   "metadata": {},
   "outputs": [],
   "source": [
    "df = df.dropna(subset=['living_area', 'kitchen_area']).reset_index(drop=True)"
   ]
  },
  {
   "cell_type": "markdown",
   "metadata": {},
   "source": [
    "Необходимо поменять тип данных на целочисленный в столбцах с общей площадью квартиры, числом этажей, ценой, жилой площадью, площадью кухни и числом балконов. В этих столбцах не нужна точность до десятых долей"
   ]
  },
  {
   "cell_type": "code",
   "execution_count": 19,
   "metadata": {},
   "outputs": [],
   "source": [
    "sheet = ['total_area', 'floors_total', 'living_area', 'kitchen_area', 'balcony', 'last_price']\n",
    "for name in sheet:\n",
    "    df[name] = df[name].astype('int')"
   ]
  },
  {
   "cell_type": "code",
   "execution_count": 20,
   "metadata": {},
   "outputs": [
    {
     "data": {
      "text/html": [
       "<div>\n",
       "<style scoped>\n",
       "    .dataframe tbody tr th:only-of-type {\n",
       "        vertical-align: middle;\n",
       "    }\n",
       "\n",
       "    .dataframe tbody tr th {\n",
       "        vertical-align: top;\n",
       "    }\n",
       "\n",
       "    .dataframe thead th {\n",
       "        text-align: right;\n",
       "    }\n",
       "</style>\n",
       "<table border=\"1\" class=\"dataframe\">\n",
       "  <thead>\n",
       "    <tr style=\"text-align: right;\">\n",
       "      <th></th>\n",
       "      <th>total_images</th>\n",
       "      <th>last_price</th>\n",
       "      <th>total_area</th>\n",
       "      <th>first_day_exposition</th>\n",
       "      <th>rooms</th>\n",
       "      <th>ceiling_height</th>\n",
       "      <th>floors_total</th>\n",
       "      <th>living_area</th>\n",
       "      <th>floor</th>\n",
       "      <th>is_apartment</th>\n",
       "      <th>...</th>\n",
       "      <th>kitchen_area</th>\n",
       "      <th>balcony</th>\n",
       "      <th>locality_name</th>\n",
       "      <th>airports_nearest</th>\n",
       "      <th>cityCenters_nearest</th>\n",
       "      <th>parks_around3000</th>\n",
       "      <th>parks_nearest</th>\n",
       "      <th>ponds_around3000</th>\n",
       "      <th>ponds_nearest</th>\n",
       "      <th>days_exposition</th>\n",
       "    </tr>\n",
       "  </thead>\n",
       "  <tbody>\n",
       "    <tr>\n",
       "      <td>0</td>\n",
       "      <td>20</td>\n",
       "      <td>13000000</td>\n",
       "      <td>108</td>\n",
       "      <td>2019-03-07</td>\n",
       "      <td>3</td>\n",
       "      <td>2.70</td>\n",
       "      <td>16</td>\n",
       "      <td>51</td>\n",
       "      <td>8</td>\n",
       "      <td>0</td>\n",
       "      <td>...</td>\n",
       "      <td>25</td>\n",
       "      <td>0</td>\n",
       "      <td>Санкт-Петербург</td>\n",
       "      <td>18863.0</td>\n",
       "      <td>16028.0</td>\n",
       "      <td>1</td>\n",
       "      <td>482.0</td>\n",
       "      <td>2</td>\n",
       "      <td>755.0</td>\n",
       "      <td>NaN</td>\n",
       "    </tr>\n",
       "    <tr>\n",
       "      <td>1</td>\n",
       "      <td>7</td>\n",
       "      <td>3350000</td>\n",
       "      <td>40</td>\n",
       "      <td>2018-12-04</td>\n",
       "      <td>1</td>\n",
       "      <td>NaN</td>\n",
       "      <td>11</td>\n",
       "      <td>18</td>\n",
       "      <td>1</td>\n",
       "      <td>0</td>\n",
       "      <td>...</td>\n",
       "      <td>11</td>\n",
       "      <td>2</td>\n",
       "      <td>посёлок Шушары</td>\n",
       "      <td>12817.0</td>\n",
       "      <td>18603.0</td>\n",
       "      <td>0</td>\n",
       "      <td>NaN</td>\n",
       "      <td>0</td>\n",
       "      <td>NaN</td>\n",
       "      <td>81.0</td>\n",
       "    </tr>\n",
       "    <tr>\n",
       "      <td>2</td>\n",
       "      <td>10</td>\n",
       "      <td>5196000</td>\n",
       "      <td>56</td>\n",
       "      <td>2015-08-20</td>\n",
       "      <td>2</td>\n",
       "      <td>NaN</td>\n",
       "      <td>5</td>\n",
       "      <td>34</td>\n",
       "      <td>4</td>\n",
       "      <td>0</td>\n",
       "      <td>...</td>\n",
       "      <td>8</td>\n",
       "      <td>0</td>\n",
       "      <td>Санкт-Петербург</td>\n",
       "      <td>21741.0</td>\n",
       "      <td>13933.0</td>\n",
       "      <td>1</td>\n",
       "      <td>90.0</td>\n",
       "      <td>2</td>\n",
       "      <td>574.0</td>\n",
       "      <td>558.0</td>\n",
       "    </tr>\n",
       "    <tr>\n",
       "      <td>3</td>\n",
       "      <td>0</td>\n",
       "      <td>64900000</td>\n",
       "      <td>159</td>\n",
       "      <td>2015-07-24</td>\n",
       "      <td>3</td>\n",
       "      <td>NaN</td>\n",
       "      <td>14</td>\n",
       "      <td>45</td>\n",
       "      <td>9</td>\n",
       "      <td>0</td>\n",
       "      <td>...</td>\n",
       "      <td>10</td>\n",
       "      <td>0</td>\n",
       "      <td>Санкт-Петербург</td>\n",
       "      <td>28098.0</td>\n",
       "      <td>6800.0</td>\n",
       "      <td>2</td>\n",
       "      <td>84.0</td>\n",
       "      <td>3</td>\n",
       "      <td>234.0</td>\n",
       "      <td>424.0</td>\n",
       "    </tr>\n",
       "    <tr>\n",
       "      <td>4</td>\n",
       "      <td>2</td>\n",
       "      <td>10000000</td>\n",
       "      <td>100</td>\n",
       "      <td>2018-06-19</td>\n",
       "      <td>2</td>\n",
       "      <td>3.03</td>\n",
       "      <td>14</td>\n",
       "      <td>32</td>\n",
       "      <td>13</td>\n",
       "      <td>0</td>\n",
       "      <td>...</td>\n",
       "      <td>41</td>\n",
       "      <td>0</td>\n",
       "      <td>Санкт-Петербург</td>\n",
       "      <td>31856.0</td>\n",
       "      <td>8098.0</td>\n",
       "      <td>2</td>\n",
       "      <td>112.0</td>\n",
       "      <td>1</td>\n",
       "      <td>48.0</td>\n",
       "      <td>121.0</td>\n",
       "    </tr>\n",
       "    <tr>\n",
       "      <td>...</td>\n",
       "      <td>...</td>\n",
       "      <td>...</td>\n",
       "      <td>...</td>\n",
       "      <td>...</td>\n",
       "      <td>...</td>\n",
       "      <td>...</td>\n",
       "      <td>...</td>\n",
       "      <td>...</td>\n",
       "      <td>...</td>\n",
       "      <td>...</td>\n",
       "      <td>...</td>\n",
       "      <td>...</td>\n",
       "      <td>...</td>\n",
       "      <td>...</td>\n",
       "      <td>...</td>\n",
       "      <td>...</td>\n",
       "      <td>...</td>\n",
       "      <td>...</td>\n",
       "      <td>...</td>\n",
       "      <td>...</td>\n",
       "      <td>...</td>\n",
       "    </tr>\n",
       "    <tr>\n",
       "      <td>23307</td>\n",
       "      <td>9</td>\n",
       "      <td>9700000</td>\n",
       "      <td>133</td>\n",
       "      <td>2017-03-21</td>\n",
       "      <td>3</td>\n",
       "      <td>3.70</td>\n",
       "      <td>5</td>\n",
       "      <td>73</td>\n",
       "      <td>3</td>\n",
       "      <td>0</td>\n",
       "      <td>...</td>\n",
       "      <td>13</td>\n",
       "      <td>0</td>\n",
       "      <td>Санкт-Петербург</td>\n",
       "      <td>24665.0</td>\n",
       "      <td>4232.0</td>\n",
       "      <td>1</td>\n",
       "      <td>796.0</td>\n",
       "      <td>3</td>\n",
       "      <td>381.0</td>\n",
       "      <td>NaN</td>\n",
       "    </tr>\n",
       "    <tr>\n",
       "      <td>23308</td>\n",
       "      <td>14</td>\n",
       "      <td>3100000</td>\n",
       "      <td>59</td>\n",
       "      <td>2018-01-15</td>\n",
       "      <td>3</td>\n",
       "      <td>NaN</td>\n",
       "      <td>5</td>\n",
       "      <td>38</td>\n",
       "      <td>4</td>\n",
       "      <td>0</td>\n",
       "      <td>...</td>\n",
       "      <td>8</td>\n",
       "      <td>0</td>\n",
       "      <td>Тосно</td>\n",
       "      <td>NaN</td>\n",
       "      <td>NaN</td>\n",
       "      <td>0</td>\n",
       "      <td>NaN</td>\n",
       "      <td>0</td>\n",
       "      <td>NaN</td>\n",
       "      <td>45.0</td>\n",
       "    </tr>\n",
       "    <tr>\n",
       "      <td>23309</td>\n",
       "      <td>18</td>\n",
       "      <td>2500000</td>\n",
       "      <td>56</td>\n",
       "      <td>2018-02-11</td>\n",
       "      <td>2</td>\n",
       "      <td>NaN</td>\n",
       "      <td>3</td>\n",
       "      <td>29</td>\n",
       "      <td>1</td>\n",
       "      <td>0</td>\n",
       "      <td>...</td>\n",
       "      <td>8</td>\n",
       "      <td>0</td>\n",
       "      <td>село Рождествено</td>\n",
       "      <td>NaN</td>\n",
       "      <td>NaN</td>\n",
       "      <td>0</td>\n",
       "      <td>NaN</td>\n",
       "      <td>0</td>\n",
       "      <td>NaN</td>\n",
       "      <td>NaN</td>\n",
       "    </tr>\n",
       "    <tr>\n",
       "      <td>23310</td>\n",
       "      <td>13</td>\n",
       "      <td>11475000</td>\n",
       "      <td>76</td>\n",
       "      <td>2017-03-28</td>\n",
       "      <td>2</td>\n",
       "      <td>3.00</td>\n",
       "      <td>17</td>\n",
       "      <td>31</td>\n",
       "      <td>12</td>\n",
       "      <td>0</td>\n",
       "      <td>...</td>\n",
       "      <td>23</td>\n",
       "      <td>2</td>\n",
       "      <td>Санкт-Петербург</td>\n",
       "      <td>39140.0</td>\n",
       "      <td>10364.0</td>\n",
       "      <td>2</td>\n",
       "      <td>173.0</td>\n",
       "      <td>3</td>\n",
       "      <td>196.0</td>\n",
       "      <td>602.0</td>\n",
       "    </tr>\n",
       "    <tr>\n",
       "      <td>23311</td>\n",
       "      <td>4</td>\n",
       "      <td>1350000</td>\n",
       "      <td>32</td>\n",
       "      <td>2017-07-21</td>\n",
       "      <td>1</td>\n",
       "      <td>2.50</td>\n",
       "      <td>5</td>\n",
       "      <td>12</td>\n",
       "      <td>1</td>\n",
       "      <td>0</td>\n",
       "      <td>...</td>\n",
       "      <td>9</td>\n",
       "      <td>0</td>\n",
       "      <td>поселок Новый Учхоз</td>\n",
       "      <td>NaN</td>\n",
       "      <td>NaN</td>\n",
       "      <td>0</td>\n",
       "      <td>NaN</td>\n",
       "      <td>0</td>\n",
       "      <td>NaN</td>\n",
       "      <td>NaN</td>\n",
       "    </tr>\n",
       "  </tbody>\n",
       "</table>\n",
       "<p>23312 rows × 22 columns</p>\n",
       "</div>"
      ],
      "text/plain": [
       "       total_images  last_price  total_area first_day_exposition  rooms  \\\n",
       "0                20    13000000         108           2019-03-07      3   \n",
       "1                 7     3350000          40           2018-12-04      1   \n",
       "2                10     5196000          56           2015-08-20      2   \n",
       "3                 0    64900000         159           2015-07-24      3   \n",
       "4                 2    10000000         100           2018-06-19      2   \n",
       "...             ...         ...         ...                  ...    ...   \n",
       "23307             9     9700000         133           2017-03-21      3   \n",
       "23308            14     3100000          59           2018-01-15      3   \n",
       "23309            18     2500000          56           2018-02-11      2   \n",
       "23310            13    11475000          76           2017-03-28      2   \n",
       "23311             4     1350000          32           2017-07-21      1   \n",
       "\n",
       "       ceiling_height  floors_total  living_area  floor is_apartment  ...  \\\n",
       "0                2.70            16           51      8            0  ...   \n",
       "1                 NaN            11           18      1            0  ...   \n",
       "2                 NaN             5           34      4            0  ...   \n",
       "3                 NaN            14           45      9            0  ...   \n",
       "4                3.03            14           32     13            0  ...   \n",
       "...               ...           ...          ...    ...          ...  ...   \n",
       "23307            3.70             5           73      3            0  ...   \n",
       "23308             NaN             5           38      4            0  ...   \n",
       "23309             NaN             3           29      1            0  ...   \n",
       "23310            3.00            17           31     12            0  ...   \n",
       "23311            2.50             5           12      1            0  ...   \n",
       "\n",
       "       kitchen_area  balcony        locality_name  airports_nearest  \\\n",
       "0                25        0      Санкт-Петербург           18863.0   \n",
       "1                11        2       посёлок Шушары           12817.0   \n",
       "2                 8        0      Санкт-Петербург           21741.0   \n",
       "3                10        0      Санкт-Петербург           28098.0   \n",
       "4                41        0      Санкт-Петербург           31856.0   \n",
       "...             ...      ...                  ...               ...   \n",
       "23307            13        0      Санкт-Петербург           24665.0   \n",
       "23308             8        0                Тосно               NaN   \n",
       "23309             8        0     село Рождествено               NaN   \n",
       "23310            23        2      Санкт-Петербург           39140.0   \n",
       "23311             9        0  поселок Новый Учхоз               NaN   \n",
       "\n",
       "      cityCenters_nearest  parks_around3000  parks_nearest  ponds_around3000  \\\n",
       "0                 16028.0                 1          482.0                 2   \n",
       "1                 18603.0                 0            NaN                 0   \n",
       "2                 13933.0                 1           90.0                 2   \n",
       "3                  6800.0                 2           84.0                 3   \n",
       "4                  8098.0                 2          112.0                 1   \n",
       "...                   ...               ...            ...               ...   \n",
       "23307              4232.0                 1          796.0                 3   \n",
       "23308                 NaN                 0            NaN                 0   \n",
       "23309                 NaN                 0            NaN                 0   \n",
       "23310             10364.0                 2          173.0                 3   \n",
       "23311                 NaN                 0            NaN                 0   \n",
       "\n",
       "       ponds_nearest  days_exposition  \n",
       "0              755.0              NaN  \n",
       "1                NaN             81.0  \n",
       "2              574.0            558.0  \n",
       "3              234.0            424.0  \n",
       "4               48.0            121.0  \n",
       "...              ...              ...  \n",
       "23307          381.0              NaN  \n",
       "23308            NaN             45.0  \n",
       "23309            NaN              NaN  \n",
       "23310          196.0            602.0  \n",
       "23311            NaN              NaN  \n",
       "\n",
       "[23312 rows x 22 columns]"
      ]
     },
     "execution_count": 20,
     "metadata": {},
     "output_type": "execute_result"
    }
   ],
   "source": [
    "df"
   ]
  },
  {
   "cell_type": "code",
   "execution_count": 21,
   "metadata": {},
   "outputs": [
    {
     "data": {
      "text/plain": [
       "total_images                0\n",
       "last_price                  0\n",
       "total_area                  0\n",
       "first_day_exposition        0\n",
       "rooms                       0\n",
       "ceiling_height           8930\n",
       "floors_total                0\n",
       "living_area                 0\n",
       "floor                       0\n",
       "is_apartment                0\n",
       "studio                      0\n",
       "open_plan                   0\n",
       "kitchen_area                0\n",
       "balcony                     0\n",
       "locality_name               0\n",
       "airports_nearest         5393\n",
       "cityCenters_nearest      5370\n",
       "parks_around3000            0\n",
       "parks_nearest           15310\n",
       "ponds_around3000            0\n",
       "ponds_nearest           14344\n",
       "days_exposition          3150\n",
       "dtype: int64"
      ]
     },
     "execution_count": 21,
     "metadata": {},
     "output_type": "execute_result"
    }
   ],
   "source": [
    "df.isna().sum()"
   ]
  },
  {
   "cell_type": "markdown",
   "metadata": {},
   "source": [
    "Обработаем пропуски в стоблце с высотой потолков, высота потолков зависит от климатических условий в конкретном районе,\n",
    "заменим пустые значения на среднюю высоту потолков в населенном пункте"
   ]
  },
  {
   "cell_type": "code",
   "execution_count": 22,
   "metadata": {},
   "outputs": [],
   "source": [
    "for region, mini_data in df.groupby('locality_name'):\n",
    "    ceil_height = mini_data['ceiling_height'].median()\n",
    "    df.loc[df['locality_name'] == region, 'ceiling_height'] = df.loc[\n",
    "        df['locality_name'] == region, 'ceiling_height'\n",
    "    ].fillna(ceil_height)"
   ]
  },
  {
   "cell_type": "code",
   "execution_count": 23,
   "metadata": {},
   "outputs": [
    {
     "data": {
      "text/plain": [
       "total_images                0\n",
       "last_price                  0\n",
       "total_area                  0\n",
       "first_day_exposition        0\n",
       "rooms                       0\n",
       "ceiling_height             96\n",
       "floors_total                0\n",
       "living_area                 0\n",
       "floor                       0\n",
       "is_apartment                0\n",
       "studio                      0\n",
       "open_plan                   0\n",
       "kitchen_area                0\n",
       "balcony                     0\n",
       "locality_name               0\n",
       "airports_nearest         5393\n",
       "cityCenters_nearest      5370\n",
       "parks_around3000            0\n",
       "parks_nearest           15310\n",
       "ponds_around3000            0\n",
       "ponds_nearest           14344\n",
       "days_exposition          3150\n",
       "dtype: int64"
      ]
     },
     "execution_count": 23,
     "metadata": {},
     "output_type": "execute_result"
    }
   ],
   "source": [
    "df.isna().sum()"
   ]
  },
  {
   "cell_type": "markdown",
   "metadata": {},
   "source": [
    "Оставшиеся пустые значения возникли в связи с тем, что невозможно было посчитать среднее значение для этого региона, эти пустые значения можно удалить, кроме того, необходимо округлить до десятых долей значения в этом столбце"
   ]
  },
  {
   "cell_type": "code",
   "execution_count": 24,
   "metadata": {},
   "outputs": [],
   "source": [
    "df.dropna(subset=['ceiling_height'], inplace=True)"
   ]
  },
  {
   "cell_type": "code",
   "execution_count": 25,
   "metadata": {},
   "outputs": [],
   "source": [
    "df['ceiling_height'] = round(df['ceiling_height'],1)"
   ]
  },
  {
   "cell_type": "markdown",
   "metadata": {},
   "source": [
    "Вывод: Где необходимо, обработаны пустые значения, высота потолков заменена на среднюю высоту потолков по региону, для удобства обработаны типы данных. Пустые значения в столбцах с жилой площадью и площадью кухни заменены на медианную площадь квартиры с таким же количеством комнат в том же регионе"
   ]
  },
  {
   "cell_type": "markdown",
   "metadata": {},
   "source": [
    "## Исследовательский анализ данных"
   ]
  },
  {
   "cell_type": "markdown",
   "metadata": {},
   "source": [
    "Расчет цены за квадратный метр"
   ]
  },
  {
   "cell_type": "code",
   "execution_count": 26,
   "metadata": {},
   "outputs": [],
   "source": [
    "df['price_for_metres'] = (df['last_price'] / df['total_area']).astype('int')"
   ]
  },
  {
   "cell_type": "code",
   "execution_count": 27,
   "metadata": {},
   "outputs": [],
   "source": [
    "df = df.reset_index(drop=True)"
   ]
  },
  {
   "cell_type": "markdown",
   "metadata": {},
   "source": [
    "Описание дней недели и создание таблицы словаря"
   ]
  },
  {
   "cell_type": "code",
   "execution_count": 28,
   "metadata": {},
   "outputs": [
    {
     "data": {
      "text/html": [
       "<div>\n",
       "<style scoped>\n",
       "    .dataframe tbody tr th:only-of-type {\n",
       "        vertical-align: middle;\n",
       "    }\n",
       "\n",
       "    .dataframe tbody tr th {\n",
       "        vertical-align: top;\n",
       "    }\n",
       "\n",
       "    .dataframe thead th {\n",
       "        text-align: right;\n",
       "    }\n",
       "</style>\n",
       "<table border=\"1\" class=\"dataframe\">\n",
       "  <thead>\n",
       "    <tr style=\"text-align: right;\">\n",
       "      <th></th>\n",
       "      <th>total_images</th>\n",
       "      <th>last_price</th>\n",
       "      <th>total_area</th>\n",
       "      <th>first_day_exposition</th>\n",
       "      <th>rooms</th>\n",
       "      <th>ceiling_height</th>\n",
       "      <th>floors_total</th>\n",
       "      <th>living_area</th>\n",
       "      <th>floor</th>\n",
       "      <th>is_apartment</th>\n",
       "      <th>...</th>\n",
       "      <th>locality_name</th>\n",
       "      <th>airports_nearest</th>\n",
       "      <th>cityCenters_nearest</th>\n",
       "      <th>parks_around3000</th>\n",
       "      <th>parks_nearest</th>\n",
       "      <th>ponds_around3000</th>\n",
       "      <th>ponds_nearest</th>\n",
       "      <th>days_exposition</th>\n",
       "      <th>price_for_metres</th>\n",
       "      <th>weekday_publication</th>\n",
       "    </tr>\n",
       "  </thead>\n",
       "  <tbody>\n",
       "    <tr>\n",
       "      <td>0</td>\n",
       "      <td>20</td>\n",
       "      <td>13000000</td>\n",
       "      <td>108</td>\n",
       "      <td>2019-03-07</td>\n",
       "      <td>3</td>\n",
       "      <td>2.7</td>\n",
       "      <td>16</td>\n",
       "      <td>51</td>\n",
       "      <td>8</td>\n",
       "      <td>0</td>\n",
       "      <td>...</td>\n",
       "      <td>Санкт-Петербург</td>\n",
       "      <td>18863.0</td>\n",
       "      <td>16028.0</td>\n",
       "      <td>1</td>\n",
       "      <td>482.0</td>\n",
       "      <td>2</td>\n",
       "      <td>755.0</td>\n",
       "      <td>NaN</td>\n",
       "      <td>120370</td>\n",
       "      <td>3</td>\n",
       "    </tr>\n",
       "    <tr>\n",
       "      <td>1</td>\n",
       "      <td>7</td>\n",
       "      <td>3350000</td>\n",
       "      <td>40</td>\n",
       "      <td>2018-12-04</td>\n",
       "      <td>1</td>\n",
       "      <td>2.6</td>\n",
       "      <td>11</td>\n",
       "      <td>18</td>\n",
       "      <td>1</td>\n",
       "      <td>0</td>\n",
       "      <td>...</td>\n",
       "      <td>посёлок Шушары</td>\n",
       "      <td>12817.0</td>\n",
       "      <td>18603.0</td>\n",
       "      <td>0</td>\n",
       "      <td>NaN</td>\n",
       "      <td>0</td>\n",
       "      <td>NaN</td>\n",
       "      <td>81.0</td>\n",
       "      <td>83750</td>\n",
       "      <td>1</td>\n",
       "    </tr>\n",
       "    <tr>\n",
       "      <td>2</td>\n",
       "      <td>10</td>\n",
       "      <td>5196000</td>\n",
       "      <td>56</td>\n",
       "      <td>2015-08-20</td>\n",
       "      <td>2</td>\n",
       "      <td>2.7</td>\n",
       "      <td>5</td>\n",
       "      <td>34</td>\n",
       "      <td>4</td>\n",
       "      <td>0</td>\n",
       "      <td>...</td>\n",
       "      <td>Санкт-Петербург</td>\n",
       "      <td>21741.0</td>\n",
       "      <td>13933.0</td>\n",
       "      <td>1</td>\n",
       "      <td>90.0</td>\n",
       "      <td>2</td>\n",
       "      <td>574.0</td>\n",
       "      <td>558.0</td>\n",
       "      <td>92785</td>\n",
       "      <td>3</td>\n",
       "    </tr>\n",
       "    <tr>\n",
       "      <td>3</td>\n",
       "      <td>0</td>\n",
       "      <td>64900000</td>\n",
       "      <td>159</td>\n",
       "      <td>2015-07-24</td>\n",
       "      <td>3</td>\n",
       "      <td>2.7</td>\n",
       "      <td>14</td>\n",
       "      <td>45</td>\n",
       "      <td>9</td>\n",
       "      <td>0</td>\n",
       "      <td>...</td>\n",
       "      <td>Санкт-Петербург</td>\n",
       "      <td>28098.0</td>\n",
       "      <td>6800.0</td>\n",
       "      <td>2</td>\n",
       "      <td>84.0</td>\n",
       "      <td>3</td>\n",
       "      <td>234.0</td>\n",
       "      <td>424.0</td>\n",
       "      <td>408176</td>\n",
       "      <td>4</td>\n",
       "    </tr>\n",
       "    <tr>\n",
       "      <td>4</td>\n",
       "      <td>2</td>\n",
       "      <td>10000000</td>\n",
       "      <td>100</td>\n",
       "      <td>2018-06-19</td>\n",
       "      <td>2</td>\n",
       "      <td>3.0</td>\n",
       "      <td>14</td>\n",
       "      <td>32</td>\n",
       "      <td>13</td>\n",
       "      <td>0</td>\n",
       "      <td>...</td>\n",
       "      <td>Санкт-Петербург</td>\n",
       "      <td>31856.0</td>\n",
       "      <td>8098.0</td>\n",
       "      <td>2</td>\n",
       "      <td>112.0</td>\n",
       "      <td>1</td>\n",
       "      <td>48.0</td>\n",
       "      <td>121.0</td>\n",
       "      <td>100000</td>\n",
       "      <td>1</td>\n",
       "    </tr>\n",
       "    <tr>\n",
       "      <td>...</td>\n",
       "      <td>...</td>\n",
       "      <td>...</td>\n",
       "      <td>...</td>\n",
       "      <td>...</td>\n",
       "      <td>...</td>\n",
       "      <td>...</td>\n",
       "      <td>...</td>\n",
       "      <td>...</td>\n",
       "      <td>...</td>\n",
       "      <td>...</td>\n",
       "      <td>...</td>\n",
       "      <td>...</td>\n",
       "      <td>...</td>\n",
       "      <td>...</td>\n",
       "      <td>...</td>\n",
       "      <td>...</td>\n",
       "      <td>...</td>\n",
       "      <td>...</td>\n",
       "      <td>...</td>\n",
       "      <td>...</td>\n",
       "      <td>...</td>\n",
       "    </tr>\n",
       "    <tr>\n",
       "      <td>23211</td>\n",
       "      <td>9</td>\n",
       "      <td>4600000</td>\n",
       "      <td>62</td>\n",
       "      <td>2016-08-05</td>\n",
       "      <td>3</td>\n",
       "      <td>2.6</td>\n",
       "      <td>9</td>\n",
       "      <td>40</td>\n",
       "      <td>8</td>\n",
       "      <td>0</td>\n",
       "      <td>...</td>\n",
       "      <td>Петергоф</td>\n",
       "      <td>45602.0</td>\n",
       "      <td>34104.0</td>\n",
       "      <td>1</td>\n",
       "      <td>352.0</td>\n",
       "      <td>1</td>\n",
       "      <td>675.0</td>\n",
       "      <td>239.0</td>\n",
       "      <td>74193</td>\n",
       "      <td>4</td>\n",
       "    </tr>\n",
       "    <tr>\n",
       "      <td>23212</td>\n",
       "      <td>9</td>\n",
       "      <td>9700000</td>\n",
       "      <td>133</td>\n",
       "      <td>2017-03-21</td>\n",
       "      <td>3</td>\n",
       "      <td>3.7</td>\n",
       "      <td>5</td>\n",
       "      <td>73</td>\n",
       "      <td>3</td>\n",
       "      <td>0</td>\n",
       "      <td>...</td>\n",
       "      <td>Санкт-Петербург</td>\n",
       "      <td>24665.0</td>\n",
       "      <td>4232.0</td>\n",
       "      <td>1</td>\n",
       "      <td>796.0</td>\n",
       "      <td>3</td>\n",
       "      <td>381.0</td>\n",
       "      <td>NaN</td>\n",
       "      <td>72932</td>\n",
       "      <td>1</td>\n",
       "    </tr>\n",
       "    <tr>\n",
       "      <td>23213</td>\n",
       "      <td>14</td>\n",
       "      <td>3100000</td>\n",
       "      <td>59</td>\n",
       "      <td>2018-01-15</td>\n",
       "      <td>3</td>\n",
       "      <td>2.5</td>\n",
       "      <td>5</td>\n",
       "      <td>38</td>\n",
       "      <td>4</td>\n",
       "      <td>0</td>\n",
       "      <td>...</td>\n",
       "      <td>Тосно</td>\n",
       "      <td>NaN</td>\n",
       "      <td>NaN</td>\n",
       "      <td>0</td>\n",
       "      <td>NaN</td>\n",
       "      <td>0</td>\n",
       "      <td>NaN</td>\n",
       "      <td>45.0</td>\n",
       "      <td>52542</td>\n",
       "      <td>0</td>\n",
       "    </tr>\n",
       "    <tr>\n",
       "      <td>23214</td>\n",
       "      <td>13</td>\n",
       "      <td>11475000</td>\n",
       "      <td>76</td>\n",
       "      <td>2017-03-28</td>\n",
       "      <td>2</td>\n",
       "      <td>3.0</td>\n",
       "      <td>17</td>\n",
       "      <td>31</td>\n",
       "      <td>12</td>\n",
       "      <td>0</td>\n",
       "      <td>...</td>\n",
       "      <td>Санкт-Петербург</td>\n",
       "      <td>39140.0</td>\n",
       "      <td>10364.0</td>\n",
       "      <td>2</td>\n",
       "      <td>173.0</td>\n",
       "      <td>3</td>\n",
       "      <td>196.0</td>\n",
       "      <td>602.0</td>\n",
       "      <td>150986</td>\n",
       "      <td>1</td>\n",
       "    </tr>\n",
       "    <tr>\n",
       "      <td>23215</td>\n",
       "      <td>4</td>\n",
       "      <td>1350000</td>\n",
       "      <td>32</td>\n",
       "      <td>2017-07-21</td>\n",
       "      <td>1</td>\n",
       "      <td>2.5</td>\n",
       "      <td>5</td>\n",
       "      <td>12</td>\n",
       "      <td>1</td>\n",
       "      <td>0</td>\n",
       "      <td>...</td>\n",
       "      <td>поселок Новый Учхоз</td>\n",
       "      <td>NaN</td>\n",
       "      <td>NaN</td>\n",
       "      <td>0</td>\n",
       "      <td>NaN</td>\n",
       "      <td>0</td>\n",
       "      <td>NaN</td>\n",
       "      <td>NaN</td>\n",
       "      <td>42187</td>\n",
       "      <td>4</td>\n",
       "    </tr>\n",
       "  </tbody>\n",
       "</table>\n",
       "<p>23216 rows × 24 columns</p>\n",
       "</div>"
      ],
      "text/plain": [
       "       total_images  last_price  total_area first_day_exposition  rooms  \\\n",
       "0                20    13000000         108           2019-03-07      3   \n",
       "1                 7     3350000          40           2018-12-04      1   \n",
       "2                10     5196000          56           2015-08-20      2   \n",
       "3                 0    64900000         159           2015-07-24      3   \n",
       "4                 2    10000000         100           2018-06-19      2   \n",
       "...             ...         ...         ...                  ...    ...   \n",
       "23211             9     4600000          62           2016-08-05      3   \n",
       "23212             9     9700000         133           2017-03-21      3   \n",
       "23213            14     3100000          59           2018-01-15      3   \n",
       "23214            13    11475000          76           2017-03-28      2   \n",
       "23215             4     1350000          32           2017-07-21      1   \n",
       "\n",
       "       ceiling_height  floors_total  living_area  floor is_apartment  ...  \\\n",
       "0                 2.7            16           51      8            0  ...   \n",
       "1                 2.6            11           18      1            0  ...   \n",
       "2                 2.7             5           34      4            0  ...   \n",
       "3                 2.7            14           45      9            0  ...   \n",
       "4                 3.0            14           32     13            0  ...   \n",
       "...               ...           ...          ...    ...          ...  ...   \n",
       "23211             2.6             9           40      8            0  ...   \n",
       "23212             3.7             5           73      3            0  ...   \n",
       "23213             2.5             5           38      4            0  ...   \n",
       "23214             3.0            17           31     12            0  ...   \n",
       "23215             2.5             5           12      1            0  ...   \n",
       "\n",
       "             locality_name  airports_nearest  cityCenters_nearest  \\\n",
       "0          Санкт-Петербург           18863.0              16028.0   \n",
       "1           посёлок Шушары           12817.0              18603.0   \n",
       "2          Санкт-Петербург           21741.0              13933.0   \n",
       "3          Санкт-Петербург           28098.0               6800.0   \n",
       "4          Санкт-Петербург           31856.0               8098.0   \n",
       "...                    ...               ...                  ...   \n",
       "23211             Петергоф           45602.0              34104.0   \n",
       "23212      Санкт-Петербург           24665.0               4232.0   \n",
       "23213                Тосно               NaN                  NaN   \n",
       "23214      Санкт-Петербург           39140.0              10364.0   \n",
       "23215  поселок Новый Учхоз               NaN                  NaN   \n",
       "\n",
       "       parks_around3000 parks_nearest  ponds_around3000  ponds_nearest  \\\n",
       "0                     1         482.0                 2          755.0   \n",
       "1                     0           NaN                 0            NaN   \n",
       "2                     1          90.0                 2          574.0   \n",
       "3                     2          84.0                 3          234.0   \n",
       "4                     2         112.0                 1           48.0   \n",
       "...                 ...           ...               ...            ...   \n",
       "23211                 1         352.0                 1          675.0   \n",
       "23212                 1         796.0                 3          381.0   \n",
       "23213                 0           NaN                 0            NaN   \n",
       "23214                 2         173.0                 3          196.0   \n",
       "23215                 0           NaN                 0            NaN   \n",
       "\n",
       "       days_exposition  price_for_metres  weekday_publication  \n",
       "0                  NaN            120370                    3  \n",
       "1                 81.0             83750                    1  \n",
       "2                558.0             92785                    3  \n",
       "3                424.0            408176                    4  \n",
       "4                121.0            100000                    1  \n",
       "...                ...               ...                  ...  \n",
       "23211            239.0             74193                    4  \n",
       "23212              NaN             72932                    1  \n",
       "23213             45.0             52542                    0  \n",
       "23214            602.0            150986                    1  \n",
       "23215              NaN             42187                    4  \n",
       "\n",
       "[23216 rows x 24 columns]"
      ]
     },
     "execution_count": 28,
     "metadata": {},
     "output_type": "execute_result"
    }
   ],
   "source": [
    "df['weekday_publication'] = df['first_day_exposition'].dt.weekday\n",
    "df"
   ]
  },
  {
   "cell_type": "code",
   "execution_count": 29,
   "metadata": {},
   "outputs": [],
   "source": [
    "def weekday_name(value):\n",
    "    sheet = ['понедельник', 'вторник', 'среда', 'четверг', 'пятница', 'суббота', 'воскресенье']\n",
    "    return sheet[value]"
   ]
  },
  {
   "cell_type": "code",
   "execution_count": 30,
   "metadata": {},
   "outputs": [
    {
     "data": {
      "text/html": [
       "<div>\n",
       "<style scoped>\n",
       "    .dataframe tbody tr th:only-of-type {\n",
       "        vertical-align: middle;\n",
       "    }\n",
       "\n",
       "    .dataframe tbody tr th {\n",
       "        vertical-align: top;\n",
       "    }\n",
       "\n",
       "    .dataframe thead th {\n",
       "        text-align: right;\n",
       "    }\n",
       "</style>\n",
       "<table border=\"1\" class=\"dataframe\">\n",
       "  <thead>\n",
       "    <tr style=\"text-align: right;\">\n",
       "      <th></th>\n",
       "      <th>total_images</th>\n",
       "      <th>last_price</th>\n",
       "      <th>total_area</th>\n",
       "      <th>first_day_exposition</th>\n",
       "      <th>rooms</th>\n",
       "      <th>ceiling_height</th>\n",
       "      <th>floors_total</th>\n",
       "      <th>living_area</th>\n",
       "      <th>floor</th>\n",
       "      <th>is_apartment</th>\n",
       "      <th>...</th>\n",
       "      <th>airports_nearest</th>\n",
       "      <th>cityCenters_nearest</th>\n",
       "      <th>parks_around3000</th>\n",
       "      <th>parks_nearest</th>\n",
       "      <th>ponds_around3000</th>\n",
       "      <th>ponds_nearest</th>\n",
       "      <th>days_exposition</th>\n",
       "      <th>price_for_metres</th>\n",
       "      <th>weekday_publication</th>\n",
       "      <th>weekday_name</th>\n",
       "    </tr>\n",
       "  </thead>\n",
       "  <tbody>\n",
       "    <tr>\n",
       "      <td>0</td>\n",
       "      <td>20</td>\n",
       "      <td>13000000</td>\n",
       "      <td>108</td>\n",
       "      <td>2019-03-07</td>\n",
       "      <td>3</td>\n",
       "      <td>2.7</td>\n",
       "      <td>16</td>\n",
       "      <td>51</td>\n",
       "      <td>8</td>\n",
       "      <td>0</td>\n",
       "      <td>...</td>\n",
       "      <td>18863.0</td>\n",
       "      <td>16028.0</td>\n",
       "      <td>1</td>\n",
       "      <td>482.0</td>\n",
       "      <td>2</td>\n",
       "      <td>755.0</td>\n",
       "      <td>NaN</td>\n",
       "      <td>120370</td>\n",
       "      <td>3</td>\n",
       "      <td>четверг</td>\n",
       "    </tr>\n",
       "    <tr>\n",
       "      <td>1</td>\n",
       "      <td>7</td>\n",
       "      <td>3350000</td>\n",
       "      <td>40</td>\n",
       "      <td>2018-12-04</td>\n",
       "      <td>1</td>\n",
       "      <td>2.6</td>\n",
       "      <td>11</td>\n",
       "      <td>18</td>\n",
       "      <td>1</td>\n",
       "      <td>0</td>\n",
       "      <td>...</td>\n",
       "      <td>12817.0</td>\n",
       "      <td>18603.0</td>\n",
       "      <td>0</td>\n",
       "      <td>NaN</td>\n",
       "      <td>0</td>\n",
       "      <td>NaN</td>\n",
       "      <td>81.0</td>\n",
       "      <td>83750</td>\n",
       "      <td>1</td>\n",
       "      <td>вторник</td>\n",
       "    </tr>\n",
       "    <tr>\n",
       "      <td>2</td>\n",
       "      <td>10</td>\n",
       "      <td>5196000</td>\n",
       "      <td>56</td>\n",
       "      <td>2015-08-20</td>\n",
       "      <td>2</td>\n",
       "      <td>2.7</td>\n",
       "      <td>5</td>\n",
       "      <td>34</td>\n",
       "      <td>4</td>\n",
       "      <td>0</td>\n",
       "      <td>...</td>\n",
       "      <td>21741.0</td>\n",
       "      <td>13933.0</td>\n",
       "      <td>1</td>\n",
       "      <td>90.0</td>\n",
       "      <td>2</td>\n",
       "      <td>574.0</td>\n",
       "      <td>558.0</td>\n",
       "      <td>92785</td>\n",
       "      <td>3</td>\n",
       "      <td>четверг</td>\n",
       "    </tr>\n",
       "    <tr>\n",
       "      <td>3</td>\n",
       "      <td>0</td>\n",
       "      <td>64900000</td>\n",
       "      <td>159</td>\n",
       "      <td>2015-07-24</td>\n",
       "      <td>3</td>\n",
       "      <td>2.7</td>\n",
       "      <td>14</td>\n",
       "      <td>45</td>\n",
       "      <td>9</td>\n",
       "      <td>0</td>\n",
       "      <td>...</td>\n",
       "      <td>28098.0</td>\n",
       "      <td>6800.0</td>\n",
       "      <td>2</td>\n",
       "      <td>84.0</td>\n",
       "      <td>3</td>\n",
       "      <td>234.0</td>\n",
       "      <td>424.0</td>\n",
       "      <td>408176</td>\n",
       "      <td>4</td>\n",
       "      <td>пятница</td>\n",
       "    </tr>\n",
       "    <tr>\n",
       "      <td>4</td>\n",
       "      <td>2</td>\n",
       "      <td>10000000</td>\n",
       "      <td>100</td>\n",
       "      <td>2018-06-19</td>\n",
       "      <td>2</td>\n",
       "      <td>3.0</td>\n",
       "      <td>14</td>\n",
       "      <td>32</td>\n",
       "      <td>13</td>\n",
       "      <td>0</td>\n",
       "      <td>...</td>\n",
       "      <td>31856.0</td>\n",
       "      <td>8098.0</td>\n",
       "      <td>2</td>\n",
       "      <td>112.0</td>\n",
       "      <td>1</td>\n",
       "      <td>48.0</td>\n",
       "      <td>121.0</td>\n",
       "      <td>100000</td>\n",
       "      <td>1</td>\n",
       "      <td>вторник</td>\n",
       "    </tr>\n",
       "    <tr>\n",
       "      <td>...</td>\n",
       "      <td>...</td>\n",
       "      <td>...</td>\n",
       "      <td>...</td>\n",
       "      <td>...</td>\n",
       "      <td>...</td>\n",
       "      <td>...</td>\n",
       "      <td>...</td>\n",
       "      <td>...</td>\n",
       "      <td>...</td>\n",
       "      <td>...</td>\n",
       "      <td>...</td>\n",
       "      <td>...</td>\n",
       "      <td>...</td>\n",
       "      <td>...</td>\n",
       "      <td>...</td>\n",
       "      <td>...</td>\n",
       "      <td>...</td>\n",
       "      <td>...</td>\n",
       "      <td>...</td>\n",
       "      <td>...</td>\n",
       "      <td>...</td>\n",
       "    </tr>\n",
       "    <tr>\n",
       "      <td>23211</td>\n",
       "      <td>9</td>\n",
       "      <td>4600000</td>\n",
       "      <td>62</td>\n",
       "      <td>2016-08-05</td>\n",
       "      <td>3</td>\n",
       "      <td>2.6</td>\n",
       "      <td>9</td>\n",
       "      <td>40</td>\n",
       "      <td>8</td>\n",
       "      <td>0</td>\n",
       "      <td>...</td>\n",
       "      <td>45602.0</td>\n",
       "      <td>34104.0</td>\n",
       "      <td>1</td>\n",
       "      <td>352.0</td>\n",
       "      <td>1</td>\n",
       "      <td>675.0</td>\n",
       "      <td>239.0</td>\n",
       "      <td>74193</td>\n",
       "      <td>4</td>\n",
       "      <td>пятница</td>\n",
       "    </tr>\n",
       "    <tr>\n",
       "      <td>23212</td>\n",
       "      <td>9</td>\n",
       "      <td>9700000</td>\n",
       "      <td>133</td>\n",
       "      <td>2017-03-21</td>\n",
       "      <td>3</td>\n",
       "      <td>3.7</td>\n",
       "      <td>5</td>\n",
       "      <td>73</td>\n",
       "      <td>3</td>\n",
       "      <td>0</td>\n",
       "      <td>...</td>\n",
       "      <td>24665.0</td>\n",
       "      <td>4232.0</td>\n",
       "      <td>1</td>\n",
       "      <td>796.0</td>\n",
       "      <td>3</td>\n",
       "      <td>381.0</td>\n",
       "      <td>NaN</td>\n",
       "      <td>72932</td>\n",
       "      <td>1</td>\n",
       "      <td>вторник</td>\n",
       "    </tr>\n",
       "    <tr>\n",
       "      <td>23213</td>\n",
       "      <td>14</td>\n",
       "      <td>3100000</td>\n",
       "      <td>59</td>\n",
       "      <td>2018-01-15</td>\n",
       "      <td>3</td>\n",
       "      <td>2.5</td>\n",
       "      <td>5</td>\n",
       "      <td>38</td>\n",
       "      <td>4</td>\n",
       "      <td>0</td>\n",
       "      <td>...</td>\n",
       "      <td>NaN</td>\n",
       "      <td>NaN</td>\n",
       "      <td>0</td>\n",
       "      <td>NaN</td>\n",
       "      <td>0</td>\n",
       "      <td>NaN</td>\n",
       "      <td>45.0</td>\n",
       "      <td>52542</td>\n",
       "      <td>0</td>\n",
       "      <td>понедельник</td>\n",
       "    </tr>\n",
       "    <tr>\n",
       "      <td>23214</td>\n",
       "      <td>13</td>\n",
       "      <td>11475000</td>\n",
       "      <td>76</td>\n",
       "      <td>2017-03-28</td>\n",
       "      <td>2</td>\n",
       "      <td>3.0</td>\n",
       "      <td>17</td>\n",
       "      <td>31</td>\n",
       "      <td>12</td>\n",
       "      <td>0</td>\n",
       "      <td>...</td>\n",
       "      <td>39140.0</td>\n",
       "      <td>10364.0</td>\n",
       "      <td>2</td>\n",
       "      <td>173.0</td>\n",
       "      <td>3</td>\n",
       "      <td>196.0</td>\n",
       "      <td>602.0</td>\n",
       "      <td>150986</td>\n",
       "      <td>1</td>\n",
       "      <td>вторник</td>\n",
       "    </tr>\n",
       "    <tr>\n",
       "      <td>23215</td>\n",
       "      <td>4</td>\n",
       "      <td>1350000</td>\n",
       "      <td>32</td>\n",
       "      <td>2017-07-21</td>\n",
       "      <td>1</td>\n",
       "      <td>2.5</td>\n",
       "      <td>5</td>\n",
       "      <td>12</td>\n",
       "      <td>1</td>\n",
       "      <td>0</td>\n",
       "      <td>...</td>\n",
       "      <td>NaN</td>\n",
       "      <td>NaN</td>\n",
       "      <td>0</td>\n",
       "      <td>NaN</td>\n",
       "      <td>0</td>\n",
       "      <td>NaN</td>\n",
       "      <td>NaN</td>\n",
       "      <td>42187</td>\n",
       "      <td>4</td>\n",
       "      <td>пятница</td>\n",
       "    </tr>\n",
       "  </tbody>\n",
       "</table>\n",
       "<p>23216 rows × 25 columns</p>\n",
       "</div>"
      ],
      "text/plain": [
       "       total_images  last_price  total_area first_day_exposition  rooms  \\\n",
       "0                20    13000000         108           2019-03-07      3   \n",
       "1                 7     3350000          40           2018-12-04      1   \n",
       "2                10     5196000          56           2015-08-20      2   \n",
       "3                 0    64900000         159           2015-07-24      3   \n",
       "4                 2    10000000         100           2018-06-19      2   \n",
       "...             ...         ...         ...                  ...    ...   \n",
       "23211             9     4600000          62           2016-08-05      3   \n",
       "23212             9     9700000         133           2017-03-21      3   \n",
       "23213            14     3100000          59           2018-01-15      3   \n",
       "23214            13    11475000          76           2017-03-28      2   \n",
       "23215             4     1350000          32           2017-07-21      1   \n",
       "\n",
       "       ceiling_height  floors_total  living_area  floor is_apartment  ...  \\\n",
       "0                 2.7            16           51      8            0  ...   \n",
       "1                 2.6            11           18      1            0  ...   \n",
       "2                 2.7             5           34      4            0  ...   \n",
       "3                 2.7            14           45      9            0  ...   \n",
       "4                 3.0            14           32     13            0  ...   \n",
       "...               ...           ...          ...    ...          ...  ...   \n",
       "23211             2.6             9           40      8            0  ...   \n",
       "23212             3.7             5           73      3            0  ...   \n",
       "23213             2.5             5           38      4            0  ...   \n",
       "23214             3.0            17           31     12            0  ...   \n",
       "23215             2.5             5           12      1            0  ...   \n",
       "\n",
       "       airports_nearest  cityCenters_nearest  parks_around3000  parks_nearest  \\\n",
       "0               18863.0              16028.0                 1          482.0   \n",
       "1               12817.0              18603.0                 0            NaN   \n",
       "2               21741.0              13933.0                 1           90.0   \n",
       "3               28098.0               6800.0                 2           84.0   \n",
       "4               31856.0               8098.0                 2          112.0   \n",
       "...                 ...                  ...               ...            ...   \n",
       "23211           45602.0              34104.0                 1          352.0   \n",
       "23212           24665.0               4232.0                 1          796.0   \n",
       "23213               NaN                  NaN                 0            NaN   \n",
       "23214           39140.0              10364.0                 2          173.0   \n",
       "23215               NaN                  NaN                 0            NaN   \n",
       "\n",
       "      ponds_around3000  ponds_nearest  days_exposition  price_for_metres  \\\n",
       "0                    2          755.0              NaN            120370   \n",
       "1                    0            NaN             81.0             83750   \n",
       "2                    2          574.0            558.0             92785   \n",
       "3                    3          234.0            424.0            408176   \n",
       "4                    1           48.0            121.0            100000   \n",
       "...                ...            ...              ...               ...   \n",
       "23211                1          675.0            239.0             74193   \n",
       "23212                3          381.0              NaN             72932   \n",
       "23213                0            NaN             45.0             52542   \n",
       "23214                3          196.0            602.0            150986   \n",
       "23215                0            NaN              NaN             42187   \n",
       "\n",
       "       weekday_publication  weekday_name  \n",
       "0                        3       четверг  \n",
       "1                        1       вторник  \n",
       "2                        3       четверг  \n",
       "3                        4       пятница  \n",
       "4                        1       вторник  \n",
       "...                    ...           ...  \n",
       "23211                    4       пятница  \n",
       "23212                    1       вторник  \n",
       "23213                    0   понедельник  \n",
       "23214                    1       вторник  \n",
       "23215                    4       пятница  \n",
       "\n",
       "[23216 rows x 25 columns]"
      ]
     },
     "execution_count": 30,
     "metadata": {},
     "output_type": "execute_result"
    }
   ],
   "source": [
    "df['weekday_name'] = df['weekday_publication'].apply(weekday_name)\n",
    "df"
   ]
  },
  {
   "cell_type": "code",
   "execution_count": 31,
   "metadata": {},
   "outputs": [
    {
     "data": {
      "text/html": [
       "<div>\n",
       "<style scoped>\n",
       "    .dataframe tbody tr th:only-of-type {\n",
       "        vertical-align: middle;\n",
       "    }\n",
       "\n",
       "    .dataframe tbody tr th {\n",
       "        vertical-align: top;\n",
       "    }\n",
       "\n",
       "    .dataframe thead th {\n",
       "        text-align: right;\n",
       "    }\n",
       "</style>\n",
       "<table border=\"1\" class=\"dataframe\">\n",
       "  <thead>\n",
       "    <tr style=\"text-align: right;\">\n",
       "      <th></th>\n",
       "      <th>weekday_publication</th>\n",
       "      <th>weekday_name</th>\n",
       "    </tr>\n",
       "  </thead>\n",
       "  <tbody>\n",
       "    <tr>\n",
       "      <td>0</td>\n",
       "      <td>0</td>\n",
       "      <td>понедельник</td>\n",
       "    </tr>\n",
       "    <tr>\n",
       "      <td>1</td>\n",
       "      <td>1</td>\n",
       "      <td>вторник</td>\n",
       "    </tr>\n",
       "    <tr>\n",
       "      <td>2</td>\n",
       "      <td>2</td>\n",
       "      <td>среда</td>\n",
       "    </tr>\n",
       "    <tr>\n",
       "      <td>3</td>\n",
       "      <td>3</td>\n",
       "      <td>четверг</td>\n",
       "    </tr>\n",
       "    <tr>\n",
       "      <td>4</td>\n",
       "      <td>4</td>\n",
       "      <td>пятница</td>\n",
       "    </tr>\n",
       "    <tr>\n",
       "      <td>5</td>\n",
       "      <td>5</td>\n",
       "      <td>суббота</td>\n",
       "    </tr>\n",
       "    <tr>\n",
       "      <td>6</td>\n",
       "      <td>6</td>\n",
       "      <td>воскресенье</td>\n",
       "    </tr>\n",
       "  </tbody>\n",
       "</table>\n",
       "</div>"
      ],
      "text/plain": [
       "   weekday_publication weekday_name\n",
       "0                    0  понедельник\n",
       "1                    1      вторник\n",
       "2                    2        среда\n",
       "3                    3      четверг\n",
       "4                    4      пятница\n",
       "5                    5      суббота\n",
       "6                    6  воскресенье"
      ]
     },
     "execution_count": 31,
     "metadata": {},
     "output_type": "execute_result"
    }
   ],
   "source": [
    "week_dict = df.loc[:, ['weekday_publication','weekday_name']].drop_duplicates().sort_values(\n",
    "    by='weekday_publication'\n",
    ").reset_index(drop=True)\n",
    "week_dict"
   ]
  },
  {
   "cell_type": "code",
   "execution_count": 32,
   "metadata": {},
   "outputs": [],
   "source": [
    "#Удаление столбца с названиями дней недели\n",
    "del df['weekday_name']"
   ]
  },
  {
   "cell_type": "markdown",
   "metadata": {},
   "source": [
    "Составление столбца с информацией о месяце размещения объявления о продаже, также составление таблицы словаря"
   ]
  },
  {
   "cell_type": "code",
   "execution_count": 33,
   "metadata": {},
   "outputs": [
    {
     "data": {
      "text/html": [
       "<div>\n",
       "<style scoped>\n",
       "    .dataframe tbody tr th:only-of-type {\n",
       "        vertical-align: middle;\n",
       "    }\n",
       "\n",
       "    .dataframe tbody tr th {\n",
       "        vertical-align: top;\n",
       "    }\n",
       "\n",
       "    .dataframe thead th {\n",
       "        text-align: right;\n",
       "    }\n",
       "</style>\n",
       "<table border=\"1\" class=\"dataframe\">\n",
       "  <thead>\n",
       "    <tr style=\"text-align: right;\">\n",
       "      <th></th>\n",
       "      <th>total_images</th>\n",
       "      <th>last_price</th>\n",
       "      <th>total_area</th>\n",
       "      <th>first_day_exposition</th>\n",
       "      <th>rooms</th>\n",
       "      <th>ceiling_height</th>\n",
       "      <th>floors_total</th>\n",
       "      <th>living_area</th>\n",
       "      <th>floor</th>\n",
       "      <th>is_apartment</th>\n",
       "      <th>...</th>\n",
       "      <th>airports_nearest</th>\n",
       "      <th>cityCenters_nearest</th>\n",
       "      <th>parks_around3000</th>\n",
       "      <th>parks_nearest</th>\n",
       "      <th>ponds_around3000</th>\n",
       "      <th>ponds_nearest</th>\n",
       "      <th>days_exposition</th>\n",
       "      <th>price_for_metres</th>\n",
       "      <th>weekday_publication</th>\n",
       "      <th>month_publication</th>\n",
       "    </tr>\n",
       "  </thead>\n",
       "  <tbody>\n",
       "    <tr>\n",
       "      <td>0</td>\n",
       "      <td>20</td>\n",
       "      <td>13000000</td>\n",
       "      <td>108</td>\n",
       "      <td>2019-03-07</td>\n",
       "      <td>3</td>\n",
       "      <td>2.7</td>\n",
       "      <td>16</td>\n",
       "      <td>51</td>\n",
       "      <td>8</td>\n",
       "      <td>0</td>\n",
       "      <td>...</td>\n",
       "      <td>18863.0</td>\n",
       "      <td>16028.0</td>\n",
       "      <td>1</td>\n",
       "      <td>482.0</td>\n",
       "      <td>2</td>\n",
       "      <td>755.0</td>\n",
       "      <td>NaN</td>\n",
       "      <td>120370</td>\n",
       "      <td>3</td>\n",
       "      <td>3</td>\n",
       "    </tr>\n",
       "    <tr>\n",
       "      <td>1</td>\n",
       "      <td>7</td>\n",
       "      <td>3350000</td>\n",
       "      <td>40</td>\n",
       "      <td>2018-12-04</td>\n",
       "      <td>1</td>\n",
       "      <td>2.6</td>\n",
       "      <td>11</td>\n",
       "      <td>18</td>\n",
       "      <td>1</td>\n",
       "      <td>0</td>\n",
       "      <td>...</td>\n",
       "      <td>12817.0</td>\n",
       "      <td>18603.0</td>\n",
       "      <td>0</td>\n",
       "      <td>NaN</td>\n",
       "      <td>0</td>\n",
       "      <td>NaN</td>\n",
       "      <td>81.0</td>\n",
       "      <td>83750</td>\n",
       "      <td>1</td>\n",
       "      <td>12</td>\n",
       "    </tr>\n",
       "    <tr>\n",
       "      <td>2</td>\n",
       "      <td>10</td>\n",
       "      <td>5196000</td>\n",
       "      <td>56</td>\n",
       "      <td>2015-08-20</td>\n",
       "      <td>2</td>\n",
       "      <td>2.7</td>\n",
       "      <td>5</td>\n",
       "      <td>34</td>\n",
       "      <td>4</td>\n",
       "      <td>0</td>\n",
       "      <td>...</td>\n",
       "      <td>21741.0</td>\n",
       "      <td>13933.0</td>\n",
       "      <td>1</td>\n",
       "      <td>90.0</td>\n",
       "      <td>2</td>\n",
       "      <td>574.0</td>\n",
       "      <td>558.0</td>\n",
       "      <td>92785</td>\n",
       "      <td>3</td>\n",
       "      <td>8</td>\n",
       "    </tr>\n",
       "    <tr>\n",
       "      <td>3</td>\n",
       "      <td>0</td>\n",
       "      <td>64900000</td>\n",
       "      <td>159</td>\n",
       "      <td>2015-07-24</td>\n",
       "      <td>3</td>\n",
       "      <td>2.7</td>\n",
       "      <td>14</td>\n",
       "      <td>45</td>\n",
       "      <td>9</td>\n",
       "      <td>0</td>\n",
       "      <td>...</td>\n",
       "      <td>28098.0</td>\n",
       "      <td>6800.0</td>\n",
       "      <td>2</td>\n",
       "      <td>84.0</td>\n",
       "      <td>3</td>\n",
       "      <td>234.0</td>\n",
       "      <td>424.0</td>\n",
       "      <td>408176</td>\n",
       "      <td>4</td>\n",
       "      <td>7</td>\n",
       "    </tr>\n",
       "    <tr>\n",
       "      <td>4</td>\n",
       "      <td>2</td>\n",
       "      <td>10000000</td>\n",
       "      <td>100</td>\n",
       "      <td>2018-06-19</td>\n",
       "      <td>2</td>\n",
       "      <td>3.0</td>\n",
       "      <td>14</td>\n",
       "      <td>32</td>\n",
       "      <td>13</td>\n",
       "      <td>0</td>\n",
       "      <td>...</td>\n",
       "      <td>31856.0</td>\n",
       "      <td>8098.0</td>\n",
       "      <td>2</td>\n",
       "      <td>112.0</td>\n",
       "      <td>1</td>\n",
       "      <td>48.0</td>\n",
       "      <td>121.0</td>\n",
       "      <td>100000</td>\n",
       "      <td>1</td>\n",
       "      <td>6</td>\n",
       "    </tr>\n",
       "    <tr>\n",
       "      <td>...</td>\n",
       "      <td>...</td>\n",
       "      <td>...</td>\n",
       "      <td>...</td>\n",
       "      <td>...</td>\n",
       "      <td>...</td>\n",
       "      <td>...</td>\n",
       "      <td>...</td>\n",
       "      <td>...</td>\n",
       "      <td>...</td>\n",
       "      <td>...</td>\n",
       "      <td>...</td>\n",
       "      <td>...</td>\n",
       "      <td>...</td>\n",
       "      <td>...</td>\n",
       "      <td>...</td>\n",
       "      <td>...</td>\n",
       "      <td>...</td>\n",
       "      <td>...</td>\n",
       "      <td>...</td>\n",
       "      <td>...</td>\n",
       "      <td>...</td>\n",
       "    </tr>\n",
       "    <tr>\n",
       "      <td>23211</td>\n",
       "      <td>9</td>\n",
       "      <td>4600000</td>\n",
       "      <td>62</td>\n",
       "      <td>2016-08-05</td>\n",
       "      <td>3</td>\n",
       "      <td>2.6</td>\n",
       "      <td>9</td>\n",
       "      <td>40</td>\n",
       "      <td>8</td>\n",
       "      <td>0</td>\n",
       "      <td>...</td>\n",
       "      <td>45602.0</td>\n",
       "      <td>34104.0</td>\n",
       "      <td>1</td>\n",
       "      <td>352.0</td>\n",
       "      <td>1</td>\n",
       "      <td>675.0</td>\n",
       "      <td>239.0</td>\n",
       "      <td>74193</td>\n",
       "      <td>4</td>\n",
       "      <td>8</td>\n",
       "    </tr>\n",
       "    <tr>\n",
       "      <td>23212</td>\n",
       "      <td>9</td>\n",
       "      <td>9700000</td>\n",
       "      <td>133</td>\n",
       "      <td>2017-03-21</td>\n",
       "      <td>3</td>\n",
       "      <td>3.7</td>\n",
       "      <td>5</td>\n",
       "      <td>73</td>\n",
       "      <td>3</td>\n",
       "      <td>0</td>\n",
       "      <td>...</td>\n",
       "      <td>24665.0</td>\n",
       "      <td>4232.0</td>\n",
       "      <td>1</td>\n",
       "      <td>796.0</td>\n",
       "      <td>3</td>\n",
       "      <td>381.0</td>\n",
       "      <td>NaN</td>\n",
       "      <td>72932</td>\n",
       "      <td>1</td>\n",
       "      <td>3</td>\n",
       "    </tr>\n",
       "    <tr>\n",
       "      <td>23213</td>\n",
       "      <td>14</td>\n",
       "      <td>3100000</td>\n",
       "      <td>59</td>\n",
       "      <td>2018-01-15</td>\n",
       "      <td>3</td>\n",
       "      <td>2.5</td>\n",
       "      <td>5</td>\n",
       "      <td>38</td>\n",
       "      <td>4</td>\n",
       "      <td>0</td>\n",
       "      <td>...</td>\n",
       "      <td>NaN</td>\n",
       "      <td>NaN</td>\n",
       "      <td>0</td>\n",
       "      <td>NaN</td>\n",
       "      <td>0</td>\n",
       "      <td>NaN</td>\n",
       "      <td>45.0</td>\n",
       "      <td>52542</td>\n",
       "      <td>0</td>\n",
       "      <td>1</td>\n",
       "    </tr>\n",
       "    <tr>\n",
       "      <td>23214</td>\n",
       "      <td>13</td>\n",
       "      <td>11475000</td>\n",
       "      <td>76</td>\n",
       "      <td>2017-03-28</td>\n",
       "      <td>2</td>\n",
       "      <td>3.0</td>\n",
       "      <td>17</td>\n",
       "      <td>31</td>\n",
       "      <td>12</td>\n",
       "      <td>0</td>\n",
       "      <td>...</td>\n",
       "      <td>39140.0</td>\n",
       "      <td>10364.0</td>\n",
       "      <td>2</td>\n",
       "      <td>173.0</td>\n",
       "      <td>3</td>\n",
       "      <td>196.0</td>\n",
       "      <td>602.0</td>\n",
       "      <td>150986</td>\n",
       "      <td>1</td>\n",
       "      <td>3</td>\n",
       "    </tr>\n",
       "    <tr>\n",
       "      <td>23215</td>\n",
       "      <td>4</td>\n",
       "      <td>1350000</td>\n",
       "      <td>32</td>\n",
       "      <td>2017-07-21</td>\n",
       "      <td>1</td>\n",
       "      <td>2.5</td>\n",
       "      <td>5</td>\n",
       "      <td>12</td>\n",
       "      <td>1</td>\n",
       "      <td>0</td>\n",
       "      <td>...</td>\n",
       "      <td>NaN</td>\n",
       "      <td>NaN</td>\n",
       "      <td>0</td>\n",
       "      <td>NaN</td>\n",
       "      <td>0</td>\n",
       "      <td>NaN</td>\n",
       "      <td>NaN</td>\n",
       "      <td>42187</td>\n",
       "      <td>4</td>\n",
       "      <td>7</td>\n",
       "    </tr>\n",
       "  </tbody>\n",
       "</table>\n",
       "<p>23216 rows × 25 columns</p>\n",
       "</div>"
      ],
      "text/plain": [
       "       total_images  last_price  total_area first_day_exposition  rooms  \\\n",
       "0                20    13000000         108           2019-03-07      3   \n",
       "1                 7     3350000          40           2018-12-04      1   \n",
       "2                10     5196000          56           2015-08-20      2   \n",
       "3                 0    64900000         159           2015-07-24      3   \n",
       "4                 2    10000000         100           2018-06-19      2   \n",
       "...             ...         ...         ...                  ...    ...   \n",
       "23211             9     4600000          62           2016-08-05      3   \n",
       "23212             9     9700000         133           2017-03-21      3   \n",
       "23213            14     3100000          59           2018-01-15      3   \n",
       "23214            13    11475000          76           2017-03-28      2   \n",
       "23215             4     1350000          32           2017-07-21      1   \n",
       "\n",
       "       ceiling_height  floors_total  living_area  floor is_apartment  ...  \\\n",
       "0                 2.7            16           51      8            0  ...   \n",
       "1                 2.6            11           18      1            0  ...   \n",
       "2                 2.7             5           34      4            0  ...   \n",
       "3                 2.7            14           45      9            0  ...   \n",
       "4                 3.0            14           32     13            0  ...   \n",
       "...               ...           ...          ...    ...          ...  ...   \n",
       "23211             2.6             9           40      8            0  ...   \n",
       "23212             3.7             5           73      3            0  ...   \n",
       "23213             2.5             5           38      4            0  ...   \n",
       "23214             3.0            17           31     12            0  ...   \n",
       "23215             2.5             5           12      1            0  ...   \n",
       "\n",
       "       airports_nearest  cityCenters_nearest  parks_around3000  parks_nearest  \\\n",
       "0               18863.0              16028.0                 1          482.0   \n",
       "1               12817.0              18603.0                 0            NaN   \n",
       "2               21741.0              13933.0                 1           90.0   \n",
       "3               28098.0               6800.0                 2           84.0   \n",
       "4               31856.0               8098.0                 2          112.0   \n",
       "...                 ...                  ...               ...            ...   \n",
       "23211           45602.0              34104.0                 1          352.0   \n",
       "23212           24665.0               4232.0                 1          796.0   \n",
       "23213               NaN                  NaN                 0            NaN   \n",
       "23214           39140.0              10364.0                 2          173.0   \n",
       "23215               NaN                  NaN                 0            NaN   \n",
       "\n",
       "      ponds_around3000  ponds_nearest  days_exposition  price_for_metres  \\\n",
       "0                    2          755.0              NaN            120370   \n",
       "1                    0            NaN             81.0             83750   \n",
       "2                    2          574.0            558.0             92785   \n",
       "3                    3          234.0            424.0            408176   \n",
       "4                    1           48.0            121.0            100000   \n",
       "...                ...            ...              ...               ...   \n",
       "23211                1          675.0            239.0             74193   \n",
       "23212                3          381.0              NaN             72932   \n",
       "23213                0            NaN             45.0             52542   \n",
       "23214                3          196.0            602.0            150986   \n",
       "23215                0            NaN              NaN             42187   \n",
       "\n",
       "       weekday_publication  month_publication  \n",
       "0                        3                  3  \n",
       "1                        1                 12  \n",
       "2                        3                  8  \n",
       "3                        4                  7  \n",
       "4                        1                  6  \n",
       "...                    ...                ...  \n",
       "23211                    4                  8  \n",
       "23212                    1                  3  \n",
       "23213                    0                  1  \n",
       "23214                    1                  3  \n",
       "23215                    4                  7  \n",
       "\n",
       "[23216 rows x 25 columns]"
      ]
     },
     "execution_count": 33,
     "metadata": {},
     "output_type": "execute_result"
    }
   ],
   "source": [
    "df['month_publication'] = df['first_day_exposition'].dt.month\n",
    "df"
   ]
  },
  {
   "cell_type": "code",
   "execution_count": 34,
   "metadata": {},
   "outputs": [],
   "source": [
    "def month_name(value):\n",
    "    sheet = ['январь', 'февраль', 'март', 'апрель', 'май', 'июнь', 'июль', 'август', 'сентябрь', 'октябрь', 'ноябрь', 'декабрь']\n",
    "    return sheet[value - 1]"
   ]
  },
  {
   "cell_type": "code",
   "execution_count": 35,
   "metadata": {},
   "outputs": [],
   "source": [
    "df['month_name'] = df['month_publication'].apply(month_name)"
   ]
  },
  {
   "cell_type": "code",
   "execution_count": 36,
   "metadata": {},
   "outputs": [
    {
     "data": {
      "text/html": [
       "<div>\n",
       "<style scoped>\n",
       "    .dataframe tbody tr th:only-of-type {\n",
       "        vertical-align: middle;\n",
       "    }\n",
       "\n",
       "    .dataframe tbody tr th {\n",
       "        vertical-align: top;\n",
       "    }\n",
       "\n",
       "    .dataframe thead th {\n",
       "        text-align: right;\n",
       "    }\n",
       "</style>\n",
       "<table border=\"1\" class=\"dataframe\">\n",
       "  <thead>\n",
       "    <tr style=\"text-align: right;\">\n",
       "      <th></th>\n",
       "      <th>month_publication</th>\n",
       "      <th>month_name</th>\n",
       "    </tr>\n",
       "  </thead>\n",
       "  <tbody>\n",
       "    <tr>\n",
       "      <td>0</td>\n",
       "      <td>1</td>\n",
       "      <td>январь</td>\n",
       "    </tr>\n",
       "    <tr>\n",
       "      <td>1</td>\n",
       "      <td>2</td>\n",
       "      <td>февраль</td>\n",
       "    </tr>\n",
       "    <tr>\n",
       "      <td>2</td>\n",
       "      <td>3</td>\n",
       "      <td>март</td>\n",
       "    </tr>\n",
       "    <tr>\n",
       "      <td>3</td>\n",
       "      <td>4</td>\n",
       "      <td>апрель</td>\n",
       "    </tr>\n",
       "    <tr>\n",
       "      <td>4</td>\n",
       "      <td>5</td>\n",
       "      <td>май</td>\n",
       "    </tr>\n",
       "    <tr>\n",
       "      <td>5</td>\n",
       "      <td>6</td>\n",
       "      <td>июнь</td>\n",
       "    </tr>\n",
       "    <tr>\n",
       "      <td>6</td>\n",
       "      <td>7</td>\n",
       "      <td>июль</td>\n",
       "    </tr>\n",
       "    <tr>\n",
       "      <td>7</td>\n",
       "      <td>8</td>\n",
       "      <td>август</td>\n",
       "    </tr>\n",
       "    <tr>\n",
       "      <td>8</td>\n",
       "      <td>9</td>\n",
       "      <td>сентябрь</td>\n",
       "    </tr>\n",
       "    <tr>\n",
       "      <td>9</td>\n",
       "      <td>10</td>\n",
       "      <td>октябрь</td>\n",
       "    </tr>\n",
       "    <tr>\n",
       "      <td>10</td>\n",
       "      <td>11</td>\n",
       "      <td>ноябрь</td>\n",
       "    </tr>\n",
       "    <tr>\n",
       "      <td>11</td>\n",
       "      <td>12</td>\n",
       "      <td>декабрь</td>\n",
       "    </tr>\n",
       "  </tbody>\n",
       "</table>\n",
       "</div>"
      ],
      "text/plain": [
       "    month_publication month_name\n",
       "0                   1     январь\n",
       "1                   2    февраль\n",
       "2                   3       март\n",
       "3                   4     апрель\n",
       "4                   5        май\n",
       "5                   6       июнь\n",
       "6                   7       июль\n",
       "7                   8     август\n",
       "8                   9   сентябрь\n",
       "9                  10    октябрь\n",
       "10                 11     ноябрь\n",
       "11                 12    декабрь"
      ]
     },
     "execution_count": 36,
     "metadata": {},
     "output_type": "execute_result"
    }
   ],
   "source": [
    "month_dict = df.loc[:, ['month_publication', 'month_name']].drop_duplicates().sort_values(\n",
    "    by='month_publication').reset_index(drop=True)\n",
    "month_dict"
   ]
  },
  {
   "cell_type": "code",
   "execution_count": 37,
   "metadata": {},
   "outputs": [],
   "source": [
    "del df['month_name']"
   ]
  },
  {
   "cell_type": "markdown",
   "metadata": {},
   "source": [
    "Создание столбца с годом публикации объявления"
   ]
  },
  {
   "cell_type": "code",
   "execution_count": 38,
   "metadata": {},
   "outputs": [],
   "source": [
    "df['year_exposition'] = df['first_day_exposition'].dt.year"
   ]
  },
  {
   "cell_type": "code",
   "execution_count": 39,
   "metadata": {},
   "outputs": [
    {
     "data": {
      "text/html": [
       "<div>\n",
       "<style scoped>\n",
       "    .dataframe tbody tr th:only-of-type {\n",
       "        vertical-align: middle;\n",
       "    }\n",
       "\n",
       "    .dataframe tbody tr th {\n",
       "        vertical-align: top;\n",
       "    }\n",
       "\n",
       "    .dataframe thead th {\n",
       "        text-align: right;\n",
       "    }\n",
       "</style>\n",
       "<table border=\"1\" class=\"dataframe\">\n",
       "  <thead>\n",
       "    <tr style=\"text-align: right;\">\n",
       "      <th></th>\n",
       "      <th>total_images</th>\n",
       "      <th>last_price</th>\n",
       "      <th>total_area</th>\n",
       "      <th>first_day_exposition</th>\n",
       "      <th>rooms</th>\n",
       "      <th>ceiling_height</th>\n",
       "      <th>floors_total</th>\n",
       "      <th>living_area</th>\n",
       "      <th>floor</th>\n",
       "      <th>is_apartment</th>\n",
       "      <th>...</th>\n",
       "      <th>cityCenters_nearest</th>\n",
       "      <th>parks_around3000</th>\n",
       "      <th>parks_nearest</th>\n",
       "      <th>ponds_around3000</th>\n",
       "      <th>ponds_nearest</th>\n",
       "      <th>days_exposition</th>\n",
       "      <th>price_for_metres</th>\n",
       "      <th>weekday_publication</th>\n",
       "      <th>month_publication</th>\n",
       "      <th>year_exposition</th>\n",
       "    </tr>\n",
       "  </thead>\n",
       "  <tbody>\n",
       "    <tr>\n",
       "      <td>0</td>\n",
       "      <td>20</td>\n",
       "      <td>13000000</td>\n",
       "      <td>108</td>\n",
       "      <td>2019-03-07</td>\n",
       "      <td>3</td>\n",
       "      <td>2.7</td>\n",
       "      <td>16</td>\n",
       "      <td>51</td>\n",
       "      <td>8</td>\n",
       "      <td>0</td>\n",
       "      <td>...</td>\n",
       "      <td>16028.0</td>\n",
       "      <td>1</td>\n",
       "      <td>482.0</td>\n",
       "      <td>2</td>\n",
       "      <td>755.0</td>\n",
       "      <td>NaN</td>\n",
       "      <td>120370</td>\n",
       "      <td>3</td>\n",
       "      <td>3</td>\n",
       "      <td>2019</td>\n",
       "    </tr>\n",
       "    <tr>\n",
       "      <td>1</td>\n",
       "      <td>7</td>\n",
       "      <td>3350000</td>\n",
       "      <td>40</td>\n",
       "      <td>2018-12-04</td>\n",
       "      <td>1</td>\n",
       "      <td>2.6</td>\n",
       "      <td>11</td>\n",
       "      <td>18</td>\n",
       "      <td>1</td>\n",
       "      <td>0</td>\n",
       "      <td>...</td>\n",
       "      <td>18603.0</td>\n",
       "      <td>0</td>\n",
       "      <td>NaN</td>\n",
       "      <td>0</td>\n",
       "      <td>NaN</td>\n",
       "      <td>81.0</td>\n",
       "      <td>83750</td>\n",
       "      <td>1</td>\n",
       "      <td>12</td>\n",
       "      <td>2018</td>\n",
       "    </tr>\n",
       "    <tr>\n",
       "      <td>2</td>\n",
       "      <td>10</td>\n",
       "      <td>5196000</td>\n",
       "      <td>56</td>\n",
       "      <td>2015-08-20</td>\n",
       "      <td>2</td>\n",
       "      <td>2.7</td>\n",
       "      <td>5</td>\n",
       "      <td>34</td>\n",
       "      <td>4</td>\n",
       "      <td>0</td>\n",
       "      <td>...</td>\n",
       "      <td>13933.0</td>\n",
       "      <td>1</td>\n",
       "      <td>90.0</td>\n",
       "      <td>2</td>\n",
       "      <td>574.0</td>\n",
       "      <td>558.0</td>\n",
       "      <td>92785</td>\n",
       "      <td>3</td>\n",
       "      <td>8</td>\n",
       "      <td>2015</td>\n",
       "    </tr>\n",
       "    <tr>\n",
       "      <td>3</td>\n",
       "      <td>0</td>\n",
       "      <td>64900000</td>\n",
       "      <td>159</td>\n",
       "      <td>2015-07-24</td>\n",
       "      <td>3</td>\n",
       "      <td>2.7</td>\n",
       "      <td>14</td>\n",
       "      <td>45</td>\n",
       "      <td>9</td>\n",
       "      <td>0</td>\n",
       "      <td>...</td>\n",
       "      <td>6800.0</td>\n",
       "      <td>2</td>\n",
       "      <td>84.0</td>\n",
       "      <td>3</td>\n",
       "      <td>234.0</td>\n",
       "      <td>424.0</td>\n",
       "      <td>408176</td>\n",
       "      <td>4</td>\n",
       "      <td>7</td>\n",
       "      <td>2015</td>\n",
       "    </tr>\n",
       "    <tr>\n",
       "      <td>4</td>\n",
       "      <td>2</td>\n",
       "      <td>10000000</td>\n",
       "      <td>100</td>\n",
       "      <td>2018-06-19</td>\n",
       "      <td>2</td>\n",
       "      <td>3.0</td>\n",
       "      <td>14</td>\n",
       "      <td>32</td>\n",
       "      <td>13</td>\n",
       "      <td>0</td>\n",
       "      <td>...</td>\n",
       "      <td>8098.0</td>\n",
       "      <td>2</td>\n",
       "      <td>112.0</td>\n",
       "      <td>1</td>\n",
       "      <td>48.0</td>\n",
       "      <td>121.0</td>\n",
       "      <td>100000</td>\n",
       "      <td>1</td>\n",
       "      <td>6</td>\n",
       "      <td>2018</td>\n",
       "    </tr>\n",
       "    <tr>\n",
       "      <td>...</td>\n",
       "      <td>...</td>\n",
       "      <td>...</td>\n",
       "      <td>...</td>\n",
       "      <td>...</td>\n",
       "      <td>...</td>\n",
       "      <td>...</td>\n",
       "      <td>...</td>\n",
       "      <td>...</td>\n",
       "      <td>...</td>\n",
       "      <td>...</td>\n",
       "      <td>...</td>\n",
       "      <td>...</td>\n",
       "      <td>...</td>\n",
       "      <td>...</td>\n",
       "      <td>...</td>\n",
       "      <td>...</td>\n",
       "      <td>...</td>\n",
       "      <td>...</td>\n",
       "      <td>...</td>\n",
       "      <td>...</td>\n",
       "      <td>...</td>\n",
       "    </tr>\n",
       "    <tr>\n",
       "      <td>23211</td>\n",
       "      <td>9</td>\n",
       "      <td>4600000</td>\n",
       "      <td>62</td>\n",
       "      <td>2016-08-05</td>\n",
       "      <td>3</td>\n",
       "      <td>2.6</td>\n",
       "      <td>9</td>\n",
       "      <td>40</td>\n",
       "      <td>8</td>\n",
       "      <td>0</td>\n",
       "      <td>...</td>\n",
       "      <td>34104.0</td>\n",
       "      <td>1</td>\n",
       "      <td>352.0</td>\n",
       "      <td>1</td>\n",
       "      <td>675.0</td>\n",
       "      <td>239.0</td>\n",
       "      <td>74193</td>\n",
       "      <td>4</td>\n",
       "      <td>8</td>\n",
       "      <td>2016</td>\n",
       "    </tr>\n",
       "    <tr>\n",
       "      <td>23212</td>\n",
       "      <td>9</td>\n",
       "      <td>9700000</td>\n",
       "      <td>133</td>\n",
       "      <td>2017-03-21</td>\n",
       "      <td>3</td>\n",
       "      <td>3.7</td>\n",
       "      <td>5</td>\n",
       "      <td>73</td>\n",
       "      <td>3</td>\n",
       "      <td>0</td>\n",
       "      <td>...</td>\n",
       "      <td>4232.0</td>\n",
       "      <td>1</td>\n",
       "      <td>796.0</td>\n",
       "      <td>3</td>\n",
       "      <td>381.0</td>\n",
       "      <td>NaN</td>\n",
       "      <td>72932</td>\n",
       "      <td>1</td>\n",
       "      <td>3</td>\n",
       "      <td>2017</td>\n",
       "    </tr>\n",
       "    <tr>\n",
       "      <td>23213</td>\n",
       "      <td>14</td>\n",
       "      <td>3100000</td>\n",
       "      <td>59</td>\n",
       "      <td>2018-01-15</td>\n",
       "      <td>3</td>\n",
       "      <td>2.5</td>\n",
       "      <td>5</td>\n",
       "      <td>38</td>\n",
       "      <td>4</td>\n",
       "      <td>0</td>\n",
       "      <td>...</td>\n",
       "      <td>NaN</td>\n",
       "      <td>0</td>\n",
       "      <td>NaN</td>\n",
       "      <td>0</td>\n",
       "      <td>NaN</td>\n",
       "      <td>45.0</td>\n",
       "      <td>52542</td>\n",
       "      <td>0</td>\n",
       "      <td>1</td>\n",
       "      <td>2018</td>\n",
       "    </tr>\n",
       "    <tr>\n",
       "      <td>23214</td>\n",
       "      <td>13</td>\n",
       "      <td>11475000</td>\n",
       "      <td>76</td>\n",
       "      <td>2017-03-28</td>\n",
       "      <td>2</td>\n",
       "      <td>3.0</td>\n",
       "      <td>17</td>\n",
       "      <td>31</td>\n",
       "      <td>12</td>\n",
       "      <td>0</td>\n",
       "      <td>...</td>\n",
       "      <td>10364.0</td>\n",
       "      <td>2</td>\n",
       "      <td>173.0</td>\n",
       "      <td>3</td>\n",
       "      <td>196.0</td>\n",
       "      <td>602.0</td>\n",
       "      <td>150986</td>\n",
       "      <td>1</td>\n",
       "      <td>3</td>\n",
       "      <td>2017</td>\n",
       "    </tr>\n",
       "    <tr>\n",
       "      <td>23215</td>\n",
       "      <td>4</td>\n",
       "      <td>1350000</td>\n",
       "      <td>32</td>\n",
       "      <td>2017-07-21</td>\n",
       "      <td>1</td>\n",
       "      <td>2.5</td>\n",
       "      <td>5</td>\n",
       "      <td>12</td>\n",
       "      <td>1</td>\n",
       "      <td>0</td>\n",
       "      <td>...</td>\n",
       "      <td>NaN</td>\n",
       "      <td>0</td>\n",
       "      <td>NaN</td>\n",
       "      <td>0</td>\n",
       "      <td>NaN</td>\n",
       "      <td>NaN</td>\n",
       "      <td>42187</td>\n",
       "      <td>4</td>\n",
       "      <td>7</td>\n",
       "      <td>2017</td>\n",
       "    </tr>\n",
       "  </tbody>\n",
       "</table>\n",
       "<p>23216 rows × 26 columns</p>\n",
       "</div>"
      ],
      "text/plain": [
       "       total_images  last_price  total_area first_day_exposition  rooms  \\\n",
       "0                20    13000000         108           2019-03-07      3   \n",
       "1                 7     3350000          40           2018-12-04      1   \n",
       "2                10     5196000          56           2015-08-20      2   \n",
       "3                 0    64900000         159           2015-07-24      3   \n",
       "4                 2    10000000         100           2018-06-19      2   \n",
       "...             ...         ...         ...                  ...    ...   \n",
       "23211             9     4600000          62           2016-08-05      3   \n",
       "23212             9     9700000         133           2017-03-21      3   \n",
       "23213            14     3100000          59           2018-01-15      3   \n",
       "23214            13    11475000          76           2017-03-28      2   \n",
       "23215             4     1350000          32           2017-07-21      1   \n",
       "\n",
       "       ceiling_height  floors_total  living_area  floor is_apartment  ...  \\\n",
       "0                 2.7            16           51      8            0  ...   \n",
       "1                 2.6            11           18      1            0  ...   \n",
       "2                 2.7             5           34      4            0  ...   \n",
       "3                 2.7            14           45      9            0  ...   \n",
       "4                 3.0            14           32     13            0  ...   \n",
       "...               ...           ...          ...    ...          ...  ...   \n",
       "23211             2.6             9           40      8            0  ...   \n",
       "23212             3.7             5           73      3            0  ...   \n",
       "23213             2.5             5           38      4            0  ...   \n",
       "23214             3.0            17           31     12            0  ...   \n",
       "23215             2.5             5           12      1            0  ...   \n",
       "\n",
       "       cityCenters_nearest  parks_around3000  parks_nearest  ponds_around3000  \\\n",
       "0                  16028.0                 1          482.0                 2   \n",
       "1                  18603.0                 0            NaN                 0   \n",
       "2                  13933.0                 1           90.0                 2   \n",
       "3                   6800.0                 2           84.0                 3   \n",
       "4                   8098.0                 2          112.0                 1   \n",
       "...                    ...               ...            ...               ...   \n",
       "23211              34104.0                 1          352.0                 1   \n",
       "23212               4232.0                 1          796.0                 3   \n",
       "23213                  NaN                 0            NaN                 0   \n",
       "23214              10364.0                 2          173.0                 3   \n",
       "23215                  NaN                 0            NaN                 0   \n",
       "\n",
       "      ponds_nearest  days_exposition  price_for_metres  weekday_publication  \\\n",
       "0             755.0              NaN            120370                    3   \n",
       "1               NaN             81.0             83750                    1   \n",
       "2             574.0            558.0             92785                    3   \n",
       "3             234.0            424.0            408176                    4   \n",
       "4              48.0            121.0            100000                    1   \n",
       "...             ...              ...               ...                  ...   \n",
       "23211         675.0            239.0             74193                    4   \n",
       "23212         381.0              NaN             72932                    1   \n",
       "23213           NaN             45.0             52542                    0   \n",
       "23214         196.0            602.0            150986                    1   \n",
       "23215           NaN              NaN             42187                    4   \n",
       "\n",
       "       month_publication  year_exposition  \n",
       "0                      3             2019  \n",
       "1                     12             2018  \n",
       "2                      8             2015  \n",
       "3                      7             2015  \n",
       "4                      6             2018  \n",
       "...                  ...              ...  \n",
       "23211                  8             2016  \n",
       "23212                  3             2017  \n",
       "23213                  1             2018  \n",
       "23214                  3             2017  \n",
       "23215                  7             2017  \n",
       "\n",
       "[23216 rows x 26 columns]"
      ]
     },
     "execution_count": 39,
     "metadata": {},
     "output_type": "execute_result"
    }
   ],
   "source": [
    "df"
   ]
  },
  {
   "cell_type": "markdown",
   "metadata": {},
   "source": [
    "Проставление этажа, на котором располагается квартира"
   ]
  },
  {
   "cell_type": "code",
   "execution_count": 40,
   "metadata": {},
   "outputs": [],
   "source": [
    "def floor(row):\n",
    "    floor = row['floor']\n",
    "    total_floors = row['floors_total']\n",
    "    if floor == 1:\n",
    "        return'первый'\n",
    "    elif floor == total_floors:\n",
    "        return 'последний'\n",
    "    else:\n",
    "        return 'другой'"
   ]
  },
  {
   "cell_type": "code",
   "execution_count": 41,
   "metadata": {},
   "outputs": [],
   "source": [
    "df['floor_information'] = df.apply(floor, axis=1)"
   ]
  },
  {
   "cell_type": "markdown",
   "metadata": {},
   "source": [
    "Добавление к таблице столбцов с соотношениями жилой и общей площади, а также площади кухни к общей."
   ]
  },
  {
   "cell_type": "code",
   "execution_count": 42,
   "metadata": {},
   "outputs": [
    {
     "data": {
      "text/html": [
       "<div>\n",
       "<style scoped>\n",
       "    .dataframe tbody tr th:only-of-type {\n",
       "        vertical-align: middle;\n",
       "    }\n",
       "\n",
       "    .dataframe tbody tr th {\n",
       "        vertical-align: top;\n",
       "    }\n",
       "\n",
       "    .dataframe thead th {\n",
       "        text-align: right;\n",
       "    }\n",
       "</style>\n",
       "<table border=\"1\" class=\"dataframe\">\n",
       "  <thead>\n",
       "    <tr style=\"text-align: right;\">\n",
       "      <th></th>\n",
       "      <th>total_images</th>\n",
       "      <th>last_price</th>\n",
       "      <th>total_area</th>\n",
       "      <th>first_day_exposition</th>\n",
       "      <th>rooms</th>\n",
       "      <th>ceiling_height</th>\n",
       "      <th>floors_total</th>\n",
       "      <th>living_area</th>\n",
       "      <th>floor</th>\n",
       "      <th>is_apartment</th>\n",
       "      <th>...</th>\n",
       "      <th>ponds_around3000</th>\n",
       "      <th>ponds_nearest</th>\n",
       "      <th>days_exposition</th>\n",
       "      <th>price_for_metres</th>\n",
       "      <th>weekday_publication</th>\n",
       "      <th>month_publication</th>\n",
       "      <th>year_exposition</th>\n",
       "      <th>floor_information</th>\n",
       "      <th>living_to_total</th>\n",
       "      <th>kitchen_to_total</th>\n",
       "    </tr>\n",
       "  </thead>\n",
       "  <tbody>\n",
       "    <tr>\n",
       "      <td>0</td>\n",
       "      <td>20</td>\n",
       "      <td>13000000</td>\n",
       "      <td>108</td>\n",
       "      <td>2019-03-07</td>\n",
       "      <td>3</td>\n",
       "      <td>2.7</td>\n",
       "      <td>16</td>\n",
       "      <td>51</td>\n",
       "      <td>8</td>\n",
       "      <td>0</td>\n",
       "      <td>...</td>\n",
       "      <td>2</td>\n",
       "      <td>755.0</td>\n",
       "      <td>NaN</td>\n",
       "      <td>120370</td>\n",
       "      <td>3</td>\n",
       "      <td>3</td>\n",
       "      <td>2019</td>\n",
       "      <td>другой</td>\n",
       "      <td>0.47</td>\n",
       "      <td>0.23</td>\n",
       "    </tr>\n",
       "    <tr>\n",
       "      <td>1</td>\n",
       "      <td>7</td>\n",
       "      <td>3350000</td>\n",
       "      <td>40</td>\n",
       "      <td>2018-12-04</td>\n",
       "      <td>1</td>\n",
       "      <td>2.6</td>\n",
       "      <td>11</td>\n",
       "      <td>18</td>\n",
       "      <td>1</td>\n",
       "      <td>0</td>\n",
       "      <td>...</td>\n",
       "      <td>0</td>\n",
       "      <td>NaN</td>\n",
       "      <td>81.0</td>\n",
       "      <td>83750</td>\n",
       "      <td>1</td>\n",
       "      <td>12</td>\n",
       "      <td>2018</td>\n",
       "      <td>первый</td>\n",
       "      <td>0.45</td>\n",
       "      <td>0.28</td>\n",
       "    </tr>\n",
       "    <tr>\n",
       "      <td>2</td>\n",
       "      <td>10</td>\n",
       "      <td>5196000</td>\n",
       "      <td>56</td>\n",
       "      <td>2015-08-20</td>\n",
       "      <td>2</td>\n",
       "      <td>2.7</td>\n",
       "      <td>5</td>\n",
       "      <td>34</td>\n",
       "      <td>4</td>\n",
       "      <td>0</td>\n",
       "      <td>...</td>\n",
       "      <td>2</td>\n",
       "      <td>574.0</td>\n",
       "      <td>558.0</td>\n",
       "      <td>92785</td>\n",
       "      <td>3</td>\n",
       "      <td>8</td>\n",
       "      <td>2015</td>\n",
       "      <td>другой</td>\n",
       "      <td>0.61</td>\n",
       "      <td>0.14</td>\n",
       "    </tr>\n",
       "    <tr>\n",
       "      <td>3</td>\n",
       "      <td>0</td>\n",
       "      <td>64900000</td>\n",
       "      <td>159</td>\n",
       "      <td>2015-07-24</td>\n",
       "      <td>3</td>\n",
       "      <td>2.7</td>\n",
       "      <td>14</td>\n",
       "      <td>45</td>\n",
       "      <td>9</td>\n",
       "      <td>0</td>\n",
       "      <td>...</td>\n",
       "      <td>3</td>\n",
       "      <td>234.0</td>\n",
       "      <td>424.0</td>\n",
       "      <td>408176</td>\n",
       "      <td>4</td>\n",
       "      <td>7</td>\n",
       "      <td>2015</td>\n",
       "      <td>другой</td>\n",
       "      <td>0.28</td>\n",
       "      <td>0.06</td>\n",
       "    </tr>\n",
       "    <tr>\n",
       "      <td>4</td>\n",
       "      <td>2</td>\n",
       "      <td>10000000</td>\n",
       "      <td>100</td>\n",
       "      <td>2018-06-19</td>\n",
       "      <td>2</td>\n",
       "      <td>3.0</td>\n",
       "      <td>14</td>\n",
       "      <td>32</td>\n",
       "      <td>13</td>\n",
       "      <td>0</td>\n",
       "      <td>...</td>\n",
       "      <td>1</td>\n",
       "      <td>48.0</td>\n",
       "      <td>121.0</td>\n",
       "      <td>100000</td>\n",
       "      <td>1</td>\n",
       "      <td>6</td>\n",
       "      <td>2018</td>\n",
       "      <td>другой</td>\n",
       "      <td>0.32</td>\n",
       "      <td>0.41</td>\n",
       "    </tr>\n",
       "    <tr>\n",
       "      <td>...</td>\n",
       "      <td>...</td>\n",
       "      <td>...</td>\n",
       "      <td>...</td>\n",
       "      <td>...</td>\n",
       "      <td>...</td>\n",
       "      <td>...</td>\n",
       "      <td>...</td>\n",
       "      <td>...</td>\n",
       "      <td>...</td>\n",
       "      <td>...</td>\n",
       "      <td>...</td>\n",
       "      <td>...</td>\n",
       "      <td>...</td>\n",
       "      <td>...</td>\n",
       "      <td>...</td>\n",
       "      <td>...</td>\n",
       "      <td>...</td>\n",
       "      <td>...</td>\n",
       "      <td>...</td>\n",
       "      <td>...</td>\n",
       "      <td>...</td>\n",
       "    </tr>\n",
       "    <tr>\n",
       "      <td>23211</td>\n",
       "      <td>9</td>\n",
       "      <td>4600000</td>\n",
       "      <td>62</td>\n",
       "      <td>2016-08-05</td>\n",
       "      <td>3</td>\n",
       "      <td>2.6</td>\n",
       "      <td>9</td>\n",
       "      <td>40</td>\n",
       "      <td>8</td>\n",
       "      <td>0</td>\n",
       "      <td>...</td>\n",
       "      <td>1</td>\n",
       "      <td>675.0</td>\n",
       "      <td>239.0</td>\n",
       "      <td>74193</td>\n",
       "      <td>4</td>\n",
       "      <td>8</td>\n",
       "      <td>2016</td>\n",
       "      <td>другой</td>\n",
       "      <td>0.65</td>\n",
       "      <td>0.13</td>\n",
       "    </tr>\n",
       "    <tr>\n",
       "      <td>23212</td>\n",
       "      <td>9</td>\n",
       "      <td>9700000</td>\n",
       "      <td>133</td>\n",
       "      <td>2017-03-21</td>\n",
       "      <td>3</td>\n",
       "      <td>3.7</td>\n",
       "      <td>5</td>\n",
       "      <td>73</td>\n",
       "      <td>3</td>\n",
       "      <td>0</td>\n",
       "      <td>...</td>\n",
       "      <td>3</td>\n",
       "      <td>381.0</td>\n",
       "      <td>NaN</td>\n",
       "      <td>72932</td>\n",
       "      <td>1</td>\n",
       "      <td>3</td>\n",
       "      <td>2017</td>\n",
       "      <td>другой</td>\n",
       "      <td>0.55</td>\n",
       "      <td>0.10</td>\n",
       "    </tr>\n",
       "    <tr>\n",
       "      <td>23213</td>\n",
       "      <td>14</td>\n",
       "      <td>3100000</td>\n",
       "      <td>59</td>\n",
       "      <td>2018-01-15</td>\n",
       "      <td>3</td>\n",
       "      <td>2.5</td>\n",
       "      <td>5</td>\n",
       "      <td>38</td>\n",
       "      <td>4</td>\n",
       "      <td>0</td>\n",
       "      <td>...</td>\n",
       "      <td>0</td>\n",
       "      <td>NaN</td>\n",
       "      <td>45.0</td>\n",
       "      <td>52542</td>\n",
       "      <td>0</td>\n",
       "      <td>1</td>\n",
       "      <td>2018</td>\n",
       "      <td>другой</td>\n",
       "      <td>0.64</td>\n",
       "      <td>0.14</td>\n",
       "    </tr>\n",
       "    <tr>\n",
       "      <td>23214</td>\n",
       "      <td>13</td>\n",
       "      <td>11475000</td>\n",
       "      <td>76</td>\n",
       "      <td>2017-03-28</td>\n",
       "      <td>2</td>\n",
       "      <td>3.0</td>\n",
       "      <td>17</td>\n",
       "      <td>31</td>\n",
       "      <td>12</td>\n",
       "      <td>0</td>\n",
       "      <td>...</td>\n",
       "      <td>3</td>\n",
       "      <td>196.0</td>\n",
       "      <td>602.0</td>\n",
       "      <td>150986</td>\n",
       "      <td>1</td>\n",
       "      <td>3</td>\n",
       "      <td>2017</td>\n",
       "      <td>другой</td>\n",
       "      <td>0.41</td>\n",
       "      <td>0.30</td>\n",
       "    </tr>\n",
       "    <tr>\n",
       "      <td>23215</td>\n",
       "      <td>4</td>\n",
       "      <td>1350000</td>\n",
       "      <td>32</td>\n",
       "      <td>2017-07-21</td>\n",
       "      <td>1</td>\n",
       "      <td>2.5</td>\n",
       "      <td>5</td>\n",
       "      <td>12</td>\n",
       "      <td>1</td>\n",
       "      <td>0</td>\n",
       "      <td>...</td>\n",
       "      <td>0</td>\n",
       "      <td>NaN</td>\n",
       "      <td>NaN</td>\n",
       "      <td>42187</td>\n",
       "      <td>4</td>\n",
       "      <td>7</td>\n",
       "      <td>2017</td>\n",
       "      <td>первый</td>\n",
       "      <td>0.38</td>\n",
       "      <td>0.28</td>\n",
       "    </tr>\n",
       "  </tbody>\n",
       "</table>\n",
       "<p>23216 rows × 29 columns</p>\n",
       "</div>"
      ],
      "text/plain": [
       "       total_images  last_price  total_area first_day_exposition  rooms  \\\n",
       "0                20    13000000         108           2019-03-07      3   \n",
       "1                 7     3350000          40           2018-12-04      1   \n",
       "2                10     5196000          56           2015-08-20      2   \n",
       "3                 0    64900000         159           2015-07-24      3   \n",
       "4                 2    10000000         100           2018-06-19      2   \n",
       "...             ...         ...         ...                  ...    ...   \n",
       "23211             9     4600000          62           2016-08-05      3   \n",
       "23212             9     9700000         133           2017-03-21      3   \n",
       "23213            14     3100000          59           2018-01-15      3   \n",
       "23214            13    11475000          76           2017-03-28      2   \n",
       "23215             4     1350000          32           2017-07-21      1   \n",
       "\n",
       "       ceiling_height  floors_total  living_area  floor is_apartment  ...  \\\n",
       "0                 2.7            16           51      8            0  ...   \n",
       "1                 2.6            11           18      1            0  ...   \n",
       "2                 2.7             5           34      4            0  ...   \n",
       "3                 2.7            14           45      9            0  ...   \n",
       "4                 3.0            14           32     13            0  ...   \n",
       "...               ...           ...          ...    ...          ...  ...   \n",
       "23211             2.6             9           40      8            0  ...   \n",
       "23212             3.7             5           73      3            0  ...   \n",
       "23213             2.5             5           38      4            0  ...   \n",
       "23214             3.0            17           31     12            0  ...   \n",
       "23215             2.5             5           12      1            0  ...   \n",
       "\n",
       "       ponds_around3000  ponds_nearest  days_exposition  price_for_metres  \\\n",
       "0                     2          755.0              NaN            120370   \n",
       "1                     0            NaN             81.0             83750   \n",
       "2                     2          574.0            558.0             92785   \n",
       "3                     3          234.0            424.0            408176   \n",
       "4                     1           48.0            121.0            100000   \n",
       "...                 ...            ...              ...               ...   \n",
       "23211                 1          675.0            239.0             74193   \n",
       "23212                 3          381.0              NaN             72932   \n",
       "23213                 0            NaN             45.0             52542   \n",
       "23214                 3          196.0            602.0            150986   \n",
       "23215                 0            NaN              NaN             42187   \n",
       "\n",
       "      weekday_publication  month_publication  year_exposition  \\\n",
       "0                       3                  3             2019   \n",
       "1                       1                 12             2018   \n",
       "2                       3                  8             2015   \n",
       "3                       4                  7             2015   \n",
       "4                       1                  6             2018   \n",
       "...                   ...                ...              ...   \n",
       "23211                   4                  8             2016   \n",
       "23212                   1                  3             2017   \n",
       "23213                   0                  1             2018   \n",
       "23214                   1                  3             2017   \n",
       "23215                   4                  7             2017   \n",
       "\n",
       "       floor_information  living_to_total  kitchen_to_total  \n",
       "0                 другой             0.47              0.23  \n",
       "1                 первый             0.45              0.28  \n",
       "2                 другой             0.61              0.14  \n",
       "3                 другой             0.28              0.06  \n",
       "4                 другой             0.32              0.41  \n",
       "...                  ...              ...               ...  \n",
       "23211             другой             0.65              0.13  \n",
       "23212             другой             0.55              0.10  \n",
       "23213             другой             0.64              0.14  \n",
       "23214             другой             0.41              0.30  \n",
       "23215             первый             0.38              0.28  \n",
       "\n",
       "[23216 rows x 29 columns]"
      ]
     },
     "execution_count": 42,
     "metadata": {},
     "output_type": "execute_result"
    }
   ],
   "source": [
    "df['living_to_total'] = round(df['living_area'] / df['total_area'], 2)\n",
    "df['kitchen_to_total'] = round(df['kitchen_area'] / df['total_area'], 2)\n",
    "df"
   ]
  },
  {
   "cell_type": "markdown",
   "metadata": {},
   "source": [
    "Построение гистограм, для исследования распределений по площади, цене, числу комнат, высоте потолков"
   ]
  },
  {
   "cell_type": "code",
   "execution_count": 43,
   "metadata": {},
   "outputs": [
    {
     "data": {
      "text/plain": [
       "<matplotlib.axes._subplots.AxesSubplot at 0x7efef35d7b90>"
      ]
     },
     "execution_count": 43,
     "metadata": {},
     "output_type": "execute_result"
    },
    {
     "data": {
      "image/png": "[encoded data removed]",
      "text/plain": [
       "<Figure size 432x288 with 1 Axes>"
      ]
     },
     "metadata": {
      "needs_background": "light"
     },
     "output_type": "display_data"
    }
   ],
   "source": [
    "df['total_area'].hist(bins=30, range=(0, 400))"
   ]
  },
  {
   "cell_type": "markdown",
   "metadata": {},
   "source": [
    "Гистограма площади недвижимости напоминает распределение Пуассона, посмотрим, какие могут быть слишком большие и слишком маленькие значения площади"
   ]
  },
  {
   "cell_type": "code",
   "execution_count": 44,
   "metadata": {},
   "outputs": [
    {
     "name": "stdout",
     "output_type": "stream",
     "text": [
      "Максимальная площадь недвижимости 900 квадратных метров\n",
      "Минимальная площадь недвижимости 12 квадратных метров\n"
     ]
    }
   ],
   "source": [
    "print('Максимальная площадь недвижимости {} квадратных метров'.format(df['total_area'].max()))\n",
    "print('Минимальная площадь недвижимости {} квадратных метров'.format(df['total_area'].min()))"
   ]
  },
  {
   "cell_type": "code",
   "execution_count": 45,
   "metadata": {},
   "outputs": [
    {
     "data": {
      "text/plain": [
       "<matplotlib.axes._subplots.AxesSubplot at 0x7efef35568d0>"
      ]
     },
     "execution_count": 45,
     "metadata": {},
     "output_type": "execute_result"
    },
    {
     "data": {
      "image/png": "[encoded data removed]",
      "text/plain": [
       "<Figure size 432x288 with 1 Axes>"
      ]
     },
     "metadata": {
      "needs_background": "light"
     },
     "output_type": "display_data"
    }
   ],
   "source": [
    "df.boxplot(column='total_area')\n"
   ]
  },
  {
   "cell_type": "markdown",
   "metadata": {},
   "source": [
    "После исследования диаграммы размаха можно прийти к выводу, что выбросов очень много, позже мы избавимся от части из них, оставив таблице только недвижимость площадью меньше 350 квадратных метров, "
   ]
  },
  {
   "cell_type": "code",
   "execution_count": 46,
   "metadata": {},
   "outputs": [],
   "source": [
    "filtred_for_area = df.query('total_area <= 350')"
   ]
  },
  {
   "cell_type": "code",
   "execution_count": 47,
   "metadata": {},
   "outputs": [
    {
     "data": {
      "text/plain": [
       "<matplotlib.axes._subplots.AxesSubplot at 0x7efef2d37b90>"
      ]
     },
     "execution_count": 47,
     "metadata": {},
     "output_type": "execute_result"
    },
    {
     "data": {
      "image/png": "[encoded data removed]",
      "text/plain": [
       "<Figure size 432x288 with 1 Axes>"
      ]
     },
     "metadata": {
      "needs_background": "light"
     },
     "output_type": "display_data"
    }
   ],
   "source": [
    "df['last_price'].hist(bins=50, range=(0, 50000000))"
   ]
  },
  {
   "cell_type": "markdown",
   "metadata": {},
   "source": [
    "Гистограма цен на квартиры так же напоминает распределение Пуассона, определим границу выбросов, построив диаграмму размаха"
   ]
  },
  {
   "cell_type": "code",
   "execution_count": 48,
   "metadata": {},
   "outputs": [
    {
     "data": {
      "text/plain": [
       "<matplotlib.axes._subplots.AxesSubplot at 0x7efef2e82b10>"
      ]
     },
     "execution_count": 48,
     "metadata": {},
     "output_type": "execute_result"
    },
    {
     "data": {
      "image/png": "[encoded data removed]",
      "text/plain": [
       "<Figure size 432x288 with 1 Axes>"
      ]
     },
     "metadata": {
      "needs_background": "light"
     },
     "output_type": "display_data"
    }
   ],
   "source": [
    "df.boxplot(column='last_price')\n"
   ]
  },
  {
   "cell_type": "markdown",
   "metadata": {},
   "source": [
    "Чтобы избежать потери данных оставим в таблице только квартиры, которые стоят меньше 20 миллионов"
   ]
  },
  {
   "cell_type": "code",
   "execution_count": 49,
   "metadata": {},
   "outputs": [],
   "source": [
    "filtred_by_price = df.query('last_price < 20000000')"
   ]
  },
  {
   "cell_type": "code",
   "execution_count": 50,
   "metadata": {},
   "outputs": [
    {
     "data": {
      "text/plain": [
       "<matplotlib.axes._subplots.AxesSubplot at 0x7efef2e06350>"
      ]
     },
     "execution_count": 50,
     "metadata": {},
     "output_type": "execute_result"
    },
    {
     "data": {
      "image/png": "[encoded data removed]",
      "text/plain": [
       "<Figure size 432x288 with 1 Axes>"
      ]
     },
     "metadata": {
      "needs_background": "light"
     },
     "output_type": "display_data"
    }
   ],
   "source": [
    "df['rooms'].hist(bins=10,range=(0, 10))"
   ]
  },
  {
   "cell_type": "markdown",
   "metadata": {},
   "source": [
    "Из гистограмы можно сделать вывод, что квартиры в которых больше 6 комнат уже большая редкость, эти значения можно удалить"
   ]
  },
  {
   "cell_type": "code",
   "execution_count": 51,
   "metadata": {},
   "outputs": [],
   "source": [
    "filtred_by_rooms = df.query('rooms <= 6')\n"
   ]
  },
  {
   "cell_type": "code",
   "execution_count": 52,
   "metadata": {},
   "outputs": [
    {
     "data": {
      "text/plain": [
       "<matplotlib.axes._subplots.AxesSubplot at 0x7efef2e7e4d0>"
      ]
     },
     "execution_count": 52,
     "metadata": {},
     "output_type": "execute_result"
    },
    {
     "data": {
      "image/png": "[encoded data removed]",
      "text/plain": [
       "<Figure size 432x288 with 1 Axes>"
      ]
     },
     "metadata": {
      "needs_background": "light"
     },
     "output_type": "display_data"
    }
   ],
   "source": [
    "df['ceiling_height'].hist(bins=5,range=(1,7))"
   ]
  },
  {
   "cell_type": "markdown",
   "metadata": {},
   "source": [
    "Высота потолков примерно одинаковая везде, это связано с тем, что мы заполнили очень много пустых значений в этом столбце\n",
    "но все же ест и выбивающиеся значения, это потолки, которые выше, чем 3.5 метра"
   ]
  },
  {
   "cell_type": "code",
   "execution_count": 53,
   "metadata": {},
   "outputs": [
    {
     "data": {
      "text/plain": [
       "(22913, 29)"
      ]
     },
     "execution_count": 53,
     "metadata": {},
     "output_type": "execute_result"
    }
   ],
   "source": [
    "filtred_by_ceil = df.query('ceiling_height <= 3.5')\n",
    "filtred_by_ceil.shape"
   ]
  },
  {
   "cell_type": "markdown",
   "metadata": {},
   "source": [
    "Изучение времени продажи квартиры"
   ]
  },
  {
   "cell_type": "code",
   "execution_count": 54,
   "metadata": {},
   "outputs": [
    {
     "data": {
      "text/plain": [
       "<matplotlib.axes._subplots.AxesSubplot at 0x7efef2b170d0>"
      ]
     },
     "execution_count": 54,
     "metadata": {},
     "output_type": "execute_result"
    },
    {
     "data": {
      "image/png": "[encoded data removed]",
      "text/plain": [
       "<Figure size 432x288 with 1 Axes>"
      ]
     },
     "metadata": {
      "needs_background": "light"
     },
     "output_type": "display_data"
    }
   ],
   "source": [
    "df['days_exposition'].hist(bins=100, range=(0, 600))"
   ]
  },
  {
   "cell_type": "code",
   "execution_count": 55,
   "metadata": {},
   "outputs": [
    {
     "data": {
      "text/plain": [
       "181.7175211548034"
      ]
     },
     "execution_count": 55,
     "metadata": {},
     "output_type": "execute_result"
    }
   ],
   "source": [
    "df['days_exposition'].mean()"
   ]
  },
  {
   "cell_type": "code",
   "execution_count": 56,
   "metadata": {},
   "outputs": [
    {
     "data": {
      "text/plain": [
       "96.0"
      ]
     },
     "execution_count": 56,
     "metadata": {},
     "output_type": "execute_result"
    }
   ],
   "source": [
    "df['days_exposition'].median()"
   ]
  },
  {
   "cell_type": "markdown",
   "metadata": {},
   "source": [
    "Среднее значение почти в два раза больше, чем медианное, это говорит о том, что некоторые квартиры очень долго стоят на продаже, построим гистограмму, чтобы разобраться с выбросами"
   ]
  },
  {
   "cell_type": "code",
   "execution_count": 57,
   "metadata": {},
   "outputs": [
    {
     "data": {
      "text/plain": [
       "<matplotlib.axes._subplots.AxesSubplot at 0x7efeea878450>"
      ]
     },
     "execution_count": 57,
     "metadata": {},
     "output_type": "execute_result"
    },
    {
     "data": {
      "image/png": "[encoded data removed]",
      "text/plain": [
       "<Figure size 432x288 with 1 Axes>"
      ]
     },
     "metadata": {
      "needs_background": "light"
     },
     "output_type": "display_data"
    }
   ],
   "source": [
    "df.boxplot(column='days_exposition')"
   ]
  },
  {
   "cell_type": "code",
   "execution_count": 58,
   "metadata": {},
   "outputs": [
    {
     "data": {
      "text/plain": [
       "0.25     45.0\n",
       "0.75    232.0\n",
       "Name: days_exposition, dtype: float64"
      ]
     },
     "execution_count": 58,
     "metadata": {},
     "output_type": "execute_result"
    }
   ],
   "source": [
    "#определение первого и третьего квартилей\n",
    "df['days_exposition'].quantile([0.25, 0.75])"
   ]
  },
  {
   "cell_type": "markdown",
   "metadata": {},
   "source": [
    "По гистограмме можно сделать вывод, что необычайно долгий срок продажи более 550 дней, а необычайно быстрый срок -  менее 50 дней(немного больше первого квартиля) "
   ]
  },
  {
   "cell_type": "code",
   "execution_count": 59,
   "metadata": {},
   "outputs": [],
   "source": [
    "filtred_by_exposition = df.query('50 < days_exposition < 550')"
   ]
  },
  {
   "cell_type": "markdown",
   "metadata": {},
   "source": [
    "Составление таблицы со всеми уточнениями"
   ]
  },
  {
   "cell_type": "markdown",
   "metadata": {},
   "source": [
    "Заполним пустые значения в столбце days_exposition "
   ]
  },
  {
   "cell_type": "code",
   "execution_count": 60,
   "metadata": {},
   "outputs": [
    {
     "data": {
      "text/plain": [
       "(17743, 29)"
      ]
     },
     "execution_count": 60,
     "metadata": {},
     "output_type": "execute_result"
    }
   ],
   "source": [
    "good_apartments = df.query(\n",
    "    'total_area < 350 and last_price < 20000000 and rooms <= 6 and ceiling_height <= 3.5 and (30 < days_exposition < 650 or days_exposition.isna())'\n",
    ")\n",
    "good_apartments.shape    "
   ]
  },
  {
   "cell_type": "markdown",
   "metadata": {},
   "source": [
    "Больше половины данных оказалось утеряно, поэтому будем исследовать данные по отдельным отфильтрованным таблицам"
   ]
  },
  {
   "cell_type": "markdown",
   "metadata": {},
   "source": []
  },
  {
   "cell_type": "code",
   "execution_count": 61,
   "metadata": {},
   "outputs": [
    {
     "data": {
      "text/plain": [
       "<matplotlib.axes._subplots.AxesSubplot at 0x7efeea84a9d0>"
      ]
     },
     "execution_count": 61,
     "metadata": {},
     "output_type": "execute_result"
    },
    {
     "data": {
      "image/png": "[encoded data removed]",
      "text/plain": [
       "<Figure size 432x288 with 1 Axes>"
      ]
     },
     "metadata": {
      "needs_background": "light"
     },
     "output_type": "display_data"
    }
   ],
   "source": [
    "filtred_for_area.plot(kind='scatter', y='last_price', x='total_area')"
   ]
  },
  {
   "cell_type": "code",
   "execution_count": 62,
   "metadata": {},
   "outputs": [
    {
     "data": {
      "text/plain": [
       "0.6817720132175236"
      ]
     },
     "execution_count": 62,
     "metadata": {},
     "output_type": "execute_result"
    }
   ],
   "source": [
    "filtred_for_area['last_price'].corr(filtred_for_area['total_area'])"
   ]
  },
  {
   "cell_type": "markdown",
   "metadata": {},
   "source": [
    "по диаграмме рассеения и коэффициенту кореляции Пирсона можно сказать, что цена зависит от площади"
   ]
  },
  {
   "cell_type": "code",
   "execution_count": 63,
   "metadata": {},
   "outputs": [
    {
     "data": {
      "text/plain": [
       "<matplotlib.axes._subplots.AxesSubplot at 0x7efeea7cbe10>"
      ]
     },
     "execution_count": 63,
     "metadata": {},
     "output_type": "execute_result"
    },
    {
     "data": {
      "image/png": "[encoded data removed]",
      "text/plain": [
       "<Figure size 432x288 with 1 Axes>"
      ]
     },
     "metadata": {
      "needs_background": "light"
     },
     "output_type": "display_data"
    }
   ],
   "source": [
    "filtred_by_rooms.plot(kind='scatter', x='rooms', y='last_price')"
   ]
  },
  {
   "cell_type": "code",
   "execution_count": 64,
   "metadata": {},
   "outputs": [
    {
     "data": {
      "text/plain": [
       "0.36910280102820514"
      ]
     },
     "execution_count": 64,
     "metadata": {},
     "output_type": "execute_result"
    }
   ],
   "source": [
    "filtred_by_rooms['last_price'].corr(filtred_by_rooms['rooms'])"
   ]
  },
  {
   "cell_type": "markdown",
   "metadata": {},
   "source": [
    "Цена на недвижимость не сильно зависит от количества комнат, это похоже на правду, мне кажется, на цену больше влияет площадь"
   ]
  },
  {
   "cell_type": "markdown",
   "metadata": {},
   "source": [
    "Исследование зависимости цены от расстояния до центра"
   ]
  },
  {
   "cell_type": "code",
   "execution_count": 65,
   "metadata": {},
   "outputs": [],
   "source": [
    "#создадим вспомогательную таблицу и удалим из нее пустые значение в столбце cityCenters_nearest \n",
    "help_data = df.copy()\n",
    "help_data.dropna(subset=['cityCenters_nearest'], inplace=True)"
   ]
  },
  {
   "cell_type": "code",
   "execution_count": 66,
   "metadata": {},
   "outputs": [
    {
     "data": {
      "text/plain": [
       "<matplotlib.axes._subplots.AxesSubplot at 0x7efeea750310>"
      ]
     },
     "execution_count": 66,
     "metadata": {},
     "output_type": "execute_result"
    },
    {
     "data": {
      "image/png": "[encoded data removed]",
      "text/plain": [
       "<Figure size 432x288 with 1 Axes>"
      ]
     },
     "metadata": {
      "needs_background": "light"
     },
     "output_type": "display_data"
    }
   ],
   "source": [
    "help_data.plot(kind='scatter', y='last_price', x='cityCenters_nearest')"
   ]
  },
  {
   "cell_type": "code",
   "execution_count": 67,
   "metadata": {},
   "outputs": [
    {
     "data": {
      "text/plain": [
       "-0.20662362677657947"
      ]
     },
     "execution_count": 67,
     "metadata": {},
     "output_type": "execute_result"
    }
   ],
   "source": [
    "help_data['last_price'].corr(help_data['cityCenters_nearest'])"
   ]
  },
  {
   "cell_type": "markdown",
   "metadata": {},
   "source": [
    "Цена на квартиру и расстояние до центра отрицательно кореллируют, хотя коэффициент Пирсона мал, но с приближением к центру\n",
    "цены растут"
   ]
  },
  {
   "cell_type": "markdown",
   "metadata": {},
   "source": [
    "Исследование зависимости цены от этажа"
   ]
  },
  {
   "cell_type": "code",
   "execution_count": 68,
   "metadata": {},
   "outputs": [],
   "source": [
    "def help_func(name):\n",
    "    if name == 'первый':\n",
    "        return 1\n",
    "    elif name == 'другой':\n",
    "        return 2\n",
    "    else:\n",
    "        return 3"
   ]
  },
  {
   "cell_type": "code",
   "execution_count": 69,
   "metadata": {},
   "outputs": [],
   "source": [
    "df['floor_information_int'] = df['floor_information'].apply(help_func)"
   ]
  },
  {
   "cell_type": "markdown",
   "metadata": {},
   "source": [
    "Сравним информацию по срезам"
   ]
  },
  {
   "cell_type": "code",
   "execution_count": 70,
   "metadata": {},
   "outputs": [
    {
     "data": {
      "text/plain": [
       "count    2.840000e+03\n",
       "mean     4.867608e+06\n",
       "std      5.138547e+06\n",
       "min      4.300000e+05\n",
       "25%      2.890000e+06\n",
       "50%      3.950000e+06\n",
       "75%      5.490000e+06\n",
       "max      1.350000e+08\n",
       "Name: last_price, dtype: float64"
      ]
     },
     "execution_count": 70,
     "metadata": {},
     "output_type": "execute_result"
    }
   ],
   "source": [
    "df.query('floor_information_int == 1')['last_price'].describe()"
   ]
  },
  {
   "cell_type": "code",
   "execution_count": 71,
   "metadata": {},
   "outputs": [
    {
     "data": {
      "text/plain": [
       "count    1.710400e+04\n",
       "mean     6.720294e+06\n",
       "std      8.660063e+06\n",
       "min      5.000000e+05\n",
       "25%      3.600000e+06\n",
       "50%      4.890000e+06\n",
       "75%      7.000000e+06\n",
       "max      3.300000e+08\n",
       "Name: last_price, dtype: float64"
      ]
     },
     "execution_count": 71,
     "metadata": {},
     "output_type": "execute_result"
    }
   ],
   "source": [
    "df.query('floor_information_int == 2')['last_price'].describe()"
   ]
  },
  {
   "cell_type": "code",
   "execution_count": 72,
   "metadata": {},
   "outputs": [
    {
     "data": {
      "text/plain": [
       "count    3.272000e+03\n",
       "mean     7.450539e+06\n",
       "std      2.087912e+07\n",
       "min      1.219000e+04\n",
       "25%      3.070000e+06\n",
       "50%      4.350000e+06\n",
       "75%      6.800000e+06\n",
       "max      7.630000e+08\n",
       "Name: last_price, dtype: float64"
      ]
     },
     "execution_count": 72,
     "metadata": {},
     "output_type": "execute_result"
    }
   ],
   "source": [
    "df.query('floor_information_int == 3')['last_price'].describe()"
   ]
  },
  {
   "cell_type": "markdown",
   "metadata": {},
   "source": [
    "Цена на квартиры не зависит от того, на каком этаже она расположена, нет зависимости между квартилями в разных группах, нет зависимости между минимальной и максимальной ценой,к тому же группа 'другой' значительно больше остальных групп"
   ]
  },
  {
   "cell_type": "code",
   "execution_count": 73,
   "metadata": {},
   "outputs": [
    {
     "data": {
      "image/png": "[encoded data removed]",
      "text/plain": [
       "<Figure size 432x288 with 1 Axes>"
      ]
     },
     "metadata": {
      "needs_background": "light"
     },
     "output_type": "display_data"
    },
    {
     "data": {
      "image/png": "[encoded data removed]",
      "text/plain": [
       "<Figure size 432x288 with 1 Axes>"
      ]
     },
     "metadata": {
      "needs_background": "light"
     },
     "output_type": "display_data"
    }
   ],
   "source": [
    "for func in ['median', 'mean']:\n",
    "    good_apartments.pivot_table(\n",
    "        index='floor_information', values='price_for_metres', aggfunc=func).plot(kind='bar', title=func)\n",
    "    plt.show()"
   ]
  },
  {
   "cell_type": "markdown",
   "metadata": {},
   "source": [
    "Исследование зависимости от даты размещения, дня недели, месяца и года, добавим столбец с временем года"
   ]
  },
  {
   "cell_type": "code",
   "execution_count": 74,
   "metadata": {},
   "outputs": [],
   "source": [
    "season_dict = {1:'зима', 2:'весна', 3:'лето', 4:'осень'}"
   ]
  },
  {
   "cell_type": "code",
   "execution_count": 75,
   "metadata": {},
   "outputs": [],
   "source": [
    "def season(month):\n",
    "    if month in [1, 2, 12]:\n",
    "        return 1\n",
    "    elif month in [3, 4, 5]:\n",
    "        return 2\n",
    "    elif month in [6, 7, 8]:\n",
    "        return 3\n",
    "    else:\n",
    "        return 4\n",
    "    "
   ]
  },
  {
   "cell_type": "code",
   "execution_count": 76,
   "metadata": {},
   "outputs": [
    {
     "name": "stderr",
     "output_type": "stream",
     "text": [
      "/opt/conda/lib/python3.7/site-packages/ipykernel_launcher.py:1: SettingWithCopyWarning: \n",
      "A value is trying to be set on a copy of a slice from a DataFrame.\n",
      "Try using .loc[row_indexer,col_indexer] = value instead\n",
      "\n",
      "See the caveats in the documentation: http://pandas.pydata.org/pandas-docs/stable/user_guide/indexing.html#returning-a-view-versus-a-copy\n",
      "  \"\"\"Entry point for launching an IPython kernel.\n"
     ]
    }
   ],
   "source": [
    "good_apartments['season'] = good_apartments['month_publication'].apply(season)"
   ]
  },
  {
   "cell_type": "code",
   "execution_count": 77,
   "metadata": {},
   "outputs": [
    {
     "data": {
      "image/png": "[encoded data removed]",
      "text/plain": [
       "<Figure size 432x288 with 1 Axes>"
      ]
     },
     "metadata": {
      "needs_background": "light"
     },
     "output_type": "display_data"
    },
    {
     "data": {
      "image/png": "[encoded data removed]",
      "text/plain": [
       "<Figure size 432x288 with 1 Axes>"
      ]
     },
     "metadata": {
      "needs_background": "light"
     },
     "output_type": "display_data"
    },
    {
     "data": {
      "image/png": "[encoded data removed]",
      "text/plain": [
       "<Figure size 432x288 with 1 Axes>"
      ]
     },
     "metadata": {
      "needs_background": "light"
     },
     "output_type": "display_data"
    },
    {
     "data": {
      "image/png": "[encoded data removed]",
      "text/plain": [
       "<Figure size 432x288 with 1 Axes>"
      ]
     },
     "metadata": {
      "needs_background": "light"
     },
     "output_type": "display_data"
    }
   ],
   "source": [
    "for group in ['season', 'month_publication', 'weekday_publication', 'year_exposition']:\n",
    "    good_apartments.pivot_table(index=group, values='price_for_metres', aggfunc='median').plot(kind='bar')\n",
    "    plt.show()"
   ]
  },
  {
   "cell_type": "code",
   "execution_count": 78,
   "metadata": {},
   "outputs": [
    {
     "data": {
      "text/plain": [
       "Санкт-Петербург      11430\n",
       "посёлок Мурино         370\n",
       "посёлок Шушары         348\n",
       "Всеволожск             338\n",
       "Пушкин                 290\n",
       "Колпино                262\n",
       "посёлок Парголово      258\n",
       "Гатчина                248\n",
       "деревня Кудрово        218\n",
       "Выборг                 198\n",
       "Name: locality_name, dtype: int64"
      ]
     },
     "execution_count": 78,
     "metadata": {},
     "output_type": "execute_result"
    }
   ],
   "source": [
    "most_amount_apartment = good_apartments['locality_name'].value_counts().head(10)\n",
    "most_amount_apartment"
   ]
  },
  {
   "cell_type": "code",
   "execution_count": 79,
   "metadata": {},
   "outputs": [
    {
     "data": {
      "text/html": [
       "<div>\n",
       "<style scoped>\n",
       "    .dataframe tbody tr th:only-of-type {\n",
       "        vertical-align: middle;\n",
       "    }\n",
       "\n",
       "    .dataframe tbody tr th {\n",
       "        vertical-align: top;\n",
       "    }\n",
       "\n",
       "    .dataframe thead th {\n",
       "        text-align: right;\n",
       "    }\n",
       "</style>\n",
       "<table border=\"1\" class=\"dataframe\">\n",
       "  <thead>\n",
       "    <tr style=\"text-align: right;\">\n",
       "      <th></th>\n",
       "      <th>total_images</th>\n",
       "      <th>last_price</th>\n",
       "      <th>total_area</th>\n",
       "      <th>first_day_exposition</th>\n",
       "      <th>rooms</th>\n",
       "      <th>ceiling_height</th>\n",
       "      <th>floors_total</th>\n",
       "      <th>living_area</th>\n",
       "      <th>floor</th>\n",
       "      <th>is_apartment</th>\n",
       "      <th>...</th>\n",
       "      <th>ponds_nearest</th>\n",
       "      <th>days_exposition</th>\n",
       "      <th>price_for_metres</th>\n",
       "      <th>weekday_publication</th>\n",
       "      <th>month_publication</th>\n",
       "      <th>year_exposition</th>\n",
       "      <th>floor_information</th>\n",
       "      <th>living_to_total</th>\n",
       "      <th>kitchen_to_total</th>\n",
       "      <th>season</th>\n",
       "    </tr>\n",
       "  </thead>\n",
       "  <tbody>\n",
       "    <tr>\n",
       "      <td>0</td>\n",
       "      <td>20</td>\n",
       "      <td>13000000</td>\n",
       "      <td>108</td>\n",
       "      <td>2019-03-07</td>\n",
       "      <td>3</td>\n",
       "      <td>2.7</td>\n",
       "      <td>16</td>\n",
       "      <td>51</td>\n",
       "      <td>8</td>\n",
       "      <td>0</td>\n",
       "      <td>...</td>\n",
       "      <td>755.0</td>\n",
       "      <td>NaN</td>\n",
       "      <td>120370</td>\n",
       "      <td>3</td>\n",
       "      <td>3</td>\n",
       "      <td>2019</td>\n",
       "      <td>другой</td>\n",
       "      <td>0.47</td>\n",
       "      <td>0.23</td>\n",
       "      <td>2</td>\n",
       "    </tr>\n",
       "    <tr>\n",
       "      <td>1</td>\n",
       "      <td>7</td>\n",
       "      <td>3350000</td>\n",
       "      <td>40</td>\n",
       "      <td>2018-12-04</td>\n",
       "      <td>1</td>\n",
       "      <td>2.6</td>\n",
       "      <td>11</td>\n",
       "      <td>18</td>\n",
       "      <td>1</td>\n",
       "      <td>0</td>\n",
       "      <td>...</td>\n",
       "      <td>NaN</td>\n",
       "      <td>81.0</td>\n",
       "      <td>83750</td>\n",
       "      <td>1</td>\n",
       "      <td>12</td>\n",
       "      <td>2018</td>\n",
       "      <td>первый</td>\n",
       "      <td>0.45</td>\n",
       "      <td>0.28</td>\n",
       "      <td>1</td>\n",
       "    </tr>\n",
       "    <tr>\n",
       "      <td>2</td>\n",
       "      <td>10</td>\n",
       "      <td>5196000</td>\n",
       "      <td>56</td>\n",
       "      <td>2015-08-20</td>\n",
       "      <td>2</td>\n",
       "      <td>2.7</td>\n",
       "      <td>5</td>\n",
       "      <td>34</td>\n",
       "      <td>4</td>\n",
       "      <td>0</td>\n",
       "      <td>...</td>\n",
       "      <td>574.0</td>\n",
       "      <td>558.0</td>\n",
       "      <td>92785</td>\n",
       "      <td>3</td>\n",
       "      <td>8</td>\n",
       "      <td>2015</td>\n",
       "      <td>другой</td>\n",
       "      <td>0.61</td>\n",
       "      <td>0.14</td>\n",
       "      <td>3</td>\n",
       "    </tr>\n",
       "    <tr>\n",
       "      <td>4</td>\n",
       "      <td>2</td>\n",
       "      <td>10000000</td>\n",
       "      <td>100</td>\n",
       "      <td>2018-06-19</td>\n",
       "      <td>2</td>\n",
       "      <td>3.0</td>\n",
       "      <td>14</td>\n",
       "      <td>32</td>\n",
       "      <td>13</td>\n",
       "      <td>0</td>\n",
       "      <td>...</td>\n",
       "      <td>48.0</td>\n",
       "      <td>121.0</td>\n",
       "      <td>100000</td>\n",
       "      <td>1</td>\n",
       "      <td>6</td>\n",
       "      <td>2018</td>\n",
       "      <td>другой</td>\n",
       "      <td>0.32</td>\n",
       "      <td>0.41</td>\n",
       "      <td>3</td>\n",
       "    </tr>\n",
       "    <tr>\n",
       "      <td>6</td>\n",
       "      <td>6</td>\n",
       "      <td>3700000</td>\n",
       "      <td>37</td>\n",
       "      <td>2017-11-02</td>\n",
       "      <td>1</td>\n",
       "      <td>2.6</td>\n",
       "      <td>26</td>\n",
       "      <td>10</td>\n",
       "      <td>6</td>\n",
       "      <td>0</td>\n",
       "      <td>...</td>\n",
       "      <td>NaN</td>\n",
       "      <td>155.0</td>\n",
       "      <td>100000</td>\n",
       "      <td>3</td>\n",
       "      <td>11</td>\n",
       "      <td>2017</td>\n",
       "      <td>другой</td>\n",
       "      <td>0.27</td>\n",
       "      <td>0.38</td>\n",
       "      <td>4</td>\n",
       "    </tr>\n",
       "    <tr>\n",
       "      <td>...</td>\n",
       "      <td>...</td>\n",
       "      <td>...</td>\n",
       "      <td>...</td>\n",
       "      <td>...</td>\n",
       "      <td>...</td>\n",
       "      <td>...</td>\n",
       "      <td>...</td>\n",
       "      <td>...</td>\n",
       "      <td>...</td>\n",
       "      <td>...</td>\n",
       "      <td>...</td>\n",
       "      <td>...</td>\n",
       "      <td>...</td>\n",
       "      <td>...</td>\n",
       "      <td>...</td>\n",
       "      <td>...</td>\n",
       "      <td>...</td>\n",
       "      <td>...</td>\n",
       "      <td>...</td>\n",
       "      <td>...</td>\n",
       "      <td>...</td>\n",
       "    </tr>\n",
       "    <tr>\n",
       "      <td>23200</td>\n",
       "      <td>11</td>\n",
       "      <td>2350000</td>\n",
       "      <td>35</td>\n",
       "      <td>2016-06-23</td>\n",
       "      <td>1</td>\n",
       "      <td>2.5</td>\n",
       "      <td>5</td>\n",
       "      <td>17</td>\n",
       "      <td>4</td>\n",
       "      <td>False</td>\n",
       "      <td>...</td>\n",
       "      <td>NaN</td>\n",
       "      <td>40.0</td>\n",
       "      <td>67142</td>\n",
       "      <td>3</td>\n",
       "      <td>6</td>\n",
       "      <td>2016</td>\n",
       "      <td>другой</td>\n",
       "      <td>0.49</td>\n",
       "      <td>0.23</td>\n",
       "      <td>3</td>\n",
       "    </tr>\n",
       "    <tr>\n",
       "      <td>23204</td>\n",
       "      <td>8</td>\n",
       "      <td>3300000</td>\n",
       "      <td>31</td>\n",
       "      <td>2017-04-29</td>\n",
       "      <td>1</td>\n",
       "      <td>2.6</td>\n",
       "      <td>9</td>\n",
       "      <td>18</td>\n",
       "      <td>6</td>\n",
       "      <td>0</td>\n",
       "      <td>...</td>\n",
       "      <td>317.0</td>\n",
       "      <td>193.0</td>\n",
       "      <td>106451</td>\n",
       "      <td>5</td>\n",
       "      <td>4</td>\n",
       "      <td>2017</td>\n",
       "      <td>другой</td>\n",
       "      <td>0.58</td>\n",
       "      <td>0.19</td>\n",
       "      <td>2</td>\n",
       "    </tr>\n",
       "    <tr>\n",
       "      <td>23205</td>\n",
       "      <td>6</td>\n",
       "      <td>3200000</td>\n",
       "      <td>39</td>\n",
       "      <td>2017-12-16</td>\n",
       "      <td>1</td>\n",
       "      <td>2.7</td>\n",
       "      <td>9</td>\n",
       "      <td>20</td>\n",
       "      <td>6</td>\n",
       "      <td>0</td>\n",
       "      <td>...</td>\n",
       "      <td>NaN</td>\n",
       "      <td>38.0</td>\n",
       "      <td>82051</td>\n",
       "      <td>5</td>\n",
       "      <td>12</td>\n",
       "      <td>2017</td>\n",
       "      <td>другой</td>\n",
       "      <td>0.51</td>\n",
       "      <td>0.28</td>\n",
       "      <td>1</td>\n",
       "    </tr>\n",
       "    <tr>\n",
       "      <td>23209</td>\n",
       "      <td>11</td>\n",
       "      <td>9470000</td>\n",
       "      <td>72</td>\n",
       "      <td>2016-10-13</td>\n",
       "      <td>2</td>\n",
       "      <td>2.8</td>\n",
       "      <td>25</td>\n",
       "      <td>40</td>\n",
       "      <td>7</td>\n",
       "      <td>0</td>\n",
       "      <td>...</td>\n",
       "      <td>806.0</td>\n",
       "      <td>519.0</td>\n",
       "      <td>131527</td>\n",
       "      <td>3</td>\n",
       "      <td>10</td>\n",
       "      <td>2016</td>\n",
       "      <td>другой</td>\n",
       "      <td>0.56</td>\n",
       "      <td>0.14</td>\n",
       "      <td>4</td>\n",
       "    </tr>\n",
       "    <tr>\n",
       "      <td>23214</td>\n",
       "      <td>13</td>\n",
       "      <td>11475000</td>\n",
       "      <td>76</td>\n",
       "      <td>2017-03-28</td>\n",
       "      <td>2</td>\n",
       "      <td>3.0</td>\n",
       "      <td>17</td>\n",
       "      <td>31</td>\n",
       "      <td>12</td>\n",
       "      <td>0</td>\n",
       "      <td>...</td>\n",
       "      <td>196.0</td>\n",
       "      <td>602.0</td>\n",
       "      <td>150986</td>\n",
       "      <td>1</td>\n",
       "      <td>3</td>\n",
       "      <td>2017</td>\n",
       "      <td>другой</td>\n",
       "      <td>0.41</td>\n",
       "      <td>0.30</td>\n",
       "      <td>2</td>\n",
       "    </tr>\n",
       "  </tbody>\n",
       "</table>\n",
       "<p>13960 rows × 30 columns</p>\n",
       "</div>"
      ],
      "text/plain": [
       "       total_images  last_price  total_area first_day_exposition  rooms  \\\n",
       "0                20    13000000         108           2019-03-07      3   \n",
       "1                 7     3350000          40           2018-12-04      1   \n",
       "2                10     5196000          56           2015-08-20      2   \n",
       "4                 2    10000000         100           2018-06-19      2   \n",
       "6                 6     3700000          37           2017-11-02      1   \n",
       "...             ...         ...         ...                  ...    ...   \n",
       "23200            11     2350000          35           2016-06-23      1   \n",
       "23204             8     3300000          31           2017-04-29      1   \n",
       "23205             6     3200000          39           2017-12-16      1   \n",
       "23209            11     9470000          72           2016-10-13      2   \n",
       "23214            13    11475000          76           2017-03-28      2   \n",
       "\n",
       "       ceiling_height  floors_total  living_area  floor is_apartment  ...  \\\n",
       "0                 2.7            16           51      8            0  ...   \n",
       "1                 2.6            11           18      1            0  ...   \n",
       "2                 2.7             5           34      4            0  ...   \n",
       "4                 3.0            14           32     13            0  ...   \n",
       "6                 2.6            26           10      6            0  ...   \n",
       "...               ...           ...          ...    ...          ...  ...   \n",
       "23200             2.5             5           17      4        False  ...   \n",
       "23204             2.6             9           18      6            0  ...   \n",
       "23205             2.7             9           20      6            0  ...   \n",
       "23209             2.8            25           40      7            0  ...   \n",
       "23214             3.0            17           31     12            0  ...   \n",
       "\n",
       "       ponds_nearest  days_exposition  price_for_metres  weekday_publication  \\\n",
       "0              755.0              NaN            120370                    3   \n",
       "1                NaN             81.0             83750                    1   \n",
       "2              574.0            558.0             92785                    3   \n",
       "4               48.0            121.0            100000                    1   \n",
       "6                NaN            155.0            100000                    3   \n",
       "...              ...              ...               ...                  ...   \n",
       "23200            NaN             40.0             67142                    3   \n",
       "23204          317.0            193.0            106451                    5   \n",
       "23205            NaN             38.0             82051                    5   \n",
       "23209          806.0            519.0            131527                    3   \n",
       "23214          196.0            602.0            150986                    1   \n",
       "\n",
       "      month_publication  year_exposition  floor_information  living_to_total  \\\n",
       "0                     3             2019             другой             0.47   \n",
       "1                    12             2018             первый             0.45   \n",
       "2                     8             2015             другой             0.61   \n",
       "4                     6             2018             другой             0.32   \n",
       "6                    11             2017             другой             0.27   \n",
       "...                 ...              ...                ...              ...   \n",
       "23200                 6             2016             другой             0.49   \n",
       "23204                 4             2017             другой             0.58   \n",
       "23205                12             2017             другой             0.51   \n",
       "23209                10             2016             другой             0.56   \n",
       "23214                 3             2017             другой             0.41   \n",
       "\n",
       "       kitchen_to_total  season  \n",
       "0                  0.23       2  \n",
       "1                  0.28       1  \n",
       "2                  0.14       3  \n",
       "4                  0.41       3  \n",
       "6                  0.38       4  \n",
       "...                 ...     ...  \n",
       "23200              0.23       3  \n",
       "23204              0.19       2  \n",
       "23205              0.28       1  \n",
       "23209              0.14       4  \n",
       "23214              0.30       2  \n",
       "\n",
       "[13960 rows x 30 columns]"
      ]
     },
     "execution_count": 79,
     "metadata": {},
     "output_type": "execute_result"
    }
   ],
   "source": [
    "most_amount_table = good_apartments.query('locality_name in @most_amount_apartment.index')\n",
    "most_amount_table"
   ]
  },
  {
   "cell_type": "code",
   "execution_count": 80,
   "metadata": {},
   "outputs": [
    {
     "data": {
      "text/html": [
       "<div>\n",
       "<style scoped>\n",
       "    .dataframe tbody tr th:only-of-type {\n",
       "        vertical-align: middle;\n",
       "    }\n",
       "\n",
       "    .dataframe tbody tr th {\n",
       "        vertical-align: top;\n",
       "    }\n",
       "\n",
       "    .dataframe thead tr th {\n",
       "        text-align: left;\n",
       "    }\n",
       "\n",
       "    .dataframe thead tr:last-of-type th {\n",
       "        text-align: right;\n",
       "    }\n",
       "</style>\n",
       "<table border=\"1\" class=\"dataframe\">\n",
       "  <thead>\n",
       "    <tr>\n",
       "      <th></th>\n",
       "      <th>mean</th>\n",
       "      <th>max</th>\n",
       "      <th>min</th>\n",
       "      <th>median</th>\n",
       "    </tr>\n",
       "    <tr>\n",
       "      <th></th>\n",
       "      <th>price_for_metres</th>\n",
       "      <th>price_for_metres</th>\n",
       "      <th>price_for_metres</th>\n",
       "      <th>price_for_metres</th>\n",
       "    </tr>\n",
       "    <tr>\n",
       "      <th>locality_name</th>\n",
       "      <th></th>\n",
       "      <th></th>\n",
       "      <th></th>\n",
       "      <th></th>\n",
       "    </tr>\n",
       "  </thead>\n",
       "  <tbody>\n",
       "    <tr>\n",
       "      <td>Всеволожск</td>\n",
       "      <td>67602.292899</td>\n",
       "      <td>137333</td>\n",
       "      <td>31400</td>\n",
       "      <td>65912.5</td>\n",
       "    </tr>\n",
       "    <tr>\n",
       "      <td>Выборг</td>\n",
       "      <td>57999.954545</td>\n",
       "      <td>107473</td>\n",
       "      <td>18750</td>\n",
       "      <td>57554.0</td>\n",
       "    </tr>\n",
       "    <tr>\n",
       "      <td>Гатчина</td>\n",
       "      <td>68938.532258</td>\n",
       "      <td>146315</td>\n",
       "      <td>10507</td>\n",
       "      <td>67741.0</td>\n",
       "    </tr>\n",
       "    <tr>\n",
       "      <td>Колпино</td>\n",
       "      <td>75227.507634</td>\n",
       "      <td>125000</td>\n",
       "      <td>51851</td>\n",
       "      <td>74349.5</td>\n",
       "    </tr>\n",
       "    <tr>\n",
       "      <td>Пушкин</td>\n",
       "      <td>101963.786207</td>\n",
       "      <td>168539</td>\n",
       "      <td>59836</td>\n",
       "      <td>100000.0</td>\n",
       "    </tr>\n",
       "    <tr>\n",
       "      <td>Санкт-Петербург</td>\n",
       "      <td>109194.297113</td>\n",
       "      <td>387096</td>\n",
       "      <td>15384</td>\n",
       "      <td>104255.0</td>\n",
       "    </tr>\n",
       "    <tr>\n",
       "      <td>деревня Кудрово</td>\n",
       "      <td>93391.027523</td>\n",
       "      <td>142857</td>\n",
       "      <td>54336</td>\n",
       "      <td>92619.5</td>\n",
       "    </tr>\n",
       "    <tr>\n",
       "      <td>посёлок Мурино</td>\n",
       "      <td>85481.597297</td>\n",
       "      <td>130000</td>\n",
       "      <td>53424</td>\n",
       "      <td>85402.5</td>\n",
       "    </tr>\n",
       "    <tr>\n",
       "      <td>посёлок Парголово</td>\n",
       "      <td>90766.848837</td>\n",
       "      <td>141891</td>\n",
       "      <td>48850</td>\n",
       "      <td>91864.5</td>\n",
       "    </tr>\n",
       "    <tr>\n",
       "      <td>посёлок Шушары</td>\n",
       "      <td>78865.577586</td>\n",
       "      <td>128709</td>\n",
       "      <td>47766</td>\n",
       "      <td>76614.0</td>\n",
       "    </tr>\n",
       "  </tbody>\n",
       "</table>\n",
       "</div>"
      ],
      "text/plain": [
       "                              mean              max              min  \\\n",
       "                  price_for_metres price_for_metres price_for_metres   \n",
       "locality_name                                                          \n",
       "Всеволожск            67602.292899           137333            31400   \n",
       "Выборг                57999.954545           107473            18750   \n",
       "Гатчина               68938.532258           146315            10507   \n",
       "Колпино               75227.507634           125000            51851   \n",
       "Пушкин               101963.786207           168539            59836   \n",
       "Санкт-Петербург      109194.297113           387096            15384   \n",
       "деревня Кудрово       93391.027523           142857            54336   \n",
       "посёлок Мурино        85481.597297           130000            53424   \n",
       "посёлок Парголово     90766.848837           141891            48850   \n",
       "посёлок Шушары        78865.577586           128709            47766   \n",
       "\n",
       "                            median  \n",
       "                  price_for_metres  \n",
       "locality_name                       \n",
       "Всеволожск                 65912.5  \n",
       "Выборг                     57554.0  \n",
       "Гатчина                    67741.0  \n",
       "Колпино                    74349.5  \n",
       "Пушкин                    100000.0  \n",
       "Санкт-Петербург           104255.0  \n",
       "деревня Кудрово            92619.5  \n",
       "посёлок Мурино             85402.5  \n",
       "посёлок Парголово          91864.5  \n",
       "посёлок Шушары             76614.0  "
      ]
     },
     "execution_count": 80,
     "metadata": {},
     "output_type": "execute_result"
    }
   ],
   "source": [
    "grouped_table = most_amount_table.pivot_table(\n",
    "    index='locality_name', values='price_for_metres', aggfunc=['mean', 'max', 'min', 'median']\n",
    ")\n",
    "grouped_table"
   ]
  },
  {
   "cell_type": "markdown",
   "metadata": {},
   "source": [
    "Самая высокая средняя и медианная цена за квадратный метр недвижимости в Питере, самая низкая медианная и средняя цена в Выборге"
   ]
  },
  {
   "cell_type": "code",
   "execution_count": 81,
   "metadata": {},
   "outputs": [
    {
     "data": {
      "text/html": [
       "<div>\n",
       "<style scoped>\n",
       "    .dataframe tbody tr th:only-of-type {\n",
       "        vertical-align: middle;\n",
       "    }\n",
       "\n",
       "    .dataframe tbody tr th {\n",
       "        vertical-align: top;\n",
       "    }\n",
       "\n",
       "    .dataframe thead th {\n",
       "        text-align: right;\n",
       "    }\n",
       "</style>\n",
       "<table border=\"1\" class=\"dataframe\">\n",
       "  <thead>\n",
       "    <tr style=\"text-align: right;\">\n",
       "      <th></th>\n",
       "      <th>total_images</th>\n",
       "      <th>last_price</th>\n",
       "      <th>total_area</th>\n",
       "      <th>first_day_exposition</th>\n",
       "      <th>rooms</th>\n",
       "      <th>ceiling_height</th>\n",
       "      <th>floors_total</th>\n",
       "      <th>living_area</th>\n",
       "      <th>floor</th>\n",
       "      <th>is_apartment</th>\n",
       "      <th>...</th>\n",
       "      <th>ponds_nearest</th>\n",
       "      <th>days_exposition</th>\n",
       "      <th>price_for_metres</th>\n",
       "      <th>weekday_publication</th>\n",
       "      <th>month_publication</th>\n",
       "      <th>year_exposition</th>\n",
       "      <th>floor_information</th>\n",
       "      <th>living_to_total</th>\n",
       "      <th>kitchen_to_total</th>\n",
       "      <th>season</th>\n",
       "    </tr>\n",
       "  </thead>\n",
       "  <tbody>\n",
       "    <tr>\n",
       "      <td>0</td>\n",
       "      <td>20</td>\n",
       "      <td>13000000</td>\n",
       "      <td>108</td>\n",
       "      <td>2019-03-07</td>\n",
       "      <td>3</td>\n",
       "      <td>2.7</td>\n",
       "      <td>16</td>\n",
       "      <td>51</td>\n",
       "      <td>8</td>\n",
       "      <td>0</td>\n",
       "      <td>...</td>\n",
       "      <td>755.0</td>\n",
       "      <td>NaN</td>\n",
       "      <td>120370</td>\n",
       "      <td>3</td>\n",
       "      <td>3</td>\n",
       "      <td>2019</td>\n",
       "      <td>другой</td>\n",
       "      <td>0.47</td>\n",
       "      <td>0.23</td>\n",
       "      <td>2</td>\n",
       "    </tr>\n",
       "    <tr>\n",
       "      <td>2</td>\n",
       "      <td>10</td>\n",
       "      <td>5196000</td>\n",
       "      <td>56</td>\n",
       "      <td>2015-08-20</td>\n",
       "      <td>2</td>\n",
       "      <td>2.7</td>\n",
       "      <td>5</td>\n",
       "      <td>34</td>\n",
       "      <td>4</td>\n",
       "      <td>0</td>\n",
       "      <td>...</td>\n",
       "      <td>574.0</td>\n",
       "      <td>558.0</td>\n",
       "      <td>92785</td>\n",
       "      <td>3</td>\n",
       "      <td>8</td>\n",
       "      <td>2015</td>\n",
       "      <td>другой</td>\n",
       "      <td>0.61</td>\n",
       "      <td>0.14</td>\n",
       "      <td>3</td>\n",
       "    </tr>\n",
       "    <tr>\n",
       "      <td>4</td>\n",
       "      <td>2</td>\n",
       "      <td>10000000</td>\n",
       "      <td>100</td>\n",
       "      <td>2018-06-19</td>\n",
       "      <td>2</td>\n",
       "      <td>3.0</td>\n",
       "      <td>14</td>\n",
       "      <td>32</td>\n",
       "      <td>13</td>\n",
       "      <td>0</td>\n",
       "      <td>...</td>\n",
       "      <td>48.0</td>\n",
       "      <td>121.0</td>\n",
       "      <td>100000</td>\n",
       "      <td>1</td>\n",
       "      <td>6</td>\n",
       "      <td>2018</td>\n",
       "      <td>другой</td>\n",
       "      <td>0.32</td>\n",
       "      <td>0.41</td>\n",
       "      <td>3</td>\n",
       "    </tr>\n",
       "    <tr>\n",
       "      <td>7</td>\n",
       "      <td>5</td>\n",
       "      <td>7915000</td>\n",
       "      <td>71</td>\n",
       "      <td>2019-04-18</td>\n",
       "      <td>2</td>\n",
       "      <td>2.7</td>\n",
       "      <td>24</td>\n",
       "      <td>31</td>\n",
       "      <td>22</td>\n",
       "      <td>0</td>\n",
       "      <td>...</td>\n",
       "      <td>NaN</td>\n",
       "      <td>NaN</td>\n",
       "      <td>111478</td>\n",
       "      <td>3</td>\n",
       "      <td>4</td>\n",
       "      <td>2019</td>\n",
       "      <td>другой</td>\n",
       "      <td>0.44</td>\n",
       "      <td>0.25</td>\n",
       "      <td>2</td>\n",
       "    </tr>\n",
       "    <tr>\n",
       "      <td>9</td>\n",
       "      <td>18</td>\n",
       "      <td>5400000</td>\n",
       "      <td>61</td>\n",
       "      <td>2017-02-26</td>\n",
       "      <td>3</td>\n",
       "      <td>2.5</td>\n",
       "      <td>9</td>\n",
       "      <td>43</td>\n",
       "      <td>7</td>\n",
       "      <td>0</td>\n",
       "      <td>...</td>\n",
       "      <td>NaN</td>\n",
       "      <td>289.0</td>\n",
       "      <td>88524</td>\n",
       "      <td>6</td>\n",
       "      <td>2</td>\n",
       "      <td>2017</td>\n",
       "      <td>другой</td>\n",
       "      <td>0.70</td>\n",
       "      <td>0.10</td>\n",
       "      <td>1</td>\n",
       "    </tr>\n",
       "    <tr>\n",
       "      <td>...</td>\n",
       "      <td>...</td>\n",
       "      <td>...</td>\n",
       "      <td>...</td>\n",
       "      <td>...</td>\n",
       "      <td>...</td>\n",
       "      <td>...</td>\n",
       "      <td>...</td>\n",
       "      <td>...</td>\n",
       "      <td>...</td>\n",
       "      <td>...</td>\n",
       "      <td>...</td>\n",
       "      <td>...</td>\n",
       "      <td>...</td>\n",
       "      <td>...</td>\n",
       "      <td>...</td>\n",
       "      <td>...</td>\n",
       "      <td>...</td>\n",
       "      <td>...</td>\n",
       "      <td>...</td>\n",
       "      <td>...</td>\n",
       "      <td>...</td>\n",
       "    </tr>\n",
       "    <tr>\n",
       "      <td>23199</td>\n",
       "      <td>13</td>\n",
       "      <td>5250000</td>\n",
       "      <td>43</td>\n",
       "      <td>2018-05-11</td>\n",
       "      <td>2</td>\n",
       "      <td>2.5</td>\n",
       "      <td>5</td>\n",
       "      <td>29</td>\n",
       "      <td>2</td>\n",
       "      <td>0</td>\n",
       "      <td>...</td>\n",
       "      <td>660.0</td>\n",
       "      <td>80.0</td>\n",
       "      <td>122093</td>\n",
       "      <td>4</td>\n",
       "      <td>5</td>\n",
       "      <td>2018</td>\n",
       "      <td>другой</td>\n",
       "      <td>0.67</td>\n",
       "      <td>0.14</td>\n",
       "      <td>2</td>\n",
       "    </tr>\n",
       "    <tr>\n",
       "      <td>23204</td>\n",
       "      <td>8</td>\n",
       "      <td>3300000</td>\n",
       "      <td>31</td>\n",
       "      <td>2017-04-29</td>\n",
       "      <td>1</td>\n",
       "      <td>2.6</td>\n",
       "      <td>9</td>\n",
       "      <td>18</td>\n",
       "      <td>6</td>\n",
       "      <td>0</td>\n",
       "      <td>...</td>\n",
       "      <td>317.0</td>\n",
       "      <td>193.0</td>\n",
       "      <td>106451</td>\n",
       "      <td>5</td>\n",
       "      <td>4</td>\n",
       "      <td>2017</td>\n",
       "      <td>другой</td>\n",
       "      <td>0.58</td>\n",
       "      <td>0.19</td>\n",
       "      <td>2</td>\n",
       "    </tr>\n",
       "    <tr>\n",
       "      <td>23205</td>\n",
       "      <td>6</td>\n",
       "      <td>3200000</td>\n",
       "      <td>39</td>\n",
       "      <td>2017-12-16</td>\n",
       "      <td>1</td>\n",
       "      <td>2.7</td>\n",
       "      <td>9</td>\n",
       "      <td>20</td>\n",
       "      <td>6</td>\n",
       "      <td>0</td>\n",
       "      <td>...</td>\n",
       "      <td>NaN</td>\n",
       "      <td>38.0</td>\n",
       "      <td>82051</td>\n",
       "      <td>5</td>\n",
       "      <td>12</td>\n",
       "      <td>2017</td>\n",
       "      <td>другой</td>\n",
       "      <td>0.51</td>\n",
       "      <td>0.28</td>\n",
       "      <td>1</td>\n",
       "    </tr>\n",
       "    <tr>\n",
       "      <td>23209</td>\n",
       "      <td>11</td>\n",
       "      <td>9470000</td>\n",
       "      <td>72</td>\n",
       "      <td>2016-10-13</td>\n",
       "      <td>2</td>\n",
       "      <td>2.8</td>\n",
       "      <td>25</td>\n",
       "      <td>40</td>\n",
       "      <td>7</td>\n",
       "      <td>0</td>\n",
       "      <td>...</td>\n",
       "      <td>806.0</td>\n",
       "      <td>519.0</td>\n",
       "      <td>131527</td>\n",
       "      <td>3</td>\n",
       "      <td>10</td>\n",
       "      <td>2016</td>\n",
       "      <td>другой</td>\n",
       "      <td>0.56</td>\n",
       "      <td>0.14</td>\n",
       "      <td>4</td>\n",
       "    </tr>\n",
       "    <tr>\n",
       "      <td>23214</td>\n",
       "      <td>13</td>\n",
       "      <td>11475000</td>\n",
       "      <td>76</td>\n",
       "      <td>2017-03-28</td>\n",
       "      <td>2</td>\n",
       "      <td>3.0</td>\n",
       "      <td>17</td>\n",
       "      <td>31</td>\n",
       "      <td>12</td>\n",
       "      <td>0</td>\n",
       "      <td>...</td>\n",
       "      <td>196.0</td>\n",
       "      <td>602.0</td>\n",
       "      <td>150986</td>\n",
       "      <td>1</td>\n",
       "      <td>3</td>\n",
       "      <td>2017</td>\n",
       "      <td>другой</td>\n",
       "      <td>0.41</td>\n",
       "      <td>0.30</td>\n",
       "      <td>2</td>\n",
       "    </tr>\n",
       "  </tbody>\n",
       "</table>\n",
       "<p>11430 rows × 30 columns</p>\n",
       "</div>"
      ],
      "text/plain": [
       "       total_images  last_price  total_area first_day_exposition  rooms  \\\n",
       "0                20    13000000         108           2019-03-07      3   \n",
       "2                10     5196000          56           2015-08-20      2   \n",
       "4                 2    10000000         100           2018-06-19      2   \n",
       "7                 5     7915000          71           2019-04-18      2   \n",
       "9                18     5400000          61           2017-02-26      3   \n",
       "...             ...         ...         ...                  ...    ...   \n",
       "23199            13     5250000          43           2018-05-11      2   \n",
       "23204             8     3300000          31           2017-04-29      1   \n",
       "23205             6     3200000          39           2017-12-16      1   \n",
       "23209            11     9470000          72           2016-10-13      2   \n",
       "23214            13    11475000          76           2017-03-28      2   \n",
       "\n",
       "       ceiling_height  floors_total  living_area  floor is_apartment  ...  \\\n",
       "0                 2.7            16           51      8            0  ...   \n",
       "2                 2.7             5           34      4            0  ...   \n",
       "4                 3.0            14           32     13            0  ...   \n",
       "7                 2.7            24           31     22            0  ...   \n",
       "9                 2.5             9           43      7            0  ...   \n",
       "...               ...           ...          ...    ...          ...  ...   \n",
       "23199             2.5             5           29      2            0  ...   \n",
       "23204             2.6             9           18      6            0  ...   \n",
       "23205             2.7             9           20      6            0  ...   \n",
       "23209             2.8            25           40      7            0  ...   \n",
       "23214             3.0            17           31     12            0  ...   \n",
       "\n",
       "       ponds_nearest  days_exposition  price_for_metres  weekday_publication  \\\n",
       "0              755.0              NaN            120370                    3   \n",
       "2              574.0            558.0             92785                    3   \n",
       "4               48.0            121.0            100000                    1   \n",
       "7                NaN              NaN            111478                    3   \n",
       "9                NaN            289.0             88524                    6   \n",
       "...              ...              ...               ...                  ...   \n",
       "23199          660.0             80.0            122093                    4   \n",
       "23204          317.0            193.0            106451                    5   \n",
       "23205            NaN             38.0             82051                    5   \n",
       "23209          806.0            519.0            131527                    3   \n",
       "23214          196.0            602.0            150986                    1   \n",
       "\n",
       "      month_publication  year_exposition  floor_information  living_to_total  \\\n",
       "0                     3             2019             другой             0.47   \n",
       "2                     8             2015             другой             0.61   \n",
       "4                     6             2018             другой             0.32   \n",
       "7                     4             2019             другой             0.44   \n",
       "9                     2             2017             другой             0.70   \n",
       "...                 ...              ...                ...              ...   \n",
       "23199                 5             2018             другой             0.67   \n",
       "23204                 4             2017             другой             0.58   \n",
       "23205                12             2017             другой             0.51   \n",
       "23209                10             2016             другой             0.56   \n",
       "23214                 3             2017             другой             0.41   \n",
       "\n",
       "       kitchen_to_total  season  \n",
       "0                  0.23       2  \n",
       "2                  0.14       3  \n",
       "4                  0.41       3  \n",
       "7                  0.25       2  \n",
       "9                  0.10       1  \n",
       "...                 ...     ...  \n",
       "23199              0.14       2  \n",
       "23204              0.19       2  \n",
       "23205              0.28       1  \n",
       "23209              0.14       4  \n",
       "23214              0.30       2  \n",
       "\n",
       "[11430 rows x 30 columns]"
      ]
     },
     "execution_count": 81,
     "metadata": {},
     "output_type": "execute_result"
    }
   ],
   "source": [
    "spb_table = good_apartments.query('locality_name == \"Санкт-Петербург\"')\n",
    "spb_table"
   ]
  },
  {
   "cell_type": "code",
   "execution_count": 82,
   "metadata": {},
   "outputs": [
    {
     "data": {
      "text/plain": [
       "total_images               0\n",
       "last_price                 0\n",
       "total_area                 0\n",
       "first_day_exposition       0\n",
       "rooms                      0\n",
       "ceiling_height             0\n",
       "floors_total               0\n",
       "living_area                0\n",
       "floor                      0\n",
       "is_apartment               0\n",
       "studio                     0\n",
       "open_plan                  0\n",
       "kitchen_area               0\n",
       "balcony                    0\n",
       "locality_name              0\n",
       "airports_nearest          53\n",
       "cityCenters_nearest       40\n",
       "parks_around3000           0\n",
       "parks_nearest           6252\n",
       "ponds_around3000           0\n",
       "ponds_nearest           5788\n",
       "days_exposition         1815\n",
       "price_for_metres           0\n",
       "weekday_publication        0\n",
       "month_publication          0\n",
       "year_exposition            0\n",
       "floor_information          0\n",
       "living_to_total            0\n",
       "kitchen_to_total           0\n",
       "season                     0\n",
       "dtype: int64"
      ]
     },
     "execution_count": 82,
     "metadata": {},
     "output_type": "execute_result"
    }
   ],
   "source": [
    "#проверка на пустые значения\n",
    "spb_table.isna().sum()"
   ]
  },
  {
   "cell_type": "markdown",
   "metadata": {},
   "source": [
    "В столбце cityCenters_nearest всего 40 пропущенных значений, удалим их, чтобы не мешали анализу"
   ]
  },
  {
   "cell_type": "code",
   "execution_count": 83,
   "metadata": {},
   "outputs": [
    {
     "name": "stderr",
     "output_type": "stream",
     "text": [
      "/opt/conda/lib/python3.7/site-packages/ipykernel_launcher.py:1: SettingWithCopyWarning: \n",
      "A value is trying to be set on a copy of a slice from a DataFrame\n",
      "\n",
      "See the caveats in the documentation: http://pandas.pydata.org/pandas-docs/stable/user_guide/indexing.html#returning-a-view-versus-a-copy\n",
      "  \"\"\"Entry point for launching an IPython kernel.\n"
     ]
    }
   ],
   "source": [
    "spb_table.dropna(subset=['cityCenters_nearest'], inplace=True)"
   ]
  },
  {
   "cell_type": "code",
   "execution_count": 84,
   "metadata": {},
   "outputs": [],
   "source": [
    "def kilometres(metres):\n",
    "    kilometres = round(metres / 1000)\n",
    "    return kilometres"
   ]
  },
  {
   "cell_type": "code",
   "execution_count": 85,
   "metadata": {},
   "outputs": [
    {
     "name": "stderr",
     "output_type": "stream",
     "text": [
      "/opt/conda/lib/python3.7/site-packages/ipykernel_launcher.py:1: SettingWithCopyWarning: \n",
      "A value is trying to be set on a copy of a slice from a DataFrame.\n",
      "Try using .loc[row_indexer,col_indexer] = value instead\n",
      "\n",
      "See the caveats in the documentation: http://pandas.pydata.org/pandas-docs/stable/user_guide/indexing.html#returning-a-view-versus-a-copy\n",
      "  \"\"\"Entry point for launching an IPython kernel.\n"
     ]
    },
    {
     "data": {
      "text/html": [
       "<div>\n",
       "<style scoped>\n",
       "    .dataframe tbody tr th:only-of-type {\n",
       "        vertical-align: middle;\n",
       "    }\n",
       "\n",
       "    .dataframe tbody tr th {\n",
       "        vertical-align: top;\n",
       "    }\n",
       "\n",
       "    .dataframe thead th {\n",
       "        text-align: right;\n",
       "    }\n",
       "</style>\n",
       "<table border=\"1\" class=\"dataframe\">\n",
       "  <thead>\n",
       "    <tr style=\"text-align: right;\">\n",
       "      <th></th>\n",
       "      <th>total_images</th>\n",
       "      <th>last_price</th>\n",
       "      <th>total_area</th>\n",
       "      <th>first_day_exposition</th>\n",
       "      <th>rooms</th>\n",
       "      <th>ceiling_height</th>\n",
       "      <th>floors_total</th>\n",
       "      <th>living_area</th>\n",
       "      <th>floor</th>\n",
       "      <th>is_apartment</th>\n",
       "      <th>...</th>\n",
       "      <th>days_exposition</th>\n",
       "      <th>price_for_metres</th>\n",
       "      <th>weekday_publication</th>\n",
       "      <th>month_publication</th>\n",
       "      <th>year_exposition</th>\n",
       "      <th>floor_information</th>\n",
       "      <th>living_to_total</th>\n",
       "      <th>kitchen_to_total</th>\n",
       "      <th>season</th>\n",
       "      <th>cityCenters_nearest_km</th>\n",
       "    </tr>\n",
       "  </thead>\n",
       "  <tbody>\n",
       "    <tr>\n",
       "      <td>0</td>\n",
       "      <td>20</td>\n",
       "      <td>13000000</td>\n",
       "      <td>108</td>\n",
       "      <td>2019-03-07</td>\n",
       "      <td>3</td>\n",
       "      <td>2.7</td>\n",
       "      <td>16</td>\n",
       "      <td>51</td>\n",
       "      <td>8</td>\n",
       "      <td>0</td>\n",
       "      <td>...</td>\n",
       "      <td>NaN</td>\n",
       "      <td>120370</td>\n",
       "      <td>3</td>\n",
       "      <td>3</td>\n",
       "      <td>2019</td>\n",
       "      <td>другой</td>\n",
       "      <td>0.47</td>\n",
       "      <td>0.23</td>\n",
       "      <td>2</td>\n",
       "      <td>16</td>\n",
       "    </tr>\n",
       "    <tr>\n",
       "      <td>2</td>\n",
       "      <td>10</td>\n",
       "      <td>5196000</td>\n",
       "      <td>56</td>\n",
       "      <td>2015-08-20</td>\n",
       "      <td>2</td>\n",
       "      <td>2.7</td>\n",
       "      <td>5</td>\n",
       "      <td>34</td>\n",
       "      <td>4</td>\n",
       "      <td>0</td>\n",
       "      <td>...</td>\n",
       "      <td>558.0</td>\n",
       "      <td>92785</td>\n",
       "      <td>3</td>\n",
       "      <td>8</td>\n",
       "      <td>2015</td>\n",
       "      <td>другой</td>\n",
       "      <td>0.61</td>\n",
       "      <td>0.14</td>\n",
       "      <td>3</td>\n",
       "      <td>14</td>\n",
       "    </tr>\n",
       "    <tr>\n",
       "      <td>4</td>\n",
       "      <td>2</td>\n",
       "      <td>10000000</td>\n",
       "      <td>100</td>\n",
       "      <td>2018-06-19</td>\n",
       "      <td>2</td>\n",
       "      <td>3.0</td>\n",
       "      <td>14</td>\n",
       "      <td>32</td>\n",
       "      <td>13</td>\n",
       "      <td>0</td>\n",
       "      <td>...</td>\n",
       "      <td>121.0</td>\n",
       "      <td>100000</td>\n",
       "      <td>1</td>\n",
       "      <td>6</td>\n",
       "      <td>2018</td>\n",
       "      <td>другой</td>\n",
       "      <td>0.32</td>\n",
       "      <td>0.41</td>\n",
       "      <td>3</td>\n",
       "      <td>8</td>\n",
       "    </tr>\n",
       "    <tr>\n",
       "      <td>7</td>\n",
       "      <td>5</td>\n",
       "      <td>7915000</td>\n",
       "      <td>71</td>\n",
       "      <td>2019-04-18</td>\n",
       "      <td>2</td>\n",
       "      <td>2.7</td>\n",
       "      <td>24</td>\n",
       "      <td>31</td>\n",
       "      <td>22</td>\n",
       "      <td>0</td>\n",
       "      <td>...</td>\n",
       "      <td>NaN</td>\n",
       "      <td>111478</td>\n",
       "      <td>3</td>\n",
       "      <td>4</td>\n",
       "      <td>2019</td>\n",
       "      <td>другой</td>\n",
       "      <td>0.44</td>\n",
       "      <td>0.25</td>\n",
       "      <td>2</td>\n",
       "      <td>12</td>\n",
       "    </tr>\n",
       "    <tr>\n",
       "      <td>9</td>\n",
       "      <td>18</td>\n",
       "      <td>5400000</td>\n",
       "      <td>61</td>\n",
       "      <td>2017-02-26</td>\n",
       "      <td>3</td>\n",
       "      <td>2.5</td>\n",
       "      <td>9</td>\n",
       "      <td>43</td>\n",
       "      <td>7</td>\n",
       "      <td>0</td>\n",
       "      <td>...</td>\n",
       "      <td>289.0</td>\n",
       "      <td>88524</td>\n",
       "      <td>6</td>\n",
       "      <td>2</td>\n",
       "      <td>2017</td>\n",
       "      <td>другой</td>\n",
       "      <td>0.70</td>\n",
       "      <td>0.10</td>\n",
       "      <td>1</td>\n",
       "      <td>15</td>\n",
       "    </tr>\n",
       "    <tr>\n",
       "      <td>...</td>\n",
       "      <td>...</td>\n",
       "      <td>...</td>\n",
       "      <td>...</td>\n",
       "      <td>...</td>\n",
       "      <td>...</td>\n",
       "      <td>...</td>\n",
       "      <td>...</td>\n",
       "      <td>...</td>\n",
       "      <td>...</td>\n",
       "      <td>...</td>\n",
       "      <td>...</td>\n",
       "      <td>...</td>\n",
       "      <td>...</td>\n",
       "      <td>...</td>\n",
       "      <td>...</td>\n",
       "      <td>...</td>\n",
       "      <td>...</td>\n",
       "      <td>...</td>\n",
       "      <td>...</td>\n",
       "      <td>...</td>\n",
       "      <td>...</td>\n",
       "    </tr>\n",
       "    <tr>\n",
       "      <td>23199</td>\n",
       "      <td>13</td>\n",
       "      <td>5250000</td>\n",
       "      <td>43</td>\n",
       "      <td>2018-05-11</td>\n",
       "      <td>2</td>\n",
       "      <td>2.5</td>\n",
       "      <td>5</td>\n",
       "      <td>29</td>\n",
       "      <td>2</td>\n",
       "      <td>0</td>\n",
       "      <td>...</td>\n",
       "      <td>80.0</td>\n",
       "      <td>122093</td>\n",
       "      <td>4</td>\n",
       "      <td>5</td>\n",
       "      <td>2018</td>\n",
       "      <td>другой</td>\n",
       "      <td>0.67</td>\n",
       "      <td>0.14</td>\n",
       "      <td>2</td>\n",
       "      <td>7</td>\n",
       "    </tr>\n",
       "    <tr>\n",
       "      <td>23204</td>\n",
       "      <td>8</td>\n",
       "      <td>3300000</td>\n",
       "      <td>31</td>\n",
       "      <td>2017-04-29</td>\n",
       "      <td>1</td>\n",
       "      <td>2.6</td>\n",
       "      <td>9</td>\n",
       "      <td>18</td>\n",
       "      <td>6</td>\n",
       "      <td>0</td>\n",
       "      <td>...</td>\n",
       "      <td>193.0</td>\n",
       "      <td>106451</td>\n",
       "      <td>5</td>\n",
       "      <td>4</td>\n",
       "      <td>2017</td>\n",
       "      <td>другой</td>\n",
       "      <td>0.58</td>\n",
       "      <td>0.19</td>\n",
       "      <td>2</td>\n",
       "      <td>12</td>\n",
       "    </tr>\n",
       "    <tr>\n",
       "      <td>23205</td>\n",
       "      <td>6</td>\n",
       "      <td>3200000</td>\n",
       "      <td>39</td>\n",
       "      <td>2017-12-16</td>\n",
       "      <td>1</td>\n",
       "      <td>2.7</td>\n",
       "      <td>9</td>\n",
       "      <td>20</td>\n",
       "      <td>6</td>\n",
       "      <td>0</td>\n",
       "      <td>...</td>\n",
       "      <td>38.0</td>\n",
       "      <td>82051</td>\n",
       "      <td>5</td>\n",
       "      <td>12</td>\n",
       "      <td>2017</td>\n",
       "      <td>другой</td>\n",
       "      <td>0.51</td>\n",
       "      <td>0.28</td>\n",
       "      <td>1</td>\n",
       "      <td>17</td>\n",
       "    </tr>\n",
       "    <tr>\n",
       "      <td>23209</td>\n",
       "      <td>11</td>\n",
       "      <td>9470000</td>\n",
       "      <td>72</td>\n",
       "      <td>2016-10-13</td>\n",
       "      <td>2</td>\n",
       "      <td>2.8</td>\n",
       "      <td>25</td>\n",
       "      <td>40</td>\n",
       "      <td>7</td>\n",
       "      <td>0</td>\n",
       "      <td>...</td>\n",
       "      <td>519.0</td>\n",
       "      <td>131527</td>\n",
       "      <td>3</td>\n",
       "      <td>10</td>\n",
       "      <td>2016</td>\n",
       "      <td>другой</td>\n",
       "      <td>0.56</td>\n",
       "      <td>0.14</td>\n",
       "      <td>4</td>\n",
       "      <td>4</td>\n",
       "    </tr>\n",
       "    <tr>\n",
       "      <td>23214</td>\n",
       "      <td>13</td>\n",
       "      <td>11475000</td>\n",
       "      <td>76</td>\n",
       "      <td>2017-03-28</td>\n",
       "      <td>2</td>\n",
       "      <td>3.0</td>\n",
       "      <td>17</td>\n",
       "      <td>31</td>\n",
       "      <td>12</td>\n",
       "      <td>0</td>\n",
       "      <td>...</td>\n",
       "      <td>602.0</td>\n",
       "      <td>150986</td>\n",
       "      <td>1</td>\n",
       "      <td>3</td>\n",
       "      <td>2017</td>\n",
       "      <td>другой</td>\n",
       "      <td>0.41</td>\n",
       "      <td>0.30</td>\n",
       "      <td>2</td>\n",
       "      <td>10</td>\n",
       "    </tr>\n",
       "  </tbody>\n",
       "</table>\n",
       "<p>11390 rows × 31 columns</p>\n",
       "</div>"
      ],
      "text/plain": [
       "       total_images  last_price  total_area first_day_exposition  rooms  \\\n",
       "0                20    13000000         108           2019-03-07      3   \n",
       "2                10     5196000          56           2015-08-20      2   \n",
       "4                 2    10000000         100           2018-06-19      2   \n",
       "7                 5     7915000          71           2019-04-18      2   \n",
       "9                18     5400000          61           2017-02-26      3   \n",
       "...             ...         ...         ...                  ...    ...   \n",
       "23199            13     5250000          43           2018-05-11      2   \n",
       "23204             8     3300000          31           2017-04-29      1   \n",
       "23205             6     3200000          39           2017-12-16      1   \n",
       "23209            11     9470000          72           2016-10-13      2   \n",
       "23214            13    11475000          76           2017-03-28      2   \n",
       "\n",
       "       ceiling_height  floors_total  living_area  floor is_apartment  ...  \\\n",
       "0                 2.7            16           51      8            0  ...   \n",
       "2                 2.7             5           34      4            0  ...   \n",
       "4                 3.0            14           32     13            0  ...   \n",
       "7                 2.7            24           31     22            0  ...   \n",
       "9                 2.5             9           43      7            0  ...   \n",
       "...               ...           ...          ...    ...          ...  ...   \n",
       "23199             2.5             5           29      2            0  ...   \n",
       "23204             2.6             9           18      6            0  ...   \n",
       "23205             2.7             9           20      6            0  ...   \n",
       "23209             2.8            25           40      7            0  ...   \n",
       "23214             3.0            17           31     12            0  ...   \n",
       "\n",
       "       days_exposition  price_for_metres  weekday_publication  \\\n",
       "0                  NaN            120370                    3   \n",
       "2                558.0             92785                    3   \n",
       "4                121.0            100000                    1   \n",
       "7                  NaN            111478                    3   \n",
       "9                289.0             88524                    6   \n",
       "...                ...               ...                  ...   \n",
       "23199             80.0            122093                    4   \n",
       "23204            193.0            106451                    5   \n",
       "23205             38.0             82051                    5   \n",
       "23209            519.0            131527                    3   \n",
       "23214            602.0            150986                    1   \n",
       "\n",
       "       month_publication year_exposition  floor_information  living_to_total  \\\n",
       "0                      3            2019             другой             0.47   \n",
       "2                      8            2015             другой             0.61   \n",
       "4                      6            2018             другой             0.32   \n",
       "7                      4            2019             другой             0.44   \n",
       "9                      2            2017             другой             0.70   \n",
       "...                  ...             ...                ...              ...   \n",
       "23199                  5            2018             другой             0.67   \n",
       "23204                  4            2017             другой             0.58   \n",
       "23205                 12            2017             другой             0.51   \n",
       "23209                 10            2016             другой             0.56   \n",
       "23214                  3            2017             другой             0.41   \n",
       "\n",
       "       kitchen_to_total  season  cityCenters_nearest_km  \n",
       "0                  0.23       2                      16  \n",
       "2                  0.14       3                      14  \n",
       "4                  0.41       3                       8  \n",
       "7                  0.25       2                      12  \n",
       "9                  0.10       1                      15  \n",
       "...                 ...     ...                     ...  \n",
       "23199              0.14       2                       7  \n",
       "23204              0.19       2                      12  \n",
       "23205              0.28       1                      17  \n",
       "23209              0.14       4                       4  \n",
       "23214              0.30       2                      10  \n",
       "\n",
       "[11390 rows x 31 columns]"
      ]
     },
     "execution_count": 85,
     "metadata": {},
     "output_type": "execute_result"
    }
   ],
   "source": [
    "spb_table['cityCenters_nearest_km'] = spb_table['cityCenters_nearest'].apply(kilometres)\n",
    "spb_table"
   ]
  },
  {
   "cell_type": "code",
   "execution_count": 86,
   "metadata": {},
   "outputs": [
    {
     "data": {
      "image/png": "[encoded data removed]",
      "text/plain": [
       "<Figure size 432x288 with 1 Axes>"
      ]
     },
     "metadata": {
      "needs_background": "light"
     },
     "output_type": "display_data"
    },
    {
     "data": {
      "text/plain": [
       "<matplotlib.axes._subplots.AxesSubplot at 0x7efeea396e10>"
      ]
     },
     "execution_count": 86,
     "metadata": {},
     "output_type": "execute_result"
    },
    {
     "data": {
      "image/png": "[encoded data removed]",
      "text/plain": [
       "<Figure size 432x288 with 1 Axes>"
      ]
     },
     "metadata": {
      "needs_background": "light"
     },
     "output_type": "display_data"
    }
   ],
   "source": [
    "spb_table.pivot_table(index='cityCenters_nearest_km', values='last_price').plot()\n",
    "plt.show()\n",
    "spb_table.pivot_table(index='cityCenters_nearest_km', values='price_for_metres').plot()"
   ]
  },
  {
   "cell_type": "markdown",
   "metadata": {},
   "source": [
    "На графиках зависимости цены и средней цены от расстояния до центра видно, что примерно на расстоянии 3 километров график меняется и цена начинает немного расти, это связано с тем, что она перестает зависеть от расположения и зависит уже от других факторов"
   ]
  },
  {
   "cell_type": "code",
   "execution_count": 87,
   "metadata": {},
   "outputs": [
    {
     "data": {
      "text/html": [
       "<div>\n",
       "<style scoped>\n",
       "    .dataframe tbody tr th:only-of-type {\n",
       "        vertical-align: middle;\n",
       "    }\n",
       "\n",
       "    .dataframe tbody tr th {\n",
       "        vertical-align: top;\n",
       "    }\n",
       "\n",
       "    .dataframe thead th {\n",
       "        text-align: right;\n",
       "    }\n",
       "</style>\n",
       "<table border=\"1\" class=\"dataframe\">\n",
       "  <thead>\n",
       "    <tr style=\"text-align: right;\">\n",
       "      <th></th>\n",
       "      <th>total_images</th>\n",
       "      <th>last_price</th>\n",
       "      <th>total_area</th>\n",
       "      <th>first_day_exposition</th>\n",
       "      <th>rooms</th>\n",
       "      <th>ceiling_height</th>\n",
       "      <th>floors_total</th>\n",
       "      <th>living_area</th>\n",
       "      <th>floor</th>\n",
       "      <th>is_apartment</th>\n",
       "      <th>...</th>\n",
       "      <th>days_exposition</th>\n",
       "      <th>price_for_metres</th>\n",
       "      <th>weekday_publication</th>\n",
       "      <th>month_publication</th>\n",
       "      <th>year_exposition</th>\n",
       "      <th>floor_information</th>\n",
       "      <th>living_to_total</th>\n",
       "      <th>kitchen_to_total</th>\n",
       "      <th>season</th>\n",
       "      <th>cityCenters_nearest_km</th>\n",
       "    </tr>\n",
       "  </thead>\n",
       "  <tbody>\n",
       "    <tr>\n",
       "      <td>24</td>\n",
       "      <td>8</td>\n",
       "      <td>6500000</td>\n",
       "      <td>97</td>\n",
       "      <td>2015-10-31</td>\n",
       "      <td>2</td>\n",
       "      <td>2.7</td>\n",
       "      <td>3</td>\n",
       "      <td>46</td>\n",
       "      <td>1</td>\n",
       "      <td>0</td>\n",
       "      <td>...</td>\n",
       "      <td>265.0</td>\n",
       "      <td>67010</td>\n",
       "      <td>5</td>\n",
       "      <td>10</td>\n",
       "      <td>2015</td>\n",
       "      <td>первый</td>\n",
       "      <td>0.47</td>\n",
       "      <td>0.20</td>\n",
       "      <td>4</td>\n",
       "      <td>2</td>\n",
       "    </tr>\n",
       "    <tr>\n",
       "      <td>99</td>\n",
       "      <td>32</td>\n",
       "      <td>9600000</td>\n",
       "      <td>90</td>\n",
       "      <td>2017-09-26</td>\n",
       "      <td>4</td>\n",
       "      <td>2.7</td>\n",
       "      <td>5</td>\n",
       "      <td>67</td>\n",
       "      <td>2</td>\n",
       "      <td>0</td>\n",
       "      <td>...</td>\n",
       "      <td>104.0</td>\n",
       "      <td>106666</td>\n",
       "      <td>1</td>\n",
       "      <td>9</td>\n",
       "      <td>2017</td>\n",
       "      <td>другой</td>\n",
       "      <td>0.74</td>\n",
       "      <td>0.09</td>\n",
       "      <td>4</td>\n",
       "      <td>3</td>\n",
       "    </tr>\n",
       "    <tr>\n",
       "      <td>137</td>\n",
       "      <td>8</td>\n",
       "      <td>4800000</td>\n",
       "      <td>40</td>\n",
       "      <td>2017-11-18</td>\n",
       "      <td>2</td>\n",
       "      <td>2.7</td>\n",
       "      <td>3</td>\n",
       "      <td>29</td>\n",
       "      <td>2</td>\n",
       "      <td>0</td>\n",
       "      <td>...</td>\n",
       "      <td>80.0</td>\n",
       "      <td>120000</td>\n",
       "      <td>5</td>\n",
       "      <td>11</td>\n",
       "      <td>2017</td>\n",
       "      <td>другой</td>\n",
       "      <td>0.72</td>\n",
       "      <td>0.15</td>\n",
       "      <td>4</td>\n",
       "      <td>3</td>\n",
       "    </tr>\n",
       "    <tr>\n",
       "      <td>177</td>\n",
       "      <td>2</td>\n",
       "      <td>7900000</td>\n",
       "      <td>71</td>\n",
       "      <td>2017-08-23</td>\n",
       "      <td>3</td>\n",
       "      <td>3.0</td>\n",
       "      <td>5</td>\n",
       "      <td>38</td>\n",
       "      <td>1</td>\n",
       "      <td>0</td>\n",
       "      <td>...</td>\n",
       "      <td>NaN</td>\n",
       "      <td>111267</td>\n",
       "      <td>2</td>\n",
       "      <td>8</td>\n",
       "      <td>2017</td>\n",
       "      <td>первый</td>\n",
       "      <td>0.54</td>\n",
       "      <td>0.17</td>\n",
       "      <td>3</td>\n",
       "      <td>3</td>\n",
       "    </tr>\n",
       "    <tr>\n",
       "      <td>202</td>\n",
       "      <td>11</td>\n",
       "      <td>9000000</td>\n",
       "      <td>72</td>\n",
       "      <td>2018-09-08</td>\n",
       "      <td>2</td>\n",
       "      <td>2.9</td>\n",
       "      <td>5</td>\n",
       "      <td>43</td>\n",
       "      <td>4</td>\n",
       "      <td>0</td>\n",
       "      <td>...</td>\n",
       "      <td>NaN</td>\n",
       "      <td>125000</td>\n",
       "      <td>5</td>\n",
       "      <td>9</td>\n",
       "      <td>2018</td>\n",
       "      <td>другой</td>\n",
       "      <td>0.60</td>\n",
       "      <td>0.15</td>\n",
       "      <td>4</td>\n",
       "      <td>2</td>\n",
       "    </tr>\n",
       "    <tr>\n",
       "      <td>...</td>\n",
       "      <td>...</td>\n",
       "      <td>...</td>\n",
       "      <td>...</td>\n",
       "      <td>...</td>\n",
       "      <td>...</td>\n",
       "      <td>...</td>\n",
       "      <td>...</td>\n",
       "      <td>...</td>\n",
       "      <td>...</td>\n",
       "      <td>...</td>\n",
       "      <td>...</td>\n",
       "      <td>...</td>\n",
       "      <td>...</td>\n",
       "      <td>...</td>\n",
       "      <td>...</td>\n",
       "      <td>...</td>\n",
       "      <td>...</td>\n",
       "      <td>...</td>\n",
       "      <td>...</td>\n",
       "      <td>...</td>\n",
       "      <td>...</td>\n",
       "    </tr>\n",
       "    <tr>\n",
       "      <td>22911</td>\n",
       "      <td>7</td>\n",
       "      <td>5600000</td>\n",
       "      <td>50</td>\n",
       "      <td>2017-08-21</td>\n",
       "      <td>1</td>\n",
       "      <td>2.7</td>\n",
       "      <td>5</td>\n",
       "      <td>27</td>\n",
       "      <td>1</td>\n",
       "      <td>0</td>\n",
       "      <td>...</td>\n",
       "      <td>45.0</td>\n",
       "      <td>112000</td>\n",
       "      <td>0</td>\n",
       "      <td>8</td>\n",
       "      <td>2017</td>\n",
       "      <td>первый</td>\n",
       "      <td>0.54</td>\n",
       "      <td>0.20</td>\n",
       "      <td>3</td>\n",
       "      <td>3</td>\n",
       "    </tr>\n",
       "    <tr>\n",
       "      <td>22923</td>\n",
       "      <td>16</td>\n",
       "      <td>15300000</td>\n",
       "      <td>97</td>\n",
       "      <td>2017-01-11</td>\n",
       "      <td>3</td>\n",
       "      <td>3.5</td>\n",
       "      <td>7</td>\n",
       "      <td>61</td>\n",
       "      <td>2</td>\n",
       "      <td>0</td>\n",
       "      <td>...</td>\n",
       "      <td>391.0</td>\n",
       "      <td>157731</td>\n",
       "      <td>2</td>\n",
       "      <td>1</td>\n",
       "      <td>2017</td>\n",
       "      <td>другой</td>\n",
       "      <td>0.63</td>\n",
       "      <td>0.09</td>\n",
       "      <td>1</td>\n",
       "      <td>1</td>\n",
       "    </tr>\n",
       "    <tr>\n",
       "      <td>22972</td>\n",
       "      <td>4</td>\n",
       "      <td>6300000</td>\n",
       "      <td>52</td>\n",
       "      <td>2015-05-28</td>\n",
       "      <td>3</td>\n",
       "      <td>3.2</td>\n",
       "      <td>5</td>\n",
       "      <td>29</td>\n",
       "      <td>2</td>\n",
       "      <td>0</td>\n",
       "      <td>...</td>\n",
       "      <td>505.0</td>\n",
       "      <td>121153</td>\n",
       "      <td>3</td>\n",
       "      <td>5</td>\n",
       "      <td>2015</td>\n",
       "      <td>другой</td>\n",
       "      <td>0.56</td>\n",
       "      <td>0.15</td>\n",
       "      <td>2</td>\n",
       "      <td>3</td>\n",
       "    </tr>\n",
       "    <tr>\n",
       "      <td>23122</td>\n",
       "      <td>0</td>\n",
       "      <td>8700000</td>\n",
       "      <td>73</td>\n",
       "      <td>2019-01-23</td>\n",
       "      <td>3</td>\n",
       "      <td>2.6</td>\n",
       "      <td>4</td>\n",
       "      <td>45</td>\n",
       "      <td>4</td>\n",
       "      <td>0</td>\n",
       "      <td>...</td>\n",
       "      <td>34.0</td>\n",
       "      <td>119178</td>\n",
       "      <td>2</td>\n",
       "      <td>1</td>\n",
       "      <td>2019</td>\n",
       "      <td>последний</td>\n",
       "      <td>0.62</td>\n",
       "      <td>0.14</td>\n",
       "      <td>1</td>\n",
       "      <td>2</td>\n",
       "    </tr>\n",
       "    <tr>\n",
       "      <td>23167</td>\n",
       "      <td>14</td>\n",
       "      <td>10100000</td>\n",
       "      <td>78</td>\n",
       "      <td>2017-05-12</td>\n",
       "      <td>3</td>\n",
       "      <td>3.3</td>\n",
       "      <td>5</td>\n",
       "      <td>48</td>\n",
       "      <td>5</td>\n",
       "      <td>0</td>\n",
       "      <td>...</td>\n",
       "      <td>621.0</td>\n",
       "      <td>129487</td>\n",
       "      <td>4</td>\n",
       "      <td>5</td>\n",
       "      <td>2017</td>\n",
       "      <td>последний</td>\n",
       "      <td>0.62</td>\n",
       "      <td>0.10</td>\n",
       "      <td>2</td>\n",
       "      <td>1</td>\n",
       "    </tr>\n",
       "  </tbody>\n",
       "</table>\n",
       "<p>512 rows × 31 columns</p>\n",
       "</div>"
      ],
      "text/plain": [
       "       total_images  last_price  total_area first_day_exposition  rooms  \\\n",
       "24                8     6500000          97           2015-10-31      2   \n",
       "99               32     9600000          90           2017-09-26      4   \n",
       "137               8     4800000          40           2017-11-18      2   \n",
       "177               2     7900000          71           2017-08-23      3   \n",
       "202              11     9000000          72           2018-09-08      2   \n",
       "...             ...         ...         ...                  ...    ...   \n",
       "22911             7     5600000          50           2017-08-21      1   \n",
       "22923            16    15300000          97           2017-01-11      3   \n",
       "22972             4     6300000          52           2015-05-28      3   \n",
       "23122             0     8700000          73           2019-01-23      3   \n",
       "23167            14    10100000          78           2017-05-12      3   \n",
       "\n",
       "       ceiling_height  floors_total  living_area  floor is_apartment  ...  \\\n",
       "24                2.7             3           46      1            0  ...   \n",
       "99                2.7             5           67      2            0  ...   \n",
       "137               2.7             3           29      2            0  ...   \n",
       "177               3.0             5           38      1            0  ...   \n",
       "202               2.9             5           43      4            0  ...   \n",
       "...               ...           ...          ...    ...          ...  ...   \n",
       "22911             2.7             5           27      1            0  ...   \n",
       "22923             3.5             7           61      2            0  ...   \n",
       "22972             3.2             5           29      2            0  ...   \n",
       "23122             2.6             4           45      4            0  ...   \n",
       "23167             3.3             5           48      5            0  ...   \n",
       "\n",
       "       days_exposition  price_for_metres  weekday_publication  \\\n",
       "24               265.0             67010                    5   \n",
       "99               104.0            106666                    1   \n",
       "137               80.0            120000                    5   \n",
       "177                NaN            111267                    2   \n",
       "202                NaN            125000                    5   \n",
       "...                ...               ...                  ...   \n",
       "22911             45.0            112000                    0   \n",
       "22923            391.0            157731                    2   \n",
       "22972            505.0            121153                    3   \n",
       "23122             34.0            119178                    2   \n",
       "23167            621.0            129487                    4   \n",
       "\n",
       "       month_publication year_exposition  floor_information  living_to_total  \\\n",
       "24                    10            2015             первый             0.47   \n",
       "99                     9            2017             другой             0.74   \n",
       "137                   11            2017             другой             0.72   \n",
       "177                    8            2017             первый             0.54   \n",
       "202                    9            2018             другой             0.60   \n",
       "...                  ...             ...                ...              ...   \n",
       "22911                  8            2017             первый             0.54   \n",
       "22923                  1            2017             другой             0.63   \n",
       "22972                  5            2015             другой             0.56   \n",
       "23122                  1            2019          последний             0.62   \n",
       "23167                  5            2017          последний             0.62   \n",
       "\n",
       "       kitchen_to_total  season  cityCenters_nearest_km  \n",
       "24                 0.20       4                       2  \n",
       "99                 0.09       4                       3  \n",
       "137                0.15       4                       3  \n",
       "177                0.17       3                       3  \n",
       "202                0.15       4                       2  \n",
       "...                 ...     ...                     ...  \n",
       "22911              0.20       3                       3  \n",
       "22923              0.09       1                       1  \n",
       "22972              0.15       2                       3  \n",
       "23122              0.14       1                       2  \n",
       "23167              0.10       2                       1  \n",
       "\n",
       "[512 rows x 31 columns]"
      ]
     },
     "execution_count": 87,
     "metadata": {},
     "output_type": "execute_result"
    }
   ],
   "source": [
    "spb_center = spb_table.query('cityCenters_nearest_km <= 3')\n",
    "spb_center"
   ]
  },
  {
   "cell_type": "code",
   "execution_count": 88,
   "metadata": {},
   "outputs": [
    {
     "data": {
      "text/html": [
       "<div>\n",
       "<style scoped>\n",
       "    .dataframe tbody tr th:only-of-type {\n",
       "        vertical-align: middle;\n",
       "    }\n",
       "\n",
       "    .dataframe tbody tr th {\n",
       "        vertical-align: top;\n",
       "    }\n",
       "\n",
       "    .dataframe thead th {\n",
       "        text-align: right;\n",
       "    }\n",
       "</style>\n",
       "<table border=\"1\" class=\"dataframe\">\n",
       "  <thead>\n",
       "    <tr style=\"text-align: right;\">\n",
       "      <th></th>\n",
       "      <th>total_area</th>\n",
       "      <th>last_price</th>\n",
       "      <th>price_for_metres</th>\n",
       "      <th>rooms</th>\n",
       "      <th>ceiling_height</th>\n",
       "      <th>cityCenters_nearest_km</th>\n",
       "    </tr>\n",
       "  </thead>\n",
       "  <tbody>\n",
       "    <tr>\n",
       "      <td>count</td>\n",
       "      <td>512.000000</td>\n",
       "      <td>5.120000e+02</td>\n",
       "      <td>512.000000</td>\n",
       "      <td>512.000000</td>\n",
       "      <td>512.000000</td>\n",
       "      <td>512.000000</td>\n",
       "    </tr>\n",
       "    <tr>\n",
       "      <td>mean</td>\n",
       "      <td>84.011719</td>\n",
       "      <td>9.622329e+06</td>\n",
       "      <td>119523.941406</td>\n",
       "      <td>2.884766</td>\n",
       "      <td>2.945898</td>\n",
       "      <td>2.230469</td>\n",
       "    </tr>\n",
       "    <tr>\n",
       "      <td>std</td>\n",
       "      <td>33.235386</td>\n",
       "      <td>3.710981e+06</td>\n",
       "      <td>36953.661360</td>\n",
       "      <td>1.152043</td>\n",
       "      <td>0.280869</td>\n",
       "      <td>0.809441</td>\n",
       "    </tr>\n",
       "    <tr>\n",
       "      <td>min</td>\n",
       "      <td>12.000000</td>\n",
       "      <td>2.400000e+06</td>\n",
       "      <td>29072.000000</td>\n",
       "      <td>1.000000</td>\n",
       "      <td>2.500000</td>\n",
       "      <td>0.000000</td>\n",
       "    </tr>\n",
       "    <tr>\n",
       "      <td>25%</td>\n",
       "      <td>61.000000</td>\n",
       "      <td>6.897500e+06</td>\n",
       "      <td>94804.250000</td>\n",
       "      <td>2.000000</td>\n",
       "      <td>2.700000</td>\n",
       "      <td>2.000000</td>\n",
       "    </tr>\n",
       "    <tr>\n",
       "      <td>50%</td>\n",
       "      <td>80.000000</td>\n",
       "      <td>8.925000e+06</td>\n",
       "      <td>111329.500000</td>\n",
       "      <td>3.000000</td>\n",
       "      <td>2.900000</td>\n",
       "      <td>2.000000</td>\n",
       "    </tr>\n",
       "    <tr>\n",
       "      <td>75%</td>\n",
       "      <td>100.000000</td>\n",
       "      <td>1.200000e+07</td>\n",
       "      <td>135773.000000</td>\n",
       "      <td>4.000000</td>\n",
       "      <td>3.200000</td>\n",
       "      <td>3.000000</td>\n",
       "    </tr>\n",
       "    <tr>\n",
       "      <td>max</td>\n",
       "      <td>211.000000</td>\n",
       "      <td>1.999900e+07</td>\n",
       "      <td>387096.000000</td>\n",
       "      <td>6.000000</td>\n",
       "      <td>3.500000</td>\n",
       "      <td>3.000000</td>\n",
       "    </tr>\n",
       "  </tbody>\n",
       "</table>\n",
       "</div>"
      ],
      "text/plain": [
       "       total_area    last_price  price_for_metres       rooms  ceiling_height  \\\n",
       "count  512.000000  5.120000e+02        512.000000  512.000000      512.000000   \n",
       "mean    84.011719  9.622329e+06     119523.941406    2.884766        2.945898   \n",
       "std     33.235386  3.710981e+06      36953.661360    1.152043        0.280869   \n",
       "min     12.000000  2.400000e+06      29072.000000    1.000000        2.500000   \n",
       "25%     61.000000  6.897500e+06      94804.250000    2.000000        2.700000   \n",
       "50%     80.000000  8.925000e+06     111329.500000    3.000000        2.900000   \n",
       "75%    100.000000  1.200000e+07     135773.000000    4.000000        3.200000   \n",
       "max    211.000000  1.999900e+07     387096.000000    6.000000        3.500000   \n",
       "\n",
       "       cityCenters_nearest_km  \n",
       "count              512.000000  \n",
       "mean                 2.230469  \n",
       "std                  0.809441  \n",
       "min                  0.000000  \n",
       "25%                  2.000000  \n",
       "50%                  2.000000  \n",
       "75%                  3.000000  \n",
       "max                  3.000000  "
      ]
     },
     "execution_count": 88,
     "metadata": {},
     "output_type": "execute_result"
    }
   ],
   "source": [
    "#информация для центра Питера\n",
    "spb_center.loc[:,['total_area', 'last_price', 'price_for_metres', 'rooms', 'ceiling_height', 'cityCenters_nearest_km']].describe()"
   ]
  },
  {
   "cell_type": "code",
   "execution_count": 89,
   "metadata": {},
   "outputs": [
    {
     "data": {
      "text/html": [
       "<div>\n",
       "<style scoped>\n",
       "    .dataframe tbody tr th:only-of-type {\n",
       "        vertical-align: middle;\n",
       "    }\n",
       "\n",
       "    .dataframe tbody tr th {\n",
       "        vertical-align: top;\n",
       "    }\n",
       "\n",
       "    .dataframe thead th {\n",
       "        text-align: right;\n",
       "    }\n",
       "</style>\n",
       "<table border=\"1\" class=\"dataframe\">\n",
       "  <thead>\n",
       "    <tr style=\"text-align: right;\">\n",
       "      <th></th>\n",
       "      <th>total_area</th>\n",
       "      <th>last_price</th>\n",
       "      <th>price_for_metres</th>\n",
       "      <th>rooms</th>\n",
       "      <th>ceiling_height</th>\n",
       "      <th>cityCenters_nearest_km</th>\n",
       "    </tr>\n",
       "  </thead>\n",
       "  <tbody>\n",
       "    <tr>\n",
       "      <td>count</td>\n",
       "      <td>11390.000000</td>\n",
       "      <td>1.139000e+04</td>\n",
       "      <td>11390.000000</td>\n",
       "      <td>11390.000000</td>\n",
       "      <td>11390.000000</td>\n",
       "      <td>11390.000000</td>\n",
       "    </tr>\n",
       "    <tr>\n",
       "      <td>mean</td>\n",
       "      <td>59.626427</td>\n",
       "      <td>6.493986e+06</td>\n",
       "      <td>109130.337840</td>\n",
       "      <td>2.104214</td>\n",
       "      <td>2.717577</td>\n",
       "      <td>11.958736</td>\n",
       "    </tr>\n",
       "    <tr>\n",
       "      <td>std</td>\n",
       "      <td>25.576547</td>\n",
       "      <td>3.273555e+06</td>\n",
       "      <td>27164.744214</td>\n",
       "      <td>0.983457</td>\n",
       "      <td>0.185496</td>\n",
       "      <td>4.721673</td>\n",
       "    </tr>\n",
       "    <tr>\n",
       "      <td>min</td>\n",
       "      <td>12.000000</td>\n",
       "      <td>1.200000e+06</td>\n",
       "      <td>15384.000000</td>\n",
       "      <td>1.000000</td>\n",
       "      <td>1.800000</td>\n",
       "      <td>0.000000</td>\n",
       "    </tr>\n",
       "    <tr>\n",
       "      <td>25%</td>\n",
       "      <td>42.000000</td>\n",
       "      <td>4.200000e+06</td>\n",
       "      <td>90909.000000</td>\n",
       "      <td>1.000000</td>\n",
       "      <td>2.600000</td>\n",
       "      <td>9.000000</td>\n",
       "    </tr>\n",
       "    <tr>\n",
       "      <td>50%</td>\n",
       "      <td>54.000000</td>\n",
       "      <td>5.450000e+06</td>\n",
       "      <td>104166.000000</td>\n",
       "      <td>2.000000</td>\n",
       "      <td>2.700000</td>\n",
       "      <td>12.000000</td>\n",
       "    </tr>\n",
       "    <tr>\n",
       "      <td>75%</td>\n",
       "      <td>71.000000</td>\n",
       "      <td>7.700000e+06</td>\n",
       "      <td>121951.000000</td>\n",
       "      <td>3.000000</td>\n",
       "      <td>2.700000</td>\n",
       "      <td>15.000000</td>\n",
       "    </tr>\n",
       "    <tr>\n",
       "      <td>max</td>\n",
       "      <td>263.000000</td>\n",
       "      <td>1.999900e+07</td>\n",
       "      <td>387096.000000</td>\n",
       "      <td>6.000000</td>\n",
       "      <td>3.500000</td>\n",
       "      <td>29.000000</td>\n",
       "    </tr>\n",
       "  </tbody>\n",
       "</table>\n",
       "</div>"
      ],
      "text/plain": [
       "         total_area    last_price  price_for_metres         rooms  \\\n",
       "count  11390.000000  1.139000e+04      11390.000000  11390.000000   \n",
       "mean      59.626427  6.493986e+06     109130.337840      2.104214   \n",
       "std       25.576547  3.273555e+06      27164.744214      0.983457   \n",
       "min       12.000000  1.200000e+06      15384.000000      1.000000   \n",
       "25%       42.000000  4.200000e+06      90909.000000      1.000000   \n",
       "50%       54.000000  5.450000e+06     104166.000000      2.000000   \n",
       "75%       71.000000  7.700000e+06     121951.000000      3.000000   \n",
       "max      263.000000  1.999900e+07     387096.000000      6.000000   \n",
       "\n",
       "       ceiling_height  cityCenters_nearest_km  \n",
       "count    11390.000000            11390.000000  \n",
       "mean         2.717577               11.958736  \n",
       "std          0.185496                4.721673  \n",
       "min          1.800000                0.000000  \n",
       "25%          2.600000                9.000000  \n",
       "50%          2.700000               12.000000  \n",
       "75%          2.700000               15.000000  \n",
       "max          3.500000               29.000000  "
      ]
     },
     "execution_count": 89,
     "metadata": {},
     "output_type": "execute_result"
    }
   ],
   "source": [
    "#информация по всему Питеру\n",
    "spb_table.loc[:,['total_area', 'last_price', 'price_for_metres', 'rooms', 'ceiling_height', 'cityCenters_nearest_km']].describe()"
   ]
  },
  {
   "cell_type": "code",
   "execution_count": 90,
   "metadata": {},
   "outputs": [
    {
     "data": {
      "text/html": [
       "<div>\n",
       "<style scoped>\n",
       "    .dataframe tbody tr th:only-of-type {\n",
       "        vertical-align: middle;\n",
       "    }\n",
       "\n",
       "    .dataframe tbody tr th {\n",
       "        vertical-align: top;\n",
       "    }\n",
       "\n",
       "    .dataframe thead th {\n",
       "        text-align: right;\n",
       "    }\n",
       "</style>\n",
       "<table border=\"1\" class=\"dataframe\">\n",
       "  <thead>\n",
       "    <tr style=\"text-align: right;\">\n",
       "      <th></th>\n",
       "      <th>total_area</th>\n",
       "      <th>last_price</th>\n",
       "      <th>price_for_metres</th>\n",
       "      <th>rooms</th>\n",
       "      <th>ceiling_height</th>\n",
       "      <th>cityCenters_nearest_km</th>\n",
       "    </tr>\n",
       "  </thead>\n",
       "  <tbody>\n",
       "    <tr>\n",
       "      <td>total_area</td>\n",
       "      <td>1.000000</td>\n",
       "      <td>0.701168</td>\n",
       "      <td>-0.341922</td>\n",
       "      <td>0.791634</td>\n",
       "      <td>0.172455</td>\n",
       "      <td>-0.066952</td>\n",
       "    </tr>\n",
       "    <tr>\n",
       "      <td>last_price</td>\n",
       "      <td>0.701168</td>\n",
       "      <td>1.000000</td>\n",
       "      <td>0.365780</td>\n",
       "      <td>0.504179</td>\n",
       "      <td>0.131264</td>\n",
       "      <td>-0.138556</td>\n",
       "    </tr>\n",
       "    <tr>\n",
       "      <td>price_for_metres</td>\n",
       "      <td>-0.341922</td>\n",
       "      <td>0.365780</td>\n",
       "      <td>1.000000</td>\n",
       "      <td>-0.344225</td>\n",
       "      <td>-0.035440</td>\n",
       "      <td>-0.116759</td>\n",
       "    </tr>\n",
       "    <tr>\n",
       "      <td>rooms</td>\n",
       "      <td>0.791634</td>\n",
       "      <td>0.504179</td>\n",
       "      <td>-0.344225</td>\n",
       "      <td>1.000000</td>\n",
       "      <td>0.137336</td>\n",
       "      <td>-0.053309</td>\n",
       "    </tr>\n",
       "    <tr>\n",
       "      <td>ceiling_height</td>\n",
       "      <td>0.172455</td>\n",
       "      <td>0.131264</td>\n",
       "      <td>-0.035440</td>\n",
       "      <td>0.137336</td>\n",
       "      <td>1.000000</td>\n",
       "      <td>-0.050063</td>\n",
       "    </tr>\n",
       "    <tr>\n",
       "      <td>cityCenters_nearest_km</td>\n",
       "      <td>-0.066952</td>\n",
       "      <td>-0.138556</td>\n",
       "      <td>-0.116759</td>\n",
       "      <td>-0.053309</td>\n",
       "      <td>-0.050063</td>\n",
       "      <td>1.000000</td>\n",
       "    </tr>\n",
       "  </tbody>\n",
       "</table>\n",
       "</div>"
      ],
      "text/plain": [
       "                        total_area  last_price  price_for_metres     rooms  \\\n",
       "total_area                1.000000    0.701168         -0.341922  0.791634   \n",
       "last_price                0.701168    1.000000          0.365780  0.504179   \n",
       "price_for_metres         -0.341922    0.365780          1.000000 -0.344225   \n",
       "rooms                     0.791634    0.504179         -0.344225  1.000000   \n",
       "ceiling_height            0.172455    0.131264         -0.035440  0.137336   \n",
       "cityCenters_nearest_km   -0.066952   -0.138556         -0.116759 -0.053309   \n",
       "\n",
       "                        ceiling_height  cityCenters_nearest_km  \n",
       "total_area                    0.172455               -0.066952  \n",
       "last_price                    0.131264               -0.138556  \n",
       "price_for_metres             -0.035440               -0.116759  \n",
       "rooms                         0.137336               -0.053309  \n",
       "ceiling_height                1.000000               -0.050063  \n",
       "cityCenters_nearest_km       -0.050063                1.000000  "
      ]
     },
     "execution_count": 90,
     "metadata": {},
     "output_type": "execute_result"
    }
   ],
   "source": [
    "spb_center.loc[:,['total_area', 'last_price', 'price_for_metres', 'rooms', 'ceiling_height', 'cityCenters_nearest_km']].corr()"
   ]
  },
  {
   "cell_type": "code",
   "execution_count": 91,
   "metadata": {},
   "outputs": [
    {
     "data": {
      "text/html": [
       "<div>\n",
       "<style scoped>\n",
       "    .dataframe tbody tr th:only-of-type {\n",
       "        vertical-align: middle;\n",
       "    }\n",
       "\n",
       "    .dataframe tbody tr th {\n",
       "        vertical-align: top;\n",
       "    }\n",
       "\n",
       "    .dataframe thead th {\n",
       "        text-align: right;\n",
       "    }\n",
       "</style>\n",
       "<table border=\"1\" class=\"dataframe\">\n",
       "  <thead>\n",
       "    <tr style=\"text-align: right;\">\n",
       "      <th></th>\n",
       "      <th>total_area</th>\n",
       "      <th>last_price</th>\n",
       "      <th>price_for_metres</th>\n",
       "      <th>rooms</th>\n",
       "      <th>ceiling_height</th>\n",
       "      <th>cityCenters_nearest_km</th>\n",
       "    </tr>\n",
       "  </thead>\n",
       "  <tbody>\n",
       "    <tr>\n",
       "      <td>total_area</td>\n",
       "      <td>1.000000</td>\n",
       "      <td>0.823927</td>\n",
       "      <td>-0.018845</td>\n",
       "      <td>0.788629</td>\n",
       "      <td>0.356724</td>\n",
       "      <td>-0.288353</td>\n",
       "    </tr>\n",
       "    <tr>\n",
       "      <td>last_price</td>\n",
       "      <td>0.823927</td>\n",
       "      <td>1.000000</td>\n",
       "      <td>0.511370</td>\n",
       "      <td>0.545430</td>\n",
       "      <td>0.404237</td>\n",
       "      <td>-0.389344</td>\n",
       "    </tr>\n",
       "    <tr>\n",
       "      <td>price_for_metres</td>\n",
       "      <td>-0.018845</td>\n",
       "      <td>0.511370</td>\n",
       "      <td>1.000000</td>\n",
       "      <td>-0.225596</td>\n",
       "      <td>0.215396</td>\n",
       "      <td>-0.312442</td>\n",
       "    </tr>\n",
       "    <tr>\n",
       "      <td>rooms</td>\n",
       "      <td>0.788629</td>\n",
       "      <td>0.545430</td>\n",
       "      <td>-0.225596</td>\n",
       "      <td>1.000000</td>\n",
       "      <td>0.192253</td>\n",
       "      <td>-0.231122</td>\n",
       "    </tr>\n",
       "    <tr>\n",
       "      <td>ceiling_height</td>\n",
       "      <td>0.356724</td>\n",
       "      <td>0.404237</td>\n",
       "      <td>0.215396</td>\n",
       "      <td>0.192253</td>\n",
       "      <td>1.000000</td>\n",
       "      <td>-0.396773</td>\n",
       "    </tr>\n",
       "    <tr>\n",
       "      <td>cityCenters_nearest_km</td>\n",
       "      <td>-0.288353</td>\n",
       "      <td>-0.389344</td>\n",
       "      <td>-0.312442</td>\n",
       "      <td>-0.231122</td>\n",
       "      <td>-0.396773</td>\n",
       "      <td>1.000000</td>\n",
       "    </tr>\n",
       "  </tbody>\n",
       "</table>\n",
       "</div>"
      ],
      "text/plain": [
       "                        total_area  last_price  price_for_metres     rooms  \\\n",
       "total_area                1.000000    0.823927         -0.018845  0.788629   \n",
       "last_price                0.823927    1.000000          0.511370  0.545430   \n",
       "price_for_metres         -0.018845    0.511370          1.000000 -0.225596   \n",
       "rooms                     0.788629    0.545430         -0.225596  1.000000   \n",
       "ceiling_height            0.356724    0.404237          0.215396  0.192253   \n",
       "cityCenters_nearest_km   -0.288353   -0.389344         -0.312442 -0.231122   \n",
       "\n",
       "                        ceiling_height  cityCenters_nearest_km  \n",
       "total_area                    0.356724               -0.288353  \n",
       "last_price                    0.404237               -0.389344  \n",
       "price_for_metres              0.215396               -0.312442  \n",
       "rooms                         0.192253               -0.231122  \n",
       "ceiling_height                1.000000               -0.396773  \n",
       "cityCenters_nearest_km       -0.396773                1.000000  "
      ]
     },
     "execution_count": 91,
     "metadata": {},
     "output_type": "execute_result"
    }
   ],
   "source": [
    "spb_table.loc[:,['total_area', 'last_price', 'price_for_metres', 'rooms', 'ceiling_height', 'cityCenters_nearest_km']].corr()"
   ]
  },
  {
   "cell_type": "markdown",
   "metadata": {},
   "source": [
    "И в центре и на окраинах на цену влияет количество комнат, площадь и удаленность от центра\n",
    "Вне центральной части города эти факторы оказывают большее влияние на цену, чем в центральной части\n",
    "Можно сделать вывод, что цена больше зависит от расстояния при отдалении от центра, чем при приближении к нему, цена на квартиры в центре города не зависит от расстояния до центра потому что вся центральная часть Питера примерно в одинаковой степени благоустроена и нет разницы, один километр до центра или два"
   ]
  },
  {
   "cell_type": "markdown",
   "metadata": {},
   "source": [
    "## Общий вывод"
   ]
  },
  {
   "cell_type": "markdown",
   "metadata": {},
   "source": [
    "Цена квартиры в первую очередь зависит от города, в котором она расположена(цены в Питере сильно отличаются от цен в Выборге(115301.6 за квадратный метр в Питере и 58295.7 в Выборге)) и не зависит от даты публикации. Так же в центральной и нецентральной части города цена на квартиру, в зависимости от факторов, формируется по разному. \n",
    "\n",
    "Коэффициенты корелляции Пирсона для центральной части:\n",
    "цена-площадь 0.56\n",
    "цена-количество комнат 0.24\n",
    "цена-удаленность от центра -0.18\n",
    "\n",
    "Коэффициенты корелляции Пирсона для нецентральной части:\n",
    "цена-площадь 0.65\n",
    "цена-количество комнат 0.37\n",
    "цена-удаленность от центра -0.25"
   ]
  }
 ],
 "metadata": {
  "ExecuteTimeLog": [
   {
    "duration": 797,
    "start_time": "2021-09-22T20:10:36.832Z"
   },
   {
    "duration": 92,
    "start_time": "2021-09-22T20:11:33.083Z"
   },
   {
    "duration": 117,
    "start_time": "2021-09-22T20:11:58.266Z"
   },
   {
    "duration": 130,
    "start_time": "2021-09-22T20:12:08.558Z"
   },
   {
    "duration": 150,
    "start_time": "2021-09-22T20:12:21.354Z"
   },
   {
    "duration": 33,
    "start_time": "2021-09-22T20:12:58.926Z"
   },
   {
    "duration": 15,
    "start_time": "2021-09-22T20:13:14.266Z"
   },
   {
    "duration": 6,
    "start_time": "2021-09-22T20:14:07.500Z"
   },
   {
    "duration": 12,
    "start_time": "2021-09-22T20:15:03.406Z"
   },
   {
    "duration": 765,
    "start_time": "2021-09-23T06:19:18.516Z"
   },
   {
    "duration": 300,
    "start_time": "2021-09-23T06:19:19.285Z"
   },
   {
    "duration": 39,
    "start_time": "2021-09-23T06:19:19.590Z"
   },
   {
    "duration": 7,
    "start_time": "2021-09-23T06:19:19.634Z"
   },
   {
    "duration": 13,
    "start_time": "2021-09-23T06:19:19.643Z"
   },
   {
    "duration": 8,
    "start_time": "2021-09-23T06:19:19.659Z"
   },
   {
    "duration": 707,
    "start_time": "2021-09-23T06:19:41.259Z"
   },
   {
    "duration": 156,
    "start_time": "2021-09-23T06:19:41.969Z"
   },
   {
    "duration": 16,
    "start_time": "2021-09-23T06:19:42.128Z"
   },
   {
    "duration": 5,
    "start_time": "2021-09-23T06:19:42.148Z"
   },
   {
    "duration": 12,
    "start_time": "2021-09-23T06:19:42.155Z"
   },
   {
    "duration": 5,
    "start_time": "2021-09-23T06:19:42.169Z"
   },
   {
    "duration": 16,
    "start_time": "2021-09-23T06:23:02.676Z"
   },
   {
    "duration": 13,
    "start_time": "2021-09-23T06:23:26.592Z"
   },
   {
    "duration": 5,
    "start_time": "2021-09-23T06:50:43.593Z"
   },
   {
    "duration": 14,
    "start_time": "2021-09-23T06:50:55.554Z"
   },
   {
    "duration": 11,
    "start_time": "2021-09-23T06:51:47.218Z"
   },
   {
    "duration": 12,
    "start_time": "2021-09-23T06:52:11.805Z"
   },
   {
    "duration": 747,
    "start_time": "2021-09-23T06:52:58.901Z"
   },
   {
    "duration": 158,
    "start_time": "2021-09-23T06:52:59.651Z"
   },
   {
    "duration": 16,
    "start_time": "2021-09-23T06:52:59.812Z"
   },
   {
    "duration": 10,
    "start_time": "2021-09-23T06:52:59.831Z"
   },
   {
    "duration": 15,
    "start_time": "2021-09-23T06:52:59.844Z"
   },
   {
    "duration": 6,
    "start_time": "2021-09-23T06:52:59.862Z"
   },
   {
    "duration": 52,
    "start_time": "2021-09-23T06:52:59.870Z"
   },
   {
    "duration": 14,
    "start_time": "2021-09-23T06:52:59.925Z"
   },
   {
    "duration": 14,
    "start_time": "2021-09-23T06:52:59.942Z"
   },
   {
    "duration": 886,
    "start_time": "2021-09-23T06:56:44.966Z"
   },
   {
    "duration": 159,
    "start_time": "2021-09-23T06:56:45.855Z"
   },
   {
    "duration": 15,
    "start_time": "2021-09-23T06:56:46.017Z"
   },
   {
    "duration": 4,
    "start_time": "2021-09-23T06:56:46.035Z"
   },
   {
    "duration": 13,
    "start_time": "2021-09-23T06:56:46.041Z"
   },
   {
    "duration": 5,
    "start_time": "2021-09-23T06:56:46.056Z"
   },
   {
    "duration": 59,
    "start_time": "2021-09-23T06:56:46.063Z"
   },
   {
    "duration": 17,
    "start_time": "2021-09-23T06:56:46.125Z"
   },
   {
    "duration": 12,
    "start_time": "2021-09-23T06:56:46.145Z"
   },
   {
    "duration": 62,
    "start_time": "2021-09-23T07:21:03.053Z"
   },
   {
    "duration": 6,
    "start_time": "2021-09-23T08:53:14.904Z"
   },
   {
    "duration": 8,
    "start_time": "2021-09-23T08:53:34.750Z"
   },
   {
    "duration": 9,
    "start_time": "2021-09-23T08:54:12.074Z"
   },
   {
    "duration": 9,
    "start_time": "2021-09-23T08:54:31.070Z"
   },
   {
    "duration": 812,
    "start_time": "2021-09-24T10:46:33.335Z"
   },
   {
    "duration": 158,
    "start_time": "2021-09-24T10:46:34.150Z"
   },
   {
    "duration": 15,
    "start_time": "2021-09-24T10:46:34.311Z"
   },
   {
    "duration": 5,
    "start_time": "2021-09-24T10:46:34.329Z"
   },
   {
    "duration": 41,
    "start_time": "2021-09-24T10:46:34.336Z"
   },
   {
    "duration": 18,
    "start_time": "2021-09-24T10:46:34.379Z"
   },
   {
    "duration": 19,
    "start_time": "2021-09-24T10:46:34.399Z"
   },
   {
    "duration": 14,
    "start_time": "2021-09-24T10:46:34.421Z"
   },
   {
    "duration": 30,
    "start_time": "2021-09-24T10:46:34.438Z"
   },
   {
    "duration": 60,
    "start_time": "2021-09-24T10:46:34.471Z"
   },
   {
    "duration": 9,
    "start_time": "2021-09-24T10:54:00.382Z"
   },
   {
    "duration": 13,
    "start_time": "2021-09-24T10:54:17.400Z"
   },
   {
    "duration": 7,
    "start_time": "2021-09-24T10:58:26.901Z"
   },
   {
    "duration": 118,
    "start_time": "2021-09-24T11:07:18.898Z"
   },
   {
    "duration": 8,
    "start_time": "2021-09-24T11:07:25.717Z"
   },
   {
    "duration": 4,
    "start_time": "2021-09-24T11:15:19.967Z"
   },
   {
    "duration": 5,
    "start_time": "2021-09-24T11:18:23.183Z"
   },
   {
    "duration": 11091,
    "start_time": "2021-09-24T11:18:35.590Z"
   },
   {
    "duration": 4,
    "start_time": "2021-09-24T11:19:05.917Z"
   },
   {
    "duration": 740,
    "start_time": "2021-09-24T11:19:08.071Z"
   },
   {
    "duration": 77,
    "start_time": "2021-09-24T11:27:02.923Z"
   },
   {
    "duration": 31,
    "start_time": "2021-09-24T11:31:31.995Z"
   },
   {
    "duration": 6,
    "start_time": "2021-09-24T11:32:01.349Z"
   },
   {
    "duration": 18,
    "start_time": "2021-09-24T11:32:37.988Z"
   },
   {
    "duration": 19,
    "start_time": "2021-09-24T11:33:03.450Z"
   },
   {
    "duration": 22,
    "start_time": "2021-09-24T11:33:33.923Z"
   },
   {
    "duration": 8,
    "start_time": "2021-09-24T11:34:52.630Z"
   },
   {
    "duration": 10,
    "start_time": "2021-09-24T11:35:02.737Z"
   },
   {
    "duration": 36,
    "start_time": "2021-09-24T11:35:17.519Z"
   },
   {
    "duration": 37,
    "start_time": "2021-09-24T11:35:52.992Z"
   },
   {
    "duration": 36,
    "start_time": "2021-09-24T11:36:16.815Z"
   },
   {
    "duration": 67,
    "start_time": "2021-09-24T11:36:37.982Z"
   },
   {
    "duration": 62,
    "start_time": "2021-09-24T11:36:52.139Z"
   },
   {
    "duration": 33,
    "start_time": "2021-09-24T11:37:52.286Z"
   },
   {
    "duration": 43,
    "start_time": "2021-09-24T11:39:25.300Z"
   },
   {
    "duration": 4,
    "start_time": "2021-09-24T11:43:58.282Z"
   },
   {
    "duration": 12,
    "start_time": "2021-09-24T11:44:52.998Z"
   },
   {
    "duration": 76,
    "start_time": "2021-09-24T11:45:00.712Z"
   },
   {
    "duration": 15,
    "start_time": "2021-09-24T11:45:19.465Z"
   },
   {
    "duration": 14,
    "start_time": "2021-09-24T11:49:20.911Z"
   },
   {
    "duration": 27,
    "start_time": "2021-09-24T12:04:10.110Z"
   },
   {
    "duration": 70,
    "start_time": "2021-09-24T12:08:19.134Z"
   },
   {
    "duration": 68,
    "start_time": "2021-09-24T12:08:31.100Z"
   },
   {
    "duration": 64,
    "start_time": "2021-09-24T12:08:42.732Z"
   },
   {
    "duration": 45,
    "start_time": "2021-09-24T12:09:24.654Z"
   },
   {
    "duration": 40,
    "start_time": "2021-09-24T12:10:56.722Z"
   },
   {
    "duration": 25,
    "start_time": "2021-09-24T12:12:50.953Z"
   },
   {
    "duration": 398,
    "start_time": "2021-09-24T12:15:25.572Z"
   },
   {
    "duration": 26,
    "start_time": "2021-09-24T12:15:34.443Z"
   },
   {
    "duration": 9,
    "start_time": "2021-09-24T12:17:23.940Z"
   },
   {
    "duration": 348,
    "start_time": "2021-09-24T12:20:49.103Z"
   },
   {
    "duration": 426,
    "start_time": "2021-09-24T12:39:37.627Z"
   },
   {
    "duration": 373,
    "start_time": "2021-09-24T12:39:46.900Z"
   },
   {
    "duration": 445,
    "start_time": "2021-09-24T12:39:54.152Z"
   },
   {
    "duration": 742,
    "start_time": "2021-09-24T12:40:04.200Z"
   },
   {
    "duration": 158,
    "start_time": "2021-09-24T12:40:04.944Z"
   },
   {
    "duration": 16,
    "start_time": "2021-09-24T12:40:05.105Z"
   },
   {
    "duration": 5,
    "start_time": "2021-09-24T12:40:05.123Z"
   },
   {
    "duration": 42,
    "start_time": "2021-09-24T12:40:05.131Z"
   },
   {
    "duration": 4,
    "start_time": "2021-09-24T12:40:05.176Z"
   },
   {
    "duration": 18,
    "start_time": "2021-09-24T12:40:05.183Z"
   },
   {
    "duration": 15,
    "start_time": "2021-09-24T12:40:05.204Z"
   },
   {
    "duration": 46,
    "start_time": "2021-09-24T12:40:05.221Z"
   },
   {
    "duration": 9,
    "start_time": "2021-09-24T12:40:05.270Z"
   },
   {
    "duration": 91,
    "start_time": "2021-09-24T12:40:05.282Z"
   },
   {
    "duration": 29,
    "start_time": "2021-09-24T12:40:05.376Z"
   },
   {
    "duration": 8,
    "start_time": "2021-09-24T12:40:05.407Z"
   },
   {
    "duration": 7,
    "start_time": "2021-09-24T12:40:05.418Z"
   },
   {
    "duration": 766,
    "start_time": "2021-09-24T12:42:40.193Z"
   },
   {
    "duration": 153,
    "start_time": "2021-09-24T12:42:40.962Z"
   },
   {
    "duration": 15,
    "start_time": "2021-09-24T12:42:41.118Z"
   },
   {
    "duration": 6,
    "start_time": "2021-09-24T12:42:41.136Z"
   },
   {
    "duration": 34,
    "start_time": "2021-09-24T12:42:41.145Z"
   },
   {
    "duration": 6,
    "start_time": "2021-09-24T12:42:41.182Z"
   },
   {
    "duration": 15,
    "start_time": "2021-09-24T12:42:41.190Z"
   },
   {
    "duration": 18,
    "start_time": "2021-09-24T12:42:41.208Z"
   },
   {
    "duration": 47,
    "start_time": "2021-09-24T12:42:41.229Z"
   },
   {
    "duration": 12,
    "start_time": "2021-09-24T12:42:41.279Z"
   },
   {
    "duration": 83,
    "start_time": "2021-09-24T12:42:41.293Z"
   },
   {
    "duration": 27,
    "start_time": "2021-09-24T12:42:41.378Z"
   },
   {
    "duration": 4,
    "start_time": "2021-09-24T12:42:41.407Z"
   },
   {
    "duration": 19,
    "start_time": "2021-09-24T12:44:22.177Z"
   },
   {
    "duration": 32,
    "start_time": "2021-09-24T12:44:39.031Z"
   },
   {
    "duration": 28,
    "start_time": "2021-09-24T12:45:10.654Z"
   },
   {
    "duration": 6,
    "start_time": "2021-09-24T12:54:28.195Z"
   },
   {
    "duration": 772,
    "start_time": "2021-09-24T12:54:59.280Z"
   },
   {
    "duration": 168,
    "start_time": "2021-09-24T12:55:00.054Z"
   },
   {
    "duration": 15,
    "start_time": "2021-09-24T12:55:00.225Z"
   },
   {
    "duration": 24,
    "start_time": "2021-09-24T12:55:00.243Z"
   },
   {
    "duration": 12,
    "start_time": "2021-09-24T12:55:00.270Z"
   },
   {
    "duration": 9,
    "start_time": "2021-09-24T12:55:00.284Z"
   },
   {
    "duration": 25,
    "start_time": "2021-09-24T12:55:00.296Z"
   },
   {
    "duration": 19,
    "start_time": "2021-09-24T12:55:00.324Z"
   },
   {
    "duration": 30,
    "start_time": "2021-09-24T12:55:00.345Z"
   },
   {
    "duration": 9,
    "start_time": "2021-09-24T12:55:00.378Z"
   },
   {
    "duration": 93,
    "start_time": "2021-09-24T12:55:00.389Z"
   },
   {
    "duration": 27,
    "start_time": "2021-09-24T12:55:00.484Z"
   },
   {
    "duration": 5,
    "start_time": "2021-09-24T12:55:00.514Z"
   },
   {
    "duration": 834,
    "start_time": "2021-09-24T12:55:00.522Z"
   },
   {
    "duration": 782,
    "start_time": "2021-09-24T13:45:21.201Z"
   },
   {
    "duration": 158,
    "start_time": "2021-09-24T13:45:21.985Z"
   },
   {
    "duration": 25,
    "start_time": "2021-09-24T13:45:22.146Z"
   },
   {
    "duration": 6,
    "start_time": "2021-09-24T13:45:22.173Z"
   },
   {
    "duration": 17,
    "start_time": "2021-09-24T13:45:22.181Z"
   },
   {
    "duration": 5,
    "start_time": "2021-09-24T13:45:22.200Z"
   },
   {
    "duration": 18,
    "start_time": "2021-09-24T13:45:22.208Z"
   },
   {
    "duration": 14,
    "start_time": "2021-09-24T13:45:22.268Z"
   },
   {
    "duration": 12,
    "start_time": "2021-09-24T13:45:22.285Z"
   },
   {
    "duration": 10,
    "start_time": "2021-09-24T13:45:22.300Z"
   },
   {
    "duration": 99,
    "start_time": "2021-09-24T13:45:22.312Z"
   },
   {
    "duration": 6,
    "start_time": "2021-09-24T13:45:22.414Z"
   },
   {
    "duration": 825,
    "start_time": "2021-09-24T13:47:30.940Z"
   },
   {
    "duration": 392,
    "start_time": "2021-09-24T13:51:35.197Z"
   },
   {
    "duration": 28,
    "start_time": "2021-09-24T13:51:46.737Z"
   },
   {
    "duration": 12,
    "start_time": "2021-09-24T13:53:38.539Z"
   },
   {
    "duration": 1105,
    "start_time": "2021-09-24T13:58:30.090Z"
   },
   {
    "duration": 171,
    "start_time": "2021-09-24T13:58:31.197Z"
   },
   {
    "duration": 18,
    "start_time": "2021-09-24T13:58:31.372Z"
   },
   {
    "duration": 5,
    "start_time": "2021-09-24T13:58:31.393Z"
   },
   {
    "duration": 16,
    "start_time": "2021-09-24T13:58:31.401Z"
   },
   {
    "duration": 7,
    "start_time": "2021-09-24T13:58:31.420Z"
   },
   {
    "duration": 51,
    "start_time": "2021-09-24T13:58:31.429Z"
   },
   {
    "duration": 16,
    "start_time": "2021-09-24T13:58:31.484Z"
   },
   {
    "duration": 24,
    "start_time": "2021-09-24T13:58:31.503Z"
   },
   {
    "duration": 23,
    "start_time": "2021-09-24T13:58:31.529Z"
   },
   {
    "duration": 85,
    "start_time": "2021-09-24T13:58:31.554Z"
   },
   {
    "duration": 59,
    "start_time": "2021-09-24T13:58:31.643Z"
   },
   {
    "duration": 14,
    "start_time": "2021-09-24T13:58:31.705Z"
   },
   {
    "duration": 8,
    "start_time": "2021-09-24T13:58:31.721Z"
   },
   {
    "duration": 69721,
    "start_time": "2021-09-24T13:59:41.202Z"
   },
   {
    "duration": 790,
    "start_time": "2021-09-24T14:03:08.300Z"
   },
   {
    "duration": 158,
    "start_time": "2021-09-24T14:03:09.093Z"
   },
   {
    "duration": 24,
    "start_time": "2021-09-24T14:03:09.254Z"
   },
   {
    "duration": 6,
    "start_time": "2021-09-24T14:03:09.281Z"
   },
   {
    "duration": 19,
    "start_time": "2021-09-24T14:03:09.289Z"
   },
   {
    "duration": 5,
    "start_time": "2021-09-24T14:03:09.310Z"
   },
   {
    "duration": 50,
    "start_time": "2021-09-24T14:03:09.318Z"
   },
   {
    "duration": 14,
    "start_time": "2021-09-24T14:03:09.372Z"
   },
   {
    "duration": 13,
    "start_time": "2021-09-24T14:03:09.390Z"
   },
   {
    "duration": 10,
    "start_time": "2021-09-24T14:03:09.405Z"
   },
   {
    "duration": 103,
    "start_time": "2021-09-24T14:03:09.417Z"
   },
   {
    "duration": 45,
    "start_time": "2021-09-24T14:03:09.522Z"
   },
   {
    "duration": 16,
    "start_time": "2021-09-24T14:03:09.569Z"
   },
   {
    "duration": 14,
    "start_time": "2021-09-24T14:03:27.045Z"
   },
   {
    "duration": 7,
    "start_time": "2021-09-24T14:06:05.739Z"
   },
   {
    "duration": 9,
    "start_time": "2021-09-24T14:19:04.920Z"
   },
   {
    "duration": 522,
    "start_time": "2021-09-24T14:19:45.241Z"
   },
   {
    "duration": 377,
    "start_time": "2021-09-24T14:19:53.549Z"
   },
   {
    "duration": 771,
    "start_time": "2021-09-24T14:19:58.163Z"
   },
   {
    "duration": 151,
    "start_time": "2021-09-24T14:19:58.937Z"
   },
   {
    "duration": 15,
    "start_time": "2021-09-24T14:19:59.091Z"
   },
   {
    "duration": 5,
    "start_time": "2021-09-24T14:19:59.109Z"
   },
   {
    "duration": 20,
    "start_time": "2021-09-24T14:19:59.116Z"
   },
   {
    "duration": 31,
    "start_time": "2021-09-24T14:19:59.138Z"
   },
   {
    "duration": 18,
    "start_time": "2021-09-24T14:19:59.171Z"
   },
   {
    "duration": 19,
    "start_time": "2021-09-24T14:19:59.192Z"
   },
   {
    "duration": 17,
    "start_time": "2021-09-24T14:19:59.214Z"
   },
   {
    "duration": 36,
    "start_time": "2021-09-24T14:19:59.233Z"
   },
   {
    "duration": 73,
    "start_time": "2021-09-24T14:19:59.272Z"
   },
   {
    "duration": 40,
    "start_time": "2021-09-24T14:19:59.347Z"
   },
   {
    "duration": 8,
    "start_time": "2021-09-24T14:19:59.390Z"
   },
   {
    "duration": 486,
    "start_time": "2021-09-24T14:25:04.994Z"
   },
   {
    "duration": 783,
    "start_time": "2021-09-24T14:25:15.174Z"
   },
   {
    "duration": 181,
    "start_time": "2021-09-24T14:25:15.960Z"
   },
   {
    "duration": 23,
    "start_time": "2021-09-24T14:25:16.144Z"
   },
   {
    "duration": 5,
    "start_time": "2021-09-24T14:25:16.170Z"
   },
   {
    "duration": 15,
    "start_time": "2021-09-24T14:25:16.177Z"
   },
   {
    "duration": 5,
    "start_time": "2021-09-24T14:25:16.195Z"
   },
   {
    "duration": 17,
    "start_time": "2021-09-24T14:25:16.203Z"
   },
   {
    "duration": 52,
    "start_time": "2021-09-24T14:25:16.224Z"
   },
   {
    "duration": 11,
    "start_time": "2021-09-24T14:25:16.279Z"
   },
   {
    "duration": 10,
    "start_time": "2021-09-24T14:25:16.292Z"
   },
   {
    "duration": 100,
    "start_time": "2021-09-24T14:25:16.304Z"
   },
   {
    "duration": 26,
    "start_time": "2021-09-24T14:25:16.406Z"
   },
   {
    "duration": 8,
    "start_time": "2021-09-24T14:25:16.434Z"
   },
   {
    "duration": 25,
    "start_time": "2021-09-24T14:25:16.444Z"
   },
   {
    "duration": 4,
    "start_time": "2021-09-24T14:29:12.942Z"
   },
   {
    "duration": 472,
    "start_time": "2021-09-24T14:31:29.415Z"
   },
   {
    "duration": 448,
    "start_time": "2021-09-24T14:46:49.522Z"
   },
   {
    "duration": 395,
    "start_time": "2021-09-24T14:48:19.982Z"
   },
   {
    "duration": 9,
    "start_time": "2021-09-24T14:50:11.194Z"
   },
   {
    "duration": 64019,
    "start_time": "2021-09-24T14:51:33.832Z"
   },
   {
    "duration": 71,
    "start_time": "2021-09-24T14:52:54.259Z"
   },
   {
    "duration": 856,
    "start_time": "2021-09-24T14:53:11.239Z"
   },
   {
    "duration": 162,
    "start_time": "2021-09-24T14:53:12.097Z"
   },
   {
    "duration": 16,
    "start_time": "2021-09-24T14:53:12.267Z"
   },
   {
    "duration": 8,
    "start_time": "2021-09-24T14:53:12.285Z"
   },
   {
    "duration": 18,
    "start_time": "2021-09-24T14:53:12.295Z"
   },
   {
    "duration": 7,
    "start_time": "2021-09-24T14:53:12.315Z"
   },
   {
    "duration": 56,
    "start_time": "2021-09-24T14:53:12.326Z"
   },
   {
    "duration": 21,
    "start_time": "2021-09-24T14:53:12.385Z"
   },
   {
    "duration": 20,
    "start_time": "2021-09-24T14:53:12.409Z"
   },
   {
    "duration": 9,
    "start_time": "2021-09-24T14:53:12.432Z"
   },
   {
    "duration": 89,
    "start_time": "2021-09-24T14:53:12.443Z"
   },
   {
    "duration": 38,
    "start_time": "2021-09-24T14:53:12.534Z"
   },
   {
    "duration": 8,
    "start_time": "2021-09-24T14:53:12.574Z"
   },
   {
    "duration": 15,
    "start_time": "2021-09-24T14:53:12.584Z"
   },
   {
    "duration": 64817,
    "start_time": "2021-09-24T14:53:12.601Z"
   },
   {
    "duration": 82,
    "start_time": "2021-09-24T14:54:17.420Z"
   },
   {
    "duration": 14,
    "start_time": "2021-09-24T14:54:48.344Z"
   },
   {
    "duration": 752,
    "start_time": "2021-09-24T14:55:22.017Z"
   },
   {
    "duration": 176,
    "start_time": "2021-09-24T14:55:22.772Z"
   },
   {
    "duration": 26,
    "start_time": "2021-09-24T14:55:22.950Z"
   },
   {
    "duration": 4,
    "start_time": "2021-09-24T14:55:22.979Z"
   },
   {
    "duration": 32,
    "start_time": "2021-09-24T14:55:22.986Z"
   },
   {
    "duration": 5,
    "start_time": "2021-09-24T14:55:23.021Z"
   },
   {
    "duration": 43,
    "start_time": "2021-09-24T14:55:23.028Z"
   },
   {
    "duration": 31,
    "start_time": "2021-09-24T14:55:23.074Z"
   },
   {
    "duration": 33,
    "start_time": "2021-09-24T14:55:23.108Z"
   },
   {
    "duration": 15,
    "start_time": "2021-09-24T14:55:23.144Z"
   },
   {
    "duration": 71,
    "start_time": "2021-09-24T14:55:23.162Z"
   },
   {
    "duration": 36,
    "start_time": "2021-09-24T14:55:23.235Z"
   },
   {
    "duration": 27,
    "start_time": "2021-09-24T14:55:56.569Z"
   },
   {
    "duration": 8,
    "start_time": "2021-09-24T14:57:33.210Z"
   },
   {
    "duration": 64,
    "start_time": "2021-09-24T14:57:57.885Z"
   },
   {
    "duration": 479,
    "start_time": "2021-09-24T14:58:27.070Z"
   },
   {
    "duration": 68,
    "start_time": "2021-09-24T14:58:33.670Z"
   },
   {
    "duration": 8,
    "start_time": "2021-09-24T14:59:25.117Z"
   },
   {
    "duration": 10,
    "start_time": "2021-09-24T14:59:55.990Z"
   },
   {
    "duration": 6,
    "start_time": "2021-09-24T15:00:16.413Z"
   },
   {
    "duration": 6,
    "start_time": "2021-09-24T15:00:35.725Z"
   },
   {
    "duration": 378,
    "start_time": "2021-09-24T15:07:53.245Z"
   },
   {
    "duration": 756,
    "start_time": "2021-09-24T15:08:07.421Z"
   },
   {
    "duration": 164,
    "start_time": "2021-09-24T15:08:08.180Z"
   },
   {
    "duration": 28,
    "start_time": "2021-09-24T15:08:08.347Z"
   },
   {
    "duration": 6,
    "start_time": "2021-09-24T15:08:08.377Z"
   },
   {
    "duration": 15,
    "start_time": "2021-09-24T15:08:08.385Z"
   },
   {
    "duration": 5,
    "start_time": "2021-09-24T15:08:08.403Z"
   },
   {
    "duration": 17,
    "start_time": "2021-09-24T15:08:08.410Z"
   },
   {
    "duration": 46,
    "start_time": "2021-09-24T15:08:08.431Z"
   },
   {
    "duration": 12,
    "start_time": "2021-09-24T15:08:08.480Z"
   },
   {
    "duration": 9,
    "start_time": "2021-09-24T15:08:08.495Z"
   },
   {
    "duration": 100,
    "start_time": "2021-09-24T15:08:08.507Z"
   },
   {
    "duration": 479,
    "start_time": "2021-09-24T15:08:08.610Z"
   },
   {
    "duration": -573,
    "start_time": "2021-09-24T15:08:09.664Z"
   },
   {
    "duration": -575,
    "start_time": "2021-09-24T15:08:09.668Z"
   },
   {
    "duration": -576,
    "start_time": "2021-09-24T15:08:09.671Z"
   },
   {
    "duration": -577,
    "start_time": "2021-09-24T15:08:09.673Z"
   },
   {
    "duration": -587,
    "start_time": "2021-09-24T15:08:09.685Z"
   },
   {
    "duration": 840,
    "start_time": "2021-09-24T15:08:29.583Z"
   },
   {
    "duration": 159,
    "start_time": "2021-09-24T15:08:30.427Z"
   },
   {
    "duration": 16,
    "start_time": "2021-09-24T15:08:30.589Z"
   },
   {
    "duration": 14,
    "start_time": "2021-09-24T15:08:30.608Z"
   },
   {
    "duration": 41,
    "start_time": "2021-09-24T15:08:30.625Z"
   },
   {
    "duration": 37,
    "start_time": "2021-09-24T15:08:30.669Z"
   },
   {
    "duration": 37,
    "start_time": "2021-09-24T15:08:30.708Z"
   },
   {
    "duration": 28,
    "start_time": "2021-09-24T15:08:30.749Z"
   },
   {
    "duration": 34,
    "start_time": "2021-09-24T15:08:30.780Z"
   },
   {
    "duration": 15,
    "start_time": "2021-09-24T15:08:30.816Z"
   },
   {
    "duration": 100,
    "start_time": "2021-09-24T15:08:30.834Z"
   },
   {
    "duration": 35,
    "start_time": "2021-09-24T15:08:30.937Z"
   },
   {
    "duration": 11,
    "start_time": "2021-09-24T15:08:30.974Z"
   },
   {
    "duration": 85,
    "start_time": "2021-09-24T15:08:30.987Z"
   },
   {
    "duration": 8,
    "start_time": "2021-09-24T15:08:31.075Z"
   },
   {
    "duration": 21,
    "start_time": "2021-09-24T15:08:31.086Z"
   },
   {
    "duration": 138,
    "start_time": "2021-09-24T15:08:31.110Z"
   },
   {
    "duration": 15664,
    "start_time": "2021-09-24T15:09:25.426Z"
   },
   {
    "duration": 582,
    "start_time": "2021-09-24T15:10:26.867Z"
   },
   {
    "duration": 850,
    "start_time": "2021-09-24T15:12:42.113Z"
   },
   {
    "duration": 153,
    "start_time": "2021-09-24T15:12:42.965Z"
   },
   {
    "duration": 16,
    "start_time": "2021-09-24T15:12:43.121Z"
   },
   {
    "duration": 5,
    "start_time": "2021-09-24T15:12:43.140Z"
   },
   {
    "duration": 32,
    "start_time": "2021-09-24T15:12:43.147Z"
   },
   {
    "duration": 11,
    "start_time": "2021-09-24T15:12:43.181Z"
   },
   {
    "duration": 21,
    "start_time": "2021-09-24T15:12:43.195Z"
   },
   {
    "duration": 19,
    "start_time": "2021-09-24T15:12:43.220Z"
   },
   {
    "duration": 35,
    "start_time": "2021-09-24T15:12:43.242Z"
   },
   {
    "duration": 10,
    "start_time": "2021-09-24T15:12:43.279Z"
   },
   {
    "duration": 94,
    "start_time": "2021-09-24T15:12:43.291Z"
   },
   {
    "duration": 25,
    "start_time": "2021-09-24T15:12:43.388Z"
   },
   {
    "duration": 7,
    "start_time": "2021-09-24T15:12:43.415Z"
   },
   {
    "duration": 92,
    "start_time": "2021-09-24T15:12:43.425Z"
   },
   {
    "duration": 7,
    "start_time": "2021-09-24T15:12:43.520Z"
   },
   {
    "duration": 12,
    "start_time": "2021-09-24T15:12:43.529Z"
   },
   {
    "duration": 13838,
    "start_time": "2021-09-24T15:12:43.543Z"
   },
   {
    "duration": 68,
    "start_time": "2021-09-24T15:13:05.606Z"
   },
   {
    "duration": 14,
    "start_time": "2021-09-24T15:13:35.736Z"
   },
   {
    "duration": 14,
    "start_time": "2021-09-24T15:16:48.005Z"
   },
   {
    "duration": 584,
    "start_time": "2021-09-25T04:35:58.787Z"
   },
   {
    "duration": 111,
    "start_time": "2021-09-25T04:35:59.372Z"
   },
   {
    "duration": 14,
    "start_time": "2021-09-25T04:35:59.485Z"
   },
   {
    "duration": 11,
    "start_time": "2021-09-25T04:35:59.501Z"
   },
   {
    "duration": 18,
    "start_time": "2021-09-25T04:35:59.513Z"
   },
   {
    "duration": 12,
    "start_time": "2021-09-25T04:35:59.532Z"
   },
   {
    "duration": 19,
    "start_time": "2021-09-25T04:35:59.545Z"
   },
   {
    "duration": 24,
    "start_time": "2021-09-25T04:35:59.566Z"
   },
   {
    "duration": 14,
    "start_time": "2021-09-25T04:35:59.592Z"
   },
   {
    "duration": 14,
    "start_time": "2021-09-25T04:35:59.607Z"
   },
   {
    "duration": 48,
    "start_time": "2021-09-25T04:35:59.623Z"
   },
   {
    "duration": 19,
    "start_time": "2021-09-25T04:35:59.672Z"
   },
   {
    "duration": 11,
    "start_time": "2021-09-25T04:35:59.692Z"
   },
   {
    "duration": 5350,
    "start_time": "2021-09-25T04:38:17.411Z"
   },
   {
    "duration": 6,
    "start_time": "2021-09-25T04:38:51.405Z"
   },
   {
    "duration": 4,
    "start_time": "2021-09-25T04:39:27.210Z"
   },
   {
    "duration": 18,
    "start_time": "2021-09-25T04:40:21.925Z"
   },
   {
    "duration": 73,
    "start_time": "2021-09-25T04:42:10.033Z"
   },
   {
    "duration": 7,
    "start_time": "2021-09-25T04:42:21.287Z"
   },
   {
    "duration": 6,
    "start_time": "2021-09-25T04:45:32.381Z"
   },
   {
    "duration": 528,
    "start_time": "2021-09-25T16:02:57.553Z"
   },
   {
    "duration": 786,
    "start_time": "2021-09-25T16:03:02.750Z"
   },
   {
    "duration": 157,
    "start_time": "2021-09-25T16:03:03.538Z"
   },
   {
    "duration": 16,
    "start_time": "2021-09-25T16:03:03.699Z"
   },
   {
    "duration": 6,
    "start_time": "2021-09-25T16:03:03.719Z"
   },
   {
    "duration": 44,
    "start_time": "2021-09-25T16:03:03.728Z"
   },
   {
    "duration": 5,
    "start_time": "2021-09-25T16:03:03.774Z"
   },
   {
    "duration": 27,
    "start_time": "2021-09-25T16:03:03.782Z"
   },
   {
    "duration": 16,
    "start_time": "2021-09-25T16:03:03.813Z"
   },
   {
    "duration": 40,
    "start_time": "2021-09-25T16:03:03.832Z"
   },
   {
    "duration": 10,
    "start_time": "2021-09-25T16:03:03.875Z"
   },
   {
    "duration": 92,
    "start_time": "2021-09-25T16:03:03.888Z"
   },
   {
    "duration": 30,
    "start_time": "2021-09-25T16:03:03.983Z"
   },
   {
    "duration": 9,
    "start_time": "2021-09-25T16:03:04.016Z"
   },
   {
    "duration": 802,
    "start_time": "2021-09-25T16:03:33.437Z"
   },
   {
    "duration": 156,
    "start_time": "2021-09-25T16:03:34.242Z"
   },
   {
    "duration": 15,
    "start_time": "2021-09-25T16:03:34.402Z"
   },
   {
    "duration": 5,
    "start_time": "2021-09-25T16:03:34.420Z"
   },
   {
    "duration": 43,
    "start_time": "2021-09-25T16:03:34.428Z"
   },
   {
    "duration": 5,
    "start_time": "2021-09-25T16:03:34.473Z"
   },
   {
    "duration": 28,
    "start_time": "2021-09-25T16:03:34.481Z"
   },
   {
    "duration": 30,
    "start_time": "2021-09-25T16:03:34.512Z"
   },
   {
    "duration": 13,
    "start_time": "2021-09-25T16:03:34.545Z"
   },
   {
    "duration": 11,
    "start_time": "2021-09-25T16:03:34.561Z"
   },
   {
    "duration": 72,
    "start_time": "2021-09-25T16:03:34.574Z"
   },
   {
    "duration": 39,
    "start_time": "2021-09-25T16:03:34.648Z"
   },
   {
    "duration": 9,
    "start_time": "2021-09-25T16:03:56.121Z"
   },
   {
    "duration": 65,
    "start_time": "2021-09-25T16:04:17.987Z"
   },
   {
    "duration": 30,
    "start_time": "2021-09-25T16:10:07.050Z"
   },
   {
    "duration": 73,
    "start_time": "2021-09-25T16:10:19.979Z"
   },
   {
    "duration": 20,
    "start_time": "2021-09-25T16:18:22.329Z"
   },
   {
    "duration": 19,
    "start_time": "2021-09-25T16:19:05.336Z"
   },
   {
    "duration": 14,
    "start_time": "2021-09-25T16:19:27.150Z"
   },
   {
    "duration": 15,
    "start_time": "2021-09-25T16:19:32.237Z"
   },
   {
    "duration": 86,
    "start_time": "2021-09-25T16:20:38.747Z"
   },
   {
    "duration": 8,
    "start_time": "2021-09-25T16:22:26.631Z"
   },
   {
    "duration": 64,
    "start_time": "2021-09-25T16:22:30.681Z"
   },
   {
    "duration": 729,
    "start_time": "2021-09-25T16:23:45.013Z"
   },
   {
    "duration": 156,
    "start_time": "2021-09-25T16:23:45.745Z"
   },
   {
    "duration": 15,
    "start_time": "2021-09-25T16:23:45.904Z"
   },
   {
    "duration": 4,
    "start_time": "2021-09-25T16:23:45.922Z"
   },
   {
    "duration": 37,
    "start_time": "2021-09-25T16:23:45.928Z"
   },
   {
    "duration": 4,
    "start_time": "2021-09-25T16:23:45.968Z"
   },
   {
    "duration": 18,
    "start_time": "2021-09-25T16:23:45.975Z"
   },
   {
    "duration": 15,
    "start_time": "2021-09-25T16:23:45.996Z"
   },
   {
    "duration": 12,
    "start_time": "2021-09-25T16:23:46.014Z"
   },
   {
    "duration": 10,
    "start_time": "2021-09-25T16:23:46.061Z"
   },
   {
    "duration": 65,
    "start_time": "2021-09-25T16:23:46.073Z"
   },
   {
    "duration": 27,
    "start_time": "2021-09-25T16:23:46.162Z"
   },
   {
    "duration": 16,
    "start_time": "2021-09-25T16:23:46.192Z"
   },
   {
    "duration": 56,
    "start_time": "2021-09-25T16:23:46.210Z"
   },
   {
    "duration": 118,
    "start_time": "2021-09-25T16:23:46.268Z"
   },
   {
    "duration": 759,
    "start_time": "2021-09-25T16:29:49.999Z"
   },
   {
    "duration": 153,
    "start_time": "2021-09-25T16:29:50.760Z"
   },
   {
    "duration": 15,
    "start_time": "2021-09-25T16:29:50.916Z"
   },
   {
    "duration": 30,
    "start_time": "2021-09-25T16:29:50.934Z"
   },
   {
    "duration": 20,
    "start_time": "2021-09-25T16:29:50.967Z"
   },
   {
    "duration": 8,
    "start_time": "2021-09-25T16:29:50.989Z"
   },
   {
    "duration": 31,
    "start_time": "2021-09-25T16:29:51.000Z"
   },
   {
    "duration": 17,
    "start_time": "2021-09-25T16:29:51.034Z"
   },
   {
    "duration": 17,
    "start_time": "2021-09-25T16:29:51.055Z"
   },
   {
    "duration": 18,
    "start_time": "2021-09-25T16:29:51.075Z"
   },
   {
    "duration": 81,
    "start_time": "2021-09-25T16:29:51.096Z"
   },
   {
    "duration": 26,
    "start_time": "2021-09-25T16:29:51.179Z"
   },
   {
    "duration": 18,
    "start_time": "2021-09-25T16:29:51.207Z"
   },
   {
    "duration": 64,
    "start_time": "2021-09-25T16:29:51.227Z"
   },
   {
    "duration": 49,
    "start_time": "2021-09-25T16:29:51.293Z"
   },
   {
    "duration": 75,
    "start_time": "2021-09-25T16:30:21.311Z"
   },
   {
    "duration": 13,
    "start_time": "2021-09-25T16:30:35.149Z"
   },
   {
    "duration": 59,
    "start_time": "2021-09-25T16:30:57.128Z"
   },
   {
    "duration": 69,
    "start_time": "2021-09-25T16:31:02.476Z"
   },
   {
    "duration": 946,
    "start_time": "2021-09-25T16:33:45.032Z"
   },
   {
    "duration": 349,
    "start_time": "2021-09-25T16:33:54.005Z"
   },
   {
    "duration": 372,
    "start_time": "2021-09-25T16:34:08.762Z"
   },
   {
    "duration": 70,
    "start_time": "2021-09-25T16:34:14.823Z"
   },
   {
    "duration": 391,
    "start_time": "2021-09-25T16:36:37.958Z"
   },
   {
    "duration": 17,
    "start_time": "2021-09-25T16:44:11.344Z"
   },
   {
    "duration": 26,
    "start_time": "2021-09-25T16:46:49.459Z"
   },
   {
    "duration": 24,
    "start_time": "2021-09-25T16:47:11.010Z"
   },
   {
    "duration": 8,
    "start_time": "2021-09-25T16:47:54.364Z"
   },
   {
    "duration": 661,
    "start_time": "2021-09-25T16:47:57.896Z"
   },
   {
    "duration": 420,
    "start_time": "2021-09-25T16:48:12.293Z"
   },
   {
    "duration": 805,
    "start_time": "2021-09-25T16:48:19.482Z"
   },
   {
    "duration": 161,
    "start_time": "2021-09-25T16:48:20.289Z"
   },
   {
    "duration": 18,
    "start_time": "2021-09-25T16:48:20.464Z"
   },
   {
    "duration": 6,
    "start_time": "2021-09-25T16:48:20.485Z"
   },
   {
    "duration": 15,
    "start_time": "2021-09-25T16:48:20.494Z"
   },
   {
    "duration": 52,
    "start_time": "2021-09-25T16:48:20.512Z"
   },
   {
    "duration": 17,
    "start_time": "2021-09-25T16:48:20.570Z"
   },
   {
    "duration": 17,
    "start_time": "2021-09-25T16:48:20.590Z"
   },
   {
    "duration": 14,
    "start_time": "2021-09-25T16:48:20.609Z"
   },
   {
    "duration": 12,
    "start_time": "2021-09-25T16:48:20.663Z"
   },
   {
    "duration": 88,
    "start_time": "2021-09-25T16:48:20.678Z"
   },
   {
    "duration": 94,
    "start_time": "2021-09-25T16:48:20.769Z"
   },
   {
    "duration": 15,
    "start_time": "2021-09-25T16:48:20.867Z"
   },
   {
    "duration": 28,
    "start_time": "2021-09-25T16:48:20.885Z"
   },
   {
    "duration": 118,
    "start_time": "2021-09-25T16:48:20.916Z"
   },
   {
    "duration": 9,
    "start_time": "2021-09-25T16:48:46.070Z"
   },
   {
    "duration": 473,
    "start_time": "2021-09-25T16:50:58.770Z"
   },
   {
    "duration": 786,
    "start_time": "2021-09-25T16:51:06.139Z"
   },
   {
    "duration": 152,
    "start_time": "2021-09-25T16:51:06.928Z"
   },
   {
    "duration": 15,
    "start_time": "2021-09-25T16:51:07.084Z"
   },
   {
    "duration": 5,
    "start_time": "2021-09-25T16:51:07.102Z"
   },
   {
    "duration": 12,
    "start_time": "2021-09-25T16:51:07.109Z"
   },
   {
    "duration": 5,
    "start_time": "2021-09-25T16:51:07.123Z"
   },
   {
    "duration": 15,
    "start_time": "2021-09-25T16:51:07.163Z"
   },
   {
    "duration": 16,
    "start_time": "2021-09-25T16:51:07.181Z"
   },
   {
    "duration": 12,
    "start_time": "2021-09-25T16:51:07.201Z"
   },
   {
    "duration": 10,
    "start_time": "2021-09-25T16:51:07.215Z"
   },
   {
    "duration": 66,
    "start_time": "2021-09-25T16:51:07.262Z"
   },
   {
    "duration": 96,
    "start_time": "2021-09-25T16:51:07.331Z"
   },
   {
    "duration": 13,
    "start_time": "2021-09-25T16:51:07.429Z"
   },
   {
    "duration": 26,
    "start_time": "2021-09-25T16:51:07.462Z"
   },
   {
    "duration": 9,
    "start_time": "2021-09-25T16:51:07.490Z"
   },
   {
    "duration": 10,
    "start_time": "2021-09-25T16:51:07.501Z"
   },
   {
    "duration": 5,
    "start_time": "2021-09-25T16:56:45.322Z"
   },
   {
    "duration": 489,
    "start_time": "2021-09-25T16:58:25.620Z"
   },
   {
    "duration": 5,
    "start_time": "2021-09-25T16:59:11.171Z"
   },
   {
    "duration": 501,
    "start_time": "2021-09-25T16:59:12.094Z"
   },
   {
    "duration": 5,
    "start_time": "2021-09-25T17:01:05.659Z"
   },
   {
    "duration": 945,
    "start_time": "2021-09-25T17:01:06.723Z"
   },
   {
    "duration": 501,
    "start_time": "2021-09-25T17:01:23.278Z"
   },
   {
    "duration": 7,
    "start_time": "2021-09-25T17:01:55.083Z"
   },
   {
    "duration": 5,
    "start_time": "2021-09-25T17:03:34.567Z"
   },
   {
    "duration": 352,
    "start_time": "2021-09-25T17:03:35.691Z"
   },
   {
    "duration": 6,
    "start_time": "2021-09-25T17:05:08.680Z"
   },
   {
    "duration": 386,
    "start_time": "2021-09-25T17:05:08.944Z"
   },
   {
    "duration": 824,
    "start_time": "2021-09-25T17:07:26.244Z"
   },
   {
    "duration": 168,
    "start_time": "2021-09-25T17:07:27.071Z"
   },
   {
    "duration": 28,
    "start_time": "2021-09-25T17:07:27.243Z"
   },
   {
    "duration": 4,
    "start_time": "2021-09-25T17:07:27.274Z"
   },
   {
    "duration": 15,
    "start_time": "2021-09-25T17:07:27.280Z"
   },
   {
    "duration": 4,
    "start_time": "2021-09-25T17:07:27.297Z"
   },
   {
    "duration": 18,
    "start_time": "2021-09-25T17:07:27.304Z"
   },
   {
    "duration": 46,
    "start_time": "2021-09-25T17:07:27.325Z"
   },
   {
    "duration": 16,
    "start_time": "2021-09-25T17:07:27.375Z"
   },
   {
    "duration": 12,
    "start_time": "2021-09-25T17:07:27.394Z"
   },
   {
    "duration": 109,
    "start_time": "2021-09-25T17:07:27.408Z"
   },
   {
    "duration": 94,
    "start_time": "2021-09-25T17:07:27.519Z"
   },
   {
    "duration": 13,
    "start_time": "2021-09-25T17:07:27.615Z"
   },
   {
    "duration": 48,
    "start_time": "2021-09-25T17:07:27.630Z"
   },
   {
    "duration": 9,
    "start_time": "2021-09-25T17:07:27.681Z"
   },
   {
    "duration": 8,
    "start_time": "2021-09-25T17:07:27.692Z"
   },
   {
    "duration": 579,
    "start_time": "2021-09-25T17:15:07.244Z"
   },
   {
    "duration": 1594,
    "start_time": "2021-09-25T17:15:31.759Z"
   },
   {
    "duration": 63707,
    "start_time": "2021-09-25T17:17:47.325Z"
   },
   {
    "duration": 68,
    "start_time": "2021-09-25T17:19:11.784Z"
   },
   {
    "duration": 12,
    "start_time": "2021-09-25T17:19:35.479Z"
   },
   {
    "duration": 10878,
    "start_time": "2021-09-25T17:23:28.580Z"
   },
   {
    "duration": 11079,
    "start_time": "2021-09-25T17:26:35.993Z"
   },
   {
    "duration": 2585,
    "start_time": "2021-09-25T17:28:20.591Z"
   },
   {
    "duration": 4,
    "start_time": "2021-09-25T17:36:31.604Z"
   },
   {
    "duration": 765,
    "start_time": "2021-09-25T17:36:39.386Z"
   },
   {
    "duration": 156,
    "start_time": "2021-09-25T17:36:40.161Z"
   },
   {
    "duration": 16,
    "start_time": "2021-09-25T17:36:40.320Z"
   },
   {
    "duration": 26,
    "start_time": "2021-09-25T17:36:40.338Z"
   },
   {
    "duration": 16,
    "start_time": "2021-09-25T17:36:40.366Z"
   },
   {
    "duration": 6,
    "start_time": "2021-09-25T17:36:40.385Z"
   },
   {
    "duration": 19,
    "start_time": "2021-09-25T17:36:40.394Z"
   },
   {
    "duration": 46,
    "start_time": "2021-09-25T17:36:40.416Z"
   },
   {
    "duration": 13,
    "start_time": "2021-09-25T17:36:40.464Z"
   },
   {
    "duration": 10,
    "start_time": "2021-09-25T17:36:40.479Z"
   },
   {
    "duration": 96,
    "start_time": "2021-09-25T17:36:40.492Z"
   },
   {
    "duration": 4,
    "start_time": "2021-09-25T17:36:40.591Z"
   },
   {
    "duration": 4,
    "start_time": "2021-09-25T17:40:08.770Z"
   },
   {
    "duration": 4,
    "start_time": "2021-09-25T17:40:18.994Z"
   },
   {
    "duration": 477,
    "start_time": "2021-09-25T17:41:02.995Z"
   },
   {
    "duration": 680,
    "start_time": "2021-09-25T17:41:09.835Z"
   },
   {
    "duration": 4,
    "start_time": "2021-09-25T17:42:23.871Z"
   },
   {
    "duration": 5,
    "start_time": "2021-09-25T17:42:24.410Z"
   },
   {
    "duration": 4,
    "start_time": "2021-09-25T17:42:24.947Z"
   },
   {
    "duration": 363,
    "start_time": "2021-09-25T17:42:25.763Z"
   },
   {
    "duration": 13,
    "start_time": "2021-09-25T17:44:30.962Z"
   },
   {
    "duration": 72,
    "start_time": "2021-09-25T17:44:37.626Z"
   },
   {
    "duration": 18,
    "start_time": "2021-09-25T17:56:31.660Z"
   },
   {
    "duration": 10,
    "start_time": "2021-09-25T17:56:48.427Z"
   },
   {
    "duration": 73,
    "start_time": "2021-09-25T17:58:10.918Z"
   },
   {
    "duration": 9,
    "start_time": "2021-09-25T18:12:10.028Z"
   },
   {
    "duration": 64,
    "start_time": "2021-09-25T18:13:31.913Z"
   },
   {
    "duration": 11,
    "start_time": "2021-09-25T18:14:38.127Z"
   },
   {
    "duration": 12,
    "start_time": "2021-09-25T18:15:24.267Z"
   },
   {
    "duration": 91,
    "start_time": "2021-09-25T18:15:43.552Z"
   },
   {
    "duration": 5,
    "start_time": "2021-09-25T18:31:45.565Z"
   },
   {
    "duration": 61,
    "start_time": "2021-09-25T18:34:46.144Z"
   },
   {
    "duration": 8,
    "start_time": "2021-09-25T18:34:58.644Z"
   },
   {
    "duration": 63,
    "start_time": "2021-09-25T18:36:19.193Z"
   },
   {
    "duration": 62,
    "start_time": "2021-09-25T18:36:39.168Z"
   },
   {
    "duration": 455,
    "start_time": "2021-09-25T18:37:22.736Z"
   },
   {
    "duration": 405,
    "start_time": "2021-09-25T18:38:22.837Z"
   },
   {
    "duration": 773,
    "start_time": "2021-09-25T18:38:30.472Z"
   },
   {
    "duration": 157,
    "start_time": "2021-09-25T18:38:31.248Z"
   },
   {
    "duration": 16,
    "start_time": "2021-09-25T18:38:31.407Z"
   },
   {
    "duration": 5,
    "start_time": "2021-09-25T18:38:31.426Z"
   },
   {
    "duration": 37,
    "start_time": "2021-09-25T18:38:31.434Z"
   },
   {
    "duration": 9,
    "start_time": "2021-09-25T18:38:31.473Z"
   },
   {
    "duration": 24,
    "start_time": "2021-09-25T18:38:31.485Z"
   },
   {
    "duration": 17,
    "start_time": "2021-09-25T18:38:31.513Z"
   },
   {
    "duration": 36,
    "start_time": "2021-09-25T18:38:31.533Z"
   },
   {
    "duration": 9,
    "start_time": "2021-09-25T18:38:31.572Z"
   },
   {
    "duration": 96,
    "start_time": "2021-09-25T18:38:31.583Z"
   },
   {
    "duration": 12,
    "start_time": "2021-09-25T18:38:31.682Z"
   },
   {
    "duration": 92,
    "start_time": "2021-09-25T18:38:31.697Z"
   },
   {
    "duration": 9,
    "start_time": "2021-09-25T18:38:31.792Z"
   },
   {
    "duration": 83,
    "start_time": "2021-09-25T18:38:31.803Z"
   },
   {
    "duration": 5,
    "start_time": "2021-09-25T18:38:31.889Z"
   },
   {
    "duration": 84,
    "start_time": "2021-09-25T18:38:31.896Z"
   },
   {
    "duration": 572,
    "start_time": "2021-09-25T18:38:31.983Z"
   },
   {
    "duration": 770,
    "start_time": "2021-09-25T18:45:08.603Z"
   },
   {
    "duration": 154,
    "start_time": "2021-09-25T18:45:09.375Z"
   },
   {
    "duration": 15,
    "start_time": "2021-09-25T18:45:09.532Z"
   },
   {
    "duration": 5,
    "start_time": "2021-09-25T18:45:09.562Z"
   },
   {
    "duration": 35,
    "start_time": "2021-09-25T18:45:09.569Z"
   },
   {
    "duration": 12,
    "start_time": "2021-09-25T18:45:09.607Z"
   },
   {
    "duration": 50,
    "start_time": "2021-09-25T18:45:09.621Z"
   },
   {
    "duration": 60,
    "start_time": "2021-09-25T18:45:09.674Z"
   },
   {
    "duration": 34,
    "start_time": "2021-09-25T18:45:09.737Z"
   },
   {
    "duration": 21,
    "start_time": "2021-09-25T18:45:09.774Z"
   },
   {
    "duration": 79,
    "start_time": "2021-09-25T18:45:09.798Z"
   },
   {
    "duration": 13,
    "start_time": "2021-09-25T18:45:09.880Z"
   },
   {
    "duration": 86,
    "start_time": "2021-09-25T18:45:09.896Z"
   },
   {
    "duration": 128,
    "start_time": "2021-09-25T18:45:09.984Z"
   },
   {
    "duration": 128,
    "start_time": "2021-09-25T18:45:25.960Z"
   },
   {
    "duration": 22,
    "start_time": "2021-09-25T18:45:53.663Z"
   },
   {
    "duration": 12,
    "start_time": "2021-09-25T18:46:08.806Z"
   },
   {
    "duration": 5,
    "start_time": "2021-09-25T18:48:46.147Z"
   },
   {
    "duration": 5,
    "start_time": "2021-09-25T18:49:37.646Z"
   },
   {
    "duration": 5,
    "start_time": "2021-09-25T18:50:00.622Z"
   },
   {
    "duration": 56,
    "start_time": "2021-09-25T18:50:55.902Z"
   },
   {
    "duration": 12,
    "start_time": "2021-09-25T18:51:06.633Z"
   },
   {
    "duration": 881,
    "start_time": "2021-09-25T18:53:33.746Z"
   },
   {
    "duration": 181,
    "start_time": "2021-09-25T18:53:34.630Z"
   },
   {
    "duration": 21,
    "start_time": "2021-09-25T18:53:34.814Z"
   },
   {
    "duration": 27,
    "start_time": "2021-09-25T18:53:34.840Z"
   },
   {
    "duration": 27,
    "start_time": "2021-09-25T18:53:34.870Z"
   },
   {
    "duration": 7,
    "start_time": "2021-09-25T18:53:34.900Z"
   },
   {
    "duration": 21,
    "start_time": "2021-09-25T18:53:34.910Z"
   },
   {
    "duration": 40,
    "start_time": "2021-09-25T18:53:34.934Z"
   },
   {
    "duration": 14,
    "start_time": "2021-09-25T18:53:34.977Z"
   },
   {
    "duration": 11,
    "start_time": "2021-09-25T18:53:34.993Z"
   },
   {
    "duration": 117,
    "start_time": "2021-09-25T18:53:35.007Z"
   },
   {
    "duration": 13,
    "start_time": "2021-09-25T18:53:35.126Z"
   },
   {
    "duration": 88,
    "start_time": "2021-09-25T18:53:35.141Z"
   },
   {
    "duration": 34,
    "start_time": "2021-09-25T18:53:35.232Z"
   },
   {
    "duration": 5,
    "start_time": "2021-09-25T18:53:35.268Z"
   },
   {
    "duration": 16098,
    "start_time": "2021-09-25T18:53:35.276Z"
   },
   {
    "duration": 12,
    "start_time": "2021-09-25T18:53:51.376Z"
   },
   {
    "duration": 39704,
    "start_time": "2021-09-25T18:55:32.186Z"
   },
   {
    "duration": 783,
    "start_time": "2021-09-25T18:56:18.006Z"
   },
   {
    "duration": 162,
    "start_time": "2021-09-25T18:56:18.791Z"
   },
   {
    "duration": 19,
    "start_time": "2021-09-25T18:56:18.957Z"
   },
   {
    "duration": 6,
    "start_time": "2021-09-25T18:56:18.980Z"
   },
   {
    "duration": 16,
    "start_time": "2021-09-25T18:56:18.989Z"
   },
   {
    "duration": 6,
    "start_time": "2021-09-25T18:56:19.008Z"
   },
   {
    "duration": 17,
    "start_time": "2021-09-25T18:56:19.063Z"
   },
   {
    "duration": 14,
    "start_time": "2021-09-25T18:56:19.084Z"
   },
   {
    "duration": 12,
    "start_time": "2021-09-25T18:56:19.101Z"
   },
   {
    "duration": 9,
    "start_time": "2021-09-25T18:56:19.116Z"
   },
   {
    "duration": 76,
    "start_time": "2021-09-25T18:56:19.162Z"
   },
   {
    "duration": 28,
    "start_time": "2021-09-25T18:56:19.241Z"
   },
   {
    "duration": 66,
    "start_time": "2021-09-25T18:56:19.272Z"
   },
   {
    "duration": 38,
    "start_time": "2021-09-25T18:56:19.341Z"
   },
   {
    "duration": 5,
    "start_time": "2021-09-25T18:56:19.381Z"
   },
   {
    "duration": 70809,
    "start_time": "2021-09-25T18:56:19.388Z"
   },
   {
    "duration": 10,
    "start_time": "2021-09-25T18:57:30.200Z"
   },
   {
    "duration": 9,
    "start_time": "2021-09-25T18:58:56.803Z"
   },
   {
    "duration": 12,
    "start_time": "2021-09-25T18:59:15.782Z"
   },
   {
    "duration": 39,
    "start_time": "2021-09-25T18:59:40.630Z"
   },
   {
    "duration": 137,
    "start_time": "2021-09-25T18:59:50.565Z"
   },
   {
    "duration": 118,
    "start_time": "2021-09-25T19:00:05.336Z"
   },
   {
    "duration": 29,
    "start_time": "2021-09-25T19:00:45.244Z"
   },
   {
    "duration": 1572,
    "start_time": "2021-09-25T19:04:02.895Z"
   },
   {
    "duration": 229,
    "start_time": "2021-09-25T19:04:04.470Z"
   },
   {
    "duration": 16,
    "start_time": "2021-09-25T19:04:04.702Z"
   },
   {
    "duration": 6,
    "start_time": "2021-09-25T19:04:04.721Z"
   },
   {
    "duration": 38,
    "start_time": "2021-09-25T19:04:04.730Z"
   },
   {
    "duration": 7,
    "start_time": "2021-09-25T19:04:04.770Z"
   },
   {
    "duration": 27,
    "start_time": "2021-09-25T19:04:04.780Z"
   },
   {
    "duration": 14,
    "start_time": "2021-09-25T19:04:04.812Z"
   },
   {
    "duration": 39,
    "start_time": "2021-09-25T19:04:04.829Z"
   },
   {
    "duration": 13,
    "start_time": "2021-09-25T19:04:04.872Z"
   },
   {
    "duration": 136,
    "start_time": "2021-09-25T19:04:04.888Z"
   },
   {
    "duration": 20,
    "start_time": "2021-09-25T19:04:05.027Z"
   },
   {
    "duration": 126,
    "start_time": "2021-09-25T19:04:05.063Z"
   },
   {
    "duration": 3,
    "start_time": "2021-09-25T19:04:05.192Z"
   },
   {
    "duration": 16,
    "start_time": "2021-09-25T19:04:05.197Z"
   },
   {
    "duration": 17,
    "start_time": "2021-09-25T19:04:05.215Z"
   },
   {
    "duration": 31,
    "start_time": "2021-09-25T19:04:05.234Z"
   },
   {
    "duration": 11,
    "start_time": "2021-09-25T19:04:05.268Z"
   },
   {
    "duration": 7,
    "start_time": "2021-09-25T19:04:05.281Z"
   },
   {
    "duration": 969,
    "start_time": "2021-09-25T19:04:05.290Z"
   },
   {
    "duration": -1321,
    "start_time": "2021-09-25T19:04:07.583Z"
   },
   {
    "duration": 806,
    "start_time": "2021-09-25T19:06:04.846Z"
   },
   {
    "duration": 158,
    "start_time": "2021-09-25T19:06:05.655Z"
   },
   {
    "duration": 16,
    "start_time": "2021-09-25T19:06:05.816Z"
   },
   {
    "duration": 30,
    "start_time": "2021-09-25T19:06:05.834Z"
   },
   {
    "duration": 12,
    "start_time": "2021-09-25T19:06:05.867Z"
   },
   {
    "duration": 5,
    "start_time": "2021-09-25T19:06:05.882Z"
   },
   {
    "duration": 20,
    "start_time": "2021-09-25T19:06:05.890Z"
   },
   {
    "duration": 48,
    "start_time": "2021-09-25T19:06:05.914Z"
   },
   {
    "duration": 13,
    "start_time": "2021-09-25T19:06:05.965Z"
   },
   {
    "duration": 11,
    "start_time": "2021-09-25T19:06:05.980Z"
   },
   {
    "duration": 98,
    "start_time": "2021-09-25T19:06:05.993Z"
   },
   {
    "duration": 11,
    "start_time": "2021-09-25T19:06:06.094Z"
   },
   {
    "duration": 90,
    "start_time": "2021-09-25T19:06:06.108Z"
   },
   {
    "duration": 7,
    "start_time": "2021-09-25T19:06:06.201Z"
   },
   {
    "duration": 537,
    "start_time": "2021-09-25T19:06:06.211Z"
   },
   {
    "duration": -1209,
    "start_time": "2021-09-25T19:06:07.960Z"
   },
   {
    "duration": 774,
    "start_time": "2021-09-25T19:08:14.516Z"
   },
   {
    "duration": 160,
    "start_time": "2021-09-25T19:08:15.292Z"
   },
   {
    "duration": 36,
    "start_time": "2021-09-25T19:08:15.454Z"
   },
   {
    "duration": 15,
    "start_time": "2021-09-25T19:08:15.493Z"
   },
   {
    "duration": 15,
    "start_time": "2021-09-25T19:08:15.510Z"
   },
   {
    "duration": 4,
    "start_time": "2021-09-25T19:08:15.527Z"
   },
   {
    "duration": 34,
    "start_time": "2021-09-25T19:08:15.534Z"
   },
   {
    "duration": 16,
    "start_time": "2021-09-25T19:08:15.572Z"
   },
   {
    "duration": 13,
    "start_time": "2021-09-25T19:08:15.591Z"
   },
   {
    "duration": 11,
    "start_time": "2021-09-25T19:08:15.606Z"
   },
   {
    "duration": 102,
    "start_time": "2021-09-25T19:08:15.619Z"
   },
   {
    "duration": 12,
    "start_time": "2021-09-25T19:08:15.723Z"
   },
   {
    "duration": 82,
    "start_time": "2021-09-25T19:08:15.738Z"
   },
   {
    "duration": 5,
    "start_time": "2021-09-25T19:08:15.823Z"
   },
   {
    "duration": 27,
    "start_time": "2021-09-25T19:08:15.830Z"
   },
   {
    "duration": 141563,
    "start_time": "2021-09-25T19:08:15.860Z"
   },
   {
    "duration": 10,
    "start_time": "2021-09-25T19:10:37.425Z"
   },
   {
    "duration": 11,
    "start_time": "2021-09-25T19:11:42.800Z"
   },
   {
    "duration": 13,
    "start_time": "2021-09-25T19:11:55.344Z"
   },
   {
    "duration": 65,
    "start_time": "2021-09-25T19:13:34.481Z"
   },
   {
    "duration": 13,
    "start_time": "2021-09-25T19:14:16.973Z"
   },
   {
    "duration": 68,
    "start_time": "2021-09-25T19:14:17.586Z"
   },
   {
    "duration": 10,
    "start_time": "2021-09-25T19:20:31.081Z"
   },
   {
    "duration": 62,
    "start_time": "2021-09-25T19:20:35.873Z"
   },
   {
    "duration": 783,
    "start_time": "2021-09-25T19:34:36.754Z"
   },
   {
    "duration": 157,
    "start_time": "2021-09-25T19:34:37.539Z"
   },
   {
    "duration": 16,
    "start_time": "2021-09-25T19:34:37.698Z"
   },
   {
    "duration": 5,
    "start_time": "2021-09-25T19:34:37.717Z"
   },
   {
    "duration": 41,
    "start_time": "2021-09-25T19:34:37.725Z"
   },
   {
    "duration": 4,
    "start_time": "2021-09-25T19:34:37.769Z"
   },
   {
    "duration": 17,
    "start_time": "2021-09-25T19:34:37.776Z"
   },
   {
    "duration": 16,
    "start_time": "2021-09-25T19:34:37.797Z"
   },
   {
    "duration": 12,
    "start_time": "2021-09-25T19:34:37.817Z"
   },
   {
    "duration": 10,
    "start_time": "2021-09-25T19:34:37.865Z"
   },
   {
    "duration": 89,
    "start_time": "2021-09-25T19:34:37.878Z"
   },
   {
    "duration": 11,
    "start_time": "2021-09-25T19:34:37.970Z"
   },
   {
    "duration": 81,
    "start_time": "2021-09-25T19:34:37.983Z"
   },
   {
    "duration": 7596,
    "start_time": "2021-09-25T19:34:38.066Z"
   },
   {
    "duration": 5,
    "start_time": "2021-09-25T19:34:45.664Z"
   },
   {
    "duration": 7,
    "start_time": "2021-09-25T19:34:45.672Z"
   },
   {
    "duration": 9744,
    "start_time": "2021-09-25T19:34:45.682Z"
   },
   {
    "duration": -1284,
    "start_time": "2021-09-25T19:34:56.713Z"
   },
   {
    "duration": -1286,
    "start_time": "2021-09-25T19:34:56.716Z"
   },
   {
    "duration": -1286,
    "start_time": "2021-09-25T19:34:56.718Z"
   },
   {
    "duration": -1288,
    "start_time": "2021-09-25T19:34:56.721Z"
   },
   {
    "duration": -1288,
    "start_time": "2021-09-25T19:34:56.722Z"
   },
   {
    "duration": 12,
    "start_time": "2021-09-25T19:35:13.265Z"
   },
   {
    "duration": 815,
    "start_time": "2021-09-25T19:43:28.940Z"
   },
   {
    "duration": 160,
    "start_time": "2021-09-25T19:43:29.758Z"
   },
   {
    "duration": 15,
    "start_time": "2021-09-25T19:43:29.921Z"
   },
   {
    "duration": 22,
    "start_time": "2021-09-25T19:43:29.939Z"
   },
   {
    "duration": 12,
    "start_time": "2021-09-25T19:43:29.964Z"
   },
   {
    "duration": 4,
    "start_time": "2021-09-25T19:43:29.980Z"
   },
   {
    "duration": 18,
    "start_time": "2021-09-25T19:43:29.986Z"
   },
   {
    "duration": 58,
    "start_time": "2021-09-25T19:43:30.007Z"
   },
   {
    "duration": 13,
    "start_time": "2021-09-25T19:43:30.068Z"
   },
   {
    "duration": 10,
    "start_time": "2021-09-25T19:43:30.083Z"
   },
   {
    "duration": 98,
    "start_time": "2021-09-25T19:43:30.096Z"
   },
   {
    "duration": 13,
    "start_time": "2021-09-25T19:43:30.196Z"
   },
   {
    "duration": 93,
    "start_time": "2021-09-25T19:43:30.211Z"
   },
   {
    "duration": 5,
    "start_time": "2021-09-25T19:43:30.306Z"
   },
   {
    "duration": 14438,
    "start_time": "2021-09-25T19:43:30.313Z"
   },
   {
    "duration": 16,
    "start_time": "2021-09-25T19:43:44.754Z"
   },
   {
    "duration": 11,
    "start_time": "2021-09-25T19:43:44.773Z"
   },
   {
    "duration": 15,
    "start_time": "2021-09-25T19:43:44.786Z"
   },
   {
    "duration": 106,
    "start_time": "2021-09-25T19:43:44.804Z"
   },
   {
    "duration": 10,
    "start_time": "2021-09-25T19:43:44.912Z"
   },
   {
    "duration": 79,
    "start_time": "2021-09-25T19:43:44.925Z"
   },
   {
    "duration": 12,
    "start_time": "2021-09-25T20:01:32.289Z"
   },
   {
    "duration": 9359,
    "start_time": "2021-09-25T20:11:36.146Z"
   },
   {
    "duration": 2340,
    "start_time": "2021-09-25T20:12:15.310Z"
   },
   {
    "duration": 12,
    "start_time": "2021-09-25T20:12:29.876Z"
   },
   {
    "duration": 68,
    "start_time": "2021-09-25T20:12:51.649Z"
   },
   {
    "duration": 12,
    "start_time": "2021-09-25T20:29:58.625Z"
   },
   {
    "duration": 409,
    "start_time": "2021-09-25T20:31:59.000Z"
   },
   {
    "duration": 16,
    "start_time": "2021-09-25T20:32:17.577Z"
   },
   {
    "duration": 12,
    "start_time": "2021-09-25T20:32:26.369Z"
   },
   {
    "duration": 11,
    "start_time": "2021-09-25T20:34:17.723Z"
   },
   {
    "duration": 68,
    "start_time": "2021-09-25T20:34:22.360Z"
   },
   {
    "duration": 6,
    "start_time": "2021-09-25T20:34:42.265Z"
   },
   {
    "duration": 59,
    "start_time": "2021-09-25T20:34:43.005Z"
   },
   {
    "duration": 8,
    "start_time": "2021-09-25T20:35:42.792Z"
   },
   {
    "duration": 61,
    "start_time": "2021-09-25T20:35:48.044Z"
   },
   {
    "duration": 5,
    "start_time": "2021-09-25T20:41:32.673Z"
   },
   {
    "duration": 69,
    "start_time": "2021-09-25T20:41:33.108Z"
   },
   {
    "duration": 15,
    "start_time": "2021-09-25T20:45:23.139Z"
   },
   {
    "duration": 10,
    "start_time": "2021-09-25T20:45:35.581Z"
   },
   {
    "duration": 18,
    "start_time": "2021-09-25T20:45:45.846Z"
   },
   {
    "duration": 17,
    "start_time": "2021-09-25T20:46:07.723Z"
   },
   {
    "duration": 9719,
    "start_time": "2021-09-25T20:46:23.013Z"
   },
   {
    "duration": 16,
    "start_time": "2021-09-25T20:47:00.337Z"
   },
   {
    "duration": 16,
    "start_time": "2021-09-25T20:47:28.680Z"
   },
   {
    "duration": 16,
    "start_time": "2021-09-25T20:47:52.159Z"
   },
   {
    "duration": 16,
    "start_time": "2021-09-25T20:48:27.742Z"
   },
   {
    "duration": 5,
    "start_time": "2021-09-25T20:49:47.538Z"
   },
   {
    "duration": 81,
    "start_time": "2021-09-25T20:49:53.165Z"
   },
   {
    "duration": 805,
    "start_time": "2021-09-25T20:50:56.659Z"
   },
   {
    "duration": 164,
    "start_time": "2021-09-25T20:50:57.466Z"
   },
   {
    "duration": 37,
    "start_time": "2021-09-25T20:50:57.634Z"
   },
   {
    "duration": 6,
    "start_time": "2021-09-25T20:50:57.675Z"
   },
   {
    "duration": 20,
    "start_time": "2021-09-25T20:50:57.684Z"
   },
   {
    "duration": 6,
    "start_time": "2021-09-25T20:50:57.707Z"
   },
   {
    "duration": 66,
    "start_time": "2021-09-25T20:50:57.716Z"
   },
   {
    "duration": 16,
    "start_time": "2021-09-25T20:50:57.786Z"
   },
   {
    "duration": 14,
    "start_time": "2021-09-25T20:50:57.804Z"
   },
   {
    "duration": 43,
    "start_time": "2021-09-25T20:50:57.820Z"
   },
   {
    "duration": 67,
    "start_time": "2021-09-25T20:50:57.865Z"
   },
   {
    "duration": 28,
    "start_time": "2021-09-25T20:50:57.934Z"
   },
   {
    "duration": 71,
    "start_time": "2021-09-25T20:50:57.964Z"
   },
   {
    "duration": 25,
    "start_time": "2021-09-25T20:50:58.037Z"
   },
   {
    "duration": 17831,
    "start_time": "2021-09-25T20:50:58.064Z"
   },
   {
    "duration": 13,
    "start_time": "2021-09-25T20:51:15.897Z"
   },
   {
    "duration": 12,
    "start_time": "2021-09-25T20:51:15.913Z"
   },
   {
    "duration": 46,
    "start_time": "2021-09-25T20:51:15.927Z"
   },
   {
    "duration": 10,
    "start_time": "2021-09-25T20:51:15.975Z"
   },
   {
    "duration": 78,
    "start_time": "2021-09-25T20:51:15.987Z"
   },
   {
    "duration": 12,
    "start_time": "2021-09-25T20:51:16.068Z"
   },
   {
    "duration": 2955,
    "start_time": "2021-09-25T20:51:16.083Z"
   },
   {
    "duration": 20,
    "start_time": "2021-09-25T20:51:19.043Z"
   },
   {
    "duration": 482,
    "start_time": "2021-09-25T20:51:19.066Z"
   },
   {
    "duration": -1247,
    "start_time": "2021-09-25T20:51:20.798Z"
   },
   {
    "duration": -1250,
    "start_time": "2021-09-25T20:51:20.803Z"
   },
   {
    "duration": -1254,
    "start_time": "2021-09-25T20:51:20.808Z"
   },
   {
    "duration": -1258,
    "start_time": "2021-09-25T20:51:20.814Z"
   },
   {
    "duration": -1260,
    "start_time": "2021-09-25T20:51:20.818Z"
   },
   {
    "duration": -1263,
    "start_time": "2021-09-25T20:51:20.822Z"
   },
   {
    "duration": -1266,
    "start_time": "2021-09-25T20:51:20.826Z"
   },
   {
    "duration": -1267,
    "start_time": "2021-09-25T20:51:20.829Z"
   },
   {
    "duration": 12,
    "start_time": "2021-09-25T20:53:03.256Z"
   },
   {
    "duration": 13,
    "start_time": "2021-09-25T20:53:18.991Z"
   },
   {
    "duration": 65,
    "start_time": "2021-09-25T20:53:20.410Z"
   },
   {
    "duration": 6,
    "start_time": "2021-09-25T20:53:27.632Z"
   },
   {
    "duration": 62,
    "start_time": "2021-09-25T20:53:28.951Z"
   },
   {
    "duration": 4,
    "start_time": "2021-09-25T20:53:32.374Z"
   },
   {
    "duration": 70,
    "start_time": "2021-09-25T20:53:32.963Z"
   },
   {
    "duration": 20,
    "start_time": "2021-09-25T20:53:35.123Z"
   },
   {
    "duration": 5,
    "start_time": "2021-09-25T20:53:36.467Z"
   },
   {
    "duration": 8,
    "start_time": "2021-09-25T20:55:08.345Z"
   },
   {
    "duration": 58,
    "start_time": "2021-09-25T20:55:11.835Z"
   },
   {
    "duration": 4,
    "start_time": "2021-09-25T20:58:35.978Z"
   },
   {
    "duration": 15,
    "start_time": "2021-09-25T20:59:16.523Z"
   },
   {
    "duration": 69,
    "start_time": "2021-09-25T20:59:23.299Z"
   },
   {
    "duration": 17,
    "start_time": "2021-09-25T20:59:41.885Z"
   },
   {
    "duration": 21,
    "start_time": "2021-09-25T21:02:01.515Z"
   },
   {
    "duration": 18,
    "start_time": "2021-09-25T21:02:33.013Z"
   },
   {
    "duration": 19,
    "start_time": "2021-09-25T21:02:59.252Z"
   },
   {
    "duration": 16,
    "start_time": "2021-09-25T21:03:25.896Z"
   },
   {
    "duration": 5,
    "start_time": "2021-09-25T21:04:00.866Z"
   },
   {
    "duration": 755,
    "start_time": "2021-09-25T21:04:07.779Z"
   },
   {
    "duration": 155,
    "start_time": "2021-09-25T21:04:08.536Z"
   },
   {
    "duration": 17,
    "start_time": "2021-09-25T21:04:08.695Z"
   },
   {
    "duration": 6,
    "start_time": "2021-09-25T21:04:08.716Z"
   },
   {
    "duration": 47,
    "start_time": "2021-09-25T21:04:08.725Z"
   },
   {
    "duration": 6,
    "start_time": "2021-09-25T21:04:08.775Z"
   },
   {
    "duration": 26,
    "start_time": "2021-09-25T21:04:08.784Z"
   },
   {
    "duration": 27,
    "start_time": "2021-09-25T21:04:08.813Z"
   },
   {
    "duration": 26,
    "start_time": "2021-09-25T21:04:08.845Z"
   },
   {
    "duration": 13,
    "start_time": "2021-09-25T21:04:08.875Z"
   },
   {
    "duration": 93,
    "start_time": "2021-09-25T21:04:08.891Z"
   },
   {
    "duration": 15,
    "start_time": "2021-09-25T21:04:08.987Z"
   },
   {
    "duration": 98,
    "start_time": "2021-09-25T21:04:09.005Z"
   },
   {
    "duration": 6,
    "start_time": "2021-09-25T21:04:09.106Z"
   },
   {
    "duration": 14677,
    "start_time": "2021-09-25T21:04:09.116Z"
   },
   {
    "duration": 11,
    "start_time": "2021-09-25T21:04:23.796Z"
   },
   {
    "duration": 10,
    "start_time": "2021-09-25T21:04:23.810Z"
   },
   {
    "duration": 44,
    "start_time": "2021-09-25T21:04:23.823Z"
   },
   {
    "duration": 10,
    "start_time": "2021-09-25T21:04:23.870Z"
   },
   {
    "duration": 89,
    "start_time": "2021-09-25T21:04:23.882Z"
   },
   {
    "duration": 12,
    "start_time": "2021-09-25T21:04:23.973Z"
   },
   {
    "duration": 2402,
    "start_time": "2021-09-25T21:04:23.988Z"
   },
   {
    "duration": 12,
    "start_time": "2021-09-25T21:04:26.393Z"
   },
   {
    "duration": 11,
    "start_time": "2021-09-25T21:04:26.407Z"
   },
   {
    "duration": 12,
    "start_time": "2021-09-25T21:04:26.421Z"
   },
   {
    "duration": 31,
    "start_time": "2021-09-25T21:04:26.435Z"
   },
   {
    "duration": 65,
    "start_time": "2021-09-25T21:04:26.471Z"
   },
   {
    "duration": 3,
    "start_time": "2021-09-25T21:04:26.563Z"
   },
   {
    "duration": 77,
    "start_time": "2021-09-25T21:04:26.569Z"
   },
   {
    "duration": 32,
    "start_time": "2021-09-25T21:04:26.648Z"
   },
   {
    "duration": 5,
    "start_time": "2021-09-25T21:04:26.682Z"
   },
   {
    "duration": 81,
    "start_time": "2021-09-25T21:04:26.689Z"
   },
   {
    "duration": 4,
    "start_time": "2021-09-25T21:04:26.773Z"
   },
   {
    "duration": 20,
    "start_time": "2021-09-25T21:04:26.779Z"
   },
   {
    "duration": 21,
    "start_time": "2021-09-25T21:04:26.801Z"
   },
   {
    "duration": 5,
    "start_time": "2021-09-25T21:04:26.824Z"
   },
   {
    "duration": 8,
    "start_time": "2021-09-25T21:06:51.880Z"
   },
   {
    "duration": 52,
    "start_time": "2021-09-25T21:06:57.308Z"
   },
   {
    "duration": 4,
    "start_time": "2021-09-25T21:11:22.839Z"
   },
   {
    "duration": 11982,
    "start_time": "2021-09-25T21:12:11.096Z"
   },
   {
    "duration": 7,
    "start_time": "2021-09-25T21:13:38.058Z"
   },
   {
    "duration": 14683,
    "start_time": "2021-09-25T21:13:38.984Z"
   },
   {
    "duration": 6482,
    "start_time": "2021-09-25T21:14:30.172Z"
   },
   {
    "duration": 11734,
    "start_time": "2021-09-25T21:15:19.896Z"
   },
   {
    "duration": 10882,
    "start_time": "2021-09-25T21:16:02.722Z"
   },
   {
    "duration": 11459,
    "start_time": "2021-09-25T21:18:22.854Z"
   },
   {
    "duration": 5,
    "start_time": "2021-09-25T21:27:16.538Z"
   },
   {
    "duration": 793,
    "start_time": "2021-09-25T21:27:20.761Z"
   },
   {
    "duration": 158,
    "start_time": "2021-09-25T21:27:21.557Z"
   },
   {
    "duration": 15,
    "start_time": "2021-09-25T21:27:21.718Z"
   },
   {
    "duration": 4,
    "start_time": "2021-09-25T21:27:21.736Z"
   },
   {
    "duration": 30,
    "start_time": "2021-09-25T21:27:21.742Z"
   },
   {
    "duration": 9,
    "start_time": "2021-09-25T21:27:21.775Z"
   },
   {
    "duration": 22,
    "start_time": "2021-09-25T21:27:21.786Z"
   },
   {
    "duration": 14,
    "start_time": "2021-09-25T21:27:21.811Z"
   },
   {
    "duration": 40,
    "start_time": "2021-09-25T21:27:21.828Z"
   },
   {
    "duration": 11,
    "start_time": "2021-09-25T21:27:21.871Z"
   },
   {
    "duration": 93,
    "start_time": "2021-09-25T21:27:21.884Z"
   },
   {
    "duration": 15,
    "start_time": "2021-09-25T21:27:21.979Z"
   },
   {
    "duration": 92,
    "start_time": "2021-09-25T21:27:21.997Z"
   },
   {
    "duration": 5,
    "start_time": "2021-09-25T21:27:22.092Z"
   },
   {
    "duration": 14382,
    "start_time": "2021-09-25T21:27:22.099Z"
   },
   {
    "duration": 12,
    "start_time": "2021-09-25T21:27:36.483Z"
   },
   {
    "duration": 10,
    "start_time": "2021-09-25T21:27:36.498Z"
   },
   {
    "duration": 15,
    "start_time": "2021-09-25T21:27:36.510Z"
   },
   {
    "duration": 43,
    "start_time": "2021-09-25T21:27:36.527Z"
   },
   {
    "duration": 61,
    "start_time": "2021-09-25T21:27:36.572Z"
   },
   {
    "duration": 29,
    "start_time": "2021-09-25T21:27:36.635Z"
   },
   {
    "duration": 2247,
    "start_time": "2021-09-25T21:27:36.666Z"
   },
   {
    "duration": 11,
    "start_time": "2021-09-25T21:27:38.917Z"
   },
   {
    "duration": 32,
    "start_time": "2021-09-25T21:27:38.930Z"
   },
   {
    "duration": 4,
    "start_time": "2021-09-25T21:27:38.964Z"
   },
   {
    "duration": 22,
    "start_time": "2021-09-25T21:27:38.970Z"
   },
   {
    "duration": 5,
    "start_time": "2021-09-25T21:27:38.995Z"
   },
   {
    "duration": 71,
    "start_time": "2021-09-25T21:27:39.003Z"
   },
   {
    "duration": 3,
    "start_time": "2021-09-25T21:27:39.077Z"
   },
   {
    "duration": 86,
    "start_time": "2021-09-25T21:27:39.083Z"
   },
   {
    "duration": 21,
    "start_time": "2021-09-25T21:27:39.172Z"
   },
   {
    "duration": 5,
    "start_time": "2021-09-25T21:27:39.196Z"
   },
   {
    "duration": 91,
    "start_time": "2021-09-25T21:27:39.204Z"
   },
   {
    "duration": 5,
    "start_time": "2021-09-25T21:27:39.298Z"
   },
   {
    "duration": 17,
    "start_time": "2021-09-25T21:27:39.306Z"
   },
   {
    "duration": 50,
    "start_time": "2021-09-25T21:27:39.326Z"
   },
   {
    "duration": 4,
    "start_time": "2021-09-25T21:27:39.379Z"
   },
   {
    "duration": 14,
    "start_time": "2021-09-25T21:27:39.385Z"
   },
   {
    "duration": 78,
    "start_time": "2021-09-25T21:27:39.402Z"
   },
   {
    "duration": 125,
    "start_time": "2021-09-25T21:27:39.482Z"
   },
   {
    "duration": -1301,
    "start_time": "2021-09-25T21:27:40.910Z"
   },
   {
    "duration": 111,
    "start_time": "2021-09-25T21:28:43.130Z"
   },
   {
    "duration": 490,
    "start_time": "2021-09-25T21:28:44.210Z"
   },
   {
    "duration": 8,
    "start_time": "2021-09-25T21:29:05.959Z"
   },
   {
    "duration": 11824,
    "start_time": "2021-09-25T21:29:06.647Z"
   },
   {
    "duration": 4,
    "start_time": "2021-09-25T21:38:39.678Z"
   },
   {
    "duration": 10726,
    "start_time": "2021-09-25T21:38:40.488Z"
   },
   {
    "duration": 4,
    "start_time": "2021-09-25T21:39:47.418Z"
   },
   {
    "duration": 864,
    "start_time": "2021-09-25T21:39:48.133Z"
   },
   {
    "duration": 58,
    "start_time": "2021-09-25T21:39:55.378Z"
   },
   {
    "duration": 59,
    "start_time": "2021-09-25T21:43:13.935Z"
   },
   {
    "duration": 55,
    "start_time": "2021-09-25T21:44:25.468Z"
   },
   {
    "duration": 56,
    "start_time": "2021-09-25T21:44:40.715Z"
   },
   {
    "duration": 470,
    "start_time": "2021-09-25T21:52:28.826Z"
   },
   {
    "duration": 407,
    "start_time": "2021-09-25T21:53:40.994Z"
   },
   {
    "duration": 263,
    "start_time": "2021-09-25T21:55:37.781Z"
   },
   {
    "duration": 297,
    "start_time": "2021-09-25T22:00:24.462Z"
   },
   {
    "duration": 380,
    "start_time": "2021-09-25T22:00:48.882Z"
   },
   {
    "duration": 309,
    "start_time": "2021-09-25T22:01:26.390Z"
   },
   {
    "duration": 316,
    "start_time": "2021-09-25T22:01:42.090Z"
   },
   {
    "duration": 299,
    "start_time": "2021-09-25T22:01:52.176Z"
   },
   {
    "duration": 309,
    "start_time": "2021-09-25T22:02:02.550Z"
   },
   {
    "duration": 336,
    "start_time": "2021-09-25T22:02:12.630Z"
   },
   {
    "duration": 301,
    "start_time": "2021-09-25T22:02:20.728Z"
   },
   {
    "duration": 311,
    "start_time": "2021-09-25T22:02:38.765Z"
   },
   {
    "duration": 273,
    "start_time": "2021-09-25T22:03:16.330Z"
   },
   {
    "duration": 272,
    "start_time": "2021-09-25T22:03:30.677Z"
   },
   {
    "duration": 268,
    "start_time": "2021-09-25T22:03:44.110Z"
   },
   {
    "duration": 341,
    "start_time": "2021-09-25T22:05:46.676Z"
   },
   {
    "duration": 276,
    "start_time": "2021-09-25T22:06:04.406Z"
   },
   {
    "duration": 692,
    "start_time": "2021-09-25T22:07:27.846Z"
   },
   {
    "duration": 371,
    "start_time": "2021-09-25T22:22:31.536Z"
   },
   {
    "duration": 355,
    "start_time": "2021-09-25T22:22:53.930Z"
   },
   {
    "duration": 364,
    "start_time": "2021-09-25T22:23:09.449Z"
   },
   {
    "duration": 1042,
    "start_time": "2021-09-25T22:27:33.069Z"
   },
   {
    "duration": 3,
    "start_time": "2021-09-25T22:27:42.949Z"
   },
   {
    "duration": 1061,
    "start_time": "2021-09-25T22:28:46.680Z"
   },
   {
    "duration": 1160,
    "start_time": "2021-09-25T22:29:09.347Z"
   },
   {
    "duration": 293,
    "start_time": "2021-09-25T22:30:34.694Z"
   },
   {
    "duration": 1096,
    "start_time": "2021-09-25T22:31:11.131Z"
   },
   {
    "duration": 426,
    "start_time": "2021-09-25T22:31:40.301Z"
   },
   {
    "duration": 417,
    "start_time": "2021-09-25T22:32:17.526Z"
   },
   {
    "duration": 526,
    "start_time": "2021-09-25T22:32:27.253Z"
   },
   {
    "duration": 424,
    "start_time": "2021-09-25T22:32:36.179Z"
   },
   {
    "duration": 409,
    "start_time": "2021-09-25T22:33:37.777Z"
   },
   {
    "duration": 4,
    "start_time": "2021-09-25T22:34:14.276Z"
   },
   {
    "duration": 447,
    "start_time": "2021-09-25T22:34:29.828Z"
   },
   {
    "duration": 361,
    "start_time": "2021-09-25T22:35:14.876Z"
   },
   {
    "duration": 407,
    "start_time": "2021-09-25T22:35:22.412Z"
   },
   {
    "duration": 301,
    "start_time": "2021-09-25T22:35:28.325Z"
   },
   {
    "duration": 278,
    "start_time": "2021-09-25T22:36:07.084Z"
   },
   {
    "duration": 316,
    "start_time": "2021-09-25T22:36:25.876Z"
   },
   {
    "duration": 346,
    "start_time": "2021-09-25T22:36:38.564Z"
   },
   {
    "duration": 311,
    "start_time": "2021-09-25T22:37:00.029Z"
   },
   {
    "duration": 297,
    "start_time": "2021-09-25T22:37:05.187Z"
   },
   {
    "duration": 423,
    "start_time": "2021-09-25T22:37:14.882Z"
   },
   {
    "duration": 310,
    "start_time": "2021-09-25T22:37:26.464Z"
   },
   {
    "duration": 277,
    "start_time": "2021-09-25T22:37:37.098Z"
   },
   {
    "duration": 888,
    "start_time": "2021-09-25T22:41:13.941Z"
   },
   {
    "duration": 154,
    "start_time": "2021-09-25T22:41:14.832Z"
   },
   {
    "duration": 24,
    "start_time": "2021-09-25T22:41:14.993Z"
   },
   {
    "duration": 6,
    "start_time": "2021-09-25T22:41:15.019Z"
   },
   {
    "duration": 49,
    "start_time": "2021-09-25T22:41:15.028Z"
   },
   {
    "duration": 4,
    "start_time": "2021-09-25T22:41:15.079Z"
   },
   {
    "duration": 24,
    "start_time": "2021-09-25T22:41:15.087Z"
   },
   {
    "duration": 19,
    "start_time": "2021-09-25T22:41:15.114Z"
   },
   {
    "duration": 43,
    "start_time": "2021-09-25T22:41:15.136Z"
   },
   {
    "duration": 9,
    "start_time": "2021-09-25T22:41:15.181Z"
   },
   {
    "duration": 93,
    "start_time": "2021-09-25T22:41:15.193Z"
   },
   {
    "duration": 14,
    "start_time": "2021-09-25T22:41:15.289Z"
   },
   {
    "duration": 83,
    "start_time": "2021-09-25T22:41:15.305Z"
   },
   {
    "duration": 5,
    "start_time": "2021-09-25T22:41:15.391Z"
   },
   {
    "duration": 21364,
    "start_time": "2021-09-25T22:41:15.399Z"
   },
   {
    "duration": 16,
    "start_time": "2021-09-25T22:41:36.765Z"
   },
   {
    "duration": 16,
    "start_time": "2021-09-25T22:41:36.783Z"
   },
   {
    "duration": 14,
    "start_time": "2021-09-25T22:41:36.802Z"
   },
   {
    "duration": 47,
    "start_time": "2021-09-25T22:41:36.818Z"
   },
   {
    "duration": 62,
    "start_time": "2021-09-25T22:41:36.867Z"
   },
   {
    "duration": 41,
    "start_time": "2021-09-25T22:41:36.931Z"
   },
   {
    "duration": 3625,
    "start_time": "2021-09-25T22:41:36.977Z"
   },
   {
    "duration": 15,
    "start_time": "2021-09-25T22:41:40.605Z"
   },
   {
    "duration": 11,
    "start_time": "2021-09-25T22:41:40.622Z"
   },
   {
    "duration": 26,
    "start_time": "2021-09-25T22:41:40.636Z"
   },
   {
    "duration": 12,
    "start_time": "2021-09-25T22:41:40.665Z"
   },
   {
    "duration": 16,
    "start_time": "2021-09-25T22:41:40.679Z"
   },
   {
    "duration": 76,
    "start_time": "2021-09-25T22:41:40.697Z"
   },
   {
    "duration": 4,
    "start_time": "2021-09-25T22:41:40.775Z"
   },
   {
    "duration": 92,
    "start_time": "2021-09-25T22:41:40.781Z"
   },
   {
    "duration": 19,
    "start_time": "2021-09-25T22:41:40.875Z"
   },
   {
    "duration": 5,
    "start_time": "2021-09-25T22:41:40.896Z"
   },
   {
    "duration": 84,
    "start_time": "2021-09-25T22:41:40.903Z"
   },
   {
    "duration": 4,
    "start_time": "2021-09-25T22:41:40.989Z"
   },
   {
    "duration": 22,
    "start_time": "2021-09-25T22:41:40.995Z"
   },
   {
    "duration": 43,
    "start_time": "2021-09-25T22:41:41.019Z"
   },
   {
    "duration": 5,
    "start_time": "2021-09-25T22:41:41.064Z"
   },
   {
    "duration": 28,
    "start_time": "2021-09-25T22:41:41.071Z"
   },
   {
    "duration": 70,
    "start_time": "2021-09-25T22:41:41.101Z"
   },
   {
    "duration": 4,
    "start_time": "2021-09-25T22:41:41.173Z"
   },
   {
    "duration": 789,
    "start_time": "2021-09-25T22:41:41.179Z"
   },
   {
    "duration": 57,
    "start_time": "2021-09-25T22:41:41.970Z"
   },
   {
    "duration": 444,
    "start_time": "2021-09-25T22:41:42.030Z"
   },
   {
    "duration": 402,
    "start_time": "2021-09-25T22:41:42.477Z"
   },
   {
    "duration": 314,
    "start_time": "2021-09-25T22:41:42.882Z"
   },
   {
    "duration": 289,
    "start_time": "2021-09-25T22:41:43.199Z"
   },
   {
    "duration": 397,
    "start_time": "2021-09-25T22:43:13.808Z"
   },
   {
    "duration": 401,
    "start_time": "2021-09-25T22:43:26.568Z"
   },
   {
    "duration": 380,
    "start_time": "2021-09-25T22:44:09.767Z"
   },
   {
    "duration": 348,
    "start_time": "2021-09-25T22:44:16.716Z"
   },
   {
    "duration": 331,
    "start_time": "2021-09-25T22:44:24.333Z"
   },
   {
    "duration": 416,
    "start_time": "2021-09-25T22:44:29.829Z"
   },
   {
    "duration": 1108,
    "start_time": "2021-09-26T17:22:22.772Z"
   },
   {
    "duration": 158,
    "start_time": "2021-09-26T17:22:23.882Z"
   },
   {
    "duration": 18,
    "start_time": "2021-09-26T17:22:24.044Z"
   },
   {
    "duration": 6,
    "start_time": "2021-09-26T17:22:24.065Z"
   },
   {
    "duration": 50,
    "start_time": "2021-09-26T17:22:24.074Z"
   },
   {
    "duration": 5,
    "start_time": "2021-09-26T17:22:24.127Z"
   },
   {
    "duration": 18,
    "start_time": "2021-09-26T17:22:24.135Z"
   },
   {
    "duration": 16,
    "start_time": "2021-09-26T17:22:24.158Z"
   },
   {
    "duration": 49,
    "start_time": "2021-09-26T17:22:24.178Z"
   },
   {
    "duration": 10,
    "start_time": "2021-09-26T17:22:24.230Z"
   },
   {
    "duration": 102,
    "start_time": "2021-09-26T17:22:24.242Z"
   },
   {
    "duration": 13,
    "start_time": "2021-09-26T17:22:24.347Z"
   },
   {
    "duration": 108,
    "start_time": "2021-09-26T17:22:24.363Z"
   },
   {
    "duration": 5,
    "start_time": "2021-09-26T17:22:24.474Z"
   },
   {
    "duration": 16125,
    "start_time": "2021-09-26T17:22:24.481Z"
   },
   {
    "duration": 13,
    "start_time": "2021-09-26T17:22:40.609Z"
   },
   {
    "duration": 14,
    "start_time": "2021-09-26T17:22:40.625Z"
   },
   {
    "duration": 14,
    "start_time": "2021-09-26T17:22:40.642Z"
   },
   {
    "duration": 10,
    "start_time": "2021-09-26T17:22:40.660Z"
   },
   {
    "duration": 114,
    "start_time": "2021-09-26T17:22:40.673Z"
   },
   {
    "duration": 30,
    "start_time": "2021-09-26T17:22:40.790Z"
   },
   {
    "duration": 2478,
    "start_time": "2021-09-26T17:22:40.823Z"
   },
   {
    "duration": 17,
    "start_time": "2021-09-26T17:22:43.306Z"
   },
   {
    "duration": 10,
    "start_time": "2021-09-26T17:22:43.326Z"
   },
   {
    "duration": 7,
    "start_time": "2021-09-26T17:22:43.339Z"
   },
   {
    "duration": 13,
    "start_time": "2021-09-26T17:22:43.349Z"
   },
   {
    "duration": 6,
    "start_time": "2021-09-26T17:22:43.364Z"
   },
   {
    "duration": 110,
    "start_time": "2021-09-26T17:22:43.373Z"
   },
   {
    "duration": 5,
    "start_time": "2021-09-26T17:22:43.486Z"
   },
   {
    "duration": 85,
    "start_time": "2021-09-26T17:22:43.516Z"
   },
   {
    "duration": 31,
    "start_time": "2021-09-26T17:22:43.604Z"
   },
   {
    "duration": 5,
    "start_time": "2021-09-26T17:22:43.637Z"
   },
   {
    "duration": 92,
    "start_time": "2021-09-26T17:22:43.644Z"
   },
   {
    "duration": 5,
    "start_time": "2021-09-26T17:22:43.739Z"
   },
   {
    "duration": 28,
    "start_time": "2021-09-26T17:22:43.747Z"
   },
   {
    "duration": 39,
    "start_time": "2021-09-26T17:22:43.777Z"
   },
   {
    "duration": 5,
    "start_time": "2021-09-26T17:22:43.819Z"
   },
   {
    "duration": 11,
    "start_time": "2021-09-26T17:22:43.826Z"
   },
   {
    "duration": 83,
    "start_time": "2021-09-26T17:22:43.840Z"
   },
   {
    "duration": 4,
    "start_time": "2021-09-26T17:22:43.926Z"
   },
   {
    "duration": 956,
    "start_time": "2021-09-26T17:22:43.933Z"
   },
   {
    "duration": 67,
    "start_time": "2021-09-26T17:22:44.892Z"
   },
   {
    "duration": 465,
    "start_time": "2021-09-26T17:22:44.963Z"
   },
   {
    "duration": 457,
    "start_time": "2021-09-26T17:22:45.431Z"
   },
   {
    "duration": 349,
    "start_time": "2021-09-26T17:22:45.890Z"
   },
   {
    "duration": 313,
    "start_time": "2021-09-26T17:22:46.241Z"
   },
   {
    "duration": 597,
    "start_time": "2021-09-26T17:27:03.785Z"
   },
   {
    "duration": 607,
    "start_time": "2021-09-26T17:28:07.718Z"
   },
   {
    "duration": 8,
    "start_time": "2021-09-26T17:28:59.267Z"
   },
   {
    "duration": 8,
    "start_time": "2021-09-26T17:29:36.351Z"
   },
   {
    "duration": 8,
    "start_time": "2021-09-26T17:31:35.243Z"
   },
   {
    "duration": 7,
    "start_time": "2021-09-26T17:31:57.895Z"
   },
   {
    "duration": 228,
    "start_time": "2021-09-26T17:35:36.686Z"
   },
   {
    "duration": 646,
    "start_time": "2021-09-26T17:36:18.470Z"
   },
   {
    "duration": 225,
    "start_time": "2021-09-26T17:36:52.878Z"
   },
   {
    "duration": 235,
    "start_time": "2021-09-26T17:37:16.700Z"
   },
   {
    "duration": 291,
    "start_time": "2021-09-26T17:37:23.131Z"
   },
   {
    "duration": 653,
    "start_time": "2021-09-26T17:42:30.200Z"
   },
   {
    "duration": 244,
    "start_time": "2021-09-26T17:42:46.202Z"
   },
   {
    "duration": 232,
    "start_time": "2021-09-26T17:43:17.235Z"
   },
   {
    "duration": 374,
    "start_time": "2021-09-26T17:44:01.864Z"
   },
   {
    "duration": 261,
    "start_time": "2021-09-26T17:44:22.615Z"
   },
   {
    "duration": 368,
    "start_time": "2021-09-26T17:47:12.817Z"
   },
   {
    "duration": 14,
    "start_time": "2021-09-26T17:47:18.447Z"
   },
   {
    "duration": 13,
    "start_time": "2021-09-26T17:48:03.639Z"
   },
   {
    "duration": 13,
    "start_time": "2021-09-26T17:52:01.228Z"
   },
   {
    "duration": 14,
    "start_time": "2021-09-26T17:52:49.461Z"
   },
   {
    "duration": 11,
    "start_time": "2021-09-26T17:52:56.177Z"
   },
   {
    "duration": 10,
    "start_time": "2021-09-26T17:55:48.154Z"
   },
   {
    "duration": 16,
    "start_time": "2021-09-26T17:55:58.277Z"
   },
   {
    "duration": 8755,
    "start_time": "2021-09-26T17:57:16.197Z"
   },
   {
    "duration": 331,
    "start_time": "2021-09-26T17:57:26.713Z"
   },
   {
    "duration": 365,
    "start_time": "2021-09-26T17:57:49.950Z"
   },
   {
    "duration": 340,
    "start_time": "2021-09-26T17:58:00.406Z"
   },
   {
    "duration": 450,
    "start_time": "2021-09-26T17:58:06.309Z"
   },
   {
    "duration": 565,
    "start_time": "2021-09-26T17:58:11.673Z"
   },
   {
    "duration": 492,
    "start_time": "2021-09-26T17:58:52.713Z"
   },
   {
    "duration": 463,
    "start_time": "2021-09-26T17:59:20.141Z"
   },
   {
    "duration": 429,
    "start_time": "2021-09-26T17:59:37.537Z"
   },
   {
    "duration": 606,
    "start_time": "2021-09-26T17:59:54.610Z"
   },
   {
    "duration": 6,
    "start_time": "2021-09-26T18:01:03.329Z"
   },
   {
    "duration": -637,
    "start_time": "2021-09-26T18:01:27.782Z"
   },
   {
    "duration": 827,
    "start_time": "2021-09-26T18:01:42.967Z"
   },
   {
    "duration": 165,
    "start_time": "2021-09-26T18:01:43.797Z"
   },
   {
    "duration": 15,
    "start_time": "2021-09-26T18:01:43.966Z"
   },
   {
    "duration": 5,
    "start_time": "2021-09-26T18:01:43.984Z"
   },
   {
    "duration": 12,
    "start_time": "2021-09-26T18:01:44.016Z"
   },
   {
    "duration": 5,
    "start_time": "2021-09-26T18:01:44.030Z"
   },
   {
    "duration": 18,
    "start_time": "2021-09-26T18:01:44.037Z"
   },
   {
    "duration": 18,
    "start_time": "2021-09-26T18:01:44.059Z"
   },
   {
    "duration": 42,
    "start_time": "2021-09-26T18:01:44.080Z"
   },
   {
    "duration": 9,
    "start_time": "2021-09-26T18:01:44.125Z"
   },
   {
    "duration": 96,
    "start_time": "2021-09-26T18:01:44.136Z"
   },
   {
    "duration": 12,
    "start_time": "2021-09-26T18:01:44.235Z"
   },
   {
    "duration": 93,
    "start_time": "2021-09-26T18:01:44.250Z"
   },
   {
    "duration": 5,
    "start_time": "2021-09-26T18:01:44.346Z"
   },
   {
    "duration": 14378,
    "start_time": "2021-09-26T18:01:44.353Z"
   },
   {
    "duration": 12,
    "start_time": "2021-09-26T18:01:58.734Z"
   },
   {
    "duration": 13,
    "start_time": "2021-09-26T18:01:58.749Z"
   },
   {
    "duration": 15,
    "start_time": "2021-09-26T18:01:58.765Z"
   },
   {
    "duration": 38,
    "start_time": "2021-09-26T18:01:58.782Z"
   },
   {
    "duration": 60,
    "start_time": "2021-09-26T18:01:58.822Z"
   },
   {
    "duration": 36,
    "start_time": "2021-09-26T18:01:58.885Z"
   },
   {
    "duration": 2249,
    "start_time": "2021-09-26T18:01:58.924Z"
   },
   {
    "duration": 15,
    "start_time": "2021-09-26T18:02:01.181Z"
   },
   {
    "duration": 27,
    "start_time": "2021-09-26T18:02:01.200Z"
   },
   {
    "duration": 18,
    "start_time": "2021-09-26T18:02:01.229Z"
   },
   {
    "duration": 32,
    "start_time": "2021-09-26T18:02:01.249Z"
   },
   {
    "duration": 17,
    "start_time": "2021-09-26T18:02:01.284Z"
   },
   {
    "duration": 85,
    "start_time": "2021-09-26T18:02:01.303Z"
   },
   {
    "duration": 4,
    "start_time": "2021-09-26T18:02:01.391Z"
   },
   {
    "duration": 95,
    "start_time": "2021-09-26T18:02:01.397Z"
   },
   {
    "duration": 25,
    "start_time": "2021-09-26T18:02:01.494Z"
   },
   {
    "duration": 5,
    "start_time": "2021-09-26T18:02:01.521Z"
   },
   {
    "duration": 75,
    "start_time": "2021-09-26T18:02:01.528Z"
   },
   {
    "duration": 12,
    "start_time": "2021-09-26T18:02:01.605Z"
   },
   {
    "duration": 25,
    "start_time": "2021-09-26T18:02:01.620Z"
   },
   {
    "duration": 26,
    "start_time": "2021-09-26T18:02:01.648Z"
   },
   {
    "duration": 16,
    "start_time": "2021-09-26T18:02:01.676Z"
   },
   {
    "duration": 23,
    "start_time": "2021-09-26T18:02:01.694Z"
   },
   {
    "duration": 65,
    "start_time": "2021-09-26T18:02:01.720Z"
   },
   {
    "duration": 4,
    "start_time": "2021-09-26T18:02:01.788Z"
   },
   {
    "duration": 791,
    "start_time": "2021-09-26T18:02:01.795Z"
   },
   {
    "duration": 68,
    "start_time": "2021-09-26T18:02:02.588Z"
   },
   {
    "duration": 425,
    "start_time": "2021-09-26T18:02:02.658Z"
   },
   {
    "duration": 6,
    "start_time": "2021-09-26T18:02:03.085Z"
   },
   {
    "duration": 244,
    "start_time": "2021-09-26T18:02:03.094Z"
   },
   {
    "duration": 12,
    "start_time": "2021-09-26T18:02:03.340Z"
   },
   {
    "duration": 425,
    "start_time": "2021-09-26T18:02:03.354Z"
   },
   {
    "duration": 247,
    "start_time": "2021-09-26T18:02:03.781Z"
   },
   {
    "duration": 12,
    "start_time": "2021-09-26T18:02:04.030Z"
   },
   {
    "duration": 317,
    "start_time": "2021-09-26T18:02:04.044Z"
   },
   {
    "duration": 12,
    "start_time": "2021-09-26T18:02:04.364Z"
   },
   {
    "duration": 290,
    "start_time": "2021-09-26T18:02:04.378Z"
   },
   {
    "duration": 16,
    "start_time": "2021-09-26T18:02:04.671Z"
   },
   {
    "duration": 596,
    "start_time": "2021-09-26T18:02:04.690Z"
   },
   {
    "duration": 7,
    "start_time": "2021-09-26T18:02:05.289Z"
   },
   {
    "duration": 8,
    "start_time": "2021-09-26T18:02:05.317Z"
   },
   {
    "duration": 237,
    "start_time": "2021-09-26T18:04:52.105Z"
   },
   {
    "duration": 10,
    "start_time": "2021-09-26T18:09:56.456Z"
   },
   {
    "duration": 16,
    "start_time": "2021-09-26T18:11:54.009Z"
   },
   {
    "duration": 466,
    "start_time": "2021-09-26T18:13:49.842Z"
   },
   {
    "duration": 12,
    "start_time": "2021-09-26T18:13:59.788Z"
   },
   {
    "duration": 965,
    "start_time": "2021-09-26T18:14:08.732Z"
   },
   {
    "duration": 176,
    "start_time": "2021-09-26T18:14:09.700Z"
   },
   {
    "duration": 16,
    "start_time": "2021-09-26T18:14:09.878Z"
   },
   {
    "duration": 26,
    "start_time": "2021-09-26T18:14:09.897Z"
   },
   {
    "duration": 17,
    "start_time": "2021-09-26T18:14:09.926Z"
   },
   {
    "duration": 5,
    "start_time": "2021-09-26T18:14:09.948Z"
   },
   {
    "duration": 20,
    "start_time": "2021-09-26T18:14:09.957Z"
   },
   {
    "duration": 57,
    "start_time": "2021-09-26T18:14:09.982Z"
   },
   {
    "duration": 18,
    "start_time": "2021-09-26T18:14:10.046Z"
   },
   {
    "duration": 13,
    "start_time": "2021-09-26T18:14:10.067Z"
   },
   {
    "duration": 104,
    "start_time": "2021-09-26T18:14:10.083Z"
   },
   {
    "duration": 12,
    "start_time": "2021-09-26T18:14:10.189Z"
   },
   {
    "duration": 93,
    "start_time": "2021-09-26T18:14:10.204Z"
   },
   {
    "duration": 5,
    "start_time": "2021-09-26T18:14:10.299Z"
   },
   {
    "duration": 15743,
    "start_time": "2021-09-26T18:14:10.306Z"
   },
   {
    "duration": 14,
    "start_time": "2021-09-26T18:14:26.051Z"
   },
   {
    "duration": 10,
    "start_time": "2021-09-26T18:14:26.067Z"
   },
   {
    "duration": 44,
    "start_time": "2021-09-26T18:14:26.080Z"
   },
   {
    "duration": 11,
    "start_time": "2021-09-26T18:14:26.127Z"
   },
   {
    "duration": 80,
    "start_time": "2021-09-26T18:14:26.140Z"
   },
   {
    "duration": 16,
    "start_time": "2021-09-26T18:14:26.222Z"
   },
   {
    "duration": 2378,
    "start_time": "2021-09-26T18:14:26.240Z"
   },
   {
    "duration": 13,
    "start_time": "2021-09-26T18:14:28.625Z"
   },
   {
    "duration": 11,
    "start_time": "2021-09-26T18:14:28.641Z"
   },
   {
    "duration": 4,
    "start_time": "2021-09-26T18:14:28.655Z"
   },
   {
    "duration": 19,
    "start_time": "2021-09-26T18:14:28.661Z"
   },
   {
    "duration": 6,
    "start_time": "2021-09-26T18:14:28.682Z"
   },
   {
    "duration": 64,
    "start_time": "2021-09-26T18:14:28.725Z"
   },
   {
    "duration": 4,
    "start_time": "2021-09-26T18:14:28.792Z"
   },
   {
    "duration": 73,
    "start_time": "2021-09-26T18:14:28.825Z"
   },
   {
    "duration": 28,
    "start_time": "2021-09-26T18:14:28.900Z"
   },
   {
    "duration": 5,
    "start_time": "2021-09-26T18:14:28.930Z"
   },
   {
    "duration": 92,
    "start_time": "2021-09-26T18:14:28.937Z"
   },
   {
    "duration": 4,
    "start_time": "2021-09-26T18:14:29.033Z"
   },
   {
    "duration": 18,
    "start_time": "2021-09-26T18:14:29.039Z"
   },
   {
    "duration": 25,
    "start_time": "2021-09-26T18:14:29.059Z"
   },
   {
    "duration": 5,
    "start_time": "2021-09-26T18:14:29.087Z"
   },
   {
    "duration": 34,
    "start_time": "2021-09-26T18:14:29.094Z"
   },
   {
    "duration": 54,
    "start_time": "2021-09-26T18:14:29.131Z"
   },
   {
    "duration": 4,
    "start_time": "2021-09-26T18:14:29.188Z"
   },
   {
    "duration": 810,
    "start_time": "2021-09-26T18:14:29.216Z"
   },
   {
    "duration": 67,
    "start_time": "2021-09-26T18:14:30.029Z"
   },
   {
    "duration": 468,
    "start_time": "2021-09-26T18:14:30.098Z"
   },
   {
    "duration": 6,
    "start_time": "2021-09-26T18:14:30.569Z"
   },
   {
    "duration": 264,
    "start_time": "2021-09-26T18:14:30.577Z"
   },
   {
    "duration": 12,
    "start_time": "2021-09-26T18:14:30.844Z"
   },
   {
    "duration": 441,
    "start_time": "2021-09-26T18:14:30.859Z"
   },
   {
    "duration": 285,
    "start_time": "2021-09-26T18:14:31.303Z"
   },
   {
    "duration": 12,
    "start_time": "2021-09-26T18:14:31.591Z"
   },
   {
    "duration": 321,
    "start_time": "2021-09-26T18:14:31.606Z"
   },
   {
    "duration": 15,
    "start_time": "2021-09-26T18:14:31.930Z"
   },
   {
    "duration": 411,
    "start_time": "2021-09-26T18:14:31.947Z"
   },
   {
    "duration": 15,
    "start_time": "2021-09-26T18:14:32.360Z"
   },
   {
    "duration": 597,
    "start_time": "2021-09-26T18:14:32.377Z"
   },
   {
    "duration": 7,
    "start_time": "2021-09-26T18:14:32.976Z"
   },
   {
    "duration": 13,
    "start_time": "2021-09-26T18:14:32.986Z"
   },
   {
    "duration": 263,
    "start_time": "2021-09-26T18:14:33.001Z"
   },
   {
    "duration": 9,
    "start_time": "2021-09-26T18:14:33.267Z"
   },
   {
    "duration": 11,
    "start_time": "2021-09-26T18:14:33.279Z"
   },
   {
    "duration": 14,
    "start_time": "2021-09-26T18:19:54.309Z"
   },
   {
    "duration": 17,
    "start_time": "2021-09-26T18:20:33.821Z"
   },
   {
    "duration": 19,
    "start_time": "2021-09-26T18:20:48.436Z"
   },
   {
    "duration": 1004,
    "start_time": "2021-09-26T18:26:10.200Z"
   },
   {
    "duration": 977,
    "start_time": "2021-09-26T18:26:44.793Z"
   },
   {
    "duration": 782,
    "start_time": "2021-09-26T18:27:11.807Z"
   },
   {
    "duration": 9,
    "start_time": "2021-09-26T18:28:44.211Z"
   },
   {
    "duration": 452,
    "start_time": "2021-09-26T18:30:13.731Z"
   },
   {
    "duration": 909,
    "start_time": "2021-09-26T18:30:30.483Z"
   },
   {
    "duration": 18,
    "start_time": "2021-09-26T18:32:14.964Z"
   },
   {
    "duration": 769,
    "start_time": "2021-09-26T18:35:18.210Z"
   },
   {
    "duration": 884,
    "start_time": "2021-09-26T18:35:42.268Z"
   },
   {
    "duration": 803,
    "start_time": "2021-09-26T18:35:50.904Z"
   },
   {
    "duration": 9,
    "start_time": "2021-09-26T18:37:26.496Z"
   },
   {
    "duration": 347,
    "start_time": "2021-09-26T18:43:50.240Z"
   },
   {
    "duration": 467,
    "start_time": "2021-09-26T18:43:59.708Z"
   },
   {
    "duration": 18,
    "start_time": "2021-09-26T18:44:09.478Z"
   },
   {
    "duration": 703,
    "start_time": "2021-09-26T18:45:00.149Z"
   },
   {
    "duration": 7,
    "start_time": "2021-09-26T18:46:03.461Z"
   },
   {
    "duration": 127,
    "start_time": "2021-09-26T18:49:33.981Z"
   },
   {
    "duration": 4,
    "start_time": "2021-09-26T18:50:56.044Z"
   },
   {
    "duration": 9529,
    "start_time": "2021-09-26T18:51:42.404Z"
   },
   {
    "duration": 970,
    "start_time": "2021-09-26T18:53:06.505Z"
   },
   {
    "duration": 160,
    "start_time": "2021-09-26T18:53:07.477Z"
   },
   {
    "duration": 17,
    "start_time": "2021-09-26T18:53:07.645Z"
   },
   {
    "duration": 7,
    "start_time": "2021-09-26T18:53:07.665Z"
   },
   {
    "duration": 44,
    "start_time": "2021-09-26T18:53:07.675Z"
   },
   {
    "duration": 8,
    "start_time": "2021-09-26T18:53:07.721Z"
   },
   {
    "duration": 22,
    "start_time": "2021-09-26T18:53:07.733Z"
   },
   {
    "duration": 23,
    "start_time": "2021-09-26T18:53:07.759Z"
   },
   {
    "duration": 35,
    "start_time": "2021-09-26T18:53:07.785Z"
   },
   {
    "duration": 12,
    "start_time": "2021-09-26T18:53:07.822Z"
   },
   {
    "duration": 104,
    "start_time": "2021-09-26T18:53:07.840Z"
   },
   {
    "duration": 11,
    "start_time": "2021-09-26T18:53:07.947Z"
   },
   {
    "duration": 93,
    "start_time": "2021-09-26T18:53:07.961Z"
   },
   {
    "duration": 6,
    "start_time": "2021-09-26T18:53:08.057Z"
   },
   {
    "duration": 16190,
    "start_time": "2021-09-26T18:53:08.065Z"
   },
   {
    "duration": 12,
    "start_time": "2021-09-26T18:53:24.258Z"
   },
   {
    "duration": 11,
    "start_time": "2021-09-26T18:53:24.273Z"
   },
   {
    "duration": 43,
    "start_time": "2021-09-26T18:53:24.287Z"
   },
   {
    "duration": 13,
    "start_time": "2021-09-26T18:53:24.340Z"
   },
   {
    "duration": 91,
    "start_time": "2021-09-26T18:53:24.355Z"
   },
   {
    "duration": 16,
    "start_time": "2021-09-26T18:53:24.449Z"
   },
   {
    "duration": 2581,
    "start_time": "2021-09-26T18:53:24.467Z"
   },
   {
    "duration": 12,
    "start_time": "2021-09-26T18:53:27.054Z"
   },
   {
    "duration": 11,
    "start_time": "2021-09-26T18:53:27.070Z"
   },
   {
    "duration": 5,
    "start_time": "2021-09-26T18:53:27.084Z"
   },
   {
    "duration": 15,
    "start_time": "2021-09-26T18:53:27.122Z"
   },
   {
    "duration": 13,
    "start_time": "2021-09-26T18:53:27.139Z"
   },
   {
    "duration": 82,
    "start_time": "2021-09-26T18:53:27.157Z"
   },
   {
    "duration": 4,
    "start_time": "2021-09-26T18:53:27.242Z"
   },
   {
    "duration": 89,
    "start_time": "2021-09-26T18:53:27.248Z"
   },
   {
    "duration": 21,
    "start_time": "2021-09-26T18:53:27.339Z"
   },
   {
    "duration": 12,
    "start_time": "2021-09-26T18:53:27.362Z"
   },
   {
    "duration": 92,
    "start_time": "2021-09-26T18:53:27.376Z"
   },
   {
    "duration": 4,
    "start_time": "2021-09-26T18:53:27.471Z"
   },
   {
    "duration": 18,
    "start_time": "2021-09-26T18:53:27.478Z"
   },
   {
    "duration": 40,
    "start_time": "2021-09-26T18:53:27.499Z"
   },
   {
    "duration": 5,
    "start_time": "2021-09-26T18:53:27.541Z"
   },
   {
    "duration": 18,
    "start_time": "2021-09-26T18:53:27.549Z"
   },
   {
    "duration": 98,
    "start_time": "2021-09-26T18:53:27.569Z"
   },
   {
    "duration": 5,
    "start_time": "2021-09-26T18:53:27.670Z"
   },
   {
    "duration": 839,
    "start_time": "2021-09-26T18:53:27.679Z"
   },
   {
    "duration": 63,
    "start_time": "2021-09-26T18:53:28.521Z"
   },
   {
    "duration": 471,
    "start_time": "2021-09-26T18:53:28.587Z"
   },
   {
    "duration": 5,
    "start_time": "2021-09-26T18:53:29.060Z"
   },
   {
    "duration": 236,
    "start_time": "2021-09-26T18:53:29.070Z"
   },
   {
    "duration": 18,
    "start_time": "2021-09-26T18:53:29.316Z"
   },
   {
    "duration": 432,
    "start_time": "2021-09-26T18:53:29.337Z"
   },
   {
    "duration": 275,
    "start_time": "2021-09-26T18:53:29.772Z"
   },
   {
    "duration": 13,
    "start_time": "2021-09-26T18:53:30.050Z"
   },
   {
    "duration": 342,
    "start_time": "2021-09-26T18:53:30.066Z"
   },
   {
    "duration": 21,
    "start_time": "2021-09-26T18:53:30.411Z"
   },
   {
    "duration": 306,
    "start_time": "2021-09-26T18:53:30.435Z"
   },
   {
    "duration": 16,
    "start_time": "2021-09-26T18:53:30.744Z"
   },
   {
    "duration": 607,
    "start_time": "2021-09-26T18:53:30.762Z"
   },
   {
    "duration": 7,
    "start_time": "2021-09-26T18:53:31.372Z"
   },
   {
    "duration": 17,
    "start_time": "2021-09-26T18:53:31.381Z"
   },
   {
    "duration": 257,
    "start_time": "2021-09-26T18:53:31.421Z"
   },
   {
    "duration": 10,
    "start_time": "2021-09-26T18:53:31.681Z"
   },
   {
    "duration": 30,
    "start_time": "2021-09-26T18:53:31.694Z"
   },
   {
    "duration": 23,
    "start_time": "2021-09-26T18:53:31.727Z"
   },
   {
    "duration": 792,
    "start_time": "2021-09-26T18:53:31.752Z"
   },
   {
    "duration": 7,
    "start_time": "2021-09-26T18:53:32.547Z"
   },
   {
    "duration": 1134,
    "start_time": "2021-09-26T18:53:32.556Z"
   },
   {
    "duration": 14,
    "start_time": "2021-09-26T18:53:33.692Z"
   },
   {
    "duration": 25,
    "start_time": "2021-09-26T18:53:33.711Z"
   },
   {
    "duration": 950,
    "start_time": "2021-09-26T18:53:33.739Z"
   },
   {
    "duration": 24,
    "start_time": "2021-09-26T18:53:34.693Z"
   },
   {
    "duration": 5,
    "start_time": "2021-09-26T18:53:34.728Z"
   },
   {
    "duration": 14,
    "start_time": "2021-09-26T18:53:34.738Z"
   },
   {
    "duration": 1219,
    "start_time": "2021-09-26T18:54:48.838Z"
   },
   {
    "duration": 226,
    "start_time": "2021-09-26T18:54:50.060Z"
   },
   {
    "duration": 47,
    "start_time": "2021-09-26T18:54:50.289Z"
   },
   {
    "duration": 5,
    "start_time": "2021-09-26T18:54:50.340Z"
   },
   {
    "duration": 14,
    "start_time": "2021-09-26T18:54:50.348Z"
   },
   {
    "duration": 5,
    "start_time": "2021-09-26T18:54:50.365Z"
   },
   {
    "duration": 53,
    "start_time": "2021-09-26T18:54:50.373Z"
   },
   {
    "duration": 17,
    "start_time": "2021-09-26T18:54:50.432Z"
   },
   {
    "duration": 21,
    "start_time": "2021-09-26T18:54:50.454Z"
   },
   {
    "duration": 43,
    "start_time": "2021-09-26T18:54:50.478Z"
   },
   {
    "duration": 81,
    "start_time": "2021-09-26T18:54:50.524Z"
   },
   {
    "duration": 33,
    "start_time": "2021-09-26T18:54:50.608Z"
   },
   {
    "duration": 137,
    "start_time": "2021-09-26T18:54:50.644Z"
   },
   {
    "duration": 6,
    "start_time": "2021-09-26T18:54:50.784Z"
   },
   {
    "duration": 18283,
    "start_time": "2021-09-26T18:54:50.793Z"
   },
   {
    "duration": 15,
    "start_time": "2021-09-26T18:55:09.079Z"
   },
   {
    "duration": 38,
    "start_time": "2021-09-26T18:55:09.097Z"
   },
   {
    "duration": 19,
    "start_time": "2021-09-26T18:55:09.138Z"
   },
   {
    "duration": 13,
    "start_time": "2021-09-26T18:55:09.159Z"
   },
   {
    "duration": 103,
    "start_time": "2021-09-26T18:55:09.174Z"
   },
   {
    "duration": 13,
    "start_time": "2021-09-26T18:55:09.280Z"
   },
   {
    "duration": 3469,
    "start_time": "2021-09-26T18:55:09.295Z"
   },
   {
    "duration": 16,
    "start_time": "2021-09-26T18:55:12.773Z"
   },
   {
    "duration": 34,
    "start_time": "2021-09-26T18:55:12.793Z"
   },
   {
    "duration": 6,
    "start_time": "2021-09-26T18:55:12.831Z"
   },
   {
    "duration": 16,
    "start_time": "2021-09-26T18:55:12.841Z"
   },
   {
    "duration": 8,
    "start_time": "2021-09-26T18:55:12.860Z"
   },
   {
    "duration": 119,
    "start_time": "2021-09-26T18:55:12.871Z"
   },
   {
    "duration": 5,
    "start_time": "2021-09-26T18:55:12.993Z"
   },
   {
    "duration": 145,
    "start_time": "2021-09-26T18:55:13.001Z"
   },
   {
    "duration": 24,
    "start_time": "2021-09-26T18:55:13.149Z"
   },
   {
    "duration": 6,
    "start_time": "2021-09-26T18:55:13.176Z"
   },
   {
    "duration": 93,
    "start_time": "2021-09-26T18:55:13.185Z"
   },
   {
    "duration": 5,
    "start_time": "2021-09-26T18:55:13.280Z"
   },
   {
    "duration": 42,
    "start_time": "2021-09-26T18:55:13.287Z"
   },
   {
    "duration": 26,
    "start_time": "2021-09-26T18:55:13.332Z"
   },
   {
    "duration": 5,
    "start_time": "2021-09-26T18:55:13.361Z"
   },
   {
    "duration": 48,
    "start_time": "2021-09-26T18:55:13.370Z"
   },
   {
    "duration": 96,
    "start_time": "2021-09-26T18:55:13.422Z"
   },
   {
    "duration": 8,
    "start_time": "2021-09-26T18:55:13.521Z"
   },
   {
    "duration": 1283,
    "start_time": "2021-09-26T18:55:13.533Z"
   },
   {
    "duration": 73,
    "start_time": "2021-09-26T18:55:14.819Z"
   },
   {
    "duration": 548,
    "start_time": "2021-09-26T18:55:14.895Z"
   },
   {
    "duration": 7,
    "start_time": "2021-09-26T18:55:15.446Z"
   },
   {
    "duration": 301,
    "start_time": "2021-09-26T18:55:15.457Z"
   },
   {
    "duration": 14,
    "start_time": "2021-09-26T18:55:15.761Z"
   },
   {
    "duration": 469,
    "start_time": "2021-09-26T18:55:15.778Z"
   },
   {
    "duration": 290,
    "start_time": "2021-09-26T18:55:16.250Z"
   },
   {
    "duration": 17,
    "start_time": "2021-09-26T18:55:16.544Z"
   },
   {
    "duration": 352,
    "start_time": "2021-09-26T18:55:16.564Z"
   },
   {
    "duration": 17,
    "start_time": "2021-09-26T18:55:16.919Z"
   },
   {
    "duration": 432,
    "start_time": "2021-09-26T18:55:16.940Z"
   },
   {
    "duration": 19,
    "start_time": "2021-09-26T18:55:17.375Z"
   },
   {
    "duration": 686,
    "start_time": "2021-09-26T18:55:17.415Z"
   },
   {
    "duration": 14,
    "start_time": "2021-09-26T18:55:18.104Z"
   },
   {
    "duration": 13,
    "start_time": "2021-09-26T18:55:18.121Z"
   },
   {
    "duration": 318,
    "start_time": "2021-09-26T18:55:18.138Z"
   },
   {
    "duration": 14,
    "start_time": "2021-09-26T18:55:18.460Z"
   },
   {
    "duration": 38,
    "start_time": "2021-09-26T18:55:18.479Z"
   },
   {
    "duration": 24,
    "start_time": "2021-09-26T18:55:18.520Z"
   },
   {
    "duration": 761,
    "start_time": "2021-09-26T18:55:18.547Z"
   },
   {
    "duration": 7,
    "start_time": "2021-09-26T18:55:19.315Z"
   },
   {
    "duration": 839,
    "start_time": "2021-09-26T18:55:19.325Z"
   },
   {
    "duration": 10,
    "start_time": "2021-09-26T18:55:20.167Z"
   },
   {
    "duration": 39,
    "start_time": "2021-09-26T18:55:20.180Z"
   },
   {
    "duration": 998,
    "start_time": "2021-09-26T18:55:20.222Z"
   },
   {
    "duration": 10,
    "start_time": "2021-09-26T18:55:21.223Z"
   },
   {
    "duration": 5,
    "start_time": "2021-09-26T18:55:21.241Z"
   },
   {
    "duration": 17,
    "start_time": "2021-09-26T18:55:21.250Z"
   },
   {
    "duration": 17,
    "start_time": "2021-09-26T19:03:42.586Z"
   },
   {
    "duration": 822,
    "start_time": "2021-09-26T19:04:44.690Z"
   },
   {
    "duration": 8,
    "start_time": "2021-09-26T19:05:25.342Z"
   },
   {
    "duration": 898,
    "start_time": "2021-09-26T19:05:47.847Z"
   },
   {
    "duration": 426,
    "start_time": "2021-09-26T19:05:56.715Z"
   },
   {
    "duration": 738,
    "start_time": "2021-09-26T19:06:02.678Z"
   },
   {
    "duration": 745,
    "start_time": "2021-09-26T19:07:25.260Z"
   },
   {
    "duration": 932,
    "start_time": "2021-09-26T19:07:30.751Z"
   },
   {
    "duration": 975,
    "start_time": "2021-09-26T19:12:28.979Z"
   },
   {
    "duration": 185,
    "start_time": "2021-09-26T19:12:29.960Z"
   },
   {
    "duration": 17,
    "start_time": "2021-09-26T19:12:30.148Z"
   },
   {
    "duration": 6,
    "start_time": "2021-09-26T19:12:30.168Z"
   },
   {
    "duration": 52,
    "start_time": "2021-09-26T19:12:30.176Z"
   },
   {
    "duration": 7,
    "start_time": "2021-09-26T19:12:30.231Z"
   },
   {
    "duration": 42,
    "start_time": "2021-09-26T19:12:30.242Z"
   },
   {
    "duration": 39,
    "start_time": "2021-09-26T19:12:30.291Z"
   },
   {
    "duration": 18,
    "start_time": "2021-09-26T19:12:30.335Z"
   },
   {
    "duration": 15,
    "start_time": "2021-09-26T19:12:30.356Z"
   },
   {
    "duration": 109,
    "start_time": "2021-09-26T19:12:30.374Z"
   },
   {
    "duration": 33,
    "start_time": "2021-09-26T19:12:30.486Z"
   },
   {
    "duration": 76,
    "start_time": "2021-09-26T19:12:30.523Z"
   },
   {
    "duration": 5,
    "start_time": "2021-09-26T19:12:30.602Z"
   },
   {
    "duration": 17006,
    "start_time": "2021-09-26T19:12:30.617Z"
   },
   {
    "duration": 19,
    "start_time": "2021-09-26T19:12:47.626Z"
   },
   {
    "duration": 13,
    "start_time": "2021-09-26T19:12:47.648Z"
   },
   {
    "duration": 16,
    "start_time": "2021-09-26T19:12:47.663Z"
   },
   {
    "duration": 43,
    "start_time": "2021-09-26T19:12:47.681Z"
   },
   {
    "duration": 71,
    "start_time": "2021-09-26T19:12:47.727Z"
   },
   {
    "duration": 34,
    "start_time": "2021-09-26T19:12:47.800Z"
   },
   {
    "duration": 2615,
    "start_time": "2021-09-26T19:12:47.838Z"
   },
   {
    "duration": 12,
    "start_time": "2021-09-26T19:12:50.459Z"
   },
   {
    "duration": 46,
    "start_time": "2021-09-26T19:12:50.478Z"
   },
   {
    "duration": 5,
    "start_time": "2021-09-26T19:12:50.527Z"
   },
   {
    "duration": 18,
    "start_time": "2021-09-26T19:12:50.535Z"
   },
   {
    "duration": 7,
    "start_time": "2021-09-26T19:12:50.556Z"
   },
   {
    "duration": 98,
    "start_time": "2021-09-26T19:12:50.566Z"
   },
   {
    "duration": 5,
    "start_time": "2021-09-26T19:12:50.667Z"
   },
   {
    "duration": 93,
    "start_time": "2021-09-26T19:12:50.675Z"
   },
   {
    "duration": 24,
    "start_time": "2021-09-26T19:12:50.771Z"
   },
   {
    "duration": 26,
    "start_time": "2021-09-26T19:12:50.798Z"
   },
   {
    "duration": 122,
    "start_time": "2021-09-26T19:12:50.827Z"
   },
   {
    "duration": 6,
    "start_time": "2021-09-26T19:12:50.952Z"
   },
   {
    "duration": 22,
    "start_time": "2021-09-26T19:12:50.962Z"
   },
   {
    "duration": 47,
    "start_time": "2021-09-26T19:12:50.990Z"
   },
   {
    "duration": 4,
    "start_time": "2021-09-26T19:12:51.040Z"
   },
   {
    "duration": 14,
    "start_time": "2021-09-26T19:12:51.047Z"
   },
   {
    "duration": 96,
    "start_time": "2021-09-26T19:12:51.064Z"
   },
   {
    "duration": 4,
    "start_time": "2021-09-26T19:12:51.163Z"
   },
   {
    "duration": 846,
    "start_time": "2021-09-26T19:12:51.170Z"
   },
   {
    "duration": 70,
    "start_time": "2021-09-26T19:12:52.019Z"
   },
   {
    "duration": 483,
    "start_time": "2021-09-26T19:12:52.092Z"
   },
   {
    "duration": 6,
    "start_time": "2021-09-26T19:12:52.578Z"
   },
   {
    "duration": 248,
    "start_time": "2021-09-26T19:12:52.586Z"
   },
   {
    "duration": 14,
    "start_time": "2021-09-26T19:12:52.837Z"
   },
   {
    "duration": 685,
    "start_time": "2021-09-26T19:12:52.853Z"
   },
   {
    "duration": 256,
    "start_time": "2021-09-26T19:12:53.544Z"
   },
   {
    "duration": 31,
    "start_time": "2021-09-26T19:12:53.803Z"
   },
   {
    "duration": 343,
    "start_time": "2021-09-26T19:12:53.839Z"
   },
   {
    "duration": 13,
    "start_time": "2021-09-26T19:12:54.184Z"
   },
   {
    "duration": 312,
    "start_time": "2021-09-26T19:12:54.200Z"
   },
   {
    "duration": 18,
    "start_time": "2021-09-26T19:12:54.516Z"
   },
   {
    "duration": 652,
    "start_time": "2021-09-26T19:12:54.537Z"
   },
   {
    "duration": 6,
    "start_time": "2021-09-26T19:12:55.192Z"
   },
   {
    "duration": 21,
    "start_time": "2021-09-26T19:12:55.200Z"
   },
   {
    "duration": 333,
    "start_time": "2021-09-26T19:12:55.224Z"
   },
   {
    "duration": 15,
    "start_time": "2021-09-26T19:12:55.561Z"
   },
   {
    "duration": 44,
    "start_time": "2021-09-26T19:12:55.580Z"
   },
   {
    "duration": 22,
    "start_time": "2021-09-26T19:12:55.627Z"
   },
   {
    "duration": 829,
    "start_time": "2021-09-26T19:12:55.652Z"
   },
   {
    "duration": 6,
    "start_time": "2021-09-26T19:12:56.484Z"
   },
   {
    "duration": 904,
    "start_time": "2021-09-26T19:12:56.492Z"
   },
   {
    "duration": 22,
    "start_time": "2021-09-26T19:12:57.399Z"
   },
   {
    "duration": 23,
    "start_time": "2021-09-26T19:12:57.426Z"
   },
   {
    "duration": 749,
    "start_time": "2021-09-26T19:12:57.453Z"
   },
   {
    "duration": 11,
    "start_time": "2021-09-26T19:12:58.205Z"
   },
   {
    "duration": 5,
    "start_time": "2021-09-26T19:12:58.226Z"
   },
   {
    "duration": 27,
    "start_time": "2021-09-26T19:12:58.234Z"
   },
   {
    "duration": 58,
    "start_time": "2021-09-26T19:12:58.264Z"
   },
   {
    "duration": 530,
    "start_time": "2021-09-26T19:15:09.719Z"
   },
   {
    "duration": 4,
    "start_time": "2021-09-26T19:15:16.278Z"
   },
   {
    "duration": 16,
    "start_time": "2021-09-26T19:15:16.638Z"
   },
   {
    "duration": 4,
    "start_time": "2021-09-26T19:15:40.349Z"
   },
   {
    "duration": 14,
    "start_time": "2021-09-26T19:15:41.162Z"
   },
   {
    "duration": 13,
    "start_time": "2021-09-26T19:16:02.695Z"
   },
   {
    "duration": 16,
    "start_time": "2021-09-26T19:16:19.460Z"
   },
   {
    "duration": 23,
    "start_time": "2021-09-26T19:16:36.809Z"
   },
   {
    "duration": 16,
    "start_time": "2021-09-26T19:17:02.836Z"
   },
   {
    "duration": 402,
    "start_time": "2021-09-26T19:24:50.566Z"
   },
   {
    "duration": 19,
    "start_time": "2021-09-26T19:26:07.959Z"
   },
   {
    "duration": 6,
    "start_time": "2021-09-26T19:29:30.534Z"
   },
   {
    "duration": 197,
    "start_time": "2021-09-26T19:32:22.278Z"
   },
   {
    "duration": 4,
    "start_time": "2021-09-26T19:32:29.795Z"
   },
   {
    "duration": 22,
    "start_time": "2021-09-26T19:33:13.271Z"
   },
   {
    "duration": 14,
    "start_time": "2021-09-26T19:43:15.000Z"
   },
   {
    "duration": 4744,
    "start_time": "2021-09-26T19:43:34.215Z"
   },
   {
    "duration": 17,
    "start_time": "2021-09-26T19:44:13.159Z"
   },
   {
    "duration": 7,
    "start_time": "2021-09-26T19:44:37.357Z"
   },
   {
    "duration": 8721,
    "start_time": "2021-09-26T19:44:38.143Z"
   },
   {
    "duration": 18,
    "start_time": "2021-09-26T19:44:50.128Z"
   },
   {
    "duration": 911,
    "start_time": "2021-09-26T19:48:57.757Z"
   },
   {
    "duration": 157,
    "start_time": "2021-09-26T19:48:58.671Z"
   },
   {
    "duration": 18,
    "start_time": "2021-09-26T19:48:58.832Z"
   },
   {
    "duration": 7,
    "start_time": "2021-09-26T19:48:58.853Z"
   },
   {
    "duration": 20,
    "start_time": "2021-09-26T19:48:58.862Z"
   },
   {
    "duration": 42,
    "start_time": "2021-09-26T19:48:58.885Z"
   },
   {
    "duration": 27,
    "start_time": "2021-09-26T19:48:58.930Z"
   },
   {
    "duration": 21,
    "start_time": "2021-09-26T19:48:58.962Z"
   },
   {
    "duration": 13,
    "start_time": "2021-09-26T19:48:58.986Z"
   },
   {
    "duration": 10,
    "start_time": "2021-09-26T19:48:59.001Z"
   },
   {
    "duration": 73,
    "start_time": "2021-09-26T19:48:59.022Z"
   },
   {
    "duration": 26,
    "start_time": "2021-09-26T19:48:59.098Z"
   },
   {
    "duration": 85,
    "start_time": "2021-09-26T19:48:59.126Z"
   },
   {
    "duration": 9,
    "start_time": "2021-09-26T19:48:59.217Z"
   },
   {
    "duration": 16267,
    "start_time": "2021-09-26T19:48:59.229Z"
   },
   {
    "duration": 20,
    "start_time": "2021-09-26T19:49:15.498Z"
   },
   {
    "duration": 13,
    "start_time": "2021-09-26T19:49:15.523Z"
   },
   {
    "duration": 16,
    "start_time": "2021-09-26T19:49:15.538Z"
   },
   {
    "duration": 9,
    "start_time": "2021-09-26T19:49:15.556Z"
   },
   {
    "duration": 98,
    "start_time": "2021-09-26T19:49:15.567Z"
   },
   {
    "duration": 12,
    "start_time": "2021-09-26T19:49:15.668Z"
   },
   {
    "duration": 2414,
    "start_time": "2021-09-26T19:49:15.682Z"
   },
   {
    "duration": 20,
    "start_time": "2021-09-26T19:49:18.102Z"
   },
   {
    "duration": 11,
    "start_time": "2021-09-26T19:49:18.127Z"
   },
   {
    "duration": 5,
    "start_time": "2021-09-26T19:49:18.140Z"
   },
   {
    "duration": 16,
    "start_time": "2021-09-26T19:49:18.148Z"
   },
   {
    "duration": 6,
    "start_time": "2021-09-26T19:49:18.166Z"
   },
   {
    "duration": 107,
    "start_time": "2021-09-26T19:49:18.174Z"
   },
   {
    "duration": 4,
    "start_time": "2021-09-26T19:49:18.285Z"
   },
   {
    "duration": 98,
    "start_time": "2021-09-26T19:49:18.292Z"
   },
   {
    "duration": 41,
    "start_time": "2021-09-26T19:49:18.393Z"
   },
   {
    "duration": 5,
    "start_time": "2021-09-26T19:49:18.437Z"
   },
   {
    "duration": 88,
    "start_time": "2021-09-26T19:49:18.445Z"
   },
   {
    "duration": 5,
    "start_time": "2021-09-26T19:49:18.536Z"
   },
   {
    "duration": 18,
    "start_time": "2021-09-26T19:49:18.544Z"
   },
   {
    "duration": 20,
    "start_time": "2021-09-26T19:49:18.565Z"
   },
   {
    "duration": 35,
    "start_time": "2021-09-26T19:49:18.588Z"
   },
   {
    "duration": 13,
    "start_time": "2021-09-26T19:49:18.626Z"
   },
   {
    "duration": 55,
    "start_time": "2021-09-26T19:49:18.641Z"
   },
   {
    "duration": 28,
    "start_time": "2021-09-26T19:49:18.698Z"
   },
   {
    "duration": 806,
    "start_time": "2021-09-26T19:49:18.729Z"
   },
   {
    "duration": 61,
    "start_time": "2021-09-26T19:49:19.538Z"
   },
   {
    "duration": 433,
    "start_time": "2021-09-26T19:49:19.617Z"
   },
   {
    "duration": 7,
    "start_time": "2021-09-26T19:49:20.052Z"
   },
   {
    "duration": 228,
    "start_time": "2021-09-26T19:49:20.062Z"
   },
   {
    "duration": 12,
    "start_time": "2021-09-26T19:49:20.292Z"
   },
   {
    "duration": 415,
    "start_time": "2021-09-26T19:49:20.317Z"
   },
   {
    "duration": 255,
    "start_time": "2021-09-26T19:49:20.735Z"
   },
   {
    "duration": 27,
    "start_time": "2021-09-26T19:49:20.993Z"
   },
   {
    "duration": 318,
    "start_time": "2021-09-26T19:49:21.023Z"
   },
   {
    "duration": 16,
    "start_time": "2021-09-26T19:49:21.344Z"
   },
   {
    "duration": 304,
    "start_time": "2021-09-26T19:49:21.362Z"
   },
   {
    "duration": 16,
    "start_time": "2021-09-26T19:49:21.668Z"
   },
   {
    "duration": 704,
    "start_time": "2021-09-26T19:49:21.686Z"
   },
   {
    "duration": 5,
    "start_time": "2021-09-26T19:49:22.393Z"
   },
   {
    "duration": 18,
    "start_time": "2021-09-26T19:49:22.401Z"
   },
   {
    "duration": 262,
    "start_time": "2021-09-26T19:49:22.421Z"
   },
   {
    "duration": 10,
    "start_time": "2021-09-26T19:49:22.685Z"
   },
   {
    "duration": 39,
    "start_time": "2021-09-26T19:49:22.698Z"
   },
   {
    "duration": 19,
    "start_time": "2021-09-26T19:49:22.740Z"
   },
   {
    "duration": 787,
    "start_time": "2021-09-26T19:49:22.762Z"
   },
   {
    "duration": 8,
    "start_time": "2021-09-26T19:49:23.552Z"
   },
   {
    "duration": 822,
    "start_time": "2021-09-26T19:49:23.563Z"
   },
   {
    "duration": 7,
    "start_time": "2021-09-26T19:49:24.388Z"
   },
   {
    "duration": 41,
    "start_time": "2021-09-26T19:49:24.397Z"
   },
   {
    "duration": 786,
    "start_time": "2021-09-26T19:49:24.441Z"
   },
   {
    "duration": 8,
    "start_time": "2021-09-26T19:49:25.230Z"
   },
   {
    "duration": 4,
    "start_time": "2021-09-26T19:49:25.246Z"
   },
   {
    "duration": 18,
    "start_time": "2021-09-26T19:49:25.253Z"
   },
   {
    "duration": 57,
    "start_time": "2021-09-26T19:49:25.273Z"
   },
   {
    "duration": 19,
    "start_time": "2021-09-26T19:49:25.332Z"
   },
   {
    "duration": 17,
    "start_time": "2021-09-26T19:49:25.354Z"
   },
   {
    "duration": 4,
    "start_time": "2021-09-26T19:49:25.374Z"
   },
   {
    "duration": 52,
    "start_time": "2021-09-26T19:49:25.381Z"
   },
   {
    "duration": 22,
    "start_time": "2021-09-26T19:49:25.436Z"
   },
   {
    "duration": 12,
    "start_time": "2021-09-26T19:49:25.460Z"
   },
   {
    "duration": 8675,
    "start_time": "2021-09-26T19:49:25.475Z"
   },
   {
    "duration": 15,
    "start_time": "2021-09-26T19:49:34.152Z"
   },
   {
    "duration": 928,
    "start_time": "2021-09-26T19:51:09.034Z"
   },
   {
    "duration": 182,
    "start_time": "2021-09-26T19:51:09.964Z"
   },
   {
    "duration": 17,
    "start_time": "2021-09-26T19:51:10.149Z"
   },
   {
    "duration": 6,
    "start_time": "2021-09-26T19:51:10.169Z"
   },
   {
    "duration": 53,
    "start_time": "2021-09-26T19:51:10.178Z"
   },
   {
    "duration": 5,
    "start_time": "2021-09-26T19:51:10.234Z"
   },
   {
    "duration": 19,
    "start_time": "2021-09-26T19:51:10.241Z"
   },
   {
    "duration": 18,
    "start_time": "2021-09-26T19:51:10.264Z"
   },
   {
    "duration": 42,
    "start_time": "2021-09-26T19:51:10.285Z"
   },
   {
    "duration": 11,
    "start_time": "2021-09-26T19:51:10.330Z"
   },
   {
    "duration": 99,
    "start_time": "2021-09-26T19:51:10.344Z"
   },
   {
    "duration": 12,
    "start_time": "2021-09-26T19:51:10.446Z"
   },
   {
    "duration": 88,
    "start_time": "2021-09-26T19:51:10.461Z"
   },
   {
    "duration": 6,
    "start_time": "2021-09-26T19:51:10.552Z"
   },
   {
    "duration": 16764,
    "start_time": "2021-09-26T19:51:10.561Z"
   },
   {
    "duration": 15,
    "start_time": "2021-09-26T19:51:27.328Z"
   },
   {
    "duration": 15,
    "start_time": "2021-09-26T19:51:27.345Z"
   },
   {
    "duration": 16,
    "start_time": "2021-09-26T19:51:27.362Z"
   },
   {
    "duration": 49,
    "start_time": "2021-09-26T19:51:27.380Z"
   },
   {
    "duration": 65,
    "start_time": "2021-09-26T19:51:27.432Z"
   },
   {
    "duration": 29,
    "start_time": "2021-09-26T19:51:27.500Z"
   },
   {
    "duration": 2427,
    "start_time": "2021-09-26T19:51:27.531Z"
   },
   {
    "duration": 11,
    "start_time": "2021-09-26T19:51:29.964Z"
   },
   {
    "duration": 10,
    "start_time": "2021-09-26T19:51:29.978Z"
   },
   {
    "duration": 31,
    "start_time": "2021-09-26T19:51:29.990Z"
   },
   {
    "duration": 17,
    "start_time": "2021-09-26T19:51:30.024Z"
   },
   {
    "duration": 23,
    "start_time": "2021-09-26T19:51:30.044Z"
   },
   {
    "duration": 79,
    "start_time": "2021-09-26T19:51:30.070Z"
   },
   {
    "duration": 5,
    "start_time": "2021-09-26T19:51:30.152Z"
   },
   {
    "duration": 87,
    "start_time": "2021-09-26T19:51:30.160Z"
   },
   {
    "duration": 20,
    "start_time": "2021-09-26T19:51:30.249Z"
   },
   {
    "duration": 4,
    "start_time": "2021-09-26T19:51:30.272Z"
   },
   {
    "duration": 91,
    "start_time": "2021-09-26T19:51:30.278Z"
   },
   {
    "duration": 4,
    "start_time": "2021-09-26T19:51:30.372Z"
   },
   {
    "duration": 32,
    "start_time": "2021-09-26T19:51:30.379Z"
   },
   {
    "duration": 35,
    "start_time": "2021-09-26T19:51:30.422Z"
   },
   {
    "duration": 5,
    "start_time": "2021-09-26T19:51:30.460Z"
   },
   {
    "duration": 27,
    "start_time": "2021-09-26T19:51:30.467Z"
   },
   {
    "duration": 73,
    "start_time": "2021-09-26T19:51:30.497Z"
   },
   {
    "duration": 4,
    "start_time": "2021-09-26T19:51:30.572Z"
   },
   {
    "duration": 1322,
    "start_time": "2021-09-26T19:51:30.579Z"
   },
   {
    "duration": 90,
    "start_time": "2021-09-26T19:51:31.904Z"
   },
   {
    "duration": 441,
    "start_time": "2021-09-26T19:51:31.997Z"
   },
   {
    "duration": 7,
    "start_time": "2021-09-26T19:51:32.441Z"
   },
   {
    "duration": 241,
    "start_time": "2021-09-26T19:51:32.451Z"
   },
   {
    "duration": 24,
    "start_time": "2021-09-26T19:51:32.695Z"
   },
   {
    "duration": 418,
    "start_time": "2021-09-26T19:51:32.721Z"
   },
   {
    "duration": 332,
    "start_time": "2021-09-26T19:51:33.142Z"
   },
   {
    "duration": 11,
    "start_time": "2021-09-26T19:51:33.477Z"
   },
   {
    "duration": 329,
    "start_time": "2021-09-26T19:51:33.490Z"
   },
   {
    "duration": 16,
    "start_time": "2021-09-26T19:51:33.822Z"
   },
   {
    "duration": 302,
    "start_time": "2021-09-26T19:51:33.841Z"
   },
   {
    "duration": 15,
    "start_time": "2021-09-26T19:51:34.145Z"
   },
   {
    "duration": 599,
    "start_time": "2021-09-26T19:51:34.162Z"
   },
   {
    "duration": 7,
    "start_time": "2021-09-26T19:51:34.763Z"
   },
   {
    "duration": 8,
    "start_time": "2021-09-26T19:51:34.773Z"
   },
   {
    "duration": 290,
    "start_time": "2021-09-26T19:51:34.784Z"
   },
   {
    "duration": 9,
    "start_time": "2021-09-26T19:51:35.077Z"
   },
   {
    "duration": 34,
    "start_time": "2021-09-26T19:51:35.089Z"
   },
   {
    "duration": 21,
    "start_time": "2021-09-26T19:51:35.126Z"
   },
   {
    "duration": 764,
    "start_time": "2021-09-26T19:51:35.149Z"
   },
   {
    "duration": 9,
    "start_time": "2021-09-26T19:51:35.916Z"
   },
   {
    "duration": 859,
    "start_time": "2021-09-26T19:51:35.928Z"
   },
   {
    "duration": 9,
    "start_time": "2021-09-26T19:51:36.790Z"
   },
   {
    "duration": 33,
    "start_time": "2021-09-26T19:51:36.802Z"
   },
   {
    "duration": 694,
    "start_time": "2021-09-26T19:51:36.838Z"
   },
   {
    "duration": 8,
    "start_time": "2021-09-26T19:51:37.535Z"
   },
   {
    "duration": 4,
    "start_time": "2021-09-26T19:51:37.551Z"
   },
   {
    "duration": 18,
    "start_time": "2021-09-26T19:51:37.557Z"
   },
   {
    "duration": 53,
    "start_time": "2021-09-26T19:51:37.578Z"
   },
   {
    "duration": 17,
    "start_time": "2021-09-26T19:51:37.634Z"
   },
   {
    "duration": 14,
    "start_time": "2021-09-26T19:51:37.654Z"
   },
   {
    "duration": 3,
    "start_time": "2021-09-26T19:51:37.671Z"
   },
   {
    "duration": 39,
    "start_time": "2021-09-26T19:51:37.676Z"
   },
   {
    "duration": 28,
    "start_time": "2021-09-26T19:51:37.718Z"
   },
   {
    "duration": 9,
    "start_time": "2021-09-26T19:51:37.749Z"
   },
   {
    "duration": 8718,
    "start_time": "2021-09-26T19:51:37.760Z"
   },
   {
    "duration": 13,
    "start_time": "2021-09-26T19:51:46.481Z"
   },
   {
    "duration": 3286,
    "start_time": "2021-09-26T19:51:46.496Z"
   },
   {
    "duration": 80,
    "start_time": "2021-09-26T19:52:29.532Z"
   },
   {
    "duration": 3498,
    "start_time": "2021-09-26T19:53:36.379Z"
   },
   {
    "duration": 13,
    "start_time": "2021-09-26T19:54:12.064Z"
   },
   {
    "duration": 6,
    "start_time": "2021-09-26T19:55:14.555Z"
   },
   {
    "duration": 18349,
    "start_time": "2021-09-26T19:55:15.370Z"
   },
   {
    "duration": 19,
    "start_time": "2021-09-26T19:55:33.724Z"
   },
   {
    "duration": 98,
    "start_time": "2021-09-26T19:55:33.747Z"
   },
   {
    "duration": 6394,
    "start_time": "2021-09-26T19:55:33.848Z"
   },
   {
    "duration": 15,
    "start_time": "2021-09-26T19:55:40.245Z"
   },
   {
    "duration": 12,
    "start_time": "2021-09-26T19:58:11.539Z"
   },
   {
    "duration": 11,
    "start_time": "2021-09-26T19:58:20.136Z"
   },
   {
    "duration": 364,
    "start_time": "2021-09-26T20:00:28.656Z"
   },
   {
    "duration": 8,
    "start_time": "2021-09-26T20:00:37.244Z"
   },
   {
    "duration": 8,
    "start_time": "2021-09-26T20:00:38.084Z"
   },
   {
    "duration": 12,
    "start_time": "2021-09-26T20:01:03.538Z"
   },
   {
    "duration": 6,
    "start_time": "2021-09-26T20:01:04.803Z"
   },
   {
    "duration": 525,
    "start_time": "2021-09-26T20:02:43.103Z"
   },
   {
    "duration": 76,
    "start_time": "2021-09-26T20:02:51.326Z"
   },
   {
    "duration": 46,
    "start_time": "2021-09-26T20:04:18.154Z"
   },
   {
    "duration": 54,
    "start_time": "2021-09-26T20:05:45.519Z"
   },
   {
    "duration": 50,
    "start_time": "2021-09-26T20:05:59.764Z"
   },
   {
    "duration": 8773,
    "start_time": "2021-09-26T20:08:42.291Z"
   },
   {
    "duration": 17,
    "start_time": "2021-09-26T20:10:23.135Z"
   },
   {
    "duration": 17,
    "start_time": "2021-09-26T20:10:32.415Z"
   },
   {
    "duration": 338,
    "start_time": "2021-09-26T20:13:06.261Z"
   },
   {
    "duration": 62,
    "start_time": "2021-09-26T20:14:57.730Z"
   },
   {
    "duration": 417,
    "start_time": "2021-09-26T20:15:57.876Z"
   },
   {
    "duration": 87,
    "start_time": "2021-09-26T20:16:09.554Z"
   },
   {
    "duration": 82,
    "start_time": "2021-09-26T20:18:13.898Z"
   },
   {
    "duration": 67,
    "start_time": "2021-09-26T20:21:55.600Z"
   },
   {
    "duration": 14,
    "start_time": "2021-09-26T20:22:33.700Z"
   },
   {
    "duration": 961,
    "start_time": "2021-09-26T20:24:38.502Z"
   },
   {
    "duration": 12,
    "start_time": "2021-09-26T20:24:44.558Z"
   },
   {
    "duration": 4,
    "start_time": "2021-09-26T20:26:23.998Z"
   },
   {
    "duration": 67,
    "start_time": "2021-09-26T20:27:31.162Z"
   },
   {
    "duration": 993,
    "start_time": "2021-09-26T20:28:59.269Z"
   },
   {
    "duration": 853,
    "start_time": "2021-09-26T20:29:19.502Z"
   },
   {
    "duration": 858,
    "start_time": "2021-09-26T20:30:00.411Z"
   },
   {
    "duration": 868,
    "start_time": "2021-09-26T20:30:12.685Z"
   },
   {
    "duration": 918,
    "start_time": "2021-09-26T20:30:30.270Z"
   },
   {
    "duration": 749,
    "start_time": "2021-09-26T20:30:48.020Z"
   },
   {
    "duration": 383,
    "start_time": "2021-09-26T20:31:11.505Z"
   },
   {
    "duration": 1107,
    "start_time": "2021-09-26T20:31:30.953Z"
   },
   {
    "duration": 685,
    "start_time": "2021-09-26T20:32:41.393Z"
   },
   {
    "duration": 679,
    "start_time": "2021-09-26T20:35:20.165Z"
   },
   {
    "duration": 786,
    "start_time": "2021-09-26T20:35:30.146Z"
   },
   {
    "duration": 685,
    "start_time": "2021-09-26T20:35:57.325Z"
   },
   {
    "duration": 684,
    "start_time": "2021-09-26T20:36:25.205Z"
   },
   {
    "duration": 1357,
    "start_time": "2021-09-26T20:37:14.969Z"
   },
   {
    "duration": 1680,
    "start_time": "2021-09-26T20:38:06.713Z"
   },
   {
    "duration": 381,
    "start_time": "2021-09-26T20:42:24.378Z"
   },
   {
    "duration": 57,
    "start_time": "2021-09-26T20:43:02.437Z"
   },
   {
    "duration": 132,
    "start_time": "2021-09-26T20:45:23.735Z"
   },
   {
    "duration": 50,
    "start_time": "2021-09-26T20:46:49.542Z"
   },
   {
    "duration": 49,
    "start_time": "2021-09-26T20:49:04.020Z"
   },
   {
    "duration": 10018,
    "start_time": "2021-09-26T20:55:36.631Z"
   },
   {
    "duration": 3879,
    "start_time": "2021-09-26T20:58:47.046Z"
   },
   {
    "duration": 3975,
    "start_time": "2021-09-26T20:59:18.960Z"
   },
   {
    "duration": 22,
    "start_time": "2021-09-26T21:01:44.877Z"
   },
   {
    "duration": 333,
    "start_time": "2021-09-26T21:02:06.868Z"
   },
   {
    "duration": 327,
    "start_time": "2021-09-26T21:02:35.093Z"
   },
   {
    "duration": 674,
    "start_time": "2021-09-26T21:03:39.795Z"
   },
   {
    "duration": 1185,
    "start_time": "2021-09-26T21:05:34.585Z"
   },
   {
    "duration": 175,
    "start_time": "2021-09-26T21:05:35.774Z"
   },
   {
    "duration": 20,
    "start_time": "2021-09-26T21:05:35.953Z"
   },
   {
    "duration": 7,
    "start_time": "2021-09-26T21:05:35.976Z"
   },
   {
    "duration": 21,
    "start_time": "2021-09-26T21:05:36.018Z"
   },
   {
    "duration": 5,
    "start_time": "2021-09-26T21:05:36.043Z"
   },
   {
    "duration": 19,
    "start_time": "2021-09-26T21:05:36.051Z"
   },
   {
    "duration": 50,
    "start_time": "2021-09-26T21:05:36.074Z"
   },
   {
    "duration": 17,
    "start_time": "2021-09-26T21:05:36.133Z"
   },
   {
    "duration": 14,
    "start_time": "2021-09-26T21:05:36.153Z"
   },
   {
    "duration": 116,
    "start_time": "2021-09-26T21:05:36.170Z"
   },
   {
    "duration": 27,
    "start_time": "2021-09-26T21:05:36.290Z"
   },
   {
    "duration": 80,
    "start_time": "2021-09-26T21:05:36.326Z"
   },
   {
    "duration": 9,
    "start_time": "2021-09-26T21:05:36.421Z"
   },
   {
    "duration": 17514,
    "start_time": "2021-09-26T21:05:36.432Z"
   },
   {
    "duration": 13,
    "start_time": "2021-09-26T21:05:53.949Z"
   },
   {
    "duration": 16,
    "start_time": "2021-09-26T21:05:53.965Z"
   },
   {
    "duration": 56,
    "start_time": "2021-09-26T21:05:53.984Z"
   },
   {
    "duration": 11,
    "start_time": "2021-09-26T21:05:54.043Z"
   },
   {
    "duration": 95,
    "start_time": "2021-09-26T21:05:54.057Z"
   },
   {
    "duration": 15,
    "start_time": "2021-09-26T21:05:54.157Z"
   },
   {
    "duration": 2872,
    "start_time": "2021-09-26T21:05:54.175Z"
   },
   {
    "duration": 16,
    "start_time": "2021-09-26T21:05:57.057Z"
   },
   {
    "duration": 44,
    "start_time": "2021-09-26T21:05:57.079Z"
   },
   {
    "duration": 7,
    "start_time": "2021-09-26T21:05:57.128Z"
   },
   {
    "duration": 15,
    "start_time": "2021-09-26T21:05:57.138Z"
   },
   {
    "duration": 7,
    "start_time": "2021-09-26T21:05:57.156Z"
   },
   {
    "duration": 111,
    "start_time": "2021-09-26T21:05:57.166Z"
   },
   {
    "duration": 5,
    "start_time": "2021-09-26T21:05:57.280Z"
   },
   {
    "duration": 106,
    "start_time": "2021-09-26T21:05:57.288Z"
   },
   {
    "duration": 39,
    "start_time": "2021-09-26T21:05:57.397Z"
   },
   {
    "duration": 6,
    "start_time": "2021-09-26T21:05:57.439Z"
   },
   {
    "duration": 84,
    "start_time": "2021-09-26T21:05:57.448Z"
   },
   {
    "duration": 5,
    "start_time": "2021-09-26T21:05:57.535Z"
   },
   {
    "duration": 24,
    "start_time": "2021-09-26T21:05:57.543Z"
   },
   {
    "duration": 52,
    "start_time": "2021-09-26T21:05:57.570Z"
   },
   {
    "duration": 15,
    "start_time": "2021-09-26T21:05:57.626Z"
   },
   {
    "duration": 8,
    "start_time": "2021-09-26T21:05:57.645Z"
   },
   {
    "duration": 91,
    "start_time": "2021-09-26T21:05:57.656Z"
   },
   {
    "duration": 6,
    "start_time": "2021-09-26T21:05:57.749Z"
   },
   {
    "duration": 935,
    "start_time": "2021-09-26T21:05:57.758Z"
   },
   {
    "duration": 81,
    "start_time": "2021-09-26T21:05:58.696Z"
   },
   {
    "duration": 732,
    "start_time": "2021-09-26T21:05:58.780Z"
   },
   {
    "duration": 11,
    "start_time": "2021-09-26T21:05:59.515Z"
   },
   {
    "duration": 261,
    "start_time": "2021-09-26T21:05:59.532Z"
   },
   {
    "duration": 31,
    "start_time": "2021-09-26T21:05:59.795Z"
   },
   {
    "duration": 459,
    "start_time": "2021-09-26T21:05:59.829Z"
   },
   {
    "duration": 292,
    "start_time": "2021-09-26T21:06:00.290Z"
   },
   {
    "duration": 14,
    "start_time": "2021-09-26T21:06:00.585Z"
   },
   {
    "duration": 390,
    "start_time": "2021-09-26T21:06:00.601Z"
   },
   {
    "duration": 34,
    "start_time": "2021-09-26T21:06:00.994Z"
   },
   {
    "duration": 318,
    "start_time": "2021-09-26T21:06:01.032Z"
   },
   {
    "duration": 18,
    "start_time": "2021-09-26T21:06:01.353Z"
   },
   {
    "duration": 668,
    "start_time": "2021-09-26T21:06:01.373Z"
   },
   {
    "duration": 7,
    "start_time": "2021-09-26T21:06:02.044Z"
   },
   {
    "duration": 31,
    "start_time": "2021-09-26T21:06:02.054Z"
   },
   {
    "duration": 285,
    "start_time": "2021-09-26T21:06:02.088Z"
   },
   {
    "duration": 12,
    "start_time": "2021-09-26T21:06:02.376Z"
   },
   {
    "duration": 36,
    "start_time": "2021-09-26T21:06:02.391Z"
   },
   {
    "duration": 36,
    "start_time": "2021-09-26T21:06:02.431Z"
   },
   {
    "duration": 863,
    "start_time": "2021-09-26T21:06:02.470Z"
   },
   {
    "duration": 9,
    "start_time": "2021-09-26T21:06:03.336Z"
   },
   {
    "duration": 1013,
    "start_time": "2021-09-26T21:06:03.349Z"
   },
   {
    "duration": 9,
    "start_time": "2021-09-26T21:06:04.365Z"
   },
   {
    "duration": 43,
    "start_time": "2021-09-26T21:06:04.377Z"
   },
   {
    "duration": 777,
    "start_time": "2021-09-26T21:06:04.426Z"
   },
   {
    "duration": 24,
    "start_time": "2021-09-26T21:06:05.206Z"
   },
   {
    "duration": 5,
    "start_time": "2021-09-26T21:06:05.246Z"
   },
   {
    "duration": 24,
    "start_time": "2021-09-26T21:06:05.255Z"
   },
   {
    "duration": 57,
    "start_time": "2021-09-26T21:06:05.282Z"
   },
   {
    "duration": 22,
    "start_time": "2021-09-26T21:06:05.343Z"
   },
   {
    "duration": 18,
    "start_time": "2021-09-26T21:06:05.368Z"
   },
   {
    "duration": 33,
    "start_time": "2021-09-26T21:06:05.389Z"
   },
   {
    "duration": 15,
    "start_time": "2021-09-26T21:06:05.426Z"
   },
   {
    "duration": 30,
    "start_time": "2021-09-26T21:06:05.445Z"
   },
   {
    "duration": 41,
    "start_time": "2021-09-26T21:06:05.478Z"
   },
   {
    "duration": 17889,
    "start_time": "2021-09-26T21:06:05.523Z"
   },
   {
    "duration": 20,
    "start_time": "2021-09-26T21:06:23.414Z"
   },
   {
    "duration": 87,
    "start_time": "2021-09-26T21:06:23.437Z"
   },
   {
    "duration": 6140,
    "start_time": "2021-09-26T21:06:23.529Z"
   },
   {
    "duration": 17,
    "start_time": "2021-09-26T21:06:29.673Z"
   },
   {
    "duration": 41,
    "start_time": "2021-09-26T21:06:29.693Z"
   },
   {
    "duration": 9,
    "start_time": "2021-09-26T21:06:29.737Z"
   },
   {
    "duration": 98,
    "start_time": "2021-09-26T21:06:29.748Z"
   },
   {
    "duration": 81,
    "start_time": "2021-09-26T21:06:29.849Z"
   },
   {
    "duration": 64,
    "start_time": "2021-09-26T21:06:29.933Z"
   },
   {
    "duration": 33,
    "start_time": "2021-09-26T21:06:30.000Z"
   },
   {
    "duration": 14,
    "start_time": "2021-09-26T21:06:30.036Z"
   },
   {
    "duration": 5,
    "start_time": "2021-09-26T21:06:30.053Z"
   },
   {
    "duration": 114,
    "start_time": "2021-09-26T21:06:30.060Z"
   },
   {
    "duration": 723,
    "start_time": "2021-09-26T21:06:30.177Z"
   },
   {
    "duration": 77,
    "start_time": "2021-09-26T21:06:30.903Z"
   },
   {
    "duration": 69,
    "start_time": "2021-09-26T21:06:30.983Z"
   },
   {
    "duration": 45,
    "start_time": "2021-09-26T21:06:31.054Z"
   },
   {
    "duration": 6818,
    "start_time": "2021-09-26T21:06:31.118Z"
   },
   {
    "duration": 3588,
    "start_time": "2021-09-26T21:06:37.938Z"
   },
   {
    "duration": 26,
    "start_time": "2021-09-26T21:09:20.722Z"
   },
   {
    "duration": 22,
    "start_time": "2021-09-26T21:09:42.224Z"
   },
   {
    "duration": 50,
    "start_time": "2021-09-26T21:10:45.044Z"
   },
   {
    "duration": 49,
    "start_time": "2021-09-26T21:10:52.838Z"
   },
   {
    "duration": 25,
    "start_time": "2021-09-26T21:10:58.333Z"
   },
   {
    "duration": 23,
    "start_time": "2021-09-26T21:11:10.710Z"
   },
   {
    "duration": 967,
    "start_time": "2021-09-26T21:53:37.857Z"
   },
   {
    "duration": 151,
    "start_time": "2021-09-26T21:53:38.826Z"
   },
   {
    "duration": 17,
    "start_time": "2021-09-26T21:53:38.982Z"
   },
   {
    "duration": 5,
    "start_time": "2021-09-26T21:53:39.018Z"
   },
   {
    "duration": 16,
    "start_time": "2021-09-26T21:53:39.025Z"
   },
   {
    "duration": 5,
    "start_time": "2021-09-26T21:53:39.043Z"
   },
   {
    "duration": 16,
    "start_time": "2021-09-26T21:53:39.050Z"
   },
   {
    "duration": 51,
    "start_time": "2021-09-26T21:53:39.070Z"
   },
   {
    "duration": 17,
    "start_time": "2021-09-26T21:53:39.125Z"
   },
   {
    "duration": 12,
    "start_time": "2021-09-26T21:53:39.146Z"
   },
   {
    "duration": 141,
    "start_time": "2021-09-26T21:53:39.161Z"
   },
   {
    "duration": 24,
    "start_time": "2021-09-26T21:53:39.305Z"
   },
   {
    "duration": 119,
    "start_time": "2021-09-26T21:53:39.333Z"
   },
   {
    "duration": 7,
    "start_time": "2021-09-26T21:53:39.455Z"
   },
   {
    "duration": 17393,
    "start_time": "2021-09-26T21:53:39.465Z"
   },
   {
    "duration": 12,
    "start_time": "2021-09-26T21:53:56.860Z"
   },
   {
    "duration": 17,
    "start_time": "2021-09-26T21:53:56.874Z"
   },
   {
    "duration": 38,
    "start_time": "2021-09-26T21:53:56.893Z"
   },
   {
    "duration": 13,
    "start_time": "2021-09-26T21:53:56.935Z"
   },
   {
    "duration": 102,
    "start_time": "2021-09-26T21:53:56.951Z"
   },
   {
    "duration": 12,
    "start_time": "2021-09-26T21:53:57.056Z"
   },
   {
    "duration": 2361,
    "start_time": "2021-09-26T21:53:57.071Z"
   },
   {
    "duration": 11,
    "start_time": "2021-09-26T21:53:59.438Z"
   },
   {
    "duration": 9,
    "start_time": "2021-09-26T21:53:59.453Z"
   },
   {
    "duration": 6,
    "start_time": "2021-09-26T21:53:59.465Z"
   },
   {
    "duration": 17,
    "start_time": "2021-09-26T21:53:59.473Z"
   },
   {
    "duration": 36,
    "start_time": "2021-09-26T21:53:59.492Z"
   },
   {
    "duration": 66,
    "start_time": "2021-09-26T21:53:59.530Z"
   },
   {
    "duration": 4,
    "start_time": "2021-09-26T21:53:59.598Z"
   },
   {
    "duration": 109,
    "start_time": "2021-09-26T21:53:59.617Z"
   },
   {
    "duration": 22,
    "start_time": "2021-09-26T21:53:59.730Z"
   },
   {
    "duration": 5,
    "start_time": "2021-09-26T21:53:59.754Z"
   },
   {
    "duration": 87,
    "start_time": "2021-09-26T21:53:59.761Z"
   },
   {
    "duration": 4,
    "start_time": "2021-09-26T21:53:59.851Z"
   },
   {
    "duration": 18,
    "start_time": "2021-09-26T21:53:59.858Z"
   },
   {
    "duration": 44,
    "start_time": "2021-09-26T21:53:59.879Z"
   },
   {
    "duration": 5,
    "start_time": "2021-09-26T21:53:59.927Z"
   },
   {
    "duration": 12,
    "start_time": "2021-09-26T21:53:59.935Z"
   },
   {
    "duration": 71,
    "start_time": "2021-09-26T21:53:59.949Z"
   },
   {
    "duration": 5,
    "start_time": "2021-09-26T21:54:00.023Z"
   },
   {
    "duration": 816,
    "start_time": "2021-09-26T21:54:00.030Z"
   },
   {
    "duration": 67,
    "start_time": "2021-09-26T21:54:00.849Z"
   },
   {
    "duration": 418,
    "start_time": "2021-09-26T21:54:00.918Z"
   },
   {
    "duration": 6,
    "start_time": "2021-09-26T21:54:01.338Z"
   },
   {
    "duration": 229,
    "start_time": "2021-09-26T21:54:01.346Z"
   },
   {
    "duration": 12,
    "start_time": "2021-09-26T21:54:01.578Z"
   },
   {
    "duration": 416,
    "start_time": "2021-09-26T21:54:01.593Z"
   },
   {
    "duration": 259,
    "start_time": "2021-09-26T21:54:02.016Z"
   },
   {
    "duration": 13,
    "start_time": "2021-09-26T21:54:02.278Z"
   },
   {
    "duration": 332,
    "start_time": "2021-09-26T21:54:02.294Z"
   },
   {
    "duration": 13,
    "start_time": "2021-09-26T21:54:02.629Z"
   },
   {
    "duration": 296,
    "start_time": "2021-09-26T21:54:02.645Z"
   },
   {
    "duration": 15,
    "start_time": "2021-09-26T21:54:02.944Z"
   },
   {
    "duration": 578,
    "start_time": "2021-09-26T21:54:02.961Z"
   },
   {
    "duration": 6,
    "start_time": "2021-09-26T21:54:03.541Z"
   },
   {
    "duration": 10,
    "start_time": "2021-09-26T21:54:03.550Z"
   },
   {
    "duration": 265,
    "start_time": "2021-09-26T21:54:03.562Z"
   },
   {
    "duration": 11,
    "start_time": "2021-09-26T21:54:03.830Z"
   },
   {
    "duration": 12,
    "start_time": "2021-09-26T21:54:03.843Z"
   },
   {
    "duration": 19,
    "start_time": "2021-09-26T21:54:03.857Z"
   },
   {
    "duration": 792,
    "start_time": "2021-09-26T21:54:03.878Z"
   },
   {
    "duration": 7,
    "start_time": "2021-09-26T21:54:04.673Z"
   },
   {
    "duration": 825,
    "start_time": "2021-09-26T21:54:04.682Z"
   },
   {
    "duration": 15,
    "start_time": "2021-09-26T21:54:05.516Z"
   },
   {
    "duration": 19,
    "start_time": "2021-09-26T21:54:05.534Z"
   },
   {
    "duration": 702,
    "start_time": "2021-09-26T21:54:05.555Z"
   },
   {
    "duration": 8,
    "start_time": "2021-09-26T21:54:06.259Z"
   },
   {
    "duration": 3,
    "start_time": "2021-09-26T21:54:06.275Z"
   },
   {
    "duration": 49,
    "start_time": "2021-09-26T21:54:06.281Z"
   },
   {
    "duration": 21,
    "start_time": "2021-09-26T21:54:06.332Z"
   },
   {
    "duration": 17,
    "start_time": "2021-09-26T21:54:06.356Z"
   },
   {
    "duration": 55,
    "start_time": "2021-09-26T21:54:06.376Z"
   },
   {
    "duration": 5,
    "start_time": "2021-09-26T21:54:06.433Z"
   },
   {
    "duration": 19,
    "start_time": "2021-09-26T21:54:06.440Z"
   },
   {
    "duration": 37,
    "start_time": "2021-09-26T21:54:06.461Z"
   },
   {
    "duration": 22,
    "start_time": "2021-09-26T21:54:06.500Z"
   },
   {
    "duration": 14384,
    "start_time": "2021-09-26T21:54:06.525Z"
   },
   {
    "duration": 21,
    "start_time": "2021-09-26T21:54:20.911Z"
   },
   {
    "duration": 86,
    "start_time": "2021-09-26T21:54:20.935Z"
   },
   {
    "duration": 5763,
    "start_time": "2021-09-26T21:54:21.024Z"
   },
   {
    "duration": 34,
    "start_time": "2021-09-26T21:54:26.790Z"
   },
   {
    "duration": 12,
    "start_time": "2021-09-26T21:54:26.826Z"
   },
   {
    "duration": 11,
    "start_time": "2021-09-26T21:54:26.840Z"
   },
   {
    "duration": 86,
    "start_time": "2021-09-26T21:54:26.854Z"
   },
   {
    "duration": 57,
    "start_time": "2021-09-26T21:54:26.943Z"
   },
   {
    "duration": 74,
    "start_time": "2021-09-26T21:54:27.002Z"
   },
   {
    "duration": 50,
    "start_time": "2021-09-26T21:54:27.079Z"
   },
   {
    "duration": 10,
    "start_time": "2021-09-26T21:54:27.132Z"
   },
   {
    "duration": 3,
    "start_time": "2021-09-26T21:54:27.145Z"
   },
   {
    "duration": 89,
    "start_time": "2021-09-26T21:54:27.150Z"
   },
   {
    "duration": 590,
    "start_time": "2021-09-26T21:54:27.241Z"
   },
   {
    "duration": 50,
    "start_time": "2021-09-26T21:54:27.834Z"
   },
   {
    "duration": 57,
    "start_time": "2021-09-26T21:54:27.886Z"
   },
   {
    "duration": 40,
    "start_time": "2021-09-26T21:54:27.946Z"
   },
   {
    "duration": 42,
    "start_time": "2021-09-26T21:54:27.988Z"
   },
   {
    "duration": 21,
    "start_time": "2021-09-26T21:54:28.032Z"
   },
   {
    "duration": 860,
    "start_time": "2021-09-26T21:55:12.384Z"
   },
   {
    "duration": 151,
    "start_time": "2021-09-26T21:55:13.247Z"
   },
   {
    "duration": 31,
    "start_time": "2021-09-26T21:55:13.401Z"
   },
   {
    "duration": 6,
    "start_time": "2021-09-26T21:55:13.435Z"
   },
   {
    "duration": 20,
    "start_time": "2021-09-26T21:55:13.443Z"
   },
   {
    "duration": 5,
    "start_time": "2021-09-26T21:55:13.465Z"
   },
   {
    "duration": 21,
    "start_time": "2021-09-26T21:55:13.473Z"
   },
   {
    "duration": 42,
    "start_time": "2021-09-26T21:55:13.498Z"
   },
   {
    "duration": 16,
    "start_time": "2021-09-26T21:55:13.544Z"
   },
   {
    "duration": 12,
    "start_time": "2021-09-26T21:55:13.563Z"
   },
   {
    "duration": 107,
    "start_time": "2021-09-26T21:55:13.578Z"
   },
   {
    "duration": 13,
    "start_time": "2021-09-26T21:55:13.688Z"
   },
   {
    "duration": 79,
    "start_time": "2021-09-26T21:55:13.717Z"
   },
   {
    "duration": 5,
    "start_time": "2021-09-26T21:55:13.798Z"
   },
   {
    "duration": 14731,
    "start_time": "2021-09-26T21:55:13.816Z"
   },
   {
    "duration": 11,
    "start_time": "2021-09-26T21:55:28.550Z"
   },
   {
    "duration": 10,
    "start_time": "2021-09-26T21:55:28.564Z"
   },
   {
    "duration": 39,
    "start_time": "2021-09-26T21:55:28.577Z"
   },
   {
    "duration": 14,
    "start_time": "2021-09-26T21:55:28.621Z"
   },
   {
    "duration": 87,
    "start_time": "2021-09-26T21:55:28.637Z"
   },
   {
    "duration": 13,
    "start_time": "2021-09-26T21:55:28.727Z"
   },
   {
    "duration": 2384,
    "start_time": "2021-09-26T21:55:28.742Z"
   },
   {
    "duration": 12,
    "start_time": "2021-09-26T21:55:31.136Z"
   },
   {
    "duration": 12,
    "start_time": "2021-09-26T21:55:31.152Z"
   },
   {
    "duration": 17,
    "start_time": "2021-09-26T21:55:31.167Z"
   },
   {
    "duration": 21,
    "start_time": "2021-09-26T21:55:31.186Z"
   },
   {
    "duration": 13,
    "start_time": "2021-09-26T21:55:31.209Z"
   },
   {
    "duration": 82,
    "start_time": "2021-09-26T21:55:31.224Z"
   },
   {
    "duration": 16,
    "start_time": "2021-09-26T21:55:31.308Z"
   },
   {
    "duration": 73,
    "start_time": "2021-09-26T21:55:31.327Z"
   },
   {
    "duration": 31,
    "start_time": "2021-09-26T21:55:31.402Z"
   },
   {
    "duration": 5,
    "start_time": "2021-09-26T21:55:31.435Z"
   },
   {
    "duration": 88,
    "start_time": "2021-09-26T21:55:31.442Z"
   },
   {
    "duration": 6,
    "start_time": "2021-09-26T21:55:31.532Z"
   },
   {
    "duration": 36,
    "start_time": "2021-09-26T21:55:31.541Z"
   },
   {
    "duration": 24,
    "start_time": "2021-09-26T21:55:31.580Z"
   },
   {
    "duration": 11,
    "start_time": "2021-09-26T21:55:31.607Z"
   },
   {
    "duration": 19,
    "start_time": "2021-09-26T21:55:31.621Z"
   },
   {
    "duration": 78,
    "start_time": "2021-09-26T21:55:31.642Z"
   },
   {
    "duration": 3,
    "start_time": "2021-09-26T21:55:31.723Z"
   },
   {
    "duration": 793,
    "start_time": "2021-09-26T21:55:31.731Z"
   },
   {
    "duration": 59,
    "start_time": "2021-09-26T21:55:32.527Z"
   },
   {
    "duration": 434,
    "start_time": "2021-09-26T21:55:32.589Z"
   },
   {
    "duration": 6,
    "start_time": "2021-09-26T21:55:33.026Z"
   },
   {
    "duration": 234,
    "start_time": "2021-09-26T21:55:33.034Z"
   },
   {
    "duration": 11,
    "start_time": "2021-09-26T21:55:33.270Z"
   },
   {
    "duration": 424,
    "start_time": "2021-09-26T21:55:33.283Z"
   },
   {
    "duration": 249,
    "start_time": "2021-09-26T21:55:33.717Z"
   },
   {
    "duration": 13,
    "start_time": "2021-09-26T21:55:33.969Z"
   },
   {
    "duration": 325,
    "start_time": "2021-09-26T21:55:33.984Z"
   },
   {
    "duration": 16,
    "start_time": "2021-09-26T21:55:34.312Z"
   },
   {
    "duration": 291,
    "start_time": "2021-09-26T21:55:34.330Z"
   },
   {
    "duration": 20,
    "start_time": "2021-09-26T21:55:34.624Z"
   },
   {
    "duration": 657,
    "start_time": "2021-09-26T21:55:34.649Z"
   },
   {
    "duration": 8,
    "start_time": "2021-09-26T21:55:35.316Z"
   },
   {
    "duration": 10,
    "start_time": "2021-09-26T21:55:35.326Z"
   },
   {
    "duration": 262,
    "start_time": "2021-09-26T21:55:35.339Z"
   },
   {
    "duration": 26,
    "start_time": "2021-09-26T21:55:35.604Z"
   },
   {
    "duration": 14,
    "start_time": "2021-09-26T21:55:35.633Z"
   },
   {
    "duration": 18,
    "start_time": "2021-09-26T21:55:35.650Z"
   },
   {
    "duration": 803,
    "start_time": "2021-09-26T21:55:35.670Z"
   },
   {
    "duration": 9,
    "start_time": "2021-09-26T21:55:36.476Z"
   },
   {
    "duration": 811,
    "start_time": "2021-09-26T21:55:36.488Z"
   },
   {
    "duration": 21,
    "start_time": "2021-09-26T21:55:37.302Z"
   },
   {
    "duration": 18,
    "start_time": "2021-09-26T21:55:37.325Z"
   },
   {
    "duration": 676,
    "start_time": "2021-09-26T21:55:37.346Z"
   },
   {
    "duration": 8,
    "start_time": "2021-09-26T21:55:38.025Z"
   },
   {
    "duration": 4,
    "start_time": "2021-09-26T21:55:38.041Z"
   },
   {
    "duration": 20,
    "start_time": "2021-09-26T21:55:38.048Z"
   },
   {
    "duration": 54,
    "start_time": "2021-09-26T21:55:38.070Z"
   },
   {
    "duration": 18,
    "start_time": "2021-09-26T21:55:38.127Z"
   },
   {
    "duration": 14,
    "start_time": "2021-09-26T21:55:38.147Z"
   },
   {
    "duration": 5,
    "start_time": "2021-09-26T21:55:38.163Z"
   },
   {
    "duration": 9,
    "start_time": "2021-09-26T21:55:38.170Z"
   },
   {
    "duration": 57,
    "start_time": "2021-09-26T21:55:38.181Z"
   },
   {
    "duration": 9,
    "start_time": "2021-09-26T21:55:38.240Z"
   },
   {
    "duration": 14085,
    "start_time": "2021-09-26T21:55:38.252Z"
   },
   {
    "duration": 16,
    "start_time": "2021-09-26T21:55:52.340Z"
   },
   {
    "duration": 80,
    "start_time": "2021-09-26T21:55:52.358Z"
   },
   {
    "duration": 5776,
    "start_time": "2021-09-26T21:55:52.440Z"
   },
   {
    "duration": 16,
    "start_time": "2021-09-26T21:55:58.219Z"
   },
   {
    "duration": 11,
    "start_time": "2021-09-26T21:55:58.238Z"
   },
   {
    "duration": 96,
    "start_time": "2021-09-26T21:55:58.251Z"
   },
   {
    "duration": 74,
    "start_time": "2021-09-26T21:55:58.350Z"
   },
   {
    "duration": 61,
    "start_time": "2021-09-26T21:55:58.427Z"
   },
   {
    "duration": 40,
    "start_time": "2021-09-26T21:55:58.491Z"
   },
   {
    "duration": 11,
    "start_time": "2021-09-26T21:55:58.534Z"
   },
   {
    "duration": 5,
    "start_time": "2021-09-26T21:55:58.547Z"
   },
   {
    "duration": 88,
    "start_time": "2021-09-26T21:55:58.554Z"
   },
   {
    "duration": 590,
    "start_time": "2021-09-26T21:55:58.645Z"
   },
   {
    "duration": 51,
    "start_time": "2021-09-26T21:55:59.237Z"
   },
   {
    "duration": 66,
    "start_time": "2021-09-26T21:55:59.290Z"
   },
   {
    "duration": 60,
    "start_time": "2021-09-26T21:55:59.359Z"
   },
   {
    "duration": 17,
    "start_time": "2021-09-26T21:55:59.421Z"
   },
   {
    "duration": 17,
    "start_time": "2021-09-26T21:55:59.440Z"
   },
   {
    "duration": 922,
    "start_time": "2021-09-27T18:10:55.934Z"
   },
   {
    "duration": 185,
    "start_time": "2021-09-27T18:10:56.859Z"
   },
   {
    "duration": 20,
    "start_time": "2021-09-27T18:10:57.047Z"
   },
   {
    "duration": 5,
    "start_time": "2021-09-27T18:10:57.070Z"
   },
   {
    "duration": 13,
    "start_time": "2021-09-27T18:10:57.078Z"
   },
   {
    "duration": 5,
    "start_time": "2021-09-27T18:10:57.093Z"
   },
   {
    "duration": 58,
    "start_time": "2021-09-27T18:10:57.100Z"
   },
   {
    "duration": 14,
    "start_time": "2021-09-27T18:10:57.162Z"
   },
   {
    "duration": 12,
    "start_time": "2021-09-27T18:10:57.180Z"
   },
   {
    "duration": 10,
    "start_time": "2021-09-27T18:10:57.194Z"
   },
   {
    "duration": 116,
    "start_time": "2021-09-27T18:10:57.206Z"
   },
   {
    "duration": 11,
    "start_time": "2021-09-27T18:10:57.324Z"
   },
   {
    "duration": 71,
    "start_time": "2021-09-27T18:10:57.356Z"
   },
   {
    "duration": 4,
    "start_time": "2021-09-27T18:10:57.429Z"
   },
   {
    "duration": 14393,
    "start_time": "2021-09-27T18:10:57.435Z"
   },
   {
    "duration": 11,
    "start_time": "2021-09-27T18:11:11.831Z"
   },
   {
    "duration": 21,
    "start_time": "2021-09-27T18:11:11.844Z"
   },
   {
    "duration": 15,
    "start_time": "2021-09-27T18:11:11.868Z"
   },
   {
    "duration": 9,
    "start_time": "2021-09-27T18:11:11.885Z"
   },
   {
    "duration": 94,
    "start_time": "2021-09-27T18:11:11.897Z"
   },
   {
    "duration": 12,
    "start_time": "2021-09-27T18:11:11.993Z"
   },
   {
    "duration": 2225,
    "start_time": "2021-09-27T18:11:12.008Z"
   },
   {
    "duration": 18,
    "start_time": "2021-09-27T18:11:14.239Z"
   },
   {
    "duration": 10,
    "start_time": "2021-09-27T18:11:14.261Z"
   },
   {
    "duration": 4,
    "start_time": "2021-09-27T18:11:14.274Z"
   },
   {
    "duration": 13,
    "start_time": "2021-09-27T18:11:14.281Z"
   },
   {
    "duration": 6,
    "start_time": "2021-09-27T18:11:14.297Z"
   },
   {
    "duration": 103,
    "start_time": "2021-09-27T18:11:14.305Z"
   },
   {
    "duration": 4,
    "start_time": "2021-09-27T18:11:14.410Z"
   },
   {
    "duration": 88,
    "start_time": "2021-09-27T18:11:14.416Z"
   },
   {
    "duration": 19,
    "start_time": "2021-09-27T18:11:14.506Z"
   },
   {
    "duration": 5,
    "start_time": "2021-09-27T18:11:14.527Z"
   },
   {
    "duration": 76,
    "start_time": "2021-09-27T18:11:14.534Z"
   },
   {
    "duration": 4,
    "start_time": "2021-09-27T18:11:14.613Z"
   },
   {
    "duration": 41,
    "start_time": "2021-09-27T18:11:14.619Z"
   },
   {
    "duration": 22,
    "start_time": "2021-09-27T18:11:14.662Z"
   },
   {
    "duration": 4,
    "start_time": "2021-09-27T18:11:14.686Z"
   },
   {
    "duration": 10,
    "start_time": "2021-09-27T18:11:14.693Z"
   },
   {
    "duration": 82,
    "start_time": "2021-09-27T18:11:14.705Z"
   },
   {
    "duration": 5,
    "start_time": "2021-09-27T18:11:14.789Z"
   },
   {
    "duration": 771,
    "start_time": "2021-09-27T18:11:14.796Z"
   },
   {
    "duration": 55,
    "start_time": "2021-09-27T18:11:15.570Z"
   },
   {
    "duration": 425,
    "start_time": "2021-09-27T18:11:15.627Z"
   },
   {
    "duration": 6,
    "start_time": "2021-09-27T18:11:16.055Z"
   },
   {
    "duration": 226,
    "start_time": "2021-09-27T18:11:16.064Z"
   },
   {
    "duration": 11,
    "start_time": "2021-09-27T18:11:16.292Z"
   },
   {
    "duration": 404,
    "start_time": "2021-09-27T18:11:16.306Z"
   },
   {
    "duration": 265,
    "start_time": "2021-09-27T18:11:16.713Z"
   },
   {
    "duration": 12,
    "start_time": "2021-09-27T18:11:16.982Z"
   },
   {
    "duration": 421,
    "start_time": "2021-09-27T18:11:16.996Z"
   },
   {
    "duration": 14,
    "start_time": "2021-09-27T18:11:17.420Z"
   },
   {
    "duration": 286,
    "start_time": "2021-09-27T18:11:17.436Z"
   },
   {
    "duration": 31,
    "start_time": "2021-09-27T18:11:17.725Z"
   },
   {
    "duration": 547,
    "start_time": "2021-09-27T18:11:17.758Z"
   },
   {
    "duration": 6,
    "start_time": "2021-09-27T18:11:18.307Z"
   },
   {
    "duration": 13,
    "start_time": "2021-09-27T18:11:18.315Z"
   },
   {
    "duration": 258,
    "start_time": "2021-09-27T18:11:18.330Z"
   },
   {
    "duration": 9,
    "start_time": "2021-09-27T18:11:18.590Z"
   },
   {
    "duration": 25,
    "start_time": "2021-09-27T18:11:18.601Z"
   },
   {
    "duration": 32,
    "start_time": "2021-09-27T18:11:18.628Z"
   },
   {
    "duration": 746,
    "start_time": "2021-09-27T18:11:18.662Z"
   },
   {
    "duration": 7,
    "start_time": "2021-09-27T18:11:19.411Z"
   },
   {
    "duration": 789,
    "start_time": "2021-09-27T18:11:19.420Z"
   },
   {
    "duration": 6,
    "start_time": "2021-09-27T18:11:20.212Z"
   },
   {
    "duration": 19,
    "start_time": "2021-09-27T18:11:20.220Z"
   },
   {
    "duration": 681,
    "start_time": "2021-09-27T18:11:20.257Z"
   },
   {
    "duration": 6,
    "start_time": "2021-09-27T18:11:20.941Z"
   },
   {
    "duration": 4,
    "start_time": "2021-09-27T18:11:20.962Z"
   },
   {
    "duration": 16,
    "start_time": "2021-09-27T18:11:20.969Z"
   },
   {
    "duration": 19,
    "start_time": "2021-09-27T18:11:20.988Z"
   },
   {
    "duration": 54,
    "start_time": "2021-09-27T18:11:21.010Z"
   },
   {
    "duration": 15,
    "start_time": "2021-09-27T18:11:21.066Z"
   },
   {
    "duration": 4,
    "start_time": "2021-09-27T18:11:21.083Z"
   },
   {
    "duration": 10,
    "start_time": "2021-09-27T18:11:21.089Z"
   },
   {
    "duration": 24,
    "start_time": "2021-09-27T18:11:21.101Z"
   },
   {
    "duration": 33,
    "start_time": "2021-09-27T18:11:21.128Z"
   },
   {
    "duration": 14420,
    "start_time": "2021-09-27T18:11:21.164Z"
   },
   {
    "duration": 15,
    "start_time": "2021-09-27T18:11:35.586Z"
   },
   {
    "duration": 77,
    "start_time": "2021-09-27T18:11:35.604Z"
   },
   {
    "duration": 4981,
    "start_time": "2021-09-27T18:11:35.683Z"
   },
   {
    "duration": 15,
    "start_time": "2021-09-27T18:11:40.667Z"
   },
   {
    "duration": 12,
    "start_time": "2021-09-27T18:11:40.684Z"
   },
   {
    "duration": 129,
    "start_time": "2021-09-27T18:11:40.698Z"
   },
   {
    "duration": 92,
    "start_time": "2021-09-27T18:11:40.830Z"
   },
   {
    "duration": 75,
    "start_time": "2021-09-27T18:11:40.925Z"
   },
   {
    "duration": 11,
    "start_time": "2021-09-27T18:11:41.002Z"
   },
   {
    "duration": 11,
    "start_time": "2021-09-27T18:11:41.015Z"
   },
   {
    "duration": 29,
    "start_time": "2021-09-27T18:11:41.028Z"
   },
   {
    "duration": 65,
    "start_time": "2021-09-27T18:11:41.060Z"
   },
   {
    "duration": 600,
    "start_time": "2021-09-27T18:11:41.127Z"
   },
   {
    "duration": 62,
    "start_time": "2021-09-27T18:11:41.730Z"
   },
   {
    "duration": 39,
    "start_time": "2021-09-27T18:11:41.795Z"
   },
   {
    "duration": 57,
    "start_time": "2021-09-27T18:11:41.836Z"
   },
   {
    "duration": 15,
    "start_time": "2021-09-27T18:11:41.895Z"
   },
   {
    "duration": 47,
    "start_time": "2021-09-27T18:11:41.913Z"
   },
   {
    "duration": 46,
    "start_time": "2021-09-27T18:16:23.691Z"
   },
   {
    "duration": 12,
    "start_time": "2021-09-27T18:16:30.231Z"
   },
   {
    "duration": 46,
    "start_time": "2021-09-27T18:16:47.576Z"
   },
   {
    "duration": 53,
    "start_time": "2021-09-27T18:17:49.132Z"
   },
   {
    "duration": 10,
    "start_time": "2021-09-27T18:39:00.495Z"
   },
   {
    "duration": 795,
    "start_time": "2021-09-27T18:39:11.847Z"
   },
   {
    "duration": 262,
    "start_time": "2021-09-27T18:39:17.657Z"
   },
   {
    "duration": 15,
    "start_time": "2021-09-27T18:39:22.234Z"
   },
   {
    "duration": 18,
    "start_time": "2021-09-27T18:39:31.800Z"
   },
   {
    "duration": 381,
    "start_time": "2021-09-27T18:45:06.522Z"
   },
   {
    "duration": 12,
    "start_time": "2021-09-27T18:45:14.901Z"
   },
   {
    "duration": 12,
    "start_time": "2021-09-27T18:45:28.388Z"
   },
   {
    "duration": 6,
    "start_time": "2021-09-27T18:50:02.039Z"
   },
   {
    "duration": 315,
    "start_time": "2021-09-27T18:50:09.493Z"
   },
   {
    "duration": 12,
    "start_time": "2021-09-27T18:50:12.826Z"
   },
   {
    "duration": 17,
    "start_time": "2021-09-27T18:50:32.178Z"
   },
   {
    "duration": 16,
    "start_time": "2021-09-27T18:50:42.509Z"
   },
   {
    "duration": 23,
    "start_time": "2021-09-27T18:50:49.440Z"
   },
   {
    "duration": 17,
    "start_time": "2021-09-27T18:50:54.267Z"
   },
   {
    "duration": 16,
    "start_time": "2021-09-27T18:51:02.448Z"
   },
   {
    "duration": 17,
    "start_time": "2021-09-27T18:51:13.964Z"
   },
   {
    "duration": 13,
    "start_time": "2021-09-27T18:53:04.025Z"
   },
   {
    "duration": 53,
    "start_time": "2021-09-27T18:59:59.998Z"
   },
   {
    "duration": 56,
    "start_time": "2021-09-27T19:01:05.811Z"
   },
   {
    "duration": 55,
    "start_time": "2021-09-27T19:02:30.027Z"
   },
   {
    "duration": 233,
    "start_time": "2021-09-27T19:03:01.423Z"
   },
   {
    "duration": 218,
    "start_time": "2021-09-27T19:03:08.235Z"
   },
   {
    "duration": 56,
    "start_time": "2021-09-27T19:03:17.512Z"
   },
   {
    "duration": 236,
    "start_time": "2021-09-27T19:03:22.422Z"
   },
   {
    "duration": 920,
    "start_time": "2021-09-28T17:37:21.402Z"
   },
   {
    "duration": 163,
    "start_time": "2021-09-28T17:37:22.325Z"
   },
   {
    "duration": 15,
    "start_time": "2021-09-28T17:37:22.491Z"
   },
   {
    "duration": 8,
    "start_time": "2021-09-28T17:37:22.509Z"
   },
   {
    "duration": 40,
    "start_time": "2021-09-28T17:37:22.519Z"
   },
   {
    "duration": 6,
    "start_time": "2021-09-28T17:37:22.562Z"
   },
   {
    "duration": 25,
    "start_time": "2021-09-28T17:37:22.571Z"
   },
   {
    "duration": 17,
    "start_time": "2021-09-28T17:37:22.600Z"
   },
   {
    "duration": 11,
    "start_time": "2021-09-28T17:37:22.620Z"
   },
   {
    "duration": 34,
    "start_time": "2021-09-28T17:37:22.633Z"
   },
   {
    "duration": 87,
    "start_time": "2021-09-28T17:37:22.671Z"
   },
   {
    "duration": 22,
    "start_time": "2021-09-28T17:37:22.762Z"
   },
   {
    "duration": 123,
    "start_time": "2021-09-28T17:37:22.787Z"
   },
   {
    "duration": 8,
    "start_time": "2021-09-28T17:37:22.913Z"
   },
   {
    "duration": 24971,
    "start_time": "2021-09-28T17:37:22.924Z"
   },
   {
    "duration": 17,
    "start_time": "2021-09-28T17:37:47.898Z"
   },
   {
    "duration": 16,
    "start_time": "2021-09-28T17:37:47.918Z"
   },
   {
    "duration": 21,
    "start_time": "2021-09-28T17:37:47.959Z"
   },
   {
    "duration": 12,
    "start_time": "2021-09-28T17:37:47.983Z"
   },
   {
    "duration": 95,
    "start_time": "2021-09-28T17:37:47.998Z"
   },
   {
    "duration": 14,
    "start_time": "2021-09-28T17:37:48.097Z"
   },
   {
    "duration": 2555,
    "start_time": "2021-09-28T17:37:48.114Z"
   },
   {
    "duration": 15,
    "start_time": "2021-09-28T17:37:50.679Z"
   },
   {
    "duration": 16,
    "start_time": "2021-09-28T17:37:50.698Z"
   },
   {
    "duration": 6,
    "start_time": "2021-09-28T17:37:50.716Z"
   },
   {
    "duration": 40,
    "start_time": "2021-09-28T17:37:50.725Z"
   },
   {
    "duration": 7,
    "start_time": "2021-09-28T17:37:50.768Z"
   },
   {
    "duration": 81,
    "start_time": "2021-09-28T17:37:50.778Z"
   },
   {
    "duration": 4,
    "start_time": "2021-09-28T17:37:50.861Z"
   },
   {
    "duration": 100,
    "start_time": "2021-09-28T17:37:50.868Z"
   },
   {
    "duration": 29,
    "start_time": "2021-09-28T17:37:50.971Z"
   },
   {
    "duration": 7,
    "start_time": "2021-09-28T17:37:51.004Z"
   },
   {
    "duration": 100,
    "start_time": "2021-09-28T17:37:51.013Z"
   },
   {
    "duration": 4,
    "start_time": "2021-09-28T17:37:51.116Z"
   },
   {
    "duration": 36,
    "start_time": "2021-09-28T17:37:51.122Z"
   },
   {
    "duration": 26,
    "start_time": "2021-09-28T17:37:51.162Z"
   },
   {
    "duration": 6,
    "start_time": "2021-09-28T17:37:51.190Z"
   },
   {
    "duration": 12,
    "start_time": "2021-09-28T17:37:51.199Z"
   },
   {
    "duration": 99,
    "start_time": "2021-09-28T17:37:51.214Z"
   },
   {
    "duration": 4,
    "start_time": "2021-09-28T17:37:51.316Z"
   },
   {
    "duration": 872,
    "start_time": "2021-09-28T17:37:51.322Z"
   },
   {
    "duration": 70,
    "start_time": "2021-09-28T17:37:52.196Z"
   },
   {
    "duration": 672,
    "start_time": "2021-09-28T17:37:52.270Z"
   },
   {
    "duration": 16,
    "start_time": "2021-09-28T17:37:52.946Z"
   },
   {
    "duration": 235,
    "start_time": "2021-09-28T17:37:52.965Z"
   },
   {
    "duration": 14,
    "start_time": "2021-09-28T17:37:53.203Z"
   },
   {
    "duration": 440,
    "start_time": "2021-09-28T17:37:53.219Z"
   },
   {
    "duration": 255,
    "start_time": "2021-09-28T17:37:53.662Z"
   },
   {
    "duration": 14,
    "start_time": "2021-09-28T17:37:53.919Z"
   },
   {
    "duration": 324,
    "start_time": "2021-09-28T17:37:53.935Z"
   },
   {
    "duration": 14,
    "start_time": "2021-09-28T17:37:54.262Z"
   },
   {
    "duration": 296,
    "start_time": "2021-09-28T17:37:54.279Z"
   },
   {
    "duration": 16,
    "start_time": "2021-09-28T17:37:54.578Z"
   },
   {
    "duration": 588,
    "start_time": "2021-09-28T17:37:54.597Z"
   },
   {
    "duration": 6,
    "start_time": "2021-09-28T17:37:55.187Z"
   },
   {
    "duration": 14,
    "start_time": "2021-09-28T17:37:55.196Z"
   },
   {
    "duration": 282,
    "start_time": "2021-09-28T17:37:55.212Z"
   },
   {
    "duration": 9,
    "start_time": "2021-09-28T17:37:55.497Z"
   },
   {
    "duration": 24,
    "start_time": "2021-09-28T17:37:55.508Z"
   },
   {
    "duration": 3,
    "start_time": "2021-09-28T17:37:55.535Z"
   },
   {
    "duration": 472,
    "start_time": "2021-09-28T17:37:55.540Z"
   },
   {
    "duration": -467,
    "start_time": "2021-09-28T17:37:56.487Z"
   },
   {
    "duration": -509,
    "start_time": "2021-09-28T17:37:56.531Z"
   },
   {
    "duration": -588,
    "start_time": "2021-09-28T17:37:56.613Z"
   },
   {
    "duration": -597,
    "start_time": "2021-09-28T17:37:56.624Z"
   },
   {
    "duration": -617,
    "start_time": "2021-09-28T17:37:56.646Z"
   },
   {
    "duration": -621,
    "start_time": "2021-09-28T17:37:56.653Z"
   },
   {
    "duration": -633,
    "start_time": "2021-09-28T17:37:56.667Z"
   },
   {
    "duration": -645,
    "start_time": "2021-09-28T17:37:56.681Z"
   },
   {
    "duration": -659,
    "start_time": "2021-09-28T17:37:56.697Z"
   },
   {
    "duration": -656,
    "start_time": "2021-09-28T17:37:56.712Z"
   },
   {
    "duration": -661,
    "start_time": "2021-09-28T17:37:56.719Z"
   },
   {
    "duration": -673,
    "start_time": "2021-09-28T17:37:56.733Z"
   },
   {
    "duration": -677,
    "start_time": "2021-09-28T17:37:56.739Z"
   },
   {
    "duration": -678,
    "start_time": "2021-09-28T17:37:56.743Z"
   },
   {
    "duration": -681,
    "start_time": "2021-09-28T17:37:56.748Z"
   },
   {
    "duration": -683,
    "start_time": "2021-09-28T17:37:56.753Z"
   },
   {
    "duration": -686,
    "start_time": "2021-09-28T17:37:56.758Z"
   },
   {
    "duration": -690,
    "start_time": "2021-09-28T17:37:56.764Z"
   },
   {
    "duration": -692,
    "start_time": "2021-09-28T17:37:56.768Z"
   },
   {
    "duration": -694,
    "start_time": "2021-09-28T17:37:56.772Z"
   },
   {
    "duration": -694,
    "start_time": "2021-09-28T17:37:56.775Z"
   },
   {
    "duration": -696,
    "start_time": "2021-09-28T17:37:56.779Z"
   },
   {
    "duration": -698,
    "start_time": "2021-09-28T17:37:56.783Z"
   },
   {
    "duration": -699,
    "start_time": "2021-09-28T17:37:56.786Z"
   },
   {
    "duration": -700,
    "start_time": "2021-09-28T17:37:56.789Z"
   },
   {
    "duration": -702,
    "start_time": "2021-09-28T17:37:56.793Z"
   },
   {
    "duration": -704,
    "start_time": "2021-09-28T17:37:56.796Z"
   },
   {
    "duration": -707,
    "start_time": "2021-09-28T17:37:56.801Z"
   },
   {
    "duration": -712,
    "start_time": "2021-09-28T17:37:56.807Z"
   },
   {
    "duration": -713,
    "start_time": "2021-09-28T17:37:56.810Z"
   },
   {
    "duration": -656,
    "start_time": "2021-09-28T17:37:56.814Z"
   },
   {
    "duration": -658,
    "start_time": "2021-09-28T17:37:56.817Z"
   },
   {
    "duration": -660,
    "start_time": "2021-09-28T17:37:56.821Z"
   },
   {
    "duration": -660,
    "start_time": "2021-09-28T17:37:56.824Z"
   },
   {
    "duration": -662,
    "start_time": "2021-09-28T17:37:56.828Z"
   },
   {
    "duration": 314,
    "start_time": "2021-09-28T17:40:06.497Z"
   },
   {
    "duration": 23,
    "start_time": "2021-09-28T17:40:58.271Z"
   },
   {
    "duration": 23,
    "start_time": "2021-09-28T18:56:20.846Z"
   },
   {
    "duration": 1014,
    "start_time": "2021-09-28T18:56:33.843Z"
   },
   {
    "duration": 169,
    "start_time": "2021-09-28T18:56:34.860Z"
   },
   {
    "duration": 33,
    "start_time": "2021-09-28T18:56:35.033Z"
   },
   {
    "duration": 9,
    "start_time": "2021-09-28T18:56:35.070Z"
   },
   {
    "duration": 16,
    "start_time": "2021-09-28T18:56:35.082Z"
   },
   {
    "duration": 7,
    "start_time": "2021-09-28T18:56:35.101Z"
   },
   {
    "duration": 53,
    "start_time": "2021-09-28T18:56:35.112Z"
   },
   {
    "duration": 16,
    "start_time": "2021-09-28T18:56:35.170Z"
   },
   {
    "duration": 14,
    "start_time": "2021-09-28T18:56:35.190Z"
   },
   {
    "duration": 51,
    "start_time": "2021-09-28T18:56:35.207Z"
   },
   {
    "duration": 95,
    "start_time": "2021-09-28T18:56:35.262Z"
   },
   {
    "duration": 15,
    "start_time": "2021-09-28T18:56:35.360Z"
   },
   {
    "duration": 89,
    "start_time": "2021-09-28T18:56:35.379Z"
   },
   {
    "duration": 6,
    "start_time": "2021-09-28T18:56:35.470Z"
   },
   {
    "duration": 14652,
    "start_time": "2021-09-28T18:56:35.479Z"
   },
   {
    "duration": 11,
    "start_time": "2021-09-28T18:56:50.134Z"
   },
   {
    "duration": 11,
    "start_time": "2021-09-28T18:56:50.158Z"
   },
   {
    "duration": 16,
    "start_time": "2021-09-28T18:56:50.171Z"
   },
   {
    "duration": 9,
    "start_time": "2021-09-28T18:56:50.189Z"
   },
   {
    "duration": 93,
    "start_time": "2021-09-28T18:56:50.201Z"
   },
   {
    "duration": 13,
    "start_time": "2021-09-28T18:56:50.296Z"
   },
   {
    "duration": 2336,
    "start_time": "2021-09-28T18:56:50.312Z"
   },
   {
    "duration": 12,
    "start_time": "2021-09-28T18:56:52.654Z"
   },
   {
    "duration": 10,
    "start_time": "2021-09-28T18:56:52.670Z"
   },
   {
    "duration": 8,
    "start_time": "2021-09-28T18:56:52.683Z"
   },
   {
    "duration": 13,
    "start_time": "2021-09-28T18:56:52.693Z"
   },
   {
    "duration": 8,
    "start_time": "2021-09-28T18:56:52.709Z"
   },
   {
    "duration": 139,
    "start_time": "2021-09-28T18:56:52.720Z"
   },
   {
    "duration": 5,
    "start_time": "2021-09-28T18:56:52.863Z"
   },
   {
    "duration": 132,
    "start_time": "2021-09-28T18:56:52.871Z"
   },
   {
    "duration": 32,
    "start_time": "2021-09-28T18:56:53.006Z"
   },
   {
    "duration": 6,
    "start_time": "2021-09-28T18:56:53.058Z"
   },
   {
    "duration": 106,
    "start_time": "2021-09-28T18:56:53.067Z"
   },
   {
    "duration": 6,
    "start_time": "2021-09-28T18:56:53.176Z"
   },
   {
    "duration": 19,
    "start_time": "2021-09-28T18:56:53.185Z"
   },
   {
    "duration": 21,
    "start_time": "2021-09-28T18:56:53.207Z"
   },
   {
    "duration": 5,
    "start_time": "2021-09-28T18:56:53.259Z"
   },
   {
    "duration": 12,
    "start_time": "2021-09-28T18:56:53.266Z"
   },
   {
    "duration": 77,
    "start_time": "2021-09-28T18:56:53.280Z"
   },
   {
    "duration": 5,
    "start_time": "2021-09-28T18:56:53.359Z"
   },
   {
    "duration": 788,
    "start_time": "2021-09-28T18:56:53.366Z"
   },
   {
    "duration": 58,
    "start_time": "2021-09-28T18:56:54.158Z"
   },
   {
    "duration": 429,
    "start_time": "2021-09-28T18:56:54.219Z"
   },
   {
    "duration": 5,
    "start_time": "2021-09-28T18:56:54.658Z"
   },
   {
    "duration": 231,
    "start_time": "2021-09-28T18:56:54.666Z"
   },
   {
    "duration": 12,
    "start_time": "2021-09-28T18:56:54.899Z"
   },
   {
    "duration": 504,
    "start_time": "2021-09-28T18:56:54.913Z"
   },
   {
    "duration": 288,
    "start_time": "2021-09-28T18:56:55.419Z"
   },
   {
    "duration": 15,
    "start_time": "2021-09-28T18:56:55.711Z"
   },
   {
    "duration": 383,
    "start_time": "2021-09-28T18:56:55.729Z"
   },
   {
    "duration": 13,
    "start_time": "2021-09-28T18:56:56.114Z"
   },
   {
    "duration": 273,
    "start_time": "2021-09-28T18:56:56.129Z"
   },
   {
    "duration": 17,
    "start_time": "2021-09-28T18:56:56.405Z"
   },
   {
    "duration": 652,
    "start_time": "2021-09-28T18:56:56.424Z"
   },
   {
    "duration": 7,
    "start_time": "2021-09-28T18:56:57.079Z"
   },
   {
    "duration": 22,
    "start_time": "2021-09-28T18:56:57.088Z"
   },
   {
    "duration": 290,
    "start_time": "2021-09-28T18:56:57.112Z"
   },
   {
    "duration": 9,
    "start_time": "2021-09-28T18:56:57.404Z"
   },
   {
    "duration": 16,
    "start_time": "2021-09-28T18:56:57.415Z"
   },
   {
    "duration": 96,
    "start_time": "2021-09-28T18:56:57.433Z"
   },
   {
    "duration": -276,
    "start_time": "2021-09-28T18:56:57.809Z"
   },
   {
    "duration": -278,
    "start_time": "2021-09-28T18:56:57.813Z"
   },
   {
    "duration": -280,
    "start_time": "2021-09-28T18:56:57.816Z"
   },
   {
    "duration": -281,
    "start_time": "2021-09-28T18:56:57.818Z"
   },
   {
    "duration": -311,
    "start_time": "2021-09-28T18:56:57.850Z"
   },
   {
    "duration": -312,
    "start_time": "2021-09-28T18:56:57.852Z"
   },
   {
    "duration": -314,
    "start_time": "2021-09-28T18:56:57.855Z"
   },
   {
    "duration": -314,
    "start_time": "2021-09-28T18:56:57.857Z"
   },
   {
    "duration": -316,
    "start_time": "2021-09-28T18:56:57.860Z"
   },
   {
    "duration": -316,
    "start_time": "2021-09-28T18:56:57.862Z"
   },
   {
    "duration": -318,
    "start_time": "2021-09-28T18:56:57.865Z"
   },
   {
    "duration": -319,
    "start_time": "2021-09-28T18:56:57.867Z"
   },
   {
    "duration": -319,
    "start_time": "2021-09-28T18:56:57.869Z"
   },
   {
    "duration": -321,
    "start_time": "2021-09-28T18:56:57.872Z"
   },
   {
    "duration": -321,
    "start_time": "2021-09-28T18:56:57.874Z"
   },
   {
    "duration": -322,
    "start_time": "2021-09-28T18:56:57.876Z"
   },
   {
    "duration": -332,
    "start_time": "2021-09-28T18:56:57.888Z"
   },
   {
    "duration": -336,
    "start_time": "2021-09-28T18:56:57.893Z"
   },
   {
    "duration": -339,
    "start_time": "2021-09-28T18:56:57.897Z"
   },
   {
    "duration": -341,
    "start_time": "2021-09-28T18:56:57.901Z"
   },
   {
    "duration": -343,
    "start_time": "2021-09-28T18:56:57.904Z"
   },
   {
    "duration": -346,
    "start_time": "2021-09-28T18:56:57.908Z"
   },
   {
    "duration": -348,
    "start_time": "2021-09-28T18:56:57.912Z"
   },
   {
    "duration": -348,
    "start_time": "2021-09-28T18:56:57.914Z"
   },
   {
    "duration": -350,
    "start_time": "2021-09-28T18:56:57.918Z"
   },
   {
    "duration": -351,
    "start_time": "2021-09-28T18:56:57.921Z"
   },
   {
    "duration": -365,
    "start_time": "2021-09-28T18:56:57.937Z"
   },
   {
    "duration": -365,
    "start_time": "2021-09-28T18:56:57.940Z"
   },
   {
    "duration": -367,
    "start_time": "2021-09-28T18:56:57.944Z"
   },
   {
    "duration": -371,
    "start_time": "2021-09-28T18:56:57.950Z"
   },
   {
    "duration": -373,
    "start_time": "2021-09-28T18:56:57.953Z"
   },
   {
    "duration": -376,
    "start_time": "2021-09-28T18:56:57.958Z"
   },
   {
    "duration": -379,
    "start_time": "2021-09-28T18:56:57.963Z"
   },
   {
    "duration": -380,
    "start_time": "2021-09-28T18:56:57.966Z"
   },
   {
    "duration": -383,
    "start_time": "2021-09-28T18:56:57.970Z"
   },
   {
    "duration": -383,
    "start_time": "2021-09-28T18:56:57.972Z"
   },
   {
    "duration": 1163,
    "start_time": "2021-09-28T18:57:39.968Z"
   },
   {
    "duration": 153,
    "start_time": "2021-09-28T18:57:41.135Z"
   },
   {
    "duration": 15,
    "start_time": "2021-09-28T18:57:41.291Z"
   },
   {
    "duration": 5,
    "start_time": "2021-09-28T18:57:41.309Z"
   },
   {
    "duration": 48,
    "start_time": "2021-09-28T18:57:41.316Z"
   },
   {
    "duration": 5,
    "start_time": "2021-09-28T18:57:41.367Z"
   },
   {
    "duration": 18,
    "start_time": "2021-09-28T18:57:41.375Z"
   },
   {
    "duration": 23,
    "start_time": "2021-09-28T18:57:41.395Z"
   },
   {
    "duration": 38,
    "start_time": "2021-09-28T18:57:41.421Z"
   },
   {
    "duration": 11,
    "start_time": "2021-09-28T18:57:41.462Z"
   },
   {
    "duration": 117,
    "start_time": "2021-09-28T18:57:41.475Z"
   },
   {
    "duration": 12,
    "start_time": "2021-09-28T18:57:41.594Z"
   },
   {
    "duration": 86,
    "start_time": "2021-09-28T18:57:41.608Z"
   },
   {
    "duration": 5,
    "start_time": "2021-09-28T18:57:41.697Z"
   },
   {
    "duration": 14764,
    "start_time": "2021-09-28T18:57:41.704Z"
   },
   {
    "duration": 12,
    "start_time": "2021-09-28T18:57:56.470Z"
   },
   {
    "duration": 16,
    "start_time": "2021-09-28T18:57:56.484Z"
   },
   {
    "duration": 15,
    "start_time": "2021-09-28T18:57:56.505Z"
   },
   {
    "duration": 39,
    "start_time": "2021-09-28T18:57:56.523Z"
   },
   {
    "duration": 61,
    "start_time": "2021-09-28T18:57:56.565Z"
   },
   {
    "duration": 30,
    "start_time": "2021-09-28T18:57:56.629Z"
   },
   {
    "duration": 2300,
    "start_time": "2021-09-28T18:57:56.662Z"
   },
   {
    "duration": 10,
    "start_time": "2021-09-28T18:57:58.965Z"
   },
   {
    "duration": 9,
    "start_time": "2021-09-28T18:57:58.977Z"
   },
   {
    "duration": 5,
    "start_time": "2021-09-28T18:57:58.988Z"
   },
   {
    "duration": 11,
    "start_time": "2021-09-28T18:57:58.995Z"
   },
   {
    "duration": 50,
    "start_time": "2021-09-28T18:57:59.008Z"
   },
   {
    "duration": 61,
    "start_time": "2021-09-28T18:57:59.060Z"
   },
   {
    "duration": 4,
    "start_time": "2021-09-28T18:57:59.123Z"
   },
   {
    "duration": 98,
    "start_time": "2021-09-28T18:57:59.129Z"
   },
   {
    "duration": 45,
    "start_time": "2021-09-28T18:57:59.229Z"
   },
   {
    "duration": 5,
    "start_time": "2021-09-28T18:57:59.276Z"
   },
   {
    "duration": 80,
    "start_time": "2021-09-28T18:57:59.283Z"
   },
   {
    "duration": 5,
    "start_time": "2021-09-28T18:57:59.365Z"
   },
   {
    "duration": 17,
    "start_time": "2021-09-28T18:57:59.372Z"
   },
   {
    "duration": 20,
    "start_time": "2021-09-28T18:57:59.391Z"
   },
   {
    "duration": 5,
    "start_time": "2021-09-28T18:57:59.413Z"
   },
   {
    "duration": 45,
    "start_time": "2021-09-28T18:57:59.420Z"
   },
   {
    "duration": 55,
    "start_time": "2021-09-28T18:57:59.468Z"
   },
   {
    "duration": 4,
    "start_time": "2021-09-28T18:57:59.525Z"
   },
   {
    "duration": 772,
    "start_time": "2021-09-28T18:57:59.532Z"
   },
   {
    "duration": 73,
    "start_time": "2021-09-28T18:58:00.306Z"
   },
   {
    "duration": 435,
    "start_time": "2021-09-28T18:58:00.381Z"
   },
   {
    "duration": 6,
    "start_time": "2021-09-28T18:58:00.818Z"
   },
   {
    "duration": 250,
    "start_time": "2021-09-28T18:58:00.827Z"
   },
   {
    "duration": 11,
    "start_time": "2021-09-28T18:58:01.079Z"
   },
   {
    "duration": 426,
    "start_time": "2021-09-28T18:58:01.092Z"
   },
   {
    "duration": 248,
    "start_time": "2021-09-28T18:58:01.520Z"
   },
   {
    "duration": 16,
    "start_time": "2021-09-28T18:58:01.770Z"
   },
   {
    "duration": 560,
    "start_time": "2021-09-28T18:58:01.789Z"
   },
   {
    "duration": 14,
    "start_time": "2021-09-28T18:58:02.357Z"
   },
   {
    "duration": 286,
    "start_time": "2021-09-28T18:58:02.374Z"
   },
   {
    "duration": 15,
    "start_time": "2021-09-28T18:58:02.663Z"
   },
   {
    "duration": 611,
    "start_time": "2021-09-28T18:58:02.685Z"
   },
   {
    "duration": 6,
    "start_time": "2021-09-28T18:58:03.301Z"
   },
   {
    "duration": 13,
    "start_time": "2021-09-28T18:58:03.309Z"
   },
   {
    "duration": 372,
    "start_time": "2021-09-28T18:58:03.325Z"
   },
   {
    "duration": 9,
    "start_time": "2021-09-28T18:58:03.699Z"
   },
   {
    "duration": 12,
    "start_time": "2021-09-28T18:58:03.711Z"
   },
   {
    "duration": 46,
    "start_time": "2021-09-28T18:58:03.725Z"
   },
   {
    "duration": 718,
    "start_time": "2021-09-28T18:58:03.774Z"
   },
   {
    "duration": 8,
    "start_time": "2021-09-28T18:58:04.495Z"
   },
   {
    "duration": 788,
    "start_time": "2021-09-28T18:58:04.506Z"
   },
   {
    "duration": 8,
    "start_time": "2021-09-28T18:58:05.297Z"
   },
   {
    "duration": 33,
    "start_time": "2021-09-28T18:58:05.307Z"
   },
   {
    "duration": 686,
    "start_time": "2021-09-28T18:58:05.342Z"
   },
   {
    "duration": 7,
    "start_time": "2021-09-28T18:58:06.032Z"
   },
   {
    "duration": 4,
    "start_time": "2021-09-28T18:58:06.058Z"
   },
   {
    "duration": 26,
    "start_time": "2021-09-28T18:58:06.065Z"
   },
   {
    "duration": 35,
    "start_time": "2021-09-28T18:58:06.093Z"
   },
   {
    "duration": 39,
    "start_time": "2021-09-28T18:58:06.131Z"
   },
   {
    "duration": 18,
    "start_time": "2021-09-28T18:58:06.172Z"
   },
   {
    "duration": 4,
    "start_time": "2021-09-28T18:58:06.193Z"
   },
   {
    "duration": 20,
    "start_time": "2021-09-28T18:58:06.200Z"
   },
   {
    "duration": 48,
    "start_time": "2021-09-28T18:58:06.222Z"
   },
   {
    "duration": 10,
    "start_time": "2021-09-28T18:58:06.273Z"
   },
   {
    "duration": 17718,
    "start_time": "2021-09-28T18:58:06.286Z"
   },
   {
    "duration": 15,
    "start_time": "2021-09-28T18:58:24.007Z"
   },
   {
    "duration": 71,
    "start_time": "2021-09-28T18:58:24.025Z"
   },
   {
    "duration": 5312,
    "start_time": "2021-09-28T18:58:24.099Z"
   },
   {
    "duration": 16,
    "start_time": "2021-09-28T18:58:29.414Z"
   },
   {
    "duration": 34,
    "start_time": "2021-09-28T18:58:29.433Z"
   },
   {
    "duration": 91,
    "start_time": "2021-09-28T18:58:29.469Z"
   },
   {
    "duration": 56,
    "start_time": "2021-09-28T18:58:29.564Z"
   },
   {
    "duration": 83,
    "start_time": "2021-09-28T18:58:29.623Z"
   },
   {
    "duration": 13,
    "start_time": "2021-09-28T18:58:29.709Z"
   },
   {
    "duration": 40,
    "start_time": "2021-09-28T18:58:29.725Z"
   },
   {
    "duration": 3,
    "start_time": "2021-09-28T18:58:29.769Z"
   },
   {
    "duration": 85,
    "start_time": "2021-09-28T18:58:29.775Z"
   },
   {
    "duration": 605,
    "start_time": "2021-09-28T18:58:29.863Z"
   },
   {
    "duration": 51,
    "start_time": "2021-09-28T18:58:30.471Z"
   },
   {
    "duration": 62,
    "start_time": "2021-09-28T18:58:30.524Z"
   },
   {
    "duration": 43,
    "start_time": "2021-09-28T18:58:30.588Z"
   },
   {
    "duration": 37,
    "start_time": "2021-09-28T18:58:30.634Z"
   },
   {
    "duration": 22,
    "start_time": "2021-09-28T18:58:30.673Z"
   },
   {
    "duration": 27,
    "start_time": "2021-09-28T19:02:28.168Z"
   },
   {
    "duration": 26,
    "start_time": "2021-09-28T19:05:51.861Z"
   },
   {
    "duration": 21,
    "start_time": "2021-09-28T19:06:02.406Z"
   },
   {
    "duration": 24,
    "start_time": "2021-09-28T19:06:09.143Z"
   },
   {
    "duration": 21,
    "start_time": "2021-09-28T19:06:18.626Z"
   },
   {
    "duration": 24,
    "start_time": "2021-09-28T19:06:24.159Z"
   },
   {
    "duration": 22,
    "start_time": "2021-09-28T19:06:30.086Z"
   },
   {
    "duration": 22,
    "start_time": "2021-09-28T19:07:04.847Z"
   },
   {
    "duration": 21,
    "start_time": "2021-09-28T19:07:27.183Z"
   },
   {
    "duration": 26,
    "start_time": "2021-09-28T19:07:34.745Z"
   },
   {
    "duration": 27,
    "start_time": "2021-09-28T19:07:40.846Z"
   },
   {
    "duration": 20,
    "start_time": "2021-09-28T19:07:47.314Z"
   },
   {
    "duration": 28,
    "start_time": "2021-09-28T19:08:09.256Z"
   },
   {
    "duration": 29,
    "start_time": "2021-09-28T19:08:15.295Z"
   },
   {
    "duration": 21,
    "start_time": "2021-09-28T19:09:17.761Z"
   },
   {
    "duration": 408,
    "start_time": "2021-09-28T19:13:37.856Z"
   },
   {
    "duration": 280,
    "start_time": "2021-09-28T19:13:44.097Z"
   },
   {
    "duration": 291,
    "start_time": "2021-09-28T19:13:49.214Z"
   },
   {
    "duration": 21,
    "start_time": "2021-09-28T19:13:54.767Z"
   },
   {
    "duration": 260,
    "start_time": "2021-09-28T19:14:13.028Z"
   },
   {
    "duration": 259,
    "start_time": "2021-09-28T19:14:25.179Z"
   },
   {
    "duration": 501,
    "start_time": "2021-09-28T19:15:54.824Z"
   },
   {
    "duration": 504,
    "start_time": "2021-09-28T19:21:09.941Z"
   },
   {
    "duration": 482,
    "start_time": "2021-09-28T19:22:01.965Z"
   },
   {
    "duration": 18,
    "start_time": "2021-09-28T19:22:10.476Z"
   },
   {
    "duration": 340,
    "start_time": "2021-09-28T19:22:12.406Z"
   },
   {
    "duration": 5,
    "start_time": "2021-09-28T19:22:18.231Z"
   },
   {
    "duration": 966,
    "start_time": "2021-09-28T19:25:36.227Z"
   },
   {
    "duration": 163,
    "start_time": "2021-09-28T19:25:37.196Z"
   },
   {
    "duration": 25,
    "start_time": "2021-09-28T19:25:37.363Z"
   },
   {
    "duration": 6,
    "start_time": "2021-09-28T19:25:37.391Z"
   },
   {
    "duration": 15,
    "start_time": "2021-09-28T19:25:37.401Z"
   },
   {
    "duration": 42,
    "start_time": "2021-09-28T19:25:37.419Z"
   },
   {
    "duration": 20,
    "start_time": "2021-09-28T19:25:37.464Z"
   },
   {
    "duration": 14,
    "start_time": "2021-09-28T19:25:37.488Z"
   },
   {
    "duration": 11,
    "start_time": "2021-09-28T19:25:37.505Z"
   },
   {
    "duration": 47,
    "start_time": "2021-09-28T19:25:37.519Z"
   },
   {
    "duration": 93,
    "start_time": "2021-09-28T19:25:37.570Z"
   },
   {
    "duration": 18,
    "start_time": "2021-09-28T19:25:37.665Z"
   },
   {
    "duration": 108,
    "start_time": "2021-09-28T19:25:37.686Z"
   },
   {
    "duration": 5,
    "start_time": "2021-09-28T19:25:37.796Z"
   },
   {
    "duration": 15085,
    "start_time": "2021-09-28T19:25:37.804Z"
   },
   {
    "duration": 11,
    "start_time": "2021-09-28T19:25:52.891Z"
   },
   {
    "duration": 16,
    "start_time": "2021-09-28T19:25:52.905Z"
   },
   {
    "duration": 36,
    "start_time": "2021-09-28T19:25:52.923Z"
   },
   {
    "duration": 15,
    "start_time": "2021-09-28T19:25:52.962Z"
   },
   {
    "duration": 89,
    "start_time": "2021-09-28T19:25:52.980Z"
   },
   {
    "duration": 20,
    "start_time": "2021-09-28T19:25:53.072Z"
   },
   {
    "duration": 2678,
    "start_time": "2021-09-28T19:25:53.094Z"
   },
   {
    "duration": 14,
    "start_time": "2021-09-28T19:25:55.779Z"
   },
   {
    "duration": 14,
    "start_time": "2021-09-28T19:25:55.809Z"
   },
   {
    "duration": 36,
    "start_time": "2021-09-28T19:25:55.826Z"
   },
   {
    "duration": 37,
    "start_time": "2021-09-28T19:25:55.866Z"
   },
   {
    "duration": 7,
    "start_time": "2021-09-28T19:25:55.905Z"
   },
   {
    "duration": 77,
    "start_time": "2021-09-28T19:25:55.914Z"
   },
   {
    "duration": 3,
    "start_time": "2021-09-28T19:25:55.994Z"
   },
   {
    "duration": 95,
    "start_time": "2021-09-28T19:25:56.000Z"
   },
   {
    "duration": 22,
    "start_time": "2021-09-28T19:25:56.097Z"
   },
   {
    "duration": 4,
    "start_time": "2021-09-28T19:25:56.121Z"
   },
   {
    "duration": 85,
    "start_time": "2021-09-28T19:25:56.128Z"
   },
   {
    "duration": 4,
    "start_time": "2021-09-28T19:25:56.215Z"
   },
   {
    "duration": 37,
    "start_time": "2021-09-28T19:25:56.221Z"
   },
   {
    "duration": 22,
    "start_time": "2021-09-28T19:25:56.261Z"
   },
   {
    "duration": 5,
    "start_time": "2021-09-28T19:25:56.286Z"
   },
   {
    "duration": 11,
    "start_time": "2021-09-28T19:25:56.294Z"
   },
   {
    "duration": 93,
    "start_time": "2021-09-28T19:25:56.308Z"
   },
   {
    "duration": 5,
    "start_time": "2021-09-28T19:25:56.404Z"
   },
   {
    "duration": 1062,
    "start_time": "2021-09-28T19:25:56.411Z"
   },
   {
    "duration": 63,
    "start_time": "2021-09-28T19:25:57.475Z"
   },
   {
    "duration": 514,
    "start_time": "2021-09-28T19:25:57.540Z"
   },
   {
    "duration": 5,
    "start_time": "2021-09-28T19:25:58.058Z"
   },
   {
    "duration": 232,
    "start_time": "2021-09-28T19:25:58.066Z"
   },
   {
    "duration": 11,
    "start_time": "2021-09-28T19:25:58.301Z"
   },
   {
    "duration": 413,
    "start_time": "2021-09-28T19:25:58.314Z"
   },
   {
    "duration": 250,
    "start_time": "2021-09-28T19:25:58.731Z"
   },
   {
    "duration": 13,
    "start_time": "2021-09-28T19:25:58.984Z"
   },
   {
    "duration": 360,
    "start_time": "2021-09-28T19:25:59.000Z"
   },
   {
    "duration": 15,
    "start_time": "2021-09-28T19:25:59.363Z"
   },
   {
    "duration": 344,
    "start_time": "2021-09-28T19:25:59.380Z"
   },
   {
    "duration": 31,
    "start_time": "2021-09-28T19:25:59.727Z"
   },
   {
    "duration": 689,
    "start_time": "2021-09-28T19:25:59.761Z"
   },
   {
    "duration": 9,
    "start_time": "2021-09-28T19:26:00.453Z"
   },
   {
    "duration": 22,
    "start_time": "2021-09-28T19:26:00.465Z"
   },
   {
    "duration": 280,
    "start_time": "2021-09-28T19:26:00.490Z"
   },
   {
    "duration": 14,
    "start_time": "2021-09-28T19:26:00.774Z"
   },
   {
    "duration": 36,
    "start_time": "2021-09-28T19:26:00.791Z"
   },
   {
    "duration": 59,
    "start_time": "2021-09-28T19:26:00.829Z"
   },
   {
    "duration": 825,
    "start_time": "2021-09-28T19:26:00.891Z"
   },
   {
    "duration": 9,
    "start_time": "2021-09-28T19:26:01.718Z"
   },
   {
    "duration": 873,
    "start_time": "2021-09-28T19:26:01.730Z"
   },
   {
    "duration": 7,
    "start_time": "2021-09-28T19:26:02.605Z"
   },
   {
    "duration": 23,
    "start_time": "2021-09-28T19:26:02.614Z"
   },
   {
    "duration": 761,
    "start_time": "2021-09-28T19:26:02.639Z"
   },
   {
    "duration": 7,
    "start_time": "2021-09-28T19:26:03.402Z"
   },
   {
    "duration": 28,
    "start_time": "2021-09-28T19:26:03.417Z"
   },
   {
    "duration": 38,
    "start_time": "2021-09-28T19:26:03.448Z"
   },
   {
    "duration": 20,
    "start_time": "2021-09-28T19:26:03.488Z"
   },
   {
    "duration": 27,
    "start_time": "2021-09-28T19:26:03.511Z"
   },
   {
    "duration": 18,
    "start_time": "2021-09-28T19:26:03.540Z"
   },
   {
    "duration": 552,
    "start_time": "2021-09-28T19:26:03.561Z"
   },
   {
    "duration": 4,
    "start_time": "2021-09-28T19:26:04.115Z"
   },
   {
    "duration": 32,
    "start_time": "2021-09-28T19:26:04.121Z"
   },
   {
    "duration": 45,
    "start_time": "2021-09-28T19:26:04.155Z"
   },
   {
    "duration": 24,
    "start_time": "2021-09-28T19:26:04.202Z"
   },
   {
    "duration": 909,
    "start_time": "2021-09-28T19:27:43.904Z"
   },
   {
    "duration": 152,
    "start_time": "2021-09-28T19:27:44.815Z"
   },
   {
    "duration": 16,
    "start_time": "2021-09-28T19:27:44.974Z"
   },
   {
    "duration": 5,
    "start_time": "2021-09-28T19:27:44.992Z"
   },
   {
    "duration": 29,
    "start_time": "2021-09-28T19:27:44.999Z"
   },
   {
    "duration": 31,
    "start_time": "2021-09-28T19:27:45.030Z"
   },
   {
    "duration": 18,
    "start_time": "2021-09-28T19:27:45.066Z"
   },
   {
    "duration": 22,
    "start_time": "2021-09-28T19:27:45.088Z"
   },
   {
    "duration": 44,
    "start_time": "2021-09-28T19:27:45.113Z"
   },
   {
    "duration": 12,
    "start_time": "2021-09-28T19:27:45.160Z"
   },
   {
    "duration": 106,
    "start_time": "2021-09-28T19:27:45.175Z"
   },
   {
    "duration": 12,
    "start_time": "2021-09-28T19:27:45.283Z"
   },
   {
    "duration": 114,
    "start_time": "2021-09-28T19:27:45.298Z"
   },
   {
    "duration": 5,
    "start_time": "2021-09-28T19:27:45.416Z"
   },
   {
    "duration": 14413,
    "start_time": "2021-09-28T19:27:45.424Z"
   },
   {
    "duration": 20,
    "start_time": "2021-09-28T19:27:59.839Z"
   },
   {
    "duration": 13,
    "start_time": "2021-09-28T19:27:59.861Z"
   },
   {
    "duration": 34,
    "start_time": "2021-09-28T19:27:59.876Z"
   },
   {
    "duration": 9,
    "start_time": "2021-09-28T19:27:59.913Z"
   },
   {
    "duration": 87,
    "start_time": "2021-09-28T19:27:59.925Z"
   },
   {
    "duration": 13,
    "start_time": "2021-09-28T19:28:00.014Z"
   },
   {
    "duration": 2360,
    "start_time": "2021-09-28T19:28:00.033Z"
   },
   {
    "duration": 11,
    "start_time": "2021-09-28T19:28:02.396Z"
   },
   {
    "duration": 29,
    "start_time": "2021-09-28T19:28:02.409Z"
   },
   {
    "duration": 34,
    "start_time": "2021-09-28T19:28:02.440Z"
   },
   {
    "duration": 40,
    "start_time": "2021-09-28T19:28:02.476Z"
   },
   {
    "duration": 30,
    "start_time": "2021-09-28T19:28:02.518Z"
   },
   {
    "duration": 89,
    "start_time": "2021-09-28T19:28:02.550Z"
   },
   {
    "duration": 5,
    "start_time": "2021-09-28T19:28:02.642Z"
   },
   {
    "duration": 137,
    "start_time": "2021-09-28T19:28:02.650Z"
   },
   {
    "duration": 31,
    "start_time": "2021-09-28T19:28:02.791Z"
   },
   {
    "duration": 6,
    "start_time": "2021-09-28T19:28:02.825Z"
   },
   {
    "duration": 112,
    "start_time": "2021-09-28T19:28:02.834Z"
   },
   {
    "duration": 10,
    "start_time": "2021-09-28T19:28:02.948Z"
   },
   {
    "duration": 49,
    "start_time": "2021-09-28T19:28:02.962Z"
   },
   {
    "duration": 58,
    "start_time": "2021-09-28T19:28:03.014Z"
   },
   {
    "duration": 5,
    "start_time": "2021-09-28T19:28:03.076Z"
   },
   {
    "duration": 40,
    "start_time": "2021-09-28T19:28:03.084Z"
   },
   {
    "duration": 69,
    "start_time": "2021-09-28T19:28:03.127Z"
   },
   {
    "duration": 5,
    "start_time": "2021-09-28T19:28:03.199Z"
   },
   {
    "duration": 790,
    "start_time": "2021-09-28T19:28:03.207Z"
   },
   {
    "duration": 71,
    "start_time": "2021-09-28T19:28:04.000Z"
   },
   {
    "duration": 430,
    "start_time": "2021-09-28T19:28:04.074Z"
   },
   {
    "duration": 6,
    "start_time": "2021-09-28T19:28:04.506Z"
   },
   {
    "duration": 233,
    "start_time": "2021-09-28T19:28:04.514Z"
   },
   {
    "duration": 16,
    "start_time": "2021-09-28T19:28:04.749Z"
   },
   {
    "duration": 397,
    "start_time": "2021-09-28T19:28:04.767Z"
   },
   {
    "duration": 259,
    "start_time": "2021-09-28T19:28:05.167Z"
   },
   {
    "duration": 12,
    "start_time": "2021-09-28T19:28:05.429Z"
   },
   {
    "duration": 331,
    "start_time": "2021-09-28T19:28:05.443Z"
   },
   {
    "duration": 14,
    "start_time": "2021-09-28T19:28:05.777Z"
   },
   {
    "duration": 300,
    "start_time": "2021-09-28T19:28:05.793Z"
   },
   {
    "duration": 16,
    "start_time": "2021-09-28T19:28:06.096Z"
   },
   {
    "duration": 573,
    "start_time": "2021-09-28T19:28:06.114Z"
   },
   {
    "duration": 7,
    "start_time": "2021-09-28T19:28:06.689Z"
   },
   {
    "duration": 15,
    "start_time": "2021-09-28T19:28:06.698Z"
   },
   {
    "duration": 272,
    "start_time": "2021-09-28T19:28:06.715Z"
   },
   {
    "duration": 12,
    "start_time": "2021-09-28T19:28:06.990Z"
   },
   {
    "duration": 12,
    "start_time": "2021-09-28T19:28:07.005Z"
   },
   {
    "duration": 56,
    "start_time": "2021-09-28T19:28:07.019Z"
   },
   {
    "duration": 834,
    "start_time": "2021-09-28T19:28:07.077Z"
   },
   {
    "duration": 7,
    "start_time": "2021-09-28T19:28:07.913Z"
   },
   {
    "duration": 785,
    "start_time": "2021-09-28T19:28:07.922Z"
   },
   {
    "duration": 7,
    "start_time": "2021-09-28T19:28:08.709Z"
   },
   {
    "duration": 18,
    "start_time": "2021-09-28T19:28:08.718Z"
   },
   {
    "duration": 1022,
    "start_time": "2021-09-28T19:28:08.738Z"
   },
   {
    "duration": 8,
    "start_time": "2021-09-28T19:28:09.769Z"
   },
   {
    "duration": 5,
    "start_time": "2021-09-28T19:28:09.780Z"
   },
   {
    "duration": 20,
    "start_time": "2021-09-28T19:28:09.788Z"
   },
   {
    "duration": 58,
    "start_time": "2021-09-28T19:28:09.810Z"
   },
   {
    "duration": 19,
    "start_time": "2021-09-28T19:28:09.871Z"
   },
   {
    "duration": 16,
    "start_time": "2021-09-28T19:28:09.893Z"
   },
   {
    "duration": 537,
    "start_time": "2021-09-28T19:28:09.911Z"
   },
   {
    "duration": 7,
    "start_time": "2021-09-28T19:28:10.451Z"
   },
   {
    "duration": 9,
    "start_time": "2021-09-28T19:28:10.460Z"
   },
   {
    "duration": 20,
    "start_time": "2021-09-28T19:28:10.471Z"
   },
   {
    "duration": 9,
    "start_time": "2021-09-28T19:28:10.494Z"
   },
   {
    "duration": 11021,
    "start_time": "2021-09-28T19:28:10.506Z"
   },
   {
    "duration": 29,
    "start_time": "2021-09-28T19:28:21.530Z"
   },
   {
    "duration": 65,
    "start_time": "2021-09-28T19:28:21.562Z"
   },
   {
    "duration": 6902,
    "start_time": "2021-09-28T19:28:21.630Z"
   },
   {
    "duration": 29,
    "start_time": "2021-09-28T19:28:28.534Z"
   },
   {
    "duration": 12,
    "start_time": "2021-09-28T19:28:28.567Z"
   },
   {
    "duration": 80,
    "start_time": "2021-09-28T19:28:28.581Z"
   },
   {
    "duration": 56,
    "start_time": "2021-09-28T19:28:28.663Z"
   },
   {
    "duration": 77,
    "start_time": "2021-09-28T19:28:28.721Z"
   },
   {
    "duration": 11,
    "start_time": "2021-09-28T19:28:28.800Z"
   },
   {
    "duration": 16,
    "start_time": "2021-09-28T19:28:28.813Z"
   },
   {
    "duration": 27,
    "start_time": "2021-09-28T19:28:28.832Z"
   },
   {
    "duration": 111,
    "start_time": "2021-09-28T19:28:28.861Z"
   },
   {
    "duration": 864,
    "start_time": "2021-09-28T19:28:28.975Z"
   },
   {
    "duration": 62,
    "start_time": "2021-09-28T19:28:29.843Z"
   },
   {
    "duration": 56,
    "start_time": "2021-09-28T19:28:29.907Z"
   },
   {
    "duration": 47,
    "start_time": "2021-09-28T19:28:29.965Z"
   },
   {
    "duration": 16,
    "start_time": "2021-09-28T19:28:30.015Z"
   },
   {
    "duration": 18,
    "start_time": "2021-09-28T19:28:30.059Z"
   },
   {
    "duration": 439,
    "start_time": "2021-09-28T19:30:27.457Z"
   },
   {
    "duration": 562,
    "start_time": "2021-09-28T19:30:47.972Z"
   },
   {
    "duration": 1179,
    "start_time": "2021-09-28T19:31:01.125Z"
   },
   {
    "duration": 1033,
    "start_time": "2021-09-28T19:31:24.195Z"
   },
   {
    "duration": 11,
    "start_time": "2021-09-28T19:36:50.331Z"
   },
   {
    "duration": 64,
    "start_time": "2021-09-28T19:37:04.605Z"
   },
   {
    "duration": 12,
    "start_time": "2021-09-28T19:37:26.996Z"
   },
   {
    "duration": 1131,
    "start_time": "2021-09-28T19:37:48.402Z"
   },
   {
    "duration": 238,
    "start_time": "2021-09-28T19:37:49.535Z"
   },
   {
    "duration": 16,
    "start_time": "2021-09-28T19:37:49.777Z"
   },
   {
    "duration": 6,
    "start_time": "2021-09-28T19:37:49.796Z"
   },
   {
    "duration": 54,
    "start_time": "2021-09-28T19:37:49.804Z"
   },
   {
    "duration": 5,
    "start_time": "2021-09-28T19:37:49.860Z"
   },
   {
    "duration": 19,
    "start_time": "2021-09-28T19:37:49.867Z"
   },
   {
    "duration": 19,
    "start_time": "2021-09-28T19:37:49.889Z"
   },
   {
    "duration": 51,
    "start_time": "2021-09-28T19:37:49.913Z"
   },
   {
    "duration": 16,
    "start_time": "2021-09-28T19:37:49.968Z"
   },
   {
    "duration": 140,
    "start_time": "2021-09-28T19:37:49.987Z"
   },
   {
    "duration": 37,
    "start_time": "2021-09-28T19:37:50.130Z"
   },
   {
    "duration": 118,
    "start_time": "2021-09-28T19:37:50.172Z"
   },
   {
    "duration": 8,
    "start_time": "2021-09-28T19:37:50.294Z"
   },
   {
    "duration": 16397,
    "start_time": "2021-09-28T19:37:50.305Z"
   },
   {
    "duration": 14,
    "start_time": "2021-09-28T19:38:06.705Z"
   },
   {
    "duration": 11,
    "start_time": "2021-09-28T19:38:06.722Z"
   },
   {
    "duration": 29,
    "start_time": "2021-09-28T19:38:06.759Z"
   },
   {
    "duration": 11,
    "start_time": "2021-09-28T19:38:06.792Z"
   },
   {
    "duration": 100,
    "start_time": "2021-09-28T19:38:06.809Z"
   },
   {
    "duration": 17,
    "start_time": "2021-09-28T19:38:06.912Z"
   },
   {
    "duration": 4041,
    "start_time": "2021-09-28T19:38:06.932Z"
   },
   {
    "duration": 16,
    "start_time": "2021-09-28T19:38:10.977Z"
   },
   {
    "duration": 10,
    "start_time": "2021-09-28T19:38:10.995Z"
   },
   {
    "duration": 5,
    "start_time": "2021-09-28T19:38:11.007Z"
   },
   {
    "duration": 49,
    "start_time": "2021-09-28T19:38:11.015Z"
   },
   {
    "duration": 6,
    "start_time": "2021-09-28T19:38:11.071Z"
   },
   {
    "duration": 93,
    "start_time": "2021-09-28T19:38:11.085Z"
   },
   {
    "duration": 6,
    "start_time": "2021-09-28T19:38:11.181Z"
   },
   {
    "duration": 114,
    "start_time": "2021-09-28T19:38:11.190Z"
   },
   {
    "duration": 23,
    "start_time": "2021-09-28T19:38:11.317Z"
   },
   {
    "duration": 12,
    "start_time": "2021-09-28T19:38:11.360Z"
   },
   {
    "duration": 79,
    "start_time": "2021-09-28T19:38:11.375Z"
   },
   {
    "duration": 6,
    "start_time": "2021-09-28T19:38:11.458Z"
   },
   {
    "duration": 26,
    "start_time": "2021-09-28T19:38:11.468Z"
   },
   {
    "duration": 20,
    "start_time": "2021-09-28T19:38:11.496Z"
   },
   {
    "duration": 39,
    "start_time": "2021-09-28T19:38:11.518Z"
   },
   {
    "duration": 11,
    "start_time": "2021-09-28T19:38:11.561Z"
   },
   {
    "duration": 85,
    "start_time": "2021-09-28T19:38:11.576Z"
   },
   {
    "duration": 6,
    "start_time": "2021-09-28T19:38:11.665Z"
   },
   {
    "duration": 1475,
    "start_time": "2021-09-28T19:38:11.675Z"
   },
   {
    "duration": 103,
    "start_time": "2021-09-28T19:38:13.154Z"
   },
   {
    "duration": 657,
    "start_time": "2021-09-28T19:38:13.261Z"
   },
   {
    "duration": 7,
    "start_time": "2021-09-28T19:38:13.921Z"
   },
   {
    "duration": 339,
    "start_time": "2021-09-28T19:38:13.931Z"
   },
   {
    "duration": 16,
    "start_time": "2021-09-28T19:38:14.274Z"
   },
   {
    "duration": 655,
    "start_time": "2021-09-28T19:38:14.293Z"
   },
   {
    "duration": 391,
    "start_time": "2021-09-28T19:38:14.951Z"
   },
   {
    "duration": 29,
    "start_time": "2021-09-28T19:38:15.345Z"
   },
   {
    "duration": 469,
    "start_time": "2021-09-28T19:38:15.378Z"
   },
   {
    "duration": 18,
    "start_time": "2021-09-28T19:38:15.857Z"
   },
   {
    "duration": 454,
    "start_time": "2021-09-28T19:38:15.878Z"
   },
   {
    "duration": 33,
    "start_time": "2021-09-28T19:38:16.335Z"
   },
   {
    "duration": 659,
    "start_time": "2021-09-28T19:38:16.371Z"
   },
   {
    "duration": 6,
    "start_time": "2021-09-28T19:38:17.032Z"
   },
   {
    "duration": 12,
    "start_time": "2021-09-28T19:38:17.059Z"
   },
   {
    "duration": 387,
    "start_time": "2021-09-28T19:38:17.074Z"
   },
   {
    "duration": 15,
    "start_time": "2021-09-28T19:38:17.465Z"
   },
   {
    "duration": 14,
    "start_time": "2021-09-28T19:38:17.484Z"
   },
   {
    "duration": 56,
    "start_time": "2021-09-28T19:38:17.501Z"
   },
   {
    "duration": 1115,
    "start_time": "2021-09-28T19:38:17.561Z"
   },
   {
    "duration": 7,
    "start_time": "2021-09-28T19:38:18.679Z"
   },
   {
    "duration": 831,
    "start_time": "2021-09-28T19:38:18.689Z"
   },
   {
    "duration": 9,
    "start_time": "2021-09-28T19:38:19.523Z"
   },
   {
    "duration": 40,
    "start_time": "2021-09-28T19:38:19.535Z"
   },
   {
    "duration": 665,
    "start_time": "2021-09-28T19:38:19.578Z"
   },
   {
    "duration": 14,
    "start_time": "2021-09-28T19:38:20.246Z"
   },
   {
    "duration": 6,
    "start_time": "2021-09-28T19:38:20.263Z"
   },
   {
    "duration": 25,
    "start_time": "2021-09-28T19:38:20.272Z"
   },
   {
    "duration": 28,
    "start_time": "2021-09-28T19:38:20.301Z"
   },
   {
    "duration": 24,
    "start_time": "2021-09-28T19:38:20.359Z"
   },
   {
    "duration": 19,
    "start_time": "2021-09-28T19:38:20.386Z"
   },
   {
    "duration": 823,
    "start_time": "2021-09-28T19:38:20.408Z"
   },
   {
    "duration": 5,
    "start_time": "2021-09-28T19:38:21.234Z"
   },
   {
    "duration": 19,
    "start_time": "2021-09-28T19:38:21.242Z"
   },
   {
    "duration": 24,
    "start_time": "2021-09-28T19:38:21.265Z"
   },
   {
    "duration": 1232,
    "start_time": "2021-09-28T19:38:21.293Z"
   },
   {
    "duration": 10,
    "start_time": "2021-09-28T19:38:22.527Z"
   },
   {
    "duration": 93,
    "start_time": "2021-09-28T19:38:22.540Z"
   },
   {
    "duration": 80,
    "start_time": "2021-09-28T19:38:22.635Z"
   },
   {
    "duration": 92,
    "start_time": "2021-09-28T19:38:22.723Z"
   },
   {
    "duration": 13,
    "start_time": "2021-09-28T19:38:22.819Z"
   },
   {
    "duration": 38,
    "start_time": "2021-09-28T19:38:22.834Z"
   },
   {
    "duration": 13,
    "start_time": "2021-09-28T19:38:22.875Z"
   },
   {
    "duration": 96,
    "start_time": "2021-09-28T19:38:22.892Z"
   },
   {
    "duration": 657,
    "start_time": "2021-09-28T19:38:22.991Z"
   },
   {
    "duration": 55,
    "start_time": "2021-09-28T19:38:23.658Z"
   },
   {
    "duration": 71,
    "start_time": "2021-09-28T19:38:23.715Z"
   },
   {
    "duration": 40,
    "start_time": "2021-09-28T19:38:23.789Z"
   },
   {
    "duration": 42,
    "start_time": "2021-09-28T19:38:23.832Z"
   },
   {
    "duration": 27,
    "start_time": "2021-09-28T19:38:23.877Z"
   },
   {
    "duration": 70,
    "start_time": "2021-09-28T19:39:10.842Z"
   },
   {
    "duration": 11,
    "start_time": "2021-09-28T19:39:12.641Z"
   },
   {
    "duration": 638,
    "start_time": "2021-09-29T17:56:16.950Z"
   },
   {
    "duration": 110,
    "start_time": "2021-09-29T17:56:17.590Z"
   },
   {
    "duration": 10,
    "start_time": "2021-09-29T17:56:17.702Z"
   },
   {
    "duration": 5,
    "start_time": "2021-09-29T17:56:17.714Z"
   },
   {
    "duration": 12,
    "start_time": "2021-09-29T17:56:17.721Z"
   },
   {
    "duration": 4,
    "start_time": "2021-09-29T17:56:17.734Z"
   },
   {
    "duration": 15,
    "start_time": "2021-09-29T17:56:17.739Z"
   },
   {
    "duration": 13,
    "start_time": "2021-09-29T17:56:17.757Z"
   },
   {
    "duration": 32,
    "start_time": "2021-09-29T17:56:17.772Z"
   },
   {
    "duration": 7,
    "start_time": "2021-09-29T17:56:17.806Z"
   },
   {
    "duration": 47,
    "start_time": "2021-09-29T17:56:17.815Z"
   },
   {
    "duration": 8,
    "start_time": "2021-09-29T17:56:17.864Z"
   },
   {
    "duration": 58,
    "start_time": "2021-09-29T17:56:17.873Z"
   },
   {
    "duration": 3,
    "start_time": "2021-09-29T17:56:17.932Z"
   },
   {
    "duration": 9411,
    "start_time": "2021-09-29T17:56:17.937Z"
   },
   {
    "duration": 8,
    "start_time": "2021-09-29T17:56:27.350Z"
   },
   {
    "duration": 8,
    "start_time": "2021-09-29T17:56:27.360Z"
   },
   {
    "duration": 31,
    "start_time": "2021-09-29T17:56:27.369Z"
   },
   {
    "duration": 8,
    "start_time": "2021-09-29T17:56:27.402Z"
   },
   {
    "duration": 40,
    "start_time": "2021-09-29T17:56:27.411Z"
   },
   {
    "duration": 9,
    "start_time": "2021-09-29T17:56:27.453Z"
   },
   {
    "duration": 1572,
    "start_time": "2021-09-29T17:56:27.463Z"
   },
   {
    "duration": 8,
    "start_time": "2021-09-29T17:56:29.038Z"
   },
   {
    "duration": 6,
    "start_time": "2021-09-29T17:56:29.048Z"
   },
   {
    "duration": 6,
    "start_time": "2021-09-29T17:56:29.056Z"
   },
   {
    "duration": 6,
    "start_time": "2021-09-29T17:56:29.063Z"
   },
   {
    "duration": 28,
    "start_time": "2021-09-29T17:56:29.071Z"
   },
   {
    "duration": 39,
    "start_time": "2021-09-29T17:56:29.101Z"
   },
   {
    "duration": 2,
    "start_time": "2021-09-29T17:56:29.142Z"
   },
   {
    "duration": 57,
    "start_time": "2021-09-29T17:56:29.146Z"
   },
   {
    "duration": 15,
    "start_time": "2021-09-29T17:56:29.204Z"
   },
   {
    "duration": 4,
    "start_time": "2021-09-29T17:56:29.220Z"
   },
   {
    "duration": 47,
    "start_time": "2021-09-29T17:56:29.225Z"
   },
   {
    "duration": 3,
    "start_time": "2021-09-29T17:56:29.274Z"
   },
   {
    "duration": 24,
    "start_time": "2021-09-29T17:56:29.278Z"
   },
   {
    "duration": 34,
    "start_time": "2021-09-29T17:56:29.304Z"
   },
   {
    "duration": 7,
    "start_time": "2021-09-29T17:56:29.340Z"
   },
   {
    "duration": 21,
    "start_time": "2021-09-29T17:56:29.349Z"
   },
   {
    "duration": 34,
    "start_time": "2021-09-29T17:56:29.372Z"
   },
   {
    "duration": 4,
    "start_time": "2021-09-29T17:56:29.408Z"
   },
   {
    "duration": 479,
    "start_time": "2021-09-29T17:56:29.414Z"
   },
   {
    "duration": 38,
    "start_time": "2021-09-29T17:56:29.895Z"
   },
   {
    "duration": 298,
    "start_time": "2021-09-29T17:56:29.935Z"
   },
   {
    "duration": 4,
    "start_time": "2021-09-29T17:56:30.234Z"
   },
   {
    "duration": 170,
    "start_time": "2021-09-29T17:56:30.240Z"
   },
   {
    "duration": 8,
    "start_time": "2021-09-29T17:56:30.412Z"
   },
   {
    "duration": 264,
    "start_time": "2021-09-29T17:56:30.422Z"
   },
   {
    "duration": 168,
    "start_time": "2021-09-29T17:56:30.688Z"
   },
   {
    "duration": 8,
    "start_time": "2021-09-29T17:56:30.857Z"
   },
   {
    "duration": 197,
    "start_time": "2021-09-29T17:56:30.867Z"
   },
   {
    "duration": 10,
    "start_time": "2021-09-29T17:56:31.065Z"
   },
   {
    "duration": 183,
    "start_time": "2021-09-29T17:56:31.076Z"
   },
   {
    "duration": 11,
    "start_time": "2021-09-29T17:56:31.261Z"
   },
   {
    "duration": 388,
    "start_time": "2021-09-29T17:56:31.274Z"
   },
   {
    "duration": 5,
    "start_time": "2021-09-29T17:56:31.663Z"
   },
   {
    "duration": 281,
    "start_time": "2021-09-29T17:56:31.669Z"
   },
   {
    "duration": 158,
    "start_time": "2021-09-29T17:56:31.952Z"
   },
   {
    "duration": 7,
    "start_time": "2021-09-29T17:56:32.111Z"
   },
   {
    "duration": 9,
    "start_time": "2021-09-29T17:56:32.119Z"
   },
   {
    "duration": 17,
    "start_time": "2021-09-29T17:56:32.129Z"
   },
   {
    "duration": 537,
    "start_time": "2021-09-29T17:56:32.148Z"
   },
   {
    "duration": 15,
    "start_time": "2021-09-29T17:56:32.687Z"
   },
   {
    "duration": 573,
    "start_time": "2021-09-29T17:56:32.704Z"
   },
   {
    "duration": 5,
    "start_time": "2021-09-29T17:56:33.279Z"
   },
   {
    "duration": 35,
    "start_time": "2021-09-29T17:56:33.285Z"
   },
   {
    "duration": 466,
    "start_time": "2021-09-29T17:56:33.321Z"
   },
   {
    "duration": 5,
    "start_time": "2021-09-29T17:56:33.789Z"
   },
   {
    "duration": 3,
    "start_time": "2021-09-29T17:56:33.803Z"
   },
   {
    "duration": 15,
    "start_time": "2021-09-29T17:56:33.808Z"
   },
   {
    "duration": 20,
    "start_time": "2021-09-29T17:56:33.824Z"
   },
   {
    "duration": 12,
    "start_time": "2021-09-29T17:56:33.846Z"
   },
   {
    "duration": 9,
    "start_time": "2021-09-29T17:56:33.859Z"
   },
   {
    "duration": 334,
    "start_time": "2021-09-29T17:56:33.870Z"
   },
   {
    "duration": 2,
    "start_time": "2021-09-29T17:56:34.206Z"
   },
   {
    "duration": 11,
    "start_time": "2021-09-29T17:56:34.210Z"
   },
   {
    "duration": 16,
    "start_time": "2021-09-29T17:56:34.222Z"
   },
   {
    "duration": 688,
    "start_time": "2021-09-29T17:56:34.239Z"
   },
   {
    "duration": 8,
    "start_time": "2021-09-29T17:56:34.928Z"
   },
   {
    "duration": 52,
    "start_time": "2021-09-29T17:56:34.937Z"
   },
   {
    "duration": 43,
    "start_time": "2021-09-29T17:56:34.990Z"
   },
   {
    "duration": 49,
    "start_time": "2021-09-29T17:56:35.035Z"
   },
   {
    "duration": 19,
    "start_time": "2021-09-29T17:56:35.086Z"
   },
   {
    "duration": 13,
    "start_time": "2021-09-29T17:56:35.107Z"
   },
   {
    "duration": 6,
    "start_time": "2021-09-29T17:56:35.123Z"
   },
   {
    "duration": 51,
    "start_time": "2021-09-29T17:56:35.131Z"
   },
   {
    "duration": 387,
    "start_time": "2021-09-29T17:56:35.200Z"
   },
   {
    "duration": 39,
    "start_time": "2021-09-29T17:56:35.589Z"
   },
   {
    "duration": 26,
    "start_time": "2021-09-29T17:56:35.630Z"
   },
   {
    "duration": 48,
    "start_time": "2021-09-29T17:56:35.658Z"
   },
   {
    "duration": 13,
    "start_time": "2021-09-29T17:56:35.708Z"
   },
   {
    "duration": 13,
    "start_time": "2021-09-29T17:56:35.723Z"
   }
  ],
  "kernelspec": {
   "display_name": "Python 3",
   "language": "python",
   "name": "python3"
  },
  "language_info": {
   "codemirror_mode": {
    "name": "ipython",
    "version": 3
   },
   "file_extension": ".py",
   "mimetype": "text/x-python",
   "name": "python",
   "nbconvert_exporter": "python",
   "pygments_lexer": "ipython3",
   "version": "3.8.8"
  },
  "toc": {
   "base_numbering": 1,
   "nav_menu": {},
   "number_sections": true,
   "sideBar": true,
   "skip_h1_title": true,
   "title_cell": "Содержание",
   "title_sidebar": "Contents",
   "toc_cell": true,
   "toc_position": {
    "height": "calc(100% - 180px)",
    "left": "10px",
    "top": "150px",
    "width": "289.6px"
   },
   "toc_section_display": true,
   "toc_window_display": false
  }
 },
 "nbformat": 4,
 "nbformat_minor": 2
}
